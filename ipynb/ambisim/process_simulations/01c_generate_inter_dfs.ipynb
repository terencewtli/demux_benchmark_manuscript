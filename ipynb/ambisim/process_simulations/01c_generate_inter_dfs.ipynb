{
 "cells": [
  {
   "cell_type": "code",
   "execution_count": 1,
   "id": "d84d3de9",
   "metadata": {},
   "outputs": [],
   "source": [
    "import numpy as np\n",
    "import pandas as pd\n",
    "import matplotlib.pyplot as plt\n",
    "import seaborn as sns\n",
    "\n",
    "import os"
   ]
  },
  {
   "cell_type": "code",
   "execution_count": 2,
   "id": "d8df3b42",
   "metadata": {},
   "outputs": [],
   "source": [
    "projdir = '/u/home/t/terencew/project-cluo/igvf/pilot/multiome/'\n",
    "\n",
    "donors = list(np.loadtxt(f'{projdir}/txt/donors.txt', dtype=str))\n",
    "samples = list(np.loadtxt(f'{projdir}/txt/samples.txt', dtype=str))\n",
    "s = samples[0]\n",
    "\n",
    "gex_methods = pd.Index(['demuxlet', 'freemuxlet',  'vireo', 'vireo_nogenos',\n",
    "    'souporcell', 'souporcell_nogenos', 'scsplit', 'scsplit_nogenos', 'demuxalot'])\n",
    "atac_methods = pd.Index(['demuxlet', 'freemuxlet',  'vireo', 'vireo_nogenos',\n",
    "    'souporcell', 'souporcell_nogenos', 'scsplit', 'scsplit_nogenos', 'scavengers'])\n",
    "\n",
    "doub_experiments = np.loadtxt(f'{projdir}/ambient/ambisim/cov_doub_test/txt/experiments.txt', dtype=str)\n",
    "mux_experiments = np.loadtxt(f'{projdir}/ambient/ambisim/cov_mux_test/txt/experiments.txt', dtype=str)"
   ]
  },
  {
   "cell_type": "code",
   "execution_count": 3,
   "id": "62eff218",
   "metadata": {},
   "outputs": [],
   "source": [
    "doub_gex = pd.read_csv(f'{projdir}/csv/ambisim/cov_doub_test/ambisim_gex.csv.gz', sep='\\t', header=0, index_col=0)\n",
    "doub_atac = pd.read_csv(f'{projdir}/csv/ambisim/cov_doub_test/ambisim_atac.csv.gz', sep='\\t', header=0, index_col=0)\n",
    "mux_gex = pd.read_csv(f'{projdir}/csv/ambisim/cov_mux_test/ambisim_gex.csv.gz', sep='\\t', header=0, index_col=0)\n",
    "mux_atac = pd.read_csv(f'{projdir}/csv/ambisim/cov_mux_test/ambisim_atac.csv.gz', sep='\\t', header=0, index_col=0)"
   ]
  },
  {
   "cell_type": "code",
   "execution_count": 9,
   "id": "b875d284",
   "metadata": {},
   "outputs": [],
   "source": [
    "doub_gex = doub_gex[doub_gex['method'] != 'truth']\n",
    "doub_atac = doub_atac[doub_atac['method'] != 'truth']\n",
    "mux_gex = mux_gex[mux_gex['method'] != 'truth']\n",
    "mux_atac = mux_atac[mux_atac['method'] != 'truth']"
   ]
  },
  {
   "cell_type": "code",
   "execution_count": 16,
   "id": "b6b863e8",
   "metadata": {},
   "outputs": [
    {
     "data": {
      "text/plain": [
       "Index(['demuxlet', 'freemuxlet', 'vireo', 'vireo_nogenos', 'souporcell',\n",
       "       'souporcell_nogenos', 'scsplit', 'scsplit_nogenos', 'demuxalot'],\n",
       "      dtype='object')"
      ]
     },
     "execution_count": 16,
     "metadata": {},
     "output_type": "execute_result"
    }
   ],
   "source": [
    "doub_gex_"
   ]
  },
  {
   "cell_type": "code",
   "execution_count": 23,
   "id": "18802c93",
   "metadata": {},
   "outputs": [],
   "source": [
    "for exp in doub_experiments:\n",
    "    outdir = f'{projdir}/ambient/ambisim/cov_doub_test/{exp}/csv/'\n",
    "    tmp_doub_gex = doub_gex[doub_gex['exp'] == exp]\n",
    "    \n",
    "    barcodes = tmp_doub_gex.index.unique()\n",
    "    doub_gex_inter = pd.DataFrame(index=barcodes, columns=gex_methods)\n",
    "\n",
    "    for method in gex_methods:\n",
    "        method_doub_gex = tmp_doub_gex[tmp_doub_gex['method'] == method]\n",
    "        doub_gex_inter[method] = method_doub_gex['donor_id']\n",
    "    doub_gex_inter.to_csv(f'{outdir}/inter_gex.csv', sep='\\t', header=True, index=True)"
   ]
  },
  {
   "cell_type": "code",
   "execution_count": 24,
   "id": "0c3614fb",
   "metadata": {},
   "outputs": [],
   "source": [
    "for exp in doub_experiments:\n",
    "    outdir = f'{projdir}/ambient/ambisim/cov_doub_test/{exp}/csv/'\n",
    "    tmp_doub_atac = doub_atac[doub_atac['exp'] == exp]\n",
    "    \n",
    "    barcodes = tmp_doub_atac.index.unique()\n",
    "    doub_atac_inter = pd.DataFrame(index=barcodes, columns=atac_methods)\n",
    "\n",
    "    for method in atac_methods:\n",
    "        method_doub_atac = tmp_doub_atac[tmp_doub_atac['method'] == method]\n",
    "        doub_atac_inter[method] = method_doub_atac['donor_id']\n",
    "    doub_atac_inter.to_csv(f'{outdir}/inter_atac.csv', sep='\\t', header=True, index=True)"
   ]
  },
  {
   "cell_type": "code",
   "execution_count": 28,
   "id": "adcc3869",
   "metadata": {},
   "outputs": [],
   "source": [
    "for exp in mux_experiments:\n",
    "    outdir = f'{projdir}/ambient/ambisim/cov_mux_test/{exp}/csv/'\n",
    "    tmp_mux_gex = mux_gex[mux_gex['exp'] == exp]\n",
    "    \n",
    "    barcodes = tmp_mux_gex.index.unique()\n",
    "    mux_gex_inter = pd.DataFrame(index=barcodes, columns=gex_methods)\n",
    "\n",
    "    for method in gex_methods:\n",
    "        method_mux_gex = tmp_mux_gex[tmp_mux_gex['method'] == method]\n",
    "        mux_gex_inter[method] = method_mux_gex['donor_id']\n",
    "    mux_gex_inter.to_csv(f'{outdir}/inter_gex.csv', sep='\\t', header=True, index=True)"
   ]
  },
  {
   "cell_type": "code",
   "execution_count": 29,
   "id": "78295aa8",
   "metadata": {},
   "outputs": [],
   "source": [
    "for exp in mux_experiments:\n",
    "    outdir = f'{projdir}/ambient/ambisim/cov_mux_test/{exp}/csv/'\n",
    "    tmp_mux_atac = mux_atac[mux_atac['exp'] == exp]\n",
    "    \n",
    "    barcodes = tmp_mux_atac.index.unique()\n",
    "    mux_atac_inter = pd.DataFrame(index=barcodes, columns=atac_methods)\n",
    "\n",
    "    for method in atac_methods:\n",
    "        method_mux_atac = tmp_mux_atac[tmp_mux_atac['method'] == method]\n",
    "        mux_atac_inter[method] = method_mux_atac['donor_id']\n",
    "    mux_atac_inter.to_csv(f'{outdir}/inter_atac.csv', sep='\\t', header=True, index=True)"
   ]
  }
 ],
 "metadata": {
  "kernelspec": {
   "display_name": "scFates",
   "language": "python",
   "name": "scfates"
  },
  "language_info": {
   "codemirror_mode": {
    "name": "ipython",
    "version": 3
   },
   "file_extension": ".py",
   "mimetype": "text/x-python",
   "name": "python",
   "nbconvert_exporter": "python",
   "pygments_lexer": "ipython3",
   "version": "3.11.8"
  }
 },
 "nbformat": 4,
 "nbformat_minor": 5
}
