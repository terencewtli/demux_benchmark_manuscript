{
 "cells": [
  {
   "cell_type": "markdown",
   "id": "3869ca0a",
   "metadata": {},
   "source": [
    "### goal of notebook/eventual script: on a per-cell basis, get certain snp stats\n",
    "- num total snps\n",
    "- num snps with cov > 1\n",
    "- num snps in genes\n",
    "- num snps in peaks\n",
    "- average/median R2 of SNPs"
   ]
  },
  {
   "cell_type": "code",
   "execution_count": 6,
   "id": "5a06a02c",
   "metadata": {},
   "outputs": [],
   "source": [
    "import numpy as np\n",
    "import pandas as pd\n",
    "import matplotlib.pyplot as plt\n",
    "import seaborn as sns\n",
    "\n",
    "import os\n",
    "\n",
    "from scipy.io import mmread, mmwrite\n",
    "\n",
    "import pybedtools\n",
    "from pybedtools import BedTool"
   ]
  },
  {
   "cell_type": "code",
   "execution_count": 7,
   "id": "b9508207",
   "metadata": {},
   "outputs": [],
   "source": [
    "projdir = '/u/home/t/terencew/project-cluo/igvf/pilot/multiome/'\n",
    "\n",
    "donors = list(np.loadtxt(f'{projdir}/txt/donors.txt', dtype=str))\n",
    "samples = list(np.loadtxt(f'{projdir}/txt/samples.txt', dtype=str))\n",
    "s = samples[0]"
   ]
  },
  {
   "cell_type": "code",
   "execution_count": 8,
   "id": "e4eebc78",
   "metadata": {},
   "outputs": [],
   "source": [
    "indir = f'{projdir}/ambient/ambisim/mux_test/'\n",
    "exp = '10_20'"
   ]
  },
  {
   "cell_type": "code",
   "execution_count": 9,
   "id": "991a4c07",
   "metadata": {},
   "outputs": [],
   "source": [
    "cellsnp_dir = f'{indir}/{exp}/demux/varcon_cellsnp/gex/{s}/'"
   ]
  },
  {
   "cell_type": "code",
   "execution_count": 10,
   "id": "0fa0e118",
   "metadata": {},
   "outputs": [
    {
     "data": {
      "text/plain": [
       "'/u/home/t/terencew/project-cluo/igvf/pilot/multiome//ambient/ambisim/mux_test//10_20/demux/varcon_cellsnp/gex/20220928-IGVF-D0/'"
      ]
     },
     "execution_count": 10,
     "metadata": {},
     "output_type": "execute_result"
    }
   ],
   "source": [
    "cellsnp_dir"
   ]
  },
  {
   "cell_type": "code",
   "execution_count": 11,
   "id": "b951b9df",
   "metadata": {},
   "outputs": [],
   "source": [
    "ad = mmread(f'{cellsnp_dir}/cellSNP.tag.AD.mtx').tocsr()\n",
    "dp = mmread(f'{cellsnp_dir}/cellSNP.tag.DP.mtx').tocsr()"
   ]
  },
  {
   "cell_type": "code",
   "execution_count": 60,
   "id": "6c5b51d9",
   "metadata": {},
   "outputs": [],
   "source": [
    "barcodes = pd.read_csv(f'{cellsnp_dir}/cellSNP.samples.tsv', header=None)"
   ]
  },
  {
   "cell_type": "code",
   "execution_count": 62,
   "id": "a7d5385e",
   "metadata": {},
   "outputs": [
    {
     "data": {
      "text/plain": [
       "(8517, 1)"
      ]
     },
     "execution_count": 62,
     "metadata": {},
     "output_type": "execute_result"
    }
   ],
   "source": [
    "barcodes.shape"
   ]
  },
  {
   "cell_type": "code",
   "execution_count": 12,
   "id": "dba56304",
   "metadata": {
    "scrolled": true
   },
   "outputs": [
    {
     "data": {
      "text/plain": [
       "(<504486x8517 sparse matrix of type '<class 'numpy.int64'>'\n",
       " \twith 2008546 stored elements in Compressed Sparse Row format>,\n",
       " <504486x8517 sparse matrix of type '<class 'numpy.int64'>'\n",
       " \twith 5847055 stored elements in Compressed Sparse Row format>)"
      ]
     },
     "execution_count": 12,
     "metadata": {},
     "output_type": "execute_result"
    }
   ],
   "source": [
    "ad, dp"
   ]
  },
  {
   "cell_type": "code",
   "execution_count": 24,
   "id": "03da6014",
   "metadata": {
    "scrolled": true
   },
   "outputs": [
    {
     "data": {
      "text/plain": [
       "(504486, 8)"
      ]
     },
     "execution_count": 24,
     "metadata": {},
     "output_type": "execute_result"
    }
   ],
   "source": [
    "vcf = pd.read_csv(f'{cellsnp_dir}/cellSNP.base.vcf.gz', sep='\\t', comment='#', header=None)\n",
    "vcf.shape"
   ]
  },
  {
   "cell_type": "code",
   "execution_count": 25,
   "id": "26ef7b53",
   "metadata": {
    "scrolled": true
   },
   "outputs": [
    {
     "data": {
      "text/html": [
       "<div>\n",
       "<style scoped>\n",
       "    .dataframe tbody tr th:only-of-type {\n",
       "        vertical-align: middle;\n",
       "    }\n",
       "\n",
       "    .dataframe tbody tr th {\n",
       "        vertical-align: top;\n",
       "    }\n",
       "\n",
       "    .dataframe thead th {\n",
       "        text-align: right;\n",
       "    }\n",
       "</style>\n",
       "<table border=\"1\" class=\"dataframe\">\n",
       "  <thead>\n",
       "    <tr style=\"text-align: right;\">\n",
       "      <th></th>\n",
       "      <th>0</th>\n",
       "      <th>1</th>\n",
       "      <th>2</th>\n",
       "      <th>3</th>\n",
       "      <th>4</th>\n",
       "      <th>5</th>\n",
       "      <th>6</th>\n",
       "      <th>7</th>\n",
       "    </tr>\n",
       "  </thead>\n",
       "  <tbody>\n",
       "    <tr>\n",
       "      <th>0</th>\n",
       "      <td>chr1</td>\n",
       "      <td>779825</td>\n",
       "      <td>.</td>\n",
       "      <td>C</td>\n",
       "      <td>G</td>\n",
       "      <td>.</td>\n",
       "      <td>PASS</td>\n",
       "      <td>AD=1;DP=5;OTH=0</td>\n",
       "    </tr>\n",
       "    <tr>\n",
       "      <th>1</th>\n",
       "      <td>chr1</td>\n",
       "      <td>785588</td>\n",
       "      <td>.</td>\n",
       "      <td>G</td>\n",
       "      <td>C</td>\n",
       "      <td>.</td>\n",
       "      <td>PASS</td>\n",
       "      <td>AD=0;DP=1;OTH=1</td>\n",
       "    </tr>\n",
       "    <tr>\n",
       "      <th>2</th>\n",
       "      <td>chr1</td>\n",
       "      <td>804863</td>\n",
       "      <td>.</td>\n",
       "      <td>T</td>\n",
       "      <td>C</td>\n",
       "      <td>.</td>\n",
       "      <td>PASS</td>\n",
       "      <td>AD=4;DP=11;OTH=0</td>\n",
       "    </tr>\n",
       "    <tr>\n",
       "      <th>3</th>\n",
       "      <td>chr1</td>\n",
       "      <td>808040</td>\n",
       "      <td>.</td>\n",
       "      <td>G</td>\n",
       "      <td>A</td>\n",
       "      <td>.</td>\n",
       "      <td>PASS</td>\n",
       "      <td>AD=2;DP=4;OTH=0</td>\n",
       "    </tr>\n",
       "    <tr>\n",
       "      <th>4</th>\n",
       "      <td>chr1</td>\n",
       "      <td>830627</td>\n",
       "      <td>.</td>\n",
       "      <td>A</td>\n",
       "      <td>C</td>\n",
       "      <td>.</td>\n",
       "      <td>PASS</td>\n",
       "      <td>AD=1;DP=2;OTH=0</td>\n",
       "    </tr>\n",
       "  </tbody>\n",
       "</table>\n",
       "</div>"
      ],
      "text/plain": [
       "      0       1  2  3  4  5     6                 7\n",
       "0  chr1  779825  .  C  G  .  PASS   AD=1;DP=5;OTH=0\n",
       "1  chr1  785588  .  G  C  .  PASS   AD=0;DP=1;OTH=1\n",
       "2  chr1  804863  .  T  C  .  PASS  AD=4;DP=11;OTH=0\n",
       "3  chr1  808040  .  G  A  .  PASS   AD=2;DP=4;OTH=0\n",
       "4  chr1  830627  .  A  C  .  PASS   AD=1;DP=2;OTH=0"
      ]
     },
     "execution_count": 25,
     "metadata": {},
     "output_type": "execute_result"
    }
   ],
   "source": [
    "vcf.head()"
   ]
  },
  {
   "cell_type": "code",
   "execution_count": 26,
   "id": "8573bc27",
   "metadata": {},
   "outputs": [],
   "source": [
    "vcf.columns = ['chrom', 'start', 'dot', 'REF', 'ALT', 'dot2', 'PASS', 'counts']\n",
    "vcf['end'] = vcf['start'] + 1\n",
    "vcf.index = [f'{x}_{y}' for x,y in zip(vcf['chrom'], vcf['start'])]"
   ]
  },
  {
   "cell_type": "code",
   "execution_count": 27,
   "id": "4c315aa6",
   "metadata": {},
   "outputs": [
    {
     "data": {
      "text/html": [
       "<div>\n",
       "<style scoped>\n",
       "    .dataframe tbody tr th:only-of-type {\n",
       "        vertical-align: middle;\n",
       "    }\n",
       "\n",
       "    .dataframe tbody tr th {\n",
       "        vertical-align: top;\n",
       "    }\n",
       "\n",
       "    .dataframe thead th {\n",
       "        text-align: right;\n",
       "    }\n",
       "</style>\n",
       "<table border=\"1\" class=\"dataframe\">\n",
       "  <thead>\n",
       "    <tr style=\"text-align: right;\">\n",
       "      <th></th>\n",
       "      <th>chrom</th>\n",
       "      <th>start</th>\n",
       "      <th>dot</th>\n",
       "      <th>REF</th>\n",
       "      <th>ALT</th>\n",
       "      <th>dot2</th>\n",
       "      <th>PASS</th>\n",
       "      <th>counts</th>\n",
       "      <th>end</th>\n",
       "    </tr>\n",
       "  </thead>\n",
       "  <tbody>\n",
       "    <tr>\n",
       "      <th>chr1_779825</th>\n",
       "      <td>chr1</td>\n",
       "      <td>779825</td>\n",
       "      <td>.</td>\n",
       "      <td>C</td>\n",
       "      <td>G</td>\n",
       "      <td>.</td>\n",
       "      <td>PASS</td>\n",
       "      <td>AD=1;DP=5;OTH=0</td>\n",
       "      <td>779826</td>\n",
       "    </tr>\n",
       "    <tr>\n",
       "      <th>chr1_785588</th>\n",
       "      <td>chr1</td>\n",
       "      <td>785588</td>\n",
       "      <td>.</td>\n",
       "      <td>G</td>\n",
       "      <td>C</td>\n",
       "      <td>.</td>\n",
       "      <td>PASS</td>\n",
       "      <td>AD=0;DP=1;OTH=1</td>\n",
       "      <td>785589</td>\n",
       "    </tr>\n",
       "    <tr>\n",
       "      <th>chr1_804863</th>\n",
       "      <td>chr1</td>\n",
       "      <td>804863</td>\n",
       "      <td>.</td>\n",
       "      <td>T</td>\n",
       "      <td>C</td>\n",
       "      <td>.</td>\n",
       "      <td>PASS</td>\n",
       "      <td>AD=4;DP=11;OTH=0</td>\n",
       "      <td>804864</td>\n",
       "    </tr>\n",
       "    <tr>\n",
       "      <th>chr1_808040</th>\n",
       "      <td>chr1</td>\n",
       "      <td>808040</td>\n",
       "      <td>.</td>\n",
       "      <td>G</td>\n",
       "      <td>A</td>\n",
       "      <td>.</td>\n",
       "      <td>PASS</td>\n",
       "      <td>AD=2;DP=4;OTH=0</td>\n",
       "      <td>808041</td>\n",
       "    </tr>\n",
       "    <tr>\n",
       "      <th>chr1_830627</th>\n",
       "      <td>chr1</td>\n",
       "      <td>830627</td>\n",
       "      <td>.</td>\n",
       "      <td>A</td>\n",
       "      <td>C</td>\n",
       "      <td>.</td>\n",
       "      <td>PASS</td>\n",
       "      <td>AD=1;DP=2;OTH=0</td>\n",
       "      <td>830628</td>\n",
       "    </tr>\n",
       "    <tr>\n",
       "      <th>...</th>\n",
       "      <td>...</td>\n",
       "      <td>...</td>\n",
       "      <td>...</td>\n",
       "      <td>...</td>\n",
       "      <td>...</td>\n",
       "      <td>...</td>\n",
       "      <td>...</td>\n",
       "      <td>...</td>\n",
       "      <td>...</td>\n",
       "    </tr>\n",
       "    <tr>\n",
       "      <th>chr22_50774447</th>\n",
       "      <td>chr22</td>\n",
       "      <td>50774447</td>\n",
       "      <td>.</td>\n",
       "      <td>A</td>\n",
       "      <td>C</td>\n",
       "      <td>.</td>\n",
       "      <td>PASS</td>\n",
       "      <td>AD=1;DP=4;OTH=0</td>\n",
       "      <td>50774448</td>\n",
       "    </tr>\n",
       "    <tr>\n",
       "      <th>chr22_50777832</th>\n",
       "      <td>chr22</td>\n",
       "      <td>50777832</td>\n",
       "      <td>.</td>\n",
       "      <td>G</td>\n",
       "      <td>T</td>\n",
       "      <td>.</td>\n",
       "      <td>PASS</td>\n",
       "      <td>AD=1;DP=6;OTH=0</td>\n",
       "      <td>50777833</td>\n",
       "    </tr>\n",
       "    <tr>\n",
       "      <th>chr22_50777878</th>\n",
       "      <td>chr22</td>\n",
       "      <td>50777878</td>\n",
       "      <td>.</td>\n",
       "      <td>G</td>\n",
       "      <td>A</td>\n",
       "      <td>.</td>\n",
       "      <td>PASS</td>\n",
       "      <td>AD=0;DP=4;OTH=1</td>\n",
       "      <td>50777879</td>\n",
       "    </tr>\n",
       "    <tr>\n",
       "      <th>chr22_50779128</th>\n",
       "      <td>chr22</td>\n",
       "      <td>50779128</td>\n",
       "      <td>.</td>\n",
       "      <td>C</td>\n",
       "      <td>T</td>\n",
       "      <td>.</td>\n",
       "      <td>PASS</td>\n",
       "      <td>AD=1;DP=2;OTH=0</td>\n",
       "      <td>50779129</td>\n",
       "    </tr>\n",
       "    <tr>\n",
       "      <th>chr22_50780529</th>\n",
       "      <td>chr22</td>\n",
       "      <td>50780529</td>\n",
       "      <td>.</td>\n",
       "      <td>A</td>\n",
       "      <td>G</td>\n",
       "      <td>.</td>\n",
       "      <td>PASS</td>\n",
       "      <td>AD=0;DP=3;OTH=1</td>\n",
       "      <td>50780530</td>\n",
       "    </tr>\n",
       "  </tbody>\n",
       "</table>\n",
       "<p>504486 rows × 9 columns</p>\n",
       "</div>"
      ],
      "text/plain": [
       "                chrom     start dot REF ALT dot2  PASS            counts  \\\n",
       "chr1_779825      chr1    779825   .   C   G    .  PASS   AD=1;DP=5;OTH=0   \n",
       "chr1_785588      chr1    785588   .   G   C    .  PASS   AD=0;DP=1;OTH=1   \n",
       "chr1_804863      chr1    804863   .   T   C    .  PASS  AD=4;DP=11;OTH=0   \n",
       "chr1_808040      chr1    808040   .   G   A    .  PASS   AD=2;DP=4;OTH=0   \n",
       "chr1_830627      chr1    830627   .   A   C    .  PASS   AD=1;DP=2;OTH=0   \n",
       "...               ...       ...  ..  ..  ..  ...   ...               ...   \n",
       "chr22_50774447  chr22  50774447   .   A   C    .  PASS   AD=1;DP=4;OTH=0   \n",
       "chr22_50777832  chr22  50777832   .   G   T    .  PASS   AD=1;DP=6;OTH=0   \n",
       "chr22_50777878  chr22  50777878   .   G   A    .  PASS   AD=0;DP=4;OTH=1   \n",
       "chr22_50779128  chr22  50779128   .   C   T    .  PASS   AD=1;DP=2;OTH=0   \n",
       "chr22_50780529  chr22  50780529   .   A   G    .  PASS   AD=0;DP=3;OTH=1   \n",
       "\n",
       "                     end  \n",
       "chr1_779825       779826  \n",
       "chr1_785588       785589  \n",
       "chr1_804863       804864  \n",
       "chr1_808040       808041  \n",
       "chr1_830627       830628  \n",
       "...                  ...  \n",
       "chr22_50774447  50774448  \n",
       "chr22_50777832  50777833  \n",
       "chr22_50777878  50777879  \n",
       "chr22_50779128  50779129  \n",
       "chr22_50780529  50780530  \n",
       "\n",
       "[504486 rows x 9 columns]"
      ]
     },
     "execution_count": 27,
     "metadata": {},
     "output_type": "execute_result"
    }
   ],
   "source": [
    "vcf"
   ]
  },
  {
   "cell_type": "code",
   "execution_count": 28,
   "id": "94a291fc",
   "metadata": {},
   "outputs": [],
   "source": [
    "snps_bed = vcf[['chrom', 'start', 'end', 'REF', 'ALT', 'counts']]"
   ]
  },
  {
   "cell_type": "code",
   "execution_count": 29,
   "id": "7c6803e1",
   "metadata": {},
   "outputs": [
    {
     "data": {
      "text/html": [
       "<div>\n",
       "<style scoped>\n",
       "    .dataframe tbody tr th:only-of-type {\n",
       "        vertical-align: middle;\n",
       "    }\n",
       "\n",
       "    .dataframe tbody tr th {\n",
       "        vertical-align: top;\n",
       "    }\n",
       "\n",
       "    .dataframe thead th {\n",
       "        text-align: right;\n",
       "    }\n",
       "</style>\n",
       "<table border=\"1\" class=\"dataframe\">\n",
       "  <thead>\n",
       "    <tr style=\"text-align: right;\">\n",
       "      <th></th>\n",
       "      <th>chrom</th>\n",
       "      <th>start</th>\n",
       "      <th>end</th>\n",
       "      <th>REF</th>\n",
       "      <th>ALT</th>\n",
       "      <th>counts</th>\n",
       "    </tr>\n",
       "  </thead>\n",
       "  <tbody>\n",
       "    <tr>\n",
       "      <th>chr1_779825</th>\n",
       "      <td>chr1</td>\n",
       "      <td>779825</td>\n",
       "      <td>779826</td>\n",
       "      <td>C</td>\n",
       "      <td>G</td>\n",
       "      <td>AD=1;DP=5;OTH=0</td>\n",
       "    </tr>\n",
       "    <tr>\n",
       "      <th>chr1_785588</th>\n",
       "      <td>chr1</td>\n",
       "      <td>785588</td>\n",
       "      <td>785589</td>\n",
       "      <td>G</td>\n",
       "      <td>C</td>\n",
       "      <td>AD=0;DP=1;OTH=1</td>\n",
       "    </tr>\n",
       "    <tr>\n",
       "      <th>chr1_804863</th>\n",
       "      <td>chr1</td>\n",
       "      <td>804863</td>\n",
       "      <td>804864</td>\n",
       "      <td>T</td>\n",
       "      <td>C</td>\n",
       "      <td>AD=4;DP=11;OTH=0</td>\n",
       "    </tr>\n",
       "    <tr>\n",
       "      <th>chr1_808040</th>\n",
       "      <td>chr1</td>\n",
       "      <td>808040</td>\n",
       "      <td>808041</td>\n",
       "      <td>G</td>\n",
       "      <td>A</td>\n",
       "      <td>AD=2;DP=4;OTH=0</td>\n",
       "    </tr>\n",
       "    <tr>\n",
       "      <th>chr1_830627</th>\n",
       "      <td>chr1</td>\n",
       "      <td>830627</td>\n",
       "      <td>830628</td>\n",
       "      <td>A</td>\n",
       "      <td>C</td>\n",
       "      <td>AD=1;DP=2;OTH=0</td>\n",
       "    </tr>\n",
       "    <tr>\n",
       "      <th>...</th>\n",
       "      <td>...</td>\n",
       "      <td>...</td>\n",
       "      <td>...</td>\n",
       "      <td>...</td>\n",
       "      <td>...</td>\n",
       "      <td>...</td>\n",
       "    </tr>\n",
       "    <tr>\n",
       "      <th>chr22_50774447</th>\n",
       "      <td>chr22</td>\n",
       "      <td>50774447</td>\n",
       "      <td>50774448</td>\n",
       "      <td>A</td>\n",
       "      <td>C</td>\n",
       "      <td>AD=1;DP=4;OTH=0</td>\n",
       "    </tr>\n",
       "    <tr>\n",
       "      <th>chr22_50777832</th>\n",
       "      <td>chr22</td>\n",
       "      <td>50777832</td>\n",
       "      <td>50777833</td>\n",
       "      <td>G</td>\n",
       "      <td>T</td>\n",
       "      <td>AD=1;DP=6;OTH=0</td>\n",
       "    </tr>\n",
       "    <tr>\n",
       "      <th>chr22_50777878</th>\n",
       "      <td>chr22</td>\n",
       "      <td>50777878</td>\n",
       "      <td>50777879</td>\n",
       "      <td>G</td>\n",
       "      <td>A</td>\n",
       "      <td>AD=0;DP=4;OTH=1</td>\n",
       "    </tr>\n",
       "    <tr>\n",
       "      <th>chr22_50779128</th>\n",
       "      <td>chr22</td>\n",
       "      <td>50779128</td>\n",
       "      <td>50779129</td>\n",
       "      <td>C</td>\n",
       "      <td>T</td>\n",
       "      <td>AD=1;DP=2;OTH=0</td>\n",
       "    </tr>\n",
       "    <tr>\n",
       "      <th>chr22_50780529</th>\n",
       "      <td>chr22</td>\n",
       "      <td>50780529</td>\n",
       "      <td>50780530</td>\n",
       "      <td>A</td>\n",
       "      <td>G</td>\n",
       "      <td>AD=0;DP=3;OTH=1</td>\n",
       "    </tr>\n",
       "  </tbody>\n",
       "</table>\n",
       "<p>504486 rows × 6 columns</p>\n",
       "</div>"
      ],
      "text/plain": [
       "                chrom     start       end REF ALT            counts\n",
       "chr1_779825      chr1    779825    779826   C   G   AD=1;DP=5;OTH=0\n",
       "chr1_785588      chr1    785588    785589   G   C   AD=0;DP=1;OTH=1\n",
       "chr1_804863      chr1    804863    804864   T   C  AD=4;DP=11;OTH=0\n",
       "chr1_808040      chr1    808040    808041   G   A   AD=2;DP=4;OTH=0\n",
       "chr1_830627      chr1    830627    830628   A   C   AD=1;DP=2;OTH=0\n",
       "...               ...       ...       ...  ..  ..               ...\n",
       "chr22_50774447  chr22  50774447  50774448   A   C   AD=1;DP=4;OTH=0\n",
       "chr22_50777832  chr22  50777832  50777833   G   T   AD=1;DP=6;OTH=0\n",
       "chr22_50777878  chr22  50777878  50777879   G   A   AD=0;DP=4;OTH=1\n",
       "chr22_50779128  chr22  50779128  50779129   C   T   AD=1;DP=2;OTH=0\n",
       "chr22_50780529  chr22  50780529  50780530   A   G   AD=0;DP=3;OTH=1\n",
       "\n",
       "[504486 rows x 6 columns]"
      ]
     },
     "execution_count": 29,
     "metadata": {},
     "output_type": "execute_result"
    }
   ],
   "source": [
    "snps_bed"
   ]
  },
  {
   "cell_type": "code",
   "execution_count": 30,
   "id": "89954e5c",
   "metadata": {
    "scrolled": true
   },
   "outputs": [
    {
     "data": {
      "text/plain": [
       "(1, 8517)"
      ]
     },
     "execution_count": 30,
     "metadata": {},
     "output_type": "execute_result"
    }
   ],
   "source": [
    "bc_counts = np.sum(dp, axis=0)\n",
    "bc_counts.shape"
   ]
  },
  {
   "cell_type": "code",
   "execution_count": 31,
   "id": "f8b6ce88",
   "metadata": {},
   "outputs": [
    {
     "data": {
      "text/plain": [
       "matrix([[668, 669, 496, ..., 374, 384, 516]])"
      ]
     },
     "execution_count": 31,
     "metadata": {},
     "output_type": "execute_result"
    }
   ],
   "source": [
    "bc_counts"
   ]
  },
  {
   "cell_type": "code",
   "execution_count": 32,
   "id": "b736822f",
   "metadata": {},
   "outputs": [
    {
     "data": {
      "text/plain": [
       "(1, 8517)"
      ]
     },
     "execution_count": 32,
     "metadata": {},
     "output_type": "execute_result"
    }
   ],
   "source": [
    "tmp_dp = dp > 1\n",
    "bc_counts_greater = np.sum(tmp_dp, axis=0)\n",
    "bc_counts_greater.shape"
   ]
  },
  {
   "cell_type": "code",
   "execution_count": 33,
   "id": "40a08f0f",
   "metadata": {},
   "outputs": [
    {
     "data": {
      "text/plain": [
       "matrix([[15, 21, 24, ...,  7,  7,  9]])"
      ]
     },
     "execution_count": 33,
     "metadata": {},
     "output_type": "execute_result"
    }
   ],
   "source": [
    "bc_counts_greater"
   ]
  },
  {
   "cell_type": "markdown",
   "id": "cd011886",
   "metadata": {},
   "source": [
    "### now let's look at num snps in genes/peaks"
   ]
  },
  {
   "cell_type": "code",
   "execution_count": 34,
   "id": "7ee7edc9",
   "metadata": {},
   "outputs": [],
   "source": [
    "# gtf_path = '/u/project/cluo/terencew/reference/refdata-cellranger-arc-GRCh38-2020-A-2.0.0/genes/genes.gtf.gz'\n",
    "# gtf = pd.read_csv(gtf_path, sep='\\t', header=None, index_col=None, comment='#')"
   ]
  },
  {
   "cell_type": "code",
   "execution_count": 35,
   "id": "f227cf76",
   "metadata": {},
   "outputs": [],
   "source": [
    "# gtf.shape"
   ]
  },
  {
   "cell_type": "code",
   "execution_count": 36,
   "id": "049d9595",
   "metadata": {},
   "outputs": [],
   "source": [
    "gene_path = '/u/home/t/terencew/project-cluo/reference/hg38/bed/gencode.v39.basic.gene.bed'\n",
    "gene_bed = pd.read_csv(gene_path, sep='\\t', header=None, index_col=None)\n",
    "gene_bed = gene_bed[[1, 2, 3, 0]]"
   ]
  },
  {
   "cell_type": "code",
   "execution_count": 37,
   "id": "f6e45798",
   "metadata": {},
   "outputs": [
    {
     "data": {
      "text/html": [
       "<div>\n",
       "<style scoped>\n",
       "    .dataframe tbody tr th:only-of-type {\n",
       "        vertical-align: middle;\n",
       "    }\n",
       "\n",
       "    .dataframe tbody tr th {\n",
       "        vertical-align: top;\n",
       "    }\n",
       "\n",
       "    .dataframe thead th {\n",
       "        text-align: right;\n",
       "    }\n",
       "</style>\n",
       "<table border=\"1\" class=\"dataframe\">\n",
       "  <thead>\n",
       "    <tr style=\"text-align: right;\">\n",
       "      <th></th>\n",
       "      <th>1</th>\n",
       "      <th>2</th>\n",
       "      <th>3</th>\n",
       "      <th>0</th>\n",
       "    </tr>\n",
       "  </thead>\n",
       "  <tbody>\n",
       "    <tr>\n",
       "      <th>0</th>\n",
       "      <td>chr1</td>\n",
       "      <td>11869</td>\n",
       "      <td>14409</td>\n",
       "      <td>DDX11L1</td>\n",
       "    </tr>\n",
       "    <tr>\n",
       "      <th>1</th>\n",
       "      <td>chr1</td>\n",
       "      <td>14404</td>\n",
       "      <td>29570</td>\n",
       "      <td>WASH7P</td>\n",
       "    </tr>\n",
       "    <tr>\n",
       "      <th>2</th>\n",
       "      <td>chr1</td>\n",
       "      <td>17369</td>\n",
       "      <td>17436</td>\n",
       "      <td>MIR6859-1</td>\n",
       "    </tr>\n",
       "    <tr>\n",
       "      <th>3</th>\n",
       "      <td>chr1</td>\n",
       "      <td>29554</td>\n",
       "      <td>31109</td>\n",
       "      <td>MIR1302-2HG</td>\n",
       "    </tr>\n",
       "    <tr>\n",
       "      <th>4</th>\n",
       "      <td>chr1</td>\n",
       "      <td>30366</td>\n",
       "      <td>30503</td>\n",
       "      <td>MIR1302-2</td>\n",
       "    </tr>\n",
       "  </tbody>\n",
       "</table>\n",
       "</div>"
      ],
      "text/plain": [
       "      1      2      3            0\n",
       "0  chr1  11869  14409      DDX11L1\n",
       "1  chr1  14404  29570       WASH7P\n",
       "2  chr1  17369  17436    MIR6859-1\n",
       "3  chr1  29554  31109  MIR1302-2HG\n",
       "4  chr1  30366  30503    MIR1302-2"
      ]
     },
     "execution_count": 37,
     "metadata": {},
     "output_type": "execute_result"
    }
   ],
   "source": [
    "gene_bed.head()"
   ]
  },
  {
   "cell_type": "code",
   "execution_count": 38,
   "id": "48ab38f0",
   "metadata": {
    "scrolled": true
   },
   "outputs": [
    {
     "data": {
      "text/plain": [
       "(128166, 3)"
      ]
     },
     "execution_count": 38,
     "metadata": {},
     "output_type": "execute_result"
    }
   ],
   "source": [
    "peaks_path = f'{indir}/{exp}/cr_arc/{s}/outs/atac_peaks.bed'\n",
    "\n",
    "peaks = pd.read_csv(peaks_path, sep='\\t', header=None, index_col=None, comment='#')\n",
    "peaks.shape"
   ]
  },
  {
   "cell_type": "code",
   "execution_count": 39,
   "id": "32154782",
   "metadata": {},
   "outputs": [],
   "source": [
    "snps_bedtool = BedTool.from_dataframe(snps_bed)\n",
    "genes_bedtool = BedTool.from_dataframe(gene_bed)\n",
    "peaks_bedtool = BedTool.from_dataframe(peaks)"
   ]
  },
  {
   "cell_type": "code",
   "execution_count": 40,
   "id": "6bdf9e72",
   "metadata": {},
   "outputs": [
    {
     "data": {
      "text/plain": [
       "((503676, 6), (41371, 6))"
      ]
     },
     "execution_count": 40,
     "metadata": {},
     "output_type": "execute_result"
    }
   ],
   "source": [
    "gene_snps = snps_bedtool.intersect(genes_bedtool).to_dataframe()\n",
    "gene_snps.index = [f'{x}_{y}' for x,y in zip(gene_snps['chrom'], gene_snps['start'])]\n",
    "gene_snps = gene_snps[~gene_snps.index.duplicated()]\n",
    "\n",
    "peak_snps = snps_bedtool.intersect(peaks_bedtool).to_dataframe()\n",
    "peak_snps.index = [f'{x}_{y}' for x,y in zip(peak_snps['chrom'], peak_snps['start'])]\n",
    "\n",
    "gene_snps.shape, peak_snps.shape"
   ]
  },
  {
   "cell_type": "code",
   "execution_count": 41,
   "id": "030b277c",
   "metadata": {},
   "outputs": [
    {
     "data": {
      "text/html": [
       "<div>\n",
       "<style scoped>\n",
       "    .dataframe tbody tr th:only-of-type {\n",
       "        vertical-align: middle;\n",
       "    }\n",
       "\n",
       "    .dataframe tbody tr th {\n",
       "        vertical-align: top;\n",
       "    }\n",
       "\n",
       "    .dataframe thead th {\n",
       "        text-align: right;\n",
       "    }\n",
       "</style>\n",
       "<table border=\"1\" class=\"dataframe\">\n",
       "  <thead>\n",
       "    <tr style=\"text-align: right;\">\n",
       "      <th></th>\n",
       "      <th>chrom</th>\n",
       "      <th>start</th>\n",
       "      <th>end</th>\n",
       "      <th>name</th>\n",
       "      <th>score</th>\n",
       "      <th>strand</th>\n",
       "    </tr>\n",
       "  </thead>\n",
       "  <tbody>\n",
       "    <tr>\n",
       "      <th>chr1_779825</th>\n",
       "      <td>chr1</td>\n",
       "      <td>779825</td>\n",
       "      <td>779826</td>\n",
       "      <td>C</td>\n",
       "      <td>G</td>\n",
       "      <td>AD=1;DP=5;OTH=0</td>\n",
       "    </tr>\n",
       "    <tr>\n",
       "      <th>chr1_785588</th>\n",
       "      <td>chr1</td>\n",
       "      <td>785588</td>\n",
       "      <td>785589</td>\n",
       "      <td>G</td>\n",
       "      <td>C</td>\n",
       "      <td>AD=0;DP=1;OTH=1</td>\n",
       "    </tr>\n",
       "    <tr>\n",
       "      <th>chr1_804863</th>\n",
       "      <td>chr1</td>\n",
       "      <td>804863</td>\n",
       "      <td>804864</td>\n",
       "      <td>T</td>\n",
       "      <td>C</td>\n",
       "      <td>AD=4;DP=11;OTH=0</td>\n",
       "    </tr>\n",
       "    <tr>\n",
       "      <th>chr1_808040</th>\n",
       "      <td>chr1</td>\n",
       "      <td>808040</td>\n",
       "      <td>808041</td>\n",
       "      <td>G</td>\n",
       "      <td>A</td>\n",
       "      <td>AD=2;DP=4;OTH=0</td>\n",
       "    </tr>\n",
       "    <tr>\n",
       "      <th>chr1_830627</th>\n",
       "      <td>chr1</td>\n",
       "      <td>830627</td>\n",
       "      <td>830628</td>\n",
       "      <td>A</td>\n",
       "      <td>C</td>\n",
       "      <td>AD=1;DP=2;OTH=0</td>\n",
       "    </tr>\n",
       "  </tbody>\n",
       "</table>\n",
       "</div>"
      ],
      "text/plain": [
       "            chrom   start     end name score            strand\n",
       "chr1_779825  chr1  779825  779826    C     G   AD=1;DP=5;OTH=0\n",
       "chr1_785588  chr1  785588  785589    G     C   AD=0;DP=1;OTH=1\n",
       "chr1_804863  chr1  804863  804864    T     C  AD=4;DP=11;OTH=0\n",
       "chr1_808040  chr1  808040  808041    G     A   AD=2;DP=4;OTH=0\n",
       "chr1_830627  chr1  830627  830628    A     C   AD=1;DP=2;OTH=0"
      ]
     },
     "execution_count": 41,
     "metadata": {},
     "output_type": "execute_result"
    }
   ],
   "source": [
    "gene_snps.head()"
   ]
  },
  {
   "cell_type": "code",
   "execution_count": 42,
   "id": "25318d21",
   "metadata": {
    "scrolled": true
   },
   "outputs": [
    {
     "data": {
      "text/html": [
       "<div>\n",
       "<style scoped>\n",
       "    .dataframe tbody tr th:only-of-type {\n",
       "        vertical-align: middle;\n",
       "    }\n",
       "\n",
       "    .dataframe tbody tr th {\n",
       "        vertical-align: top;\n",
       "    }\n",
       "\n",
       "    .dataframe thead th {\n",
       "        text-align: right;\n",
       "    }\n",
       "</style>\n",
       "<table border=\"1\" class=\"dataframe\">\n",
       "  <thead>\n",
       "    <tr style=\"text-align: right;\">\n",
       "      <th></th>\n",
       "      <th>chrom</th>\n",
       "      <th>start</th>\n",
       "      <th>end</th>\n",
       "      <th>name</th>\n",
       "      <th>score</th>\n",
       "      <th>strand</th>\n",
       "    </tr>\n",
       "  </thead>\n",
       "  <tbody>\n",
       "    <tr>\n",
       "      <th>chr1_904947</th>\n",
       "      <td>chr1</td>\n",
       "      <td>904947</td>\n",
       "      <td>904948</td>\n",
       "      <td>G</td>\n",
       "      <td>A</td>\n",
       "      <td>AD=2;DP=18;OTH=1</td>\n",
       "    </tr>\n",
       "    <tr>\n",
       "      <th>chr1_911484</th>\n",
       "      <td>chr1</td>\n",
       "      <td>911484</td>\n",
       "      <td>911485</td>\n",
       "      <td>G</td>\n",
       "      <td>C</td>\n",
       "      <td>AD=1;DP=2;OTH=0</td>\n",
       "    </tr>\n",
       "    <tr>\n",
       "      <th>chr1_913065</th>\n",
       "      <td>chr1</td>\n",
       "      <td>913065</td>\n",
       "      <td>913066</td>\n",
       "      <td>G</td>\n",
       "      <td>A</td>\n",
       "      <td>AD=1;DP=4;OTH=0</td>\n",
       "    </tr>\n",
       "    <tr>\n",
       "      <th>chr1_913076</th>\n",
       "      <td>chr1</td>\n",
       "      <td>913076</td>\n",
       "      <td>913077</td>\n",
       "      <td>A</td>\n",
       "      <td>G</td>\n",
       "      <td>AD=2;DP=4;OTH=0</td>\n",
       "    </tr>\n",
       "    <tr>\n",
       "      <th>chr1_917063</th>\n",
       "      <td>chr1</td>\n",
       "      <td>917063</td>\n",
       "      <td>917064</td>\n",
       "      <td>A</td>\n",
       "      <td>C</td>\n",
       "      <td>AD=3;DP=13;OTH=0</td>\n",
       "    </tr>\n",
       "  </tbody>\n",
       "</table>\n",
       "</div>"
      ],
      "text/plain": [
       "            chrom   start     end name score            strand\n",
       "chr1_904947  chr1  904947  904948    G     A  AD=2;DP=18;OTH=1\n",
       "chr1_911484  chr1  911484  911485    G     C   AD=1;DP=2;OTH=0\n",
       "chr1_913065  chr1  913065  913066    G     A   AD=1;DP=4;OTH=0\n",
       "chr1_913076  chr1  913076  913077    A     G   AD=2;DP=4;OTH=0\n",
       "chr1_917063  chr1  917063  917064    A     C  AD=3;DP=13;OTH=0"
      ]
     },
     "execution_count": 42,
     "metadata": {},
     "output_type": "execute_result"
    }
   ],
   "source": [
    "peak_snps.head()"
   ]
  },
  {
   "cell_type": "code",
   "execution_count": 43,
   "id": "f5d18616",
   "metadata": {},
   "outputs": [],
   "source": [
    "gene_mask = vcf.index.isin(gene_snps.index)\n",
    "peak_mask = vcf.index.isin(peak_snps.index)"
   ]
  },
  {
   "cell_type": "code",
   "execution_count": 44,
   "id": "d6b80b53",
   "metadata": {},
   "outputs": [],
   "source": [
    "genes_dp = dp[gene_mask,:]\n",
    "peaks_dp = dp[peak_mask,:]"
   ]
  },
  {
   "cell_type": "code",
   "execution_count": 45,
   "id": "24df00cd",
   "metadata": {},
   "outputs": [
    {
     "data": {
      "text/plain": [
       "<41371x8517 sparse matrix of type '<class 'numpy.int64'>'\n",
       "\twith 801310 stored elements in Compressed Sparse Row format>"
      ]
     },
     "execution_count": 45,
     "metadata": {},
     "output_type": "execute_result"
    }
   ],
   "source": [
    "peaks_dp"
   ]
  },
  {
   "cell_type": "code",
   "execution_count": 46,
   "id": "cfffe3d0",
   "metadata": {},
   "outputs": [
    {
     "data": {
      "text/plain": [
       "<503848x8517 sparse matrix of type '<class 'numpy.int64'>'\n",
       "\twith 5831926 stored elements in Compressed Sparse Row format>"
      ]
     },
     "execution_count": 46,
     "metadata": {},
     "output_type": "execute_result"
    }
   ],
   "source": [
    "genes_dp"
   ]
  },
  {
   "cell_type": "code",
   "execution_count": 48,
   "id": "1af7169e",
   "metadata": {},
   "outputs": [
    {
     "data": {
      "text/plain": [
       "(1, 8517)"
      ]
     },
     "execution_count": 48,
     "metadata": {},
     "output_type": "execute_result"
    }
   ],
   "source": [
    "gene_bc_counts = np.sum(genes_dp, axis=0)\n",
    "gene_bc_counts.shape"
   ]
  },
  {
   "cell_type": "code",
   "execution_count": 50,
   "id": "dd53b143",
   "metadata": {},
   "outputs": [
    {
     "data": {
      "text/plain": [
       "matrix([[665, 667, 493, ..., 374, 383, 515]])"
      ]
     },
     "execution_count": 50,
     "metadata": {},
     "output_type": "execute_result"
    }
   ],
   "source": [
    "gene_bc_counts"
   ]
  },
  {
   "cell_type": "code",
   "execution_count": 49,
   "id": "0b5c19ff",
   "metadata": {},
   "outputs": [
    {
     "data": {
      "text/plain": [
       "(1, 8517)"
      ]
     },
     "execution_count": 49,
     "metadata": {},
     "output_type": "execute_result"
    }
   ],
   "source": [
    "tmp_dp = dp > 1\n",
    "gene_bc_counts_greater = np.sum(tmp_dp, axis=0)\n",
    "gene_bc_counts_greater.shape"
   ]
  },
  {
   "cell_type": "code",
   "execution_count": 53,
   "id": "633a7b69",
   "metadata": {},
   "outputs": [
    {
     "data": {
      "text/plain": [
       "matrix([[15, 21, 24, ...,  7,  7,  9]])"
      ]
     },
     "execution_count": 53,
     "metadata": {},
     "output_type": "execute_result"
    }
   ],
   "source": [
    "bc_counts_greater"
   ]
  },
  {
   "cell_type": "code",
   "execution_count": 52,
   "id": "9eb34eca",
   "metadata": {},
   "outputs": [
    {
     "data": {
      "text/plain": [
       "matrix([[15, 21, 24, ...,  7,  7,  9]])"
      ]
     },
     "execution_count": 52,
     "metadata": {},
     "output_type": "execute_result"
    }
   ],
   "source": [
    "gene_bc_counts_greater"
   ]
  },
  {
   "cell_type": "markdown",
   "id": "a9a777c9",
   "metadata": {},
   "source": [
    "### ok great let's make this a package"
   ]
  },
  {
   "cell_type": "code",
   "execution_count": 79,
   "id": "aa2d800c",
   "metadata": {},
   "outputs": [],
   "source": [
    "feature = 'genes'\n",
    "snp_stats = pd.DataFrame(index = barcodes[0])"
   ]
  },
  {
   "cell_type": "code",
   "execution_count": 81,
   "id": "fa2b3a7a",
   "metadata": {},
   "outputs": [],
   "source": [
    "snp_stats['n_snps'] = np.ravel(bc_counts)\n",
    "snp_stats['n_snps > 1'] = np.ravel(bc_counts_greater)\n",
    "snp_stats[f'n_snps in {feature}'] = np.ravel(gene_bc_counts)\n",
    "snp_stats[f'n_snps in {feature} > 1'] = np.ravel(gene_bc_counts_greater)"
   ]
  },
  {
   "cell_type": "code",
   "execution_count": 82,
   "id": "aaf7386c",
   "metadata": {},
   "outputs": [
    {
     "data": {
      "text/html": [
       "<div>\n",
       "<style scoped>\n",
       "    .dataframe tbody tr th:only-of-type {\n",
       "        vertical-align: middle;\n",
       "    }\n",
       "\n",
       "    .dataframe tbody tr th {\n",
       "        vertical-align: top;\n",
       "    }\n",
       "\n",
       "    .dataframe thead th {\n",
       "        text-align: right;\n",
       "    }\n",
       "</style>\n",
       "<table border=\"1\" class=\"dataframe\">\n",
       "  <thead>\n",
       "    <tr style=\"text-align: right;\">\n",
       "      <th></th>\n",
       "      <th>n_snps</th>\n",
       "      <th>n_snps &gt; 1</th>\n",
       "      <th>n_snps in genes</th>\n",
       "      <th>n_snps in genes &gt; 1</th>\n",
       "    </tr>\n",
       "    <tr>\n",
       "      <th>0</th>\n",
       "      <th></th>\n",
       "      <th></th>\n",
       "      <th></th>\n",
       "      <th></th>\n",
       "    </tr>\n",
       "  </thead>\n",
       "  <tbody>\n",
       "    <tr>\n",
       "      <th>AAACAGCCAAACAACA-1</th>\n",
       "      <td>668</td>\n",
       "      <td>15</td>\n",
       "      <td>665</td>\n",
       "      <td>15</td>\n",
       "    </tr>\n",
       "    <tr>\n",
       "      <th>AAACAGCCAAACATAG-1</th>\n",
       "      <td>669</td>\n",
       "      <td>21</td>\n",
       "      <td>667</td>\n",
       "      <td>21</td>\n",
       "    </tr>\n",
       "    <tr>\n",
       "      <th>AAACAGCCAAACCCTA-1</th>\n",
       "      <td>496</td>\n",
       "      <td>24</td>\n",
       "      <td>493</td>\n",
       "      <td>24</td>\n",
       "    </tr>\n",
       "    <tr>\n",
       "      <th>AAACAGCCAAACCTAT-1</th>\n",
       "      <td>794</td>\n",
       "      <td>28</td>\n",
       "      <td>792</td>\n",
       "      <td>28</td>\n",
       "    </tr>\n",
       "    <tr>\n",
       "      <th>AAACAGCCAAACCTTG-1</th>\n",
       "      <td>221</td>\n",
       "      <td>4</td>\n",
       "      <td>221</td>\n",
       "      <td>4</td>\n",
       "    </tr>\n",
       "    <tr>\n",
       "      <th>...</th>\n",
       "      <td>...</td>\n",
       "      <td>...</td>\n",
       "      <td>...</td>\n",
       "      <td>...</td>\n",
       "    </tr>\n",
       "    <tr>\n",
       "      <th>AACAAGCCACTGACTA-1</th>\n",
       "      <td>629</td>\n",
       "      <td>20</td>\n",
       "      <td>629</td>\n",
       "      <td>20</td>\n",
       "    </tr>\n",
       "    <tr>\n",
       "      <th>AACAAGCCACTGGCCA-1</th>\n",
       "      <td>319</td>\n",
       "      <td>5</td>\n",
       "      <td>318</td>\n",
       "      <td>5</td>\n",
       "    </tr>\n",
       "    <tr>\n",
       "      <th>AACAAGCCACTGGCTG-1</th>\n",
       "      <td>374</td>\n",
       "      <td>7</td>\n",
       "      <td>374</td>\n",
       "      <td>7</td>\n",
       "    </tr>\n",
       "    <tr>\n",
       "      <th>AACAAGCCACTTAACG-1</th>\n",
       "      <td>384</td>\n",
       "      <td>7</td>\n",
       "      <td>383</td>\n",
       "      <td>7</td>\n",
       "    </tr>\n",
       "    <tr>\n",
       "      <th>AACAAGCCACTTACAG-1</th>\n",
       "      <td>516</td>\n",
       "      <td>9</td>\n",
       "      <td>515</td>\n",
       "      <td>9</td>\n",
       "    </tr>\n",
       "  </tbody>\n",
       "</table>\n",
       "<p>8517 rows × 4 columns</p>\n",
       "</div>"
      ],
      "text/plain": [
       "                    n_snps  n_snps > 1  n_snps in genes  n_snps in genes > 1\n",
       "0                                                                           \n",
       "AAACAGCCAAACAACA-1     668          15              665                   15\n",
       "AAACAGCCAAACATAG-1     669          21              667                   21\n",
       "AAACAGCCAAACCCTA-1     496          24              493                   24\n",
       "AAACAGCCAAACCTAT-1     794          28              792                   28\n",
       "AAACAGCCAAACCTTG-1     221           4              221                    4\n",
       "...                    ...         ...              ...                  ...\n",
       "AACAAGCCACTGACTA-1     629          20              629                   20\n",
       "AACAAGCCACTGGCCA-1     319           5              318                    5\n",
       "AACAAGCCACTGGCTG-1     374           7              374                    7\n",
       "AACAAGCCACTTAACG-1     384           7              383                    7\n",
       "AACAAGCCACTTACAG-1     516           9              515                    9\n",
       "\n",
       "[8517 rows x 4 columns]"
      ]
     },
     "execution_count": 82,
     "metadata": {},
     "output_type": "execute_result"
    }
   ],
   "source": [
    "snp_stats"
   ]
  },
  {
   "cell_type": "code",
   "execution_count": null,
   "id": "be9553f8",
   "metadata": {},
   "outputs": [],
   "source": []
  }
 ],
 "metadata": {
  "kernelspec": {
   "display_name": "scFates",
   "language": "python",
   "name": "scfates"
  },
  "language_info": {
   "codemirror_mode": {
    "name": "ipython",
    "version": 3
   },
   "file_extension": ".py",
   "mimetype": "text/x-python",
   "name": "python",
   "nbconvert_exporter": "python",
   "pygments_lexer": "ipython3",
   "version": "3.11.8"
  }
 },
 "nbformat": 4,
 "nbformat_minor": 5
}
