{
 "cells": [
  {
   "cell_type": "code",
   "execution_count": 1,
   "id": "5f58e68e",
   "metadata": {},
   "outputs": [],
   "source": [
    "import pandas as pd\n",
    "import numpy as np"
   ]
  },
  {
   "cell_type": "code",
   "execution_count": 2,
   "id": "34daa2c5",
   "metadata": {},
   "outputs": [],
   "source": [
    "projdir = '/u/project/cluo/terencew/demux_benchmark/adelus_2023/'\n",
    "donors = list(np.loadtxt(f'{projdir}/txt/donors.txt', dtype=str))"
   ]
  },
  {
   "cell_type": "code",
   "execution_count": 3,
   "id": "a056e0dc",
   "metadata": {},
   "outputs": [
    {
     "data": {
      "text/plain": [
       "['D120.rep0.uD562_D120.rep0.uD562',\n",
       " 'J98.rep0.uD9_J98.rep0.uD9',\n",
       " 'T100.rep0.uD20_T100.rep0.uD20',\n",
       " 'U114.rep0.uD563_U114.rep0.uD563',\n",
       " 'U115.rep0.uD557_U115.rep0.uD557',\n",
       " 'V101.rep0.uD22_V101.rep0.uD22']"
      ]
     },
     "execution_count": 3,
     "metadata": {},
     "output_type": "execute_result"
    }
   ],
   "source": [
    "donors"
   ]
  },
  {
   "cell_type": "code",
   "execution_count": null,
   "id": "0af1eb2e",
   "metadata": {},
   "outputs": [],
   "source": [
    "indir = f'{projdir}/demux/demuxlet/gex/''\n",
    "demuxlet = pd.read_csv(f'{indir}/GSM7120589_', sep='\\t')"
   ]
  }
 ],
 "metadata": {
  "kernelspec": {
   "display_name": "allcools",
   "language": "python",
   "name": "allcools"
  },
  "language_info": {
   "codemirror_mode": {
    "name": "ipython",
    "version": 3
   },
   "file_extension": ".py",
   "mimetype": "text/x-python",
   "name": "python",
   "nbconvert_exporter": "python",
   "pygments_lexer": "ipython3",
   "version": "3.7.13"
  }
 },
 "nbformat": 4,
 "nbformat_minor": 5
}
