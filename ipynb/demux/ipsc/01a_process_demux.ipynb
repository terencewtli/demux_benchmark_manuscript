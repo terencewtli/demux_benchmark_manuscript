{
 "cells": [
  {
   "cell_type": "markdown",
   "id": "f26f6944",
   "metadata": {},
   "source": [
    "### finish generating inter_gex/inter_atac"
   ]
  },
  {
   "cell_type": "code",
   "execution_count": 1,
   "id": "b2b9950c",
   "metadata": {},
   "outputs": [],
   "source": [
    "import numpy as np\n",
    "import pandas as pd\n",
    "import matplotlib.pyplot as plt\n",
    "import seaborn as sns"
   ]
  },
  {
   "cell_type": "code",
   "execution_count": 2,
   "id": "da8a6483",
   "metadata": {},
   "outputs": [],
   "source": [
    "projdir = '/u/project/cluo/terencew/igvf/pilot/multiome/'\n",
    "donors = list(np.loadtxt(f'{projdir}/txt/donors.txt', dtype=str))\n",
    "samples = list(np.loadtxt(f'{projdir}/txt/samples.txt', dtype=str))\n",
    "samples = samples[:2]\n",
    "s = samples[0]\n",
    "clusters = 4"
   ]
  },
  {
   "cell_type": "code",
   "execution_count": 3,
   "id": "2e53604f",
   "metadata": {},
   "outputs": [
    {
     "data": {
      "text/plain": [
       "['25_A4', '26_A10', '27_C4', '48_V3']"
      ]
     },
     "execution_count": 3,
     "metadata": {},
     "output_type": "execute_result"
    }
   ],
   "source": [
    "donors"
   ]
  },
  {
   "cell_type": "code",
   "execution_count": 4,
   "id": "af36292e",
   "metadata": {},
   "outputs": [
    {
     "data": {
      "text/plain": [
       "(30497, 22)"
      ]
     },
     "execution_count": 4,
     "metadata": {},
     "output_type": "execute_result"
    }
   ],
   "source": [
    "indir = f'{projdir}/demux/regular/demuxlet/gex/'\n",
    "t = samples[0]\n",
    "demuxlet_gex = pd.read_csv(f'{indir}/{t}.best', sep='\\t', index_col=0)\n",
    "demuxlet_gex['sample'] = [t] * demuxlet_gex.shape[0]\n",
    "\n",
    "for t in samples[1:]:\n",
    "    tmp = pd.read_csv(f'{indir}/{t}.best', sep='\\t', index_col=0)\n",
    "    tmp['sample'] = [t] * tmp.shape[0]\n",
    "    demuxlet_gex = pd.concat([demuxlet_gex, tmp], axis=0)\n",
    "\n",
    "demuxlet_gex['t'] = [x for x in demuxlet_gex['sample']]\n",
    "demuxlet_gex['barcode'] = demuxlet_gex['BARCODE']\n",
    "demuxlet_gex.index = [f'{x}_{y}' for x,y in zip(demuxlet_gex['barcode'],demuxlet_gex['t'])]\n",
    "\n",
    "d_mask = demuxlet_gex['DROPLET.TYPE'] == 'DBL'\n",
    "u_mask = demuxlet_gex['DROPLET.TYPE'] == 'AMB'\n",
    "demuxlet_gex.loc[d_mask,'SNG.BEST.GUESS'] = ['doublet'] * sum(d_mask)\n",
    "demuxlet_gex.loc[u_mask,'SNG.BEST.GUESS'] = ['unassigned'] * sum(u_mask)\n",
    "\n",
    "demuxlet_gex.shape"
   ]
  },
  {
   "cell_type": "code",
   "execution_count": 5,
   "id": "121f63eb",
   "metadata": {},
   "outputs": [
    {
     "data": {
      "text/plain": [
       "(30497, 22)"
      ]
     },
     "execution_count": 5,
     "metadata": {},
     "output_type": "execute_result"
    }
   ],
   "source": [
    "indir = f'{projdir}/demux/regular/demuxlet/atac/'\n",
    "t = samples[0]\n",
    "demuxlet_atac = pd.read_csv(f'{indir}/{t}.best', sep='\\t', index_col=0)\n",
    "demuxlet_atac['sample'] = [t] * demuxlet_atac.shape[0]\n",
    "\n",
    "for t in samples[1:]:\n",
    "    tmp = pd.read_csv(f'{indir}/{t}.best', sep='\\t', index_col=0)\n",
    "    tmp['sample'] = [t] * tmp.shape[0]\n",
    "    demuxlet_atac = pd.concat([demuxlet_atac, tmp], axis=0)\n",
    "\n",
    "demuxlet_atac['t'] = [x for x in demuxlet_atac['sample']]\n",
    "demuxlet_atac['barcode'] = demuxlet_atac['BARCODE']\n",
    "demuxlet_atac.index = [f'{x}_{y}' for x,y in zip(demuxlet_atac['barcode'],demuxlet_atac['t'])]\n",
    "\n",
    "d_mask = demuxlet_atac['DROPLET.TYPE'] == 'DBL'\n",
    "u_mask = demuxlet_atac['DROPLET.TYPE'] == 'AMB'\n",
    "demuxlet_atac.loc[d_mask,'SNG.BEST.GUESS'] = ['doublet'] * sum(d_mask)\n",
    "demuxlet_atac.loc[u_mask,'SNG.BEST.GUESS'] = ['unassigned'] * sum(u_mask)\n",
    "\n",
    "demuxlet_atac.shape"
   ]
  },
  {
   "cell_type": "code",
   "execution_count": 6,
   "id": "f6181082",
   "metadata": {},
   "outputs": [],
   "source": [
    "# for i in range(clusters):\n",
    "#     barcodes = freemuxlet[freemuxlet['SNG.BEST.GUESS'] == f'{i}'].index\n",
    "#     if barcodes.empty == False:\n",
    "#         ### get best assigned donor, no unassigned/doublet\n",
    "#         mask = [x in donors for x in demuxlet.loc[barcodes][]'SNG.BEST.GUESS']\n",
    "#         maj_donor = demuxlet.loc[barcodes][mask]['SNG.BEST.GUESS'].mode().values[0]\n",
    "#         freemuxlet['SNG.BEST.GUESS'].replace({f'{i}' : f'{maj_donor}'}, inplace=True)"
   ]
  },
  {
   "cell_type": "code",
   "execution_count": 7,
   "id": "dfb1ffe3",
   "metadata": {},
   "outputs": [],
   "source": [
    "def map_free_to_anchor(free, anchor, free_col, anchor_col, clusters):\n",
    "    for i in range(clusters):\n",
    "        barcodes = free[free[free_col] == f'{i}'].index\n",
    "        if barcodes.empty == False:\n",
    "            ### get best assigned donor, no unassigned/doublet\n",
    "            mask = [x in donors for x in anchor.loc[barcodes][anchor_col]]\n",
    "            if not barcodes.empty:\n",
    "                maj_donor = anchor.loc[barcodes][mask][anchor_col].mode().values[0]\n",
    "            else:\n",
    "                maj_donor = 'unassigned'\n",
    "            free[free_col].replace({f'{i}' : f'{maj_donor}'}, inplace=True)\n",
    "    return free"
   ]
  },
  {
   "cell_type": "code",
   "execution_count": 11,
   "id": "0d3e70ff",
   "metadata": {},
   "outputs": [
    {
     "data": {
      "text/plain": [
       "(30497, 22)"
      ]
     },
     "execution_count": 11,
     "metadata": {},
     "output_type": "execute_result"
    }
   ],
   "source": [
    "### because clusters are randomized, I need to assign freemuxlet at the individual level\n",
    "demux_dir = f'{projdir}/demux/regular/demuxlet/gex/'\n",
    "indir = f'{projdir}/demux/regular/freemuxlet/gex/'\n",
    "t = samples[0]\n",
    "\n",
    "### \n",
    "tmp_demuxlet = pd.read_csv(f'{demux_dir}/{t}.best', sep='\\t', index_col=0)\n",
    "tmp_demuxlet.index = tmp_demuxlet['BARCODE']\n",
    "tmp_demuxlet.sort_index(inplace=True)\n",
    "\n",
    "freemuxlet_gex = pd.read_csv(f'{indir}/{t}.clust1.samples.gz', sep='\\t', index_col=0)\n",
    "freemuxlet_gex.index = freemuxlet_gex['BARCODE']\n",
    "freemuxlet_gex['sample'] = [t] * freemuxlet_gex.shape[0]\n",
    "freemuxlet_gex['SNG.BEST.GUESS'] = [str(x) for x in freemuxlet_gex['SNG.BEST.GUESS']]\n",
    "freemuxlet_gex.sort_index(inplace=True)\n",
    "freemuxlet_gex = map_free_to_anchor(freemuxlet_gex, tmp_demuxlet, 'SNG.BEST.GUESS', 'SNG.BEST.GUESS', clusters)\n",
    "\n",
    "for t in samples[1:]:\n",
    "    tmp_demuxlet = pd.read_csv(f'{demux_dir}/{t}.best', sep='\\t', index_col=0)\n",
    "    tmp_demuxlet.index = tmp_demuxlet['BARCODE']\n",
    "    tmp_demuxlet.sort_index(inplace=True)\n",
    "    tmp_gex = pd.read_csv(f'{indir}/{t}.clust1.samples.gz', sep='\\t', index_col=0)\n",
    "    tmp_gex.index = tmp_gex['BARCODE']\n",
    "    tmp_gex['sample'] = [t] * tmp_gex.shape[0]\n",
    "    tmp_gex['SNG.BEST.GUESS'] = [str(x) for x in tmp_gex['SNG.BEST.GUESS']]\n",
    "    tmp_gex.sort_index(inplace=True)\n",
    "\n",
    "    tmp_gex = map_free_to_anchor(tmp_gex, tmp_demuxlet, 'SNG.BEST.GUESS', 'SNG.BEST.GUESS', clusters)\n",
    "    freemuxlet_gex = pd.concat([freemuxlet_gex, tmp_gex], axis=0)\n",
    "\n",
    "freemuxlet_gex['t'] = [x for x in freemuxlet_gex['sample']]\n",
    "freemuxlet_gex['barcode'] = freemuxlet_gex['BARCODE']\n",
    "freemuxlet_gex.index = [f'{x}_{y}' for x,y in zip(freemuxlet_gex['barcode'],freemuxlet_gex['t'])]\n",
    "\n",
    "d_mask = freemuxlet_gex['DROPLET.TYPE'] == 'DBL'\n",
    "u_mask = freemuxlet_gex['DROPLET.TYPE'] == 'AMB'\n",
    "freemuxlet_gex.loc[d_mask,'SNG.BEST.GUESS'] = ['doublet'] * sum(d_mask)\n",
    "freemuxlet_gex.loc[u_mask,'SNG.BEST.GUESS'] = ['unassigned'] * sum(u_mask)\n",
    "\n",
    "freemuxlet_gex.shape"
   ]
  },
  {
   "cell_type": "code",
   "execution_count": 12,
   "id": "abe03aff",
   "metadata": {},
   "outputs": [
    {
     "data": {
      "text/plain": [
       "25_A4         10010\n",
       "27_C4          6428\n",
       "48_V3          6349\n",
       "26_A10         5385\n",
       "doublet        2186\n",
       "unassigned      139\n",
       "Name: SNG.BEST.GUESS, dtype: int64"
      ]
     },
     "execution_count": 12,
     "metadata": {},
     "output_type": "execute_result"
    }
   ],
   "source": [
    "freemuxlet_gex['SNG.BEST.GUESS'].value_counts()"
   ]
  },
  {
   "cell_type": "code",
   "execution_count": 13,
   "id": "ea6efd46",
   "metadata": {},
   "outputs": [
    {
     "name": "stdout",
     "output_type": "stream",
     "text": [
      "20220928-IGVF-D0.clust0.samples.gz  20220928-IGVF-D3.clust1.vcf.gz\r\n",
      "20220928-IGVF-D0.clust0.vcf.gz\t    20220928-IGVF-D3.lmix\r\n",
      "20220928-IGVF-D0.clust1.samples.gz  20220928-IGVF-D7.clust0.samples.gz\r\n",
      "20220928-IGVF-D0.clust1.vcf.gz\t    20220928-IGVF-D7.clust0.vcf.gz\r\n",
      "20220928-IGVF-D0.lmix\t\t    20220928-IGVF-D7.clust1.samples.gz\r\n",
      "20220928-IGVF-D3.clust0.samples.gz  20220928-IGVF-D7.clust1.vcf.gz\r\n",
      "20220928-IGVF-D3.clust0.vcf.gz\t    20220928-IGVF-D7.lmix\r\n",
      "20220928-IGVF-D3.clust1.samples.gz\r\n"
     ]
    }
   ],
   "source": [
    "!ls {indir}"
   ]
  },
  {
   "cell_type": "code",
   "execution_count": 14,
   "id": "b61b9dce",
   "metadata": {},
   "outputs": [
    {
     "data": {
      "text/plain": [
       "(30497, 22)"
      ]
     },
     "execution_count": 14,
     "metadata": {},
     "output_type": "execute_result"
    }
   ],
   "source": [
    "### because clusters are randomized, I need to assign freemuxlet at the individual level\n",
    "demux_dir = f'{projdir}/demux/regular/demuxlet/atac/'\n",
    "indir = f'{projdir}/demux/regular/freemuxlet/atac/'\n",
    "t = samples[0]\n",
    "\n",
    "### \n",
    "tmp_demuxlet = pd.read_csv(f'{demux_dir}/{t}.best', sep='\\t', index_col=0)\n",
    "tmp_demuxlet.index = tmp_demuxlet['BARCODE']\n",
    "tmp_demuxlet.sort_index(inplace=True)\n",
    "\n",
    "freemuxlet_atac = pd.read_csv(f'{indir}/{t}.clust1.samples.gz', sep='\\t', index_col=0)\n",
    "freemuxlet_atac.index = freemuxlet_atac['BARCODE']\n",
    "freemuxlet_atac['sample'] = [t] * freemuxlet_atac.shape[0]\n",
    "freemuxlet_atac['SNG.BEST.GUESS'] = [str(x) for x in freemuxlet_atac['SNG.BEST.GUESS']]\n",
    "freemuxlet_atac.sort_index(inplace=True)\n",
    "freemuxlet_atac = map_free_to_anchor(freemuxlet_atac, tmp_demuxlet, 'SNG.BEST.GUESS', 'SNG.BEST.GUESS', clusters)\n",
    "\n",
    "for t in samples[1:]:\n",
    "    tmp_demuxlet = pd.read_csv(f'{demux_dir}/{t}.best', sep='\\t', index_col=0)\n",
    "    tmp_demuxlet.index = tmp_demuxlet['BARCODE']\n",
    "    tmp_demuxlet.sort_index(inplace=True)\n",
    "    tmp_atac = pd.read_csv(f'{indir}/{t}.clust1.samples.gz', sep='\\t', index_col=0)\n",
    "    tmp_atac.index = tmp_atac['BARCODE']\n",
    "    tmp_atac['sample'] = [t] * tmp_atac.shape[0]\n",
    "    tmp_atac['SNG.BEST.GUESS'] = [str(x) for x in tmp_atac['SNG.BEST.GUESS']]\n",
    "    tmp_atac.sort_index(inplace=True)\n",
    "\n",
    "    tmp_atac = map_free_to_anchor(tmp_atac, tmp_demuxlet, 'SNG.BEST.GUESS', 'SNG.BEST.GUESS', clusters)\n",
    "    freemuxlet_atac = pd.concat([freemuxlet_atac, tmp_atac], axis=0)\n",
    "\n",
    "freemuxlet_atac['t'] = [x for x in freemuxlet_atac['sample']]\n",
    "freemuxlet_atac['barcode'] = freemuxlet_atac['BARCODE']\n",
    "freemuxlet_atac.index = [f'{x}_{y}' for x,y in zip(freemuxlet_atac['barcode'],freemuxlet_atac['t'])]\n",
    "\n",
    "d_mask = freemuxlet_atac['DROPLET.TYPE'] == 'DBL'\n",
    "u_mask = freemuxlet_atac['DROPLET.TYPE'] == 'AMB'\n",
    "freemuxlet_atac.loc[d_mask,'SNG.BEST.GUESS'] = ['doublet'] * sum(d_mask)\n",
    "freemuxlet_atac.loc[u_mask,'SNG.BEST.GUESS'] = ['unassigned'] * sum(u_mask)\n",
    "\n",
    "freemuxlet_atac.shape"
   ]
  },
  {
   "cell_type": "code",
   "execution_count": 15,
   "id": "252df2e9",
   "metadata": {},
   "outputs": [
    {
     "data": {
      "text/plain": [
       "25_A4         9882\n",
       "48_V3         7032\n",
       "27_C4         6588\n",
       "26_A10        5511\n",
       "doublet       1476\n",
       "unassigned       8\n",
       "Name: SNG.BEST.GUESS, dtype: int64"
      ]
     },
     "execution_count": 15,
     "metadata": {},
     "output_type": "execute_result"
    }
   ],
   "source": [
    "freemuxlet_atac['SNG.BEST.GUESS'].value_counts()"
   ]
  },
  {
   "cell_type": "code",
   "execution_count": 16,
   "id": "d24faf76",
   "metadata": {},
   "outputs": [
    {
     "data": {
      "text/plain": [
       "(30497, 10)"
      ]
     },
     "execution_count": 16,
     "metadata": {},
     "output_type": "execute_result"
    }
   ],
   "source": [
    "indir = f'{projdir}/demux/regular/vireo/gex/'\n",
    "t = samples[0]\n",
    "vireo_gex = pd.read_csv(f'{indir}/{t}/donor_ids.tsv', sep='\\t', index_col=0)\n",
    "vireo_gex['sample'] = [t] * vireo_gex.shape[0]\n",
    "\n",
    "for t in samples[1:]:\n",
    "    tmp = pd.read_csv(f'{indir}/{t}/donor_ids.tsv', sep='\\t', index_col=0)\n",
    "    tmp['sample'] = [t] * tmp.shape[0]\n",
    "    vireo_gex = pd.concat([vireo_gex, tmp], axis=0)\n",
    "\n",
    "vireo_gex['t'] = [x for x in vireo_gex['sample']]\n",
    "vireo_gex['barcode'] = vireo_gex.index\n",
    "vireo_gex.index = [f'{x}_{y}' for x,y in zip(vireo_gex['barcode'],vireo_gex['t'])]\n",
    "\n",
    "vireo_gex.shape"
   ]
  },
  {
   "cell_type": "code",
   "execution_count": 17,
   "id": "56a5f984",
   "metadata": {},
   "outputs": [
    {
     "data": {
      "text/plain": [
       "(30497, 10)"
      ]
     },
     "execution_count": 17,
     "metadata": {},
     "output_type": "execute_result"
    }
   ],
   "source": [
    "indir = f'{projdir}/demux/regular/vireo/atac/'\n",
    "t = samples[0]\n",
    "vireo_atac = pd.read_csv(f'{indir}/{t}/donor_ids.tsv', sep='\\t', index_col=0)\n",
    "vireo_atac['sample'] = [t] * vireo_atac.shape[0]\n",
    "\n",
    "for t in samples[1:]:\n",
    "    tmp = pd.read_csv(f'{indir}/{t}/donor_ids.tsv', sep='\\t', index_col=0)\n",
    "    tmp['sample'] = [t] * tmp.shape[0]\n",
    "    vireo_atac = pd.concat([vireo_atac, tmp], axis=0)\n",
    "\n",
    "vireo_atac['t'] = [x for x in vireo_atac['sample']]\n",
    "vireo_atac['barcode'] = vireo_atac.index\n",
    "vireo_atac.index = [f'{x}_{y}' for x,y in zip(vireo_atac['barcode'],vireo_atac['t'])]\n",
    "\n",
    "vireo_atac.shape"
   ]
  },
  {
   "cell_type": "code",
   "execution_count": 18,
   "id": "13dc9ea5",
   "metadata": {},
   "outputs": [
    {
     "data": {
      "text/plain": [
       "(30497, 10)"
      ]
     },
     "execution_count": 18,
     "metadata": {},
     "output_type": "execute_result"
    }
   ],
   "source": [
    "vireo_dir = f'{projdir}/demux/regular/vireo/gex/'\n",
    "\n",
    "indir = f'{projdir}/demux/regular/vireo_nogenos/gex/'\n",
    "t = samples[0]\n",
    "tmp_vireo = pd.read_csv(f'{vireo_dir}/{t}/donor_ids.tsv', sep='\\t', index_col=0)\n",
    "vireo_nogenos_gex = pd.read_csv(f'{indir}/{t}/donor_ids.tsv', sep='\\t', index_col=0)\n",
    "vireo_nogenos_gex['sample'] = [t] * vireo_nogenos_gex.shape[0]\n",
    "vireo_nogenos_gex['donor_id'] = [x.replace('donor', '') for x in vireo_nogenos_gex['donor_id']]\n",
    "vireo_nogenos_gex = map_free_to_anchor(vireo_nogenos_gex, tmp_vireo, 'donor_id', 'donor_id', clusters)\n",
    "\n",
    "for t in samples[1:]:\n",
    "    tmp_vireo = pd.read_csv(f'{vireo_dir}/{t}/donor_ids.tsv', sep='\\t', index_col=0)\n",
    "    tmp_gex = pd.read_csv(f'{indir}/{t}/donor_ids.tsv', sep='\\t', index_col=0)\n",
    "    tmp_gex['sample'] = [t] * tmp_gex.shape[0]\n",
    "    tmp_gex['donor_id'] = [x.replace('donor', '') for x in tmp_gex['donor_id']]\n",
    "    tmp_gex = map_free_to_anchor(tmp_gex, tmp_vireo, 'donor_id', 'donor_id', clusters)\n",
    "    vireo_nogenos_gex = pd.concat([vireo_nogenos_gex, tmp_gex], axis=0)\n",
    "\n",
    "vireo_nogenos_gex['t'] = [x for x in vireo_nogenos_gex['sample']]\n",
    "vireo_nogenos_gex['barcode'] = vireo_nogenos_gex.index\n",
    "vireo_nogenos_gex.index = [f'{x}_{y}' for x,y in zip(vireo_nogenos_gex['barcode'],vireo_nogenos_gex['t'])]\n",
    "\n",
    "vireo_nogenos_gex.shape"
   ]
  },
  {
   "cell_type": "code",
   "execution_count": 19,
   "id": "575d74ad",
   "metadata": {},
   "outputs": [
    {
     "data": {
      "text/plain": [
       "25_A4         9064\n",
       "48_V3         5025\n",
       "27_C4         4933\n",
       "26_A10        4327\n",
       "doublet       4192\n",
       "unassigned    2956\n",
       "Name: donor_id, dtype: int64"
      ]
     },
     "execution_count": 19,
     "metadata": {},
     "output_type": "execute_result"
    }
   ],
   "source": [
    "vireo_nogenos_gex['donor_id'].value_counts()"
   ]
  },
  {
   "cell_type": "code",
   "execution_count": 20,
   "id": "a7d2b276",
   "metadata": {},
   "outputs": [
    {
     "data": {
      "text/plain": [
       "(30497, 10)"
      ]
     },
     "execution_count": 20,
     "metadata": {},
     "output_type": "execute_result"
    }
   ],
   "source": [
    "vireo_dir = f'{projdir}/demux/regular/vireo/atac/'\n",
    "\n",
    "indir = f'{projdir}/demux/regular/vireo_nogenos/atac/'\n",
    "t = samples[0]\n",
    "tmp_vireo = pd.read_csv(f'{vireo_dir}/{t}/donor_ids.tsv', sep='\\t', index_col=0)\n",
    "vireo_nogenos_atac = pd.read_csv(f'{indir}/{t}/donor_ids.tsv', sep='\\t', index_col=0)\n",
    "vireo_nogenos_atac['sample'] = [t] * vireo_nogenos_atac.shape[0]\n",
    "vireo_nogenos_atac['donor_id'] = [x.replace('donor', '') for x in vireo_nogenos_atac['donor_id']]\n",
    "vireo_nogenos_atac = map_free_to_anchor(vireo_nogenos_atac, tmp_vireo, 'donor_id', 'donor_id', clusters)\n",
    "\n",
    "for t in samples[1:]:\n",
    "    tmp_vireo = pd.read_csv(f'{vireo_dir}/{t}/donor_ids.tsv', sep='\\t', index_col=0)\n",
    "    tmp_atac = pd.read_csv(f'{indir}/{t}/donor_ids.tsv', sep='\\t', index_col=0)\n",
    "    tmp_atac['sample'] = [t] * tmp_atac.shape[0]\n",
    "    tmp_atac['donor_id'] = [x.replace('donor', '') for x in tmp_atac['donor_id']]\n",
    "    tmp_atac = map_free_to_anchor(tmp_atac, tmp_vireo, 'donor_id', 'donor_id', clusters)\n",
    "    vireo_nogenos_atac = pd.concat([vireo_nogenos_atac, tmp_atac], axis=0)\n",
    "\n",
    "vireo_nogenos_atac['t'] = [x for x in vireo_nogenos_atac['sample']]\n",
    "vireo_nogenos_atac['barcode'] = vireo_nogenos_atac.index\n",
    "vireo_nogenos_atac.index = [f'{x}_{y}' for x,y in zip(vireo_nogenos_atac['barcode'],vireo_nogenos_atac['t'])]\n",
    "\n",
    "vireo_nogenos_atac.shape"
   ]
  },
  {
   "cell_type": "code",
   "execution_count": 21,
   "id": "c1c606da",
   "metadata": {},
   "outputs": [
    {
     "data": {
      "text/plain": [
       "25_A4         9019\n",
       "48_V3         6058\n",
       "27_C4         5350\n",
       "doublet       5011\n",
       "26_A10        4465\n",
       "unassigned     594\n",
       "Name: donor_id, dtype: int64"
      ]
     },
     "execution_count": 21,
     "metadata": {},
     "output_type": "execute_result"
    }
   ],
   "source": [
    "vireo_nogenos_atac['donor_id'].value_counts()"
   ]
  },
  {
   "cell_type": "code",
   "execution_count": 22,
   "id": "9752f680",
   "metadata": {},
   "outputs": [
    {
     "data": {
      "text/plain": [
       "(30497, 11)"
      ]
     },
     "execution_count": 22,
     "metadata": {},
     "output_type": "execute_result"
    }
   ],
   "source": [
    "vireo_dir = f'{projdir}/demux/regular/vireo/gex/'\n",
    "\n",
    "indir = f'{projdir}/demux/regular/souporcell/gex/'\n",
    "t = samples[0]\n",
    "tmp_vireo = pd.read_csv(f'{vireo_dir}/{t}/donor_ids.tsv', sep='\\t', index_col=0)\n",
    "souporcell_gex = pd.read_csv(f'{indir}/{t}/clusters.tsv', sep='\\t', index_col=0)\n",
    "souporcell_gex['sample'] = [t] * souporcell_gex.shape[0]\n",
    "souporcell_gex = map_free_to_anchor(souporcell_gex, tmp_vireo, 'assignment', 'donor_id', clusters)\n",
    "\n",
    "for t in samples[1:]:\n",
    "    tmp_vireo = pd.read_csv(f'{vireo_dir}/{t}/donor_ids.tsv', sep='\\t', index_col=0)\n",
    "    tmp_gex = pd.read_csv(f'{indir}/{t}/clusters.tsv', sep='\\t', index_col=0)\n",
    "    tmp_gex['sample'] = [t] * tmp_gex.shape[0]\n",
    "    tmp_gex = map_free_to_anchor(tmp_gex, tmp_vireo, 'assignment', 'donor_id', clusters)\n",
    "    souporcell_gex = pd.concat([souporcell_gex, tmp_gex], axis=0)\n",
    "\n",
    "souporcell_gex['t'] = [x for x in souporcell_gex['sample']]\n",
    "souporcell_gex['barcode'] = souporcell_gex.index\n",
    "souporcell_gex.index = [f'{x}_{y}' for x,y in zip(souporcell_gex['barcode'],souporcell_gex['t'])]\n",
    "\n",
    "d_mask = souporcell_gex['status'] == 'doublet'\n",
    "u_mask = souporcell_gex['status'] == 'unassigned'\n",
    "souporcell_gex.loc[d_mask,'assignment'] = ['doublet'] * sum(d_mask)\n",
    "souporcell_gex.loc[u_mask,'assignment'] = ['unassigned'] * sum(u_mask)\n",
    "\n",
    "souporcell_gex.shape"
   ]
  },
  {
   "cell_type": "code",
   "execution_count": 23,
   "id": "b96ed66a",
   "metadata": {},
   "outputs": [
    {
     "data": {
      "text/plain": [
       "(30497, 11)"
      ]
     },
     "execution_count": 23,
     "metadata": {},
     "output_type": "execute_result"
    }
   ],
   "source": [
    "vireo_dir = f'{projdir}/demux/regular/vireo/atac/'\n",
    "\n",
    "indir = f'{projdir}/demux/regular/souporcell/atac/'\n",
    "t = samples[0]\n",
    "tmp_vireo = pd.read_csv(f'{vireo_dir}/{t}/donor_ids.tsv', sep='\\t', index_col=0)\n",
    "souporcell_atac = pd.read_csv(f'{indir}/{t}/clusters.tsv', sep='\\t', index_col=0)\n",
    "souporcell_atac['sample'] = [t] * souporcell_atac.shape[0]\n",
    "souporcell_atac = map_free_to_anchor(souporcell_atac, tmp_vireo, 'assignment', 'donor_id', clusters)\n",
    "\n",
    "for t in samples[1:]:\n",
    "    tmp_vireo = pd.read_csv(f'{vireo_dir}/{t}/donor_ids.tsv', sep='\\t', index_col=0)\n",
    "    tmp_atac = pd.read_csv(f'{indir}/{t}/clusters.tsv', sep='\\t', index_col=0)\n",
    "    tmp_atac['sample'] = [t] * tmp_atac.shape[0]\n",
    "    tmp_atac = map_free_to_anchor(tmp_atac, tmp_vireo, 'assignment', 'donor_id', clusters)\n",
    "    souporcell_atac = pd.concat([souporcell_atac, tmp_atac], axis=0)\n",
    "\n",
    "souporcell_atac['t'] = [x for x in souporcell_atac['sample']]\n",
    "souporcell_atac['barcode'] = souporcell_atac.index\n",
    "souporcell_atac.index = [f'{x}_{y}' for x,y in zip(souporcell_atac['barcode'],souporcell_atac['t'])]\n",
    "\n",
    "d_mask = souporcell_atac['status'] == 'doublet'\n",
    "u_mask = souporcell_atac['status'] == 'unassigned'\n",
    "souporcell_atac.loc[d_mask,'assignment'] = ['doublet'] * sum(d_mask)\n",
    "souporcell_atac.loc[u_mask,'assignment'] = ['unassigned'] * sum(u_mask)\n",
    "\n",
    "souporcell_atac.shape"
   ]
  },
  {
   "cell_type": "code",
   "execution_count": 24,
   "id": "349cbe26",
   "metadata": {
    "scrolled": true
   },
   "outputs": [
    {
     "data": {
      "text/plain": [
       "(30497, 11)"
      ]
     },
     "execution_count": 24,
     "metadata": {},
     "output_type": "execute_result"
    }
   ],
   "source": [
    "vireo_dir = f'{projdir}/demux/regular/vireo/gex/'\n",
    "\n",
    "indir = f'{projdir}/demux/regular/souporcell_nogenos/gex/'\n",
    "t = samples[0]\n",
    "tmp_vireo = pd.read_csv(f'{vireo_dir}/{t}/donor_ids.tsv', sep='\\t', index_col=0)\n",
    "souporcell_nogenos_gex = pd.read_csv(f'{indir}/{t}/clusters.tsv', sep='\\t', index_col=0)\n",
    "souporcell_nogenos_gex['sample'] = [t] * souporcell_nogenos_gex.shape[0]\n",
    "souporcell_nogenos_gex = map_free_to_anchor(souporcell_nogenos_gex, tmp_vireo, 'assignment', 'donor_id', clusters)\n",
    "\n",
    "for t in samples[1:]:\n",
    "    tmp_vireo = pd.read_csv(f'{vireo_dir}/{t}/donor_ids.tsv', sep='\\t', index_col=0)\n",
    "    tmp_gex = pd.read_csv(f'{indir}/{t}/clusters.tsv', sep='\\t', index_col=0)\n",
    "    tmp_gex['sample'] = [t] * tmp_gex.shape[0]\n",
    "    tmp_gex = map_free_to_anchor(tmp_gex, tmp_vireo, 'assignment', 'donor_id', clusters)\n",
    "    souporcell_nogenos_gex = pd.concat([souporcell_nogenos_gex, tmp_gex], axis=0)\n",
    "\n",
    "souporcell_nogenos_gex['t'] = [x for x in souporcell_nogenos_gex['sample']]\n",
    "souporcell_nogenos_gex['barcode'] = souporcell_nogenos_gex.index\n",
    "souporcell_nogenos_gex.index = [f'{x}_{y}' for x,y in zip(souporcell_nogenos_gex['barcode'],souporcell_nogenos_gex['t'])]\n",
    "\n",
    "d_mask = souporcell_nogenos_gex['status'] == 'doublet'\n",
    "u_mask = souporcell_nogenos_gex['status'] == 'unassigned'\n",
    "souporcell_nogenos_gex.loc[d_mask,'assignment'] = ['doublet'] * sum(d_mask)\n",
    "souporcell_nogenos_gex.loc[u_mask,'assignment'] = ['unassigned'] * sum(u_mask)\n",
    "\n",
    "souporcell_nogenos_gex.shape"
   ]
  },
  {
   "cell_type": "code",
   "execution_count": 25,
   "id": "714b8523",
   "metadata": {
    "scrolled": true
   },
   "outputs": [
    {
     "data": {
      "text/plain": [
       "25_A4         9509\n",
       "26_A10        5107\n",
       "27_C4         5026\n",
       "doublet       4854\n",
       "48_V3         4496\n",
       "unassigned    1505\n",
       "Name: assignment, dtype: int64"
      ]
     },
     "execution_count": 25,
     "metadata": {},
     "output_type": "execute_result"
    }
   ],
   "source": [
    "souporcell_gex['assignment'].value_counts()"
   ]
  },
  {
   "cell_type": "code",
   "execution_count": 26,
   "id": "4aa0b985",
   "metadata": {},
   "outputs": [
    {
     "data": {
      "text/plain": [
       "(30497, 11)"
      ]
     },
     "execution_count": 26,
     "metadata": {},
     "output_type": "execute_result"
    }
   ],
   "source": [
    "vireo_dir = f'{projdir}/demux/regular/vireo/atac/'\n",
    "\n",
    "indir = f'{projdir}/demux/regular/souporcell_nogenos/atac/'\n",
    "t = samples[0]\n",
    "tmp_vireo = pd.read_csv(f'{vireo_dir}/{t}/donor_ids.tsv', sep='\\t', index_col=0)\n",
    "souporcell_nogenos_atac = pd.read_csv(f'{indir}/{t}/clusters.tsv', sep='\\t', index_col=0)\n",
    "souporcell_nogenos_atac['sample'] = [t] * souporcell_nogenos_atac.shape[0]\n",
    "souporcell_nogenos_atac = map_free_to_anchor(souporcell_nogenos_atac, tmp_vireo, 'assignment', 'donor_id', clusters)\n",
    "\n",
    "for t in samples[1:]:\n",
    "    tmp_vireo = pd.read_csv(f'{vireo_dir}/{t}/donor_ids.tsv', sep='\\t', index_col=0)\n",
    "    tmp_atac = pd.read_csv(f'{indir}/{t}/clusters.tsv', sep='\\t', index_col=0)\n",
    "    tmp_atac['sample'] = [t] * tmp_atac.shape[0]\n",
    "    tmp_atac = map_free_to_anchor(tmp_atac, tmp_vireo, 'assignment', 'donor_id', clusters)\n",
    "    souporcell_nogenos_atac = pd.concat([souporcell_nogenos_atac, tmp_atac], axis=0)\n",
    "\n",
    "souporcell_nogenos_atac['t'] = [x for x in souporcell_nogenos_atac['sample']]\n",
    "souporcell_nogenos_atac['barcode'] = souporcell_nogenos_atac.index\n",
    "souporcell_nogenos_atac.index = [f'{x}_{y}' for x,y in zip(souporcell_nogenos_atac['barcode'],souporcell_nogenos_atac['t'])]\n",
    "\n",
    "d_mask = souporcell_nogenos_atac['status'] == 'doublet'\n",
    "u_mask = souporcell_nogenos_atac['status'] == 'unassigned'\n",
    "souporcell_nogenos_atac.loc[d_mask,'assignment'] = ['doublet'] * sum(d_mask)\n",
    "souporcell_nogenos_atac.loc[u_mask,'assignment'] = ['unassigned'] * sum(u_mask)\n",
    "\n",
    "souporcell_nogenos_atac.shape"
   ]
  },
  {
   "cell_type": "code",
   "execution_count": 27,
   "id": "360812a5",
   "metadata": {},
   "outputs": [
    {
     "data": {
      "text/plain": [
       "25_A4         9031\n",
       "48_V3         5939\n",
       "27_C4         5534\n",
       "26_A10        5104\n",
       "doublet       4723\n",
       "unassigned     166\n",
       "Name: assignment, dtype: int64"
      ]
     },
     "execution_count": 27,
     "metadata": {},
     "output_type": "execute_result"
    }
   ],
   "source": [
    "souporcell_atac['assignment'].value_counts()"
   ]
  },
  {
   "cell_type": "code",
   "execution_count": 28,
   "id": "53ad42fe",
   "metadata": {},
   "outputs": [
    {
     "data": {
      "text/plain": [
       "(30497, 14)"
      ]
     },
     "execution_count": 28,
     "metadata": {},
     "output_type": "execute_result"
    }
   ],
   "source": [
    "indir = f'{projdir}/demux/regular/demuxalot/gex'\n",
    "t = samples[0]\n",
    "demuxalot_gex = pd.read_csv(f'{indir}/{t}/{t}_posteriors.csv', comment='#', sep='\\t', index_col=0)\n",
    "demuxalot_gex[f'assignment'] = demuxalot_gex.idxmax(axis=1)\n",
    "demuxalot_gex['doublet_status'] = ['+' in x for x in demuxalot_gex[f'assignment']]\n",
    "mask = demuxalot_gex['doublet_status']\n",
    "demuxalot_gex.loc[mask,f'assignment'] = 'doublet'\n",
    "demuxalot_gex['sample'] = [t] * demuxalot_gex.shape[0]\n",
    "\n",
    "for t in samples[1:]:\n",
    "    tmp = pd.read_csv(f'{indir}/{t}/{t}_posteriors.csv', comment='#', sep='\\t', index_col=0)\n",
    "    tmp[f'assignment'] = tmp.idxmax(axis=1)\n",
    "    tmp['doublet_status'] = ['+' in x for x in tmp[f'assignment']]\n",
    "    mask = tmp['doublet_status']\n",
    "    tmp.loc[mask,f'assignment'] = 'doublet'\n",
    "    tmp['sample'] = [t] * tmp.shape[0]\n",
    "    demuxalot_gex = pd.concat([demuxalot_gex, tmp], axis=0)\n",
    "\n",
    "demuxalot_gex['barcode'] = demuxalot_gex.index\n",
    "demuxalot_gex.index = [f'{x}_{y}' for x,y in zip(demuxalot_gex['barcode'],demuxalot_gex['sample'])]\n",
    "    \n",
    "demuxalot_gex.shape    "
   ]
  },
  {
   "cell_type": "code",
   "execution_count": 29,
   "id": "fbe75e44",
   "metadata": {},
   "outputs": [
    {
     "name": "stdout",
     "output_type": "stream",
     "text": [
      "scSplit.log  scSplit_P_s_c.csv\tscSplit_result.csv\r\n"
     ]
    }
   ],
   "source": [
    "!ls {projdir}/demux/regular/scsplit/gex/*-D0/out"
   ]
  },
  {
   "cell_type": "code",
   "execution_count": 125,
   "id": "95d335fd",
   "metadata": {},
   "outputs": [
    {
     "name": "stdout",
     "output_type": "stream",
     "text": [
      "20220928-IGVF-D3\n"
     ]
    },
    {
     "data": {
      "text/plain": [
       "(30497, 2)"
      ]
     },
     "execution_count": 125,
     "metadata": {},
     "output_type": "execute_result"
    }
   ],
   "source": [
    "vireo_dir = f'{projdir}/demux/regular/vireo/gex'\n",
    "indir = f'{projdir}/demux/regular/scsplit/gex'\n",
    "\n",
    "t = samples[0]\n",
    "tmp_vireo = pd.read_csv(f'{vireo_dir}/{t}/donor_ids.tsv', sep='\\t', index_col=0)\n",
    "barcodes = pd.read_csv(f'{indir}/{t}/out/scSplit_P_s_c.csv', sep=',', header=0, index_col=0).index\n",
    "scsplit_gex = pd.DataFrame(index=barcodes)\n",
    "scsplit_gex['donor_id'] = 'unassigned'\n",
    "\n",
    "results = pd.read_csv(f'{indir}/{t}/out/scSplit_result.csv', comment='#', sep='\\t', index_col=0)\n",
    "b_mask = scsplit_gex.index.isin(results.index)\n",
    "scsplit_gex.loc[b_mask,'donor_id'] = results['Cluster']\n",
    "scsplit_gex['donor_id'] = [str(x).replace('SNG-', '') for x in scsplit_gex['donor_id']]\n",
    "d_mask = ['DBL' in x for x in scsplit_gex['donor_id']]\n",
    "scsplit_gex.loc[d_mask,'donor_id'] = 'doublet'\n",
    "scsplit_gex = map_free_to_anchor(scsplit_gex, tmp_vireo, 'donor_id', 'donor_id', clusters+1)\n",
    "scsplit_gex['t'] = t\n",
    "\n",
    "for t in samples[1:]:\n",
    "    print(t)\n",
    "    tmp_vireo = pd.read_csv(f'{vireo_dir}/{t}/donor_ids.tsv', sep='\\t', index_col=0)\n",
    "    barcodes = pd.read_csv(f'{indir}/{t}/out/scSplit_P_s_c.csv', sep=',', header=0, index_col=0).index\n",
    "    tmp_scsplit = pd.DataFrame(index=barcodes)\n",
    "    tmp_scsplit['donor_id'] = 'unassigned'\n",
    "\n",
    "    results = pd.read_csv(f'{indir}/{t}/out/scSplit_result.csv', comment='#', sep='\\t', index_col=0)\n",
    "    b_mask = tmp_scsplit.index.isin(results.index)\n",
    "    \n",
    "    tmp_scsplit.loc[b_mask,'donor_id'] = results['Cluster']\n",
    "    tmp_scsplit['donor_id'] = [str(x).replace('SNG-', '') for x in tmp_scsplit['donor_id']]\n",
    "    d_mask = ['DBL' in x for x in tmp_scsplit['donor_id']]\n",
    "    tmp_scsplit.loc[d_mask,'donor_id'] = 'doublet'\n",
    "    tmp_scsplit = map_free_to_anchor(tmp_scsplit, tmp_vireo, 'donor_id', 'donor_id', clusters+1)\n",
    "    tmp_scsplit['t'] = t\n",
    "\n",
    "    scsplit_gex = pd.concat([scsplit_gex, tmp_scsplit], axis=0)\n",
    "    \n",
    "scsplit_gex.index = [f'{x}_{y}' for x,y in zip(scsplit_gex.index,scsplit_gex['t'])]\n",
    "scsplit_gex.shape\n",
    "\n",
    "# tmp_scsplit_gex = vireo_gex.copy()\n",
    "# ### randomly change 10% of it idk lol\n",
    "# tmp_scsplit_gex."
   ]
  },
  {
   "cell_type": "code",
   "execution_count": 126,
   "id": "622d3aeb",
   "metadata": {},
   "outputs": [
    {
     "data": {
      "text/plain": [
       "(21010, 2)"
      ]
     },
     "execution_count": 126,
     "metadata": {},
     "output_type": "execute_result"
    }
   ],
   "source": [
    "tmp_scsplit.shape"
   ]
  },
  {
   "cell_type": "code",
   "execution_count": 127,
   "id": "796d6397",
   "metadata": {},
   "outputs": [
    {
     "data": {
      "text/html": [
       "<div>\n",
       "<style scoped>\n",
       "    .dataframe tbody tr th:only-of-type {\n",
       "        vertical-align: middle;\n",
       "    }\n",
       "\n",
       "    .dataframe tbody tr th {\n",
       "        vertical-align: top;\n",
       "    }\n",
       "\n",
       "    .dataframe thead th {\n",
       "        text-align: right;\n",
       "    }\n",
       "</style>\n",
       "<table border=\"1\" class=\"dataframe\">\n",
       "  <thead>\n",
       "    <tr style=\"text-align: right;\">\n",
       "      <th></th>\n",
       "      <th>donor_id</th>\n",
       "      <th>t</th>\n",
       "    </tr>\n",
       "  </thead>\n",
       "  <tbody>\n",
       "    <tr>\n",
       "      <th>AAACAGCCAAAGGCCA-1</th>\n",
       "      <td>27_C4</td>\n",
       "      <td>20220928-IGVF-D3</td>\n",
       "    </tr>\n",
       "    <tr>\n",
       "      <th>AAACAGCCAACATAAG-1</th>\n",
       "      <td>25_A4</td>\n",
       "      <td>20220928-IGVF-D3</td>\n",
       "    </tr>\n",
       "    <tr>\n",
       "      <th>AAACAGCCAATTAGGA-1</th>\n",
       "      <td>48_V3</td>\n",
       "      <td>20220928-IGVF-D3</td>\n",
       "    </tr>\n",
       "    <tr>\n",
       "      <th>AAACAGCCACCCACAG-1</th>\n",
       "      <td>26_A10</td>\n",
       "      <td>20220928-IGVF-D3</td>\n",
       "    </tr>\n",
       "    <tr>\n",
       "      <th>AAACAGCCAGCAATAA-1</th>\n",
       "      <td>25_A4</td>\n",
       "      <td>20220928-IGVF-D3</td>\n",
       "    </tr>\n",
       "    <tr>\n",
       "      <th>...</th>\n",
       "      <td>...</td>\n",
       "      <td>...</td>\n",
       "    </tr>\n",
       "    <tr>\n",
       "      <th>TTTGTTGGTTCCAGGG-1</th>\n",
       "      <td>26_A10</td>\n",
       "      <td>20220928-IGVF-D3</td>\n",
       "    </tr>\n",
       "    <tr>\n",
       "      <th>TTTGTTGGTTCCTGTG-1</th>\n",
       "      <td>25_A4</td>\n",
       "      <td>20220928-IGVF-D3</td>\n",
       "    </tr>\n",
       "    <tr>\n",
       "      <th>TTTGTTGGTTGCCTCA-1</th>\n",
       "      <td>25_A4</td>\n",
       "      <td>20220928-IGVF-D3</td>\n",
       "    </tr>\n",
       "    <tr>\n",
       "      <th>TTTGTTGGTTGGATAT-1</th>\n",
       "      <td>25_A4</td>\n",
       "      <td>20220928-IGVF-D3</td>\n",
       "    </tr>\n",
       "    <tr>\n",
       "      <th>TTTGTTGGTTTGACCT-1</th>\n",
       "      <td>26_A10</td>\n",
       "      <td>20220928-IGVF-D3</td>\n",
       "    </tr>\n",
       "  </tbody>\n",
       "</table>\n",
       "<p>21010 rows × 2 columns</p>\n",
       "</div>"
      ],
      "text/plain": [
       "                   donor_id                 t\n",
       "AAACAGCCAAAGGCCA-1    27_C4  20220928-IGVF-D3\n",
       "AAACAGCCAACATAAG-1    25_A4  20220928-IGVF-D3\n",
       "AAACAGCCAATTAGGA-1    48_V3  20220928-IGVF-D3\n",
       "AAACAGCCACCCACAG-1   26_A10  20220928-IGVF-D3\n",
       "AAACAGCCAGCAATAA-1    25_A4  20220928-IGVF-D3\n",
       "...                     ...               ...\n",
       "TTTGTTGGTTCCAGGG-1   26_A10  20220928-IGVF-D3\n",
       "TTTGTTGGTTCCTGTG-1    25_A4  20220928-IGVF-D3\n",
       "TTTGTTGGTTGCCTCA-1    25_A4  20220928-IGVF-D3\n",
       "TTTGTTGGTTGGATAT-1    25_A4  20220928-IGVF-D3\n",
       "TTTGTTGGTTTGACCT-1   26_A10  20220928-IGVF-D3\n",
       "\n",
       "[21010 rows x 2 columns]"
      ]
     },
     "execution_count": 127,
     "metadata": {},
     "output_type": "execute_result"
    }
   ],
   "source": [
    "tmp_scsplit"
   ]
  },
  {
   "cell_type": "code",
   "execution_count": 128,
   "id": "0a680b9e",
   "metadata": {},
   "outputs": [
    {
     "name": "stdout",
     "output_type": "stream",
     "text": [
      "20220928-IGVF-D3\n"
     ]
    },
    {
     "data": {
      "text/plain": [
       "(30497, 2)"
      ]
     },
     "execution_count": 128,
     "metadata": {},
     "output_type": "execute_result"
    }
   ],
   "source": [
    "vireo_dir = f'{projdir}/demux/regular/vireo/atac'\n",
    "indir = f'{projdir}/demux/regular/scsplit/atac'\n",
    "\n",
    "t = samples[0]\n",
    "tmp_vireo = pd.read_csv(f'{vireo_dir}/{t}/donor_ids.tsv', sep='\\t', index_col=0)\n",
    "barcodes = pd.read_csv(f'{indir}/{t}/out/scSplit_P_s_c.csv', sep=',', header=0, index_col=0).index\n",
    "scsplit_atac = pd.DataFrame(index=barcodes)\n",
    "scsplit_atac['donor_id'] = 'unassigned'\n",
    "\n",
    "results = pd.read_csv(f'{indir}/{t}/out/scSplit_result.csv', comment='#', sep='\\t', index_col=0)\n",
    "b_mask = scsplit_atac.index.isin(results.index)\n",
    "scsplit_atac.loc[b_mask,'donor_id'] = results['Cluster']\n",
    "scsplit_atac['donor_id'] = [str(x).replace('SNG-', '') for x in scsplit_atac['donor_id']]\n",
    "d_mask = ['DBL' in x for x in scsplit_atac['donor_id']]\n",
    "scsplit_atac.loc[d_mask,'donor_id'] = 'doublet'\n",
    "scsplit_atac = map_free_to_anchor(scsplit_atac, tmp_vireo, 'donor_id', 'donor_id', clusters+1)\n",
    "scsplit_atac['t'] = t\n",
    "\n",
    "for t in samples[1:]:\n",
    "    print(t)\n",
    "    tmp_vireo = pd.read_csv(f'{vireo_dir}/{t}/donor_ids.tsv', sep='\\t', index_col=0)\n",
    "    barcodes = pd.read_csv(f'{indir}/{t}/out/scSplit_P_s_c.csv', sep=',', header=0, index_col=0).index\n",
    "    tmp_scsplit = pd.DataFrame(index=barcodes)\n",
    "    tmp_scsplit['donor_id'] = 'unassigned'\n",
    "\n",
    "    results = pd.read_csv(f'{indir}/{t}/out/scSplit_result.csv', comment='#', sep='\\t', index_col=0)\n",
    "    b_mask = tmp_scsplit.index.isin(results.index)\n",
    "    tmp_scsplit.loc[b_mask,'donor_id'] = results['Cluster']\n",
    "    tmp_scsplit['donor_id'] = [str(x).replace('SNG-', '') for x in tmp_scsplit['donor_id']]\n",
    "    d_mask = ['DBL' in x for x in tmp_scsplit['donor_id']]\n",
    "    tmp_scsplit.loc[d_mask,'donor_id'] = 'doublet'\n",
    "    tmp_scsplit = map_free_to_anchor(tmp_scsplit, tmp_vireo, 'donor_id', 'donor_id', clusters+1)\n",
    "    tmp_scsplit['t'] = t\n",
    "    \n",
    "    scsplit_atac = pd.concat([scsplit_atac, tmp_scsplit], axis=0)\n",
    "\n",
    "    \n",
    "scsplit_atac.index = [f'{x}_{y}' for x,y in zip(scsplit_atac.index,scsplit_atac['t'])]\n",
    "scsplit_atac.shape\n",
    "\n",
    "# tmp_scsplit_atac = vireo_atac.copy()\n",
    "# ### randomly change 10% of it idk lol\n",
    "# tmp_scsplit_atac."
   ]
  },
  {
   "cell_type": "code",
   "execution_count": 129,
   "id": "2ab16e09",
   "metadata": {},
   "outputs": [
    {
     "name": "stdout",
     "output_type": "stream",
     "text": [
      "20220928-IGVF-D3.filtered.vcf\t      20220928-IGVF-D3.vcf  varcon_cellsnp\r\n",
      "20220928-IGVF-D3.filtered.vcf.gz      cellsnp\r\n",
      "20220928-IGVF-D3.filtered.vcf.gz.tbi  out\r\n"
     ]
    }
   ],
   "source": [
    "!ls {indir}/{t}/"
   ]
  },
  {
   "cell_type": "code",
   "execution_count": 130,
   "id": "1040faf1",
   "metadata": {},
   "outputs": [
    {
     "name": "stdout",
     "output_type": "stream",
     "text": [
      "20220928-IGVF-D3\n"
     ]
    },
    {
     "data": {
      "text/plain": [
       "30497"
      ]
     },
     "execution_count": 130,
     "metadata": {},
     "output_type": "execute_result"
    }
   ],
   "source": [
    "vireo_dir = f'{projdir}/demux/regular/vireo/gex'\n",
    "indir = f'{projdir}/demux/regular/scsplit_nogenos/gex/'\n",
    "\n",
    "t = samples[0]\n",
    "tmp_vireo = pd.read_csv(f'{vireo_dir}/{t}/donor_ids.tsv', sep='\\t', index_col=0)\n",
    "barcodes = pd.read_csv(f'{indir}/{t}/scSplit_P_s_c.csv', sep=',', header=0, index_col=0).index\n",
    "scsplit_nogenos_gex = pd.DataFrame(index=barcodes)\n",
    "scsplit_nogenos_gex['donor_id'] = 'unassigned'\n",
    "\n",
    "results = pd.read_csv(f'{indir}/{t}/scSplit_result.csv', comment='#', sep='\\t', index_col=0)\n",
    "b_mask = scsplit_nogenos_gex.index.isin(results.index)\n",
    "scsplit_nogenos_gex.loc[b_mask,'donor_id'] = results['Cluster']\n",
    "scsplit_nogenos_gex['donor_id'] = [str(x).replace('SNG-', '') for x in scsplit_nogenos_gex['donor_id']]\n",
    "d_mask = ['DBL' in x for x in scsplit_nogenos_gex['donor_id']]\n",
    "scsplit_nogenos_gex.loc[d_mask,'donor_id'] = 'doublet'\n",
    "scsplit_nogenos_gex = map_free_to_anchor(scsplit_nogenos_gex, tmp_vireo, 'donor_id', 'donor_id', clusters+1)\n",
    "scsplit_nogenos_gex['t'] = t\n",
    "\n",
    "for t in samples[1:]:\n",
    "    print(t)\n",
    "    tmp_vireo = pd.read_csv(f'{vireo_dir}/{t}/donor_ids.tsv', sep='\\t', index_col=0)\n",
    "    barcodes = pd.read_csv(f'{indir}/{t}/scSplit_P_s_c.csv', sep=',', header=0, index_col=0).index\n",
    "    tmp_scsplit_nogenos = pd.DataFrame(index=barcodes)\n",
    "    tmp_scsplit_nogenos['donor_id'] = 'unassigned'\n",
    "\n",
    "    results = pd.read_csv(f'{indir}/{t}/scSplit_result.csv', comment='#', sep='\\t', index_col=0)\n",
    "    b_mask = tmp_scsplit_nogenos.index.isin(results.index)\n",
    "    tmp_scsplit_nogenos.loc[b_mask,'donor_id'] = results['Cluster']\n",
    "    tmp_scsplit_nogenos['donor_id'] = [str(x).replace('SNG-', '') for x in tmp_scsplit_nogenos['donor_id']]\n",
    "    d_mask = ['DBL' in x for x in tmp_scsplit_nogenos['donor_id']]\n",
    "    tmp_scsplit_nogenos.loc[d_mask,'donor_id'] = 'doublet'\n",
    "    tmp_scsplit_nogenos = map_free_to_anchor(tmp_scsplit_nogenos, tmp_vireo, 'donor_id', 'donor_id', clusters+1)\n",
    "    tmp_scsplit_nogenos['t'] = t\n",
    "    \n",
    "    scsplit_nogenos_gex = pd.concat([scsplit_nogenos_gex, tmp_scsplit_nogenos], axis=0)\n",
    "\n",
    "\n",
    "scsplit_nogenos_gex.index = [f'{x}_{y}' for x,y in zip(scsplit_nogenos_gex.index,scsplit_nogenos_gex['t'])]\n",
    "scsplit_nogenos_gex.shape[0]"
   ]
  },
  {
   "cell_type": "code",
   "execution_count": 131,
   "id": "c8d783b2",
   "metadata": {},
   "outputs": [
    {
     "name": "stdout",
     "output_type": "stream",
     "text": [
      "20220928-IGVF-D3\n"
     ]
    },
    {
     "data": {
      "text/plain": [
       "30497"
      ]
     },
     "execution_count": 131,
     "metadata": {},
     "output_type": "execute_result"
    }
   ],
   "source": [
    "vireo_dir = f'{projdir}/demux/regular/vireo/atac'\n",
    "indir = f'{projdir}/demux/regular/scsplit_nogenos/atac/'\n",
    "\n",
    "t = samples[0]\n",
    "tmp_vireo = pd.read_csv(f'{vireo_dir}/{t}/donor_ids.tsv', sep='\\t', index_col=0)\n",
    "barcodes = pd.read_csv(f'{indir}/{t}/scSplit_P_s_c.csv', sep=',', header=0, index_col=0).index\n",
    "scsplit_nogenos_atac = pd.DataFrame(index=barcodes)\n",
    "scsplit_nogenos_atac['donor_id'] = 'unassigned'\n",
    "\n",
    "results = pd.read_csv(f'{indir}/{t}/scSplit_result.csv', comment='#', sep='\\t', index_col=0)\n",
    "b_mask = scsplit_nogenos_atac.index.isin(results.index)\n",
    "scsplit_nogenos_atac.loc[b_mask,'donor_id'] = results['Cluster']\n",
    "scsplit_nogenos_atac['donor_id'] = [str(x).replace('SNG-', '') for x in scsplit_nogenos_atac['donor_id']]\n",
    "d_mask = ['DBL' in x for x in scsplit_nogenos_atac['donor_id']]\n",
    "scsplit_nogenos_atac.loc[d_mask,'donor_id'] = 'doublet'\n",
    "scsplit_nogenos_atac = map_free_to_anchor(scsplit_nogenos_atac, tmp_vireo, 'donor_id', 'donor_id', clusters+1)\n",
    "scsplit_nogenos_atac['t'] = t\n",
    "\n",
    "for t in samples[1:]:\n",
    "    print(t)\n",
    "    tmp_vireo = pd.read_csv(f'{vireo_dir}/{t}/donor_ids.tsv', sep='\\t', index_col=0)\n",
    "    barcodes = pd.read_csv(f'{indir}/{t}/scSplit_P_s_c.csv', sep=',', header=0, index_col=0).index\n",
    "    tmp_scsplit_nogenos = pd.DataFrame(index=barcodes)\n",
    "    tmp_scsplit_nogenos['donor_id'] = 'unassigned'\n",
    "\n",
    "    results = pd.read_csv(f'{indir}/{t}/scSplit_result.csv', comment='#', sep='\\t', index_col=0)\n",
    "    b_mask = tmp_scsplit_nogenos.index.isin(results.index)\n",
    "    tmp_scsplit_nogenos.loc[b_mask,'donor_id'] = results['Cluster']\n",
    "    tmp_scsplit_nogenos['donor_id'] = [str(x).replace('SNG-', '') for x in tmp_scsplit_nogenos['donor_id']]\n",
    "    d_mask = ['DBL' in x for x in tmp_scsplit_nogenos['donor_id']]\n",
    "    tmp_scsplit_nogenos.loc[d_mask,'donor_id'] = 'doublet'\n",
    "    tmp_scsplit_nogenos = map_free_to_anchor(tmp_scsplit_nogenos, tmp_vireo, 'donor_id', 'donor_id', clusters+1)\n",
    "    tmp_scsplit_nogenos['t'] = t\n",
    "    \n",
    "    scsplit_nogenos_atac = pd.concat([scsplit_nogenos_atac, tmp_scsplit_nogenos], axis=0)\n",
    "\n",
    "\n",
    "scsplit_nogenos_atac.index = [f'{x}_{y}' for x,y in zip(scsplit_nogenos_atac.index,scsplit_nogenos_atac['t'])]\n",
    "scsplit_nogenos_atac.shape[0]"
   ]
  },
  {
   "cell_type": "code",
   "execution_count": 135,
   "id": "debc27d0",
   "metadata": {},
   "outputs": [
    {
     "data": {
      "text/plain": [
       "(25_A4         9386\n",
       " 48_V3         6234\n",
       " 26_A10        5239\n",
       " 27_C4         5102\n",
       " doublet       2825\n",
       " unassigned    1711\n",
       " Name: donor_id, dtype: int64,\n",
       " 25_A4         8630\n",
       " 48_V3         5630\n",
       " 27_C4         4942\n",
       " doublet       4925\n",
       " unassigned    3187\n",
       " 26_A10        3183\n",
       " Name: donor_id, dtype: int64,\n",
       " 25_A4         9119\n",
       " 27_C4         5900\n",
       " 26_A10        5321\n",
       " doublet       5225\n",
       " 48_V3         3230\n",
       " unassigned    1702\n",
       " Name: donor_id, dtype: int64,\n",
       " 25_A4         9282\n",
       " 48_V3         7258\n",
       " 27_C4         6567\n",
       " 26_A10        5101\n",
       " doublet       2103\n",
       " unassigned     186\n",
       " Name: donor_id, dtype: int64)"
      ]
     },
     "execution_count": 135,
     "metadata": {},
     "output_type": "execute_result"
    }
   ],
   "source": [
    "scsplit_gex['donor_id'].value_counts(), \\\n",
    "scsplit_atac['donor_id'].value_counts(), \\\n",
    "scsplit_nogenos_gex['donor_id'].value_counts(), \\\n",
    "scsplit_nogenos_atac['donor_id'].value_counts()"
   ]
  },
  {
   "cell_type": "code",
   "execution_count": 136,
   "id": "3cabb18b",
   "metadata": {},
   "outputs": [],
   "source": [
    "### no idea what happened\n",
    "# vireo_dir = f'{projdir}/demux/regular/vireo/atac/'\n",
    "\n",
    "# indir = f'{projdir}/demux/regular/scavengers/atac/'\n",
    "# t = samples[0]\n",
    "# tmp_vireo = pd.read_csv(f'{vireo_dir}/{t}/donor_ids.tsv', sep='\\t', index_col=0)\n",
    "# scavengers_atac = pd.read_csv(f'{indir}/{t}/clusters.final.tsv', sep='\\t')\n",
    "# scavengers_atac['assignment'] = scavengers_atac['barcode']\n",
    "# scavengers_atac['barcode'] = [x[0] for x in scavengers_atac.index]\n",
    "# scavengers_atac['status'] = [x[1] for x in scavengers_atac.index]\n",
    "# scavengers_atac.index = scavengers_atac['barcode']\n",
    "\n",
    "# d_mask = scavengers_atac['status'] == 'doublet'\n",
    "# u_mask = scavengers_atac['status'] == 'unassigned'\n",
    "# scavengers_atac.loc[d_mask,'assignment'] = ['doublet'] * sum(d_mask)\n",
    "# scavengers_atac.loc[u_mask,'assignment'] = ['unassigned'] * sum(u_mask)\n",
    "# scavengers_atac['sample'] = t\n",
    "# scavengers_atac = map_free_to_anchor(scavengers_atac, tmp_vireo, 'assignment', 'donor_id', clusters)\n",
    "\n",
    "# for t in samples[1:]:\n",
    "#     tmp_vireo = pd.read_csv(f'{vireo_dir}/{t}/donor_ids.tsv', sep='\\t', index_col=0)\n",
    "#     tmp_atac = pd.read_csv(f'{indir}/{t}/clusters.final.tsv', sep='\\t')\n",
    "#     tmp_atac['assignment'] = tmp_atac['barcode']\n",
    "#     tmp_atac['barcode'] = [x[0] for x in tmp_atac.index]\n",
    "#     tmp_atac['status'] = [x[1] for x in tmp_atac.index]\n",
    "#     tmp_atac.index = tmp_atac['barcode']\n",
    "#     tmp_atac['t'] = t\n",
    "\n",
    "#     d_mask = tmp_atac['status'] == 'doublet'\n",
    "#     u_mask = tmp_atac['status'] == 'unassigned'\n",
    "#     tmp_atac.loc[d_mask,'assignment'] = ['doublet'] * sum(d_mask)\n",
    "#     tmp_atac.loc[u_mask,'assignment'] = ['unassigned'] * sum(u_mask)\n",
    "#     tmp_atac = map_free_to_anchor(tmp_atac, tmp_vireo, 'assignment', 'donor_id', clusters)\n",
    "    \n",
    "#     tmp_atac['sample'] = t\n",
    "#     scavengers_atac = pd.concat([scavengers_atac, tmp_atac], axis=0)\n",
    "\n",
    "# scavengers_atac['t'] = [x for x in scavengers_atac['sample']]\n",
    "# scavengers_atac['barcode'] = scavengers_atac.index\n",
    "# scavengers_atac.index = [f'{x}_{y}' for x,y in zip(scavengers_atac['barcode'],scavengers_atac['t'])]\n",
    "\n",
    "# d_mask = scavengers_atac['status'] == 'doublet'\n",
    "# u_mask = scavengers_atac['status'] == 'unassigned'\n",
    "# scavengers_atac.loc[d_mask,'assignment'] = ['doublet'] * sum(d_mask)\n",
    "# scavengers_atac.loc[u_mask,'assignment'] = ['unassigned'] * sum(u_mask)\n",
    "\n",
    "# scavengers_atac.shape"
   ]
  },
  {
   "cell_type": "code",
   "execution_count": 137,
   "id": "b6b7d393",
   "metadata": {},
   "outputs": [
    {
     "data": {
      "text/plain": [
       "(30497, 11)"
      ]
     },
     "execution_count": 137,
     "metadata": {},
     "output_type": "execute_result"
    }
   ],
   "source": [
    "scavengers_atac = pd.read_csv(f'{projdir}/csv/demux/atac/scavengers.csv', sep='\\t', header=0, index_col=0)\n",
    "scavengers_atac.shape"
   ]
  },
  {
   "cell_type": "code",
   "execution_count": 138,
   "id": "98edee66",
   "metadata": {},
   "outputs": [],
   "source": [
    "demuxlet_gex.to_csv(f'{projdir}/csv/demux/gex/demuxlet.csv', sep='\\t', header=True, index=True)\n",
    "freemuxlet_gex.to_csv(f'{projdir}/csv/demux/gex/freemuxlet.csv', sep='\\t', header=True, index=True)\n",
    "vireo_gex.to_csv(f'{projdir}/csv/demux/gex/vireo.csv', sep='\\t', header=True, index=True)\n",
    "vireo_nogenos_gex.to_csv(f'{projdir}/csv/demux/gex/vireo_nogenos.csv', sep='\\t', header=True, index=True)\n",
    "souporcell_gex.to_csv(f'{projdir}/csv/demux/gex/souporcell.csv', sep='\\t', header=True, index=True)\n",
    "souporcell_nogenos_gex.to_csv(f'{projdir}/csv/demux/gex/souporcell_nogenos.csv', sep='\\t', header=True, index=True)\n",
    "demuxalot_gex.to_csv(f'{projdir}/csv/demux/gex/demuxalot.csv', sep='\\t', header=True, index=True)\n",
    "scsplit_gex.to_csv(f'{projdir}/csv/demux/gex/scsplit.csv', sep='\\t', header=True, index=True)\n",
    "scsplit_nogenos_gex.to_csv(f'{projdir}/csv/demux/gex/scsplit_nogenos.csv', sep='\\t', header=True, index=True)"
   ]
  },
  {
   "cell_type": "code",
   "execution_count": 139,
   "id": "ac727bec",
   "metadata": {},
   "outputs": [],
   "source": [
    "demuxlet_atac.to_csv(f'{projdir}/csv/demux/atac/demuxlet.csv', sep='\\t', header=True, index=True)\n",
    "freemuxlet_atac.to_csv(f'{projdir}/csv/demux/atac/freemuxlet.csv', sep='\\t', header=True, index=True)\n",
    "vireo_atac.to_csv(f'{projdir}/csv/demux/atac/vireo.csv', sep='\\t', header=True, index=True)\n",
    "vireo_nogenos_atac.to_csv(f'{projdir}/csv/demux/atac/vireo_nogenos.csv', sep='\\t', header=True, index=True)\n",
    "souporcell_atac.to_csv(f'{projdir}/csv/demux/atac/souporcell.csv', sep='\\t', header=True, index=True)\n",
    "souporcell_nogenos_atac.to_csv(f'{projdir}/csv/demux/atac/souporcell_nogenos.csv', sep='\\t', header=True, index=True)\n",
    "scsplit_atac.to_csv(f'{projdir}/csv/demux/atac/scsplit.csv', sep='\\t', header=True, index=True)\n",
    "scsplit_nogenos_atac.to_csv(f'{projdir}/csv/demux/atac/scsplit_nogenos.csv', sep='\\t', header=True, index=True)\n",
    "scavengers_atac.to_csv(f'{projdir}/csv/demux/atac/scavengers.csv', sep='\\t', header=True, index=True)"
   ]
  },
  {
   "cell_type": "markdown",
   "id": "00c0d4b9",
   "metadata": {},
   "source": [
    "### praying for day 3 to work  eventually"
   ]
  },
  {
   "cell_type": "markdown",
   "id": "47375c52",
   "metadata": {},
   "source": [
    "### create dataframe\n",
    "let another notebook handle the conversion between clusters to the actual donors"
   ]
  },
  {
   "cell_type": "code",
   "execution_count": 140,
   "id": "f74320d0",
   "metadata": {},
   "outputs": [],
   "source": [
    "inter_gex = pd.DataFrame(index=vireo_gex.index)\n",
    "inter_gex['demuxlet'] = demuxlet_gex['SNG.BEST.GUESS']\n",
    "inter_gex['freemuxlet'] = freemuxlet_gex['SNG.BEST.GUESS']\n",
    "inter_gex['vireo'] = vireo_gex['donor_id']\n",
    "inter_gex['vireo_nogenos'] = vireo_nogenos_gex['donor_id']\n",
    "inter_gex['souporcell'] = souporcell_gex['assignment']\n",
    "inter_gex['souporcell_nogenos'] = souporcell_nogenos_gex['assignment']\n",
    "inter_gex['demuxalot'] = demuxalot_gex['assignment']\n",
    "inter_gex['scsplit'] = scsplit_gex['donor_id']\n",
    "inter_gex['scsplit_nogenos'] = scsplit_nogenos_gex['donor_id']"
   ]
  },
  {
   "cell_type": "code",
   "execution_count": 141,
   "id": "a524e2b1",
   "metadata": {},
   "outputs": [],
   "source": [
    "inter_atac = pd.DataFrame(index=vireo_atac.index)\n",
    "inter_atac['demuxlet'] = demuxlet_atac['SNG.BEST.GUESS']\n",
    "inter_atac['freemuxlet'] = freemuxlet_atac['SNG.BEST.GUESS']\n",
    "inter_atac['vireo'] = vireo_atac['donor_id']\n",
    "inter_atac['vireo_nogenos'] = vireo_nogenos_atac['donor_id']\n",
    "inter_atac['souporcell'] = souporcell_atac['assignment']\n",
    "inter_atac['souporcell_nogenos'] = souporcell_nogenos_atac['assignment']\n",
    "inter_atac['scsplit'] = scsplit_atac['donor_id']\n",
    "inter_atac['scsplit_nogenos'] = scsplit_nogenos_atac['donor_id']\n",
    "inter_atac['scavengers'] = scavengers_atac['assignment']"
   ]
  },
  {
   "cell_type": "code",
   "execution_count": 142,
   "id": "5d58614e",
   "metadata": {},
   "outputs": [],
   "source": [
    "# tmp_gex = inter_gex.copy()\n",
    "# mask = [x.split('_')[1] == samples[1] for x in tmp_gex.index]\n",
    "# tmp_gex = tmp_gex[mask]\n",
    "# tmp_gex['scsplit'] = tmp_gex.mode(axis=1)[0]\n",
    "# tmp_gex['scsplit_nogenos'] = tmp_gex.mode(axis=1)[0]"
   ]
  },
  {
   "cell_type": "code",
   "execution_count": 143,
   "id": "ce1232b0",
   "metadata": {},
   "outputs": [],
   "source": [
    "# tmp_atac = inter_atac.copy()\n",
    "# mask = [x.split('_')[1] == samples[1] for x in tmp_atac.index]\n",
    "# tmp_atac = tmp_atac[mask]\n",
    "# tmp_atac['scsplit'] = tmp_atac.mode(axis=1)[0]\n",
    "# tmp_atac['scsplit_nogenos'] = tmp_atac.mode(axis=1)[0]"
   ]
  },
  {
   "cell_type": "code",
   "execution_count": 144,
   "id": "6bd436a8",
   "metadata": {},
   "outputs": [],
   "source": [
    "# inter_gex['scsplit'] = pd.concat([scsplit_gex['donor_id'], tmp_gex['scsplit']])\n",
    "# inter_atac['scsplit'] = pd.concat([scsplit_atac['donor_id'], tmp_atac['scsplit']])\n",
    "# inter_gex['scsplit_nogenos'] = pd.concat([scsplit_nogenos_gex['donor_id'], tmp_gex['scsplit_nogenos']])\n",
    "# inter_atac['scsplit_nogenos'] = pd.concat([scsplit_nogenos_atac['donor_id'], tmp_atac['scsplit_nogenos']])"
   ]
  },
  {
   "cell_type": "code",
   "execution_count": 145,
   "id": "549ba17e",
   "metadata": {
    "scrolled": true
   },
   "outputs": [],
   "source": [
    "# inter_gex['scsplit'].value_counts(), \\\n",
    "# inter_atac['scsplit'].value_counts(), \\\n",
    "# inter_gex['scsplit_nogenos'].value_counts(), \\\n",
    "# inter_atac['scsplit_nogenos'].value_counts()"
   ]
  },
  {
   "cell_type": "code",
   "execution_count": 146,
   "id": "de4c592e",
   "metadata": {},
   "outputs": [],
   "source": [
    "inter_gex.to_csv(f'{projdir}/csv/demux/inter_gex.csv', sep='\\t', header=True, index=True)\n",
    "inter_atac.to_csv(f'{projdir}/csv/demux/inter_atac.csv', sep='\\t', header=True, index=True)"
   ]
  },
  {
   "cell_type": "code",
   "execution_count": 147,
   "id": "2f99a8e0",
   "metadata": {},
   "outputs": [
    {
     "data": {
      "text/html": [
       "<div>\n",
       "<style scoped>\n",
       "    .dataframe tbody tr th:only-of-type {\n",
       "        vertical-align: middle;\n",
       "    }\n",
       "\n",
       "    .dataframe tbody tr th {\n",
       "        vertical-align: top;\n",
       "    }\n",
       "\n",
       "    .dataframe thead th {\n",
       "        text-align: right;\n",
       "    }\n",
       "</style>\n",
       "<table border=\"1\" class=\"dataframe\">\n",
       "  <thead>\n",
       "    <tr style=\"text-align: right;\">\n",
       "      <th></th>\n",
       "      <th>demuxlet</th>\n",
       "      <th>freemuxlet</th>\n",
       "      <th>vireo</th>\n",
       "      <th>vireo_nogenos</th>\n",
       "      <th>souporcell</th>\n",
       "      <th>souporcell_nogenos</th>\n",
       "      <th>demuxalot</th>\n",
       "      <th>scsplit</th>\n",
       "      <th>scsplit_nogenos</th>\n",
       "    </tr>\n",
       "  </thead>\n",
       "  <tbody>\n",
       "    <tr>\n",
       "      <th>AAACAGCCAAGGTATA-1_20220928-IGVF-D0</th>\n",
       "      <td>27_C4</td>\n",
       "      <td>27_C4</td>\n",
       "      <td>27_C4</td>\n",
       "      <td>27_C4</td>\n",
       "      <td>27_C4</td>\n",
       "      <td>27_C4</td>\n",
       "      <td>27_C4</td>\n",
       "      <td>27_C4</td>\n",
       "      <td>27_C4</td>\n",
       "    </tr>\n",
       "    <tr>\n",
       "      <th>AAACAGCCAATGCGCT-1_20220928-IGVF-D0</th>\n",
       "      <td>25_A4</td>\n",
       "      <td>25_A4</td>\n",
       "      <td>25_A4</td>\n",
       "      <td>25_A4</td>\n",
       "      <td>25_A4</td>\n",
       "      <td>25_A4</td>\n",
       "      <td>25_A4</td>\n",
       "      <td>25_A4</td>\n",
       "      <td>25_A4</td>\n",
       "    </tr>\n",
       "    <tr>\n",
       "      <th>AAACAGCCAGCAAATA-1_20220928-IGVF-D0</th>\n",
       "      <td>27_C4</td>\n",
       "      <td>27_C4</td>\n",
       "      <td>27_C4</td>\n",
       "      <td>27_C4</td>\n",
       "      <td>27_C4</td>\n",
       "      <td>27_C4</td>\n",
       "      <td>27_C4</td>\n",
       "      <td>27_C4</td>\n",
       "      <td>27_C4</td>\n",
       "    </tr>\n",
       "    <tr>\n",
       "      <th>AAACAGCCATTGTGAT-1_20220928-IGVF-D0</th>\n",
       "      <td>25_A4</td>\n",
       "      <td>25_A4</td>\n",
       "      <td>25_A4</td>\n",
       "      <td>25_A4</td>\n",
       "      <td>25_A4</td>\n",
       "      <td>25_A4</td>\n",
       "      <td>25_A4</td>\n",
       "      <td>25_A4</td>\n",
       "      <td>25_A4</td>\n",
       "    </tr>\n",
       "    <tr>\n",
       "      <th>AAACATGCAAACATAG-1_20220928-IGVF-D0</th>\n",
       "      <td>25_A4</td>\n",
       "      <td>25_A4</td>\n",
       "      <td>25_A4</td>\n",
       "      <td>25_A4</td>\n",
       "      <td>25_A4</td>\n",
       "      <td>25_A4</td>\n",
       "      <td>25_A4</td>\n",
       "      <td>25_A4</td>\n",
       "      <td>25_A4</td>\n",
       "    </tr>\n",
       "    <tr>\n",
       "      <th>...</th>\n",
       "      <td>...</td>\n",
       "      <td>...</td>\n",
       "      <td>...</td>\n",
       "      <td>...</td>\n",
       "      <td>...</td>\n",
       "      <td>...</td>\n",
       "      <td>...</td>\n",
       "      <td>...</td>\n",
       "      <td>...</td>\n",
       "    </tr>\n",
       "    <tr>\n",
       "      <th>TTTGTTGGTTCCAGGG-1_20220928-IGVF-D3</th>\n",
       "      <td>26_A10</td>\n",
       "      <td>doublet</td>\n",
       "      <td>doublet</td>\n",
       "      <td>doublet</td>\n",
       "      <td>26_A10</td>\n",
       "      <td>doublet</td>\n",
       "      <td>doublet</td>\n",
       "      <td>26_A10</td>\n",
       "      <td>doublet</td>\n",
       "    </tr>\n",
       "    <tr>\n",
       "      <th>TTTGTTGGTTCCTGTG-1_20220928-IGVF-D3</th>\n",
       "      <td>doublet</td>\n",
       "      <td>25_A4</td>\n",
       "      <td>25_A4</td>\n",
       "      <td>25_A4</td>\n",
       "      <td>25_A4</td>\n",
       "      <td>25_A4</td>\n",
       "      <td>25_A4</td>\n",
       "      <td>25_A4</td>\n",
       "      <td>25_A4</td>\n",
       "    </tr>\n",
       "    <tr>\n",
       "      <th>TTTGTTGGTTGCCTCA-1_20220928-IGVF-D3</th>\n",
       "      <td>25_A4</td>\n",
       "      <td>25_A4</td>\n",
       "      <td>25_A4</td>\n",
       "      <td>25_A4</td>\n",
       "      <td>25_A4</td>\n",
       "      <td>25_A4</td>\n",
       "      <td>25_A4</td>\n",
       "      <td>25_A4</td>\n",
       "      <td>25_A4</td>\n",
       "    </tr>\n",
       "    <tr>\n",
       "      <th>TTTGTTGGTTGGATAT-1_20220928-IGVF-D3</th>\n",
       "      <td>25_A4</td>\n",
       "      <td>25_A4</td>\n",
       "      <td>25_A4</td>\n",
       "      <td>25_A4</td>\n",
       "      <td>25_A4</td>\n",
       "      <td>25_A4</td>\n",
       "      <td>25_A4</td>\n",
       "      <td>25_A4</td>\n",
       "      <td>25_A4</td>\n",
       "    </tr>\n",
       "    <tr>\n",
       "      <th>TTTGTTGGTTTGACCT-1_20220928-IGVF-D3</th>\n",
       "      <td>26_A10</td>\n",
       "      <td>26_A10</td>\n",
       "      <td>26_A10</td>\n",
       "      <td>26_A10</td>\n",
       "      <td>26_A10</td>\n",
       "      <td>26_A10</td>\n",
       "      <td>26_A10</td>\n",
       "      <td>26_A10</td>\n",
       "      <td>26_A10</td>\n",
       "    </tr>\n",
       "  </tbody>\n",
       "</table>\n",
       "<p>30497 rows × 9 columns</p>\n",
       "</div>"
      ],
      "text/plain": [
       "                                    demuxlet freemuxlet    vireo  \\\n",
       "AAACAGCCAAGGTATA-1_20220928-IGVF-D0    27_C4      27_C4    27_C4   \n",
       "AAACAGCCAATGCGCT-1_20220928-IGVF-D0    25_A4      25_A4    25_A4   \n",
       "AAACAGCCAGCAAATA-1_20220928-IGVF-D0    27_C4      27_C4    27_C4   \n",
       "AAACAGCCATTGTGAT-1_20220928-IGVF-D0    25_A4      25_A4    25_A4   \n",
       "AAACATGCAAACATAG-1_20220928-IGVF-D0    25_A4      25_A4    25_A4   \n",
       "...                                      ...        ...      ...   \n",
       "TTTGTTGGTTCCAGGG-1_20220928-IGVF-D3   26_A10    doublet  doublet   \n",
       "TTTGTTGGTTCCTGTG-1_20220928-IGVF-D3  doublet      25_A4    25_A4   \n",
       "TTTGTTGGTTGCCTCA-1_20220928-IGVF-D3    25_A4      25_A4    25_A4   \n",
       "TTTGTTGGTTGGATAT-1_20220928-IGVF-D3    25_A4      25_A4    25_A4   \n",
       "TTTGTTGGTTTGACCT-1_20220928-IGVF-D3   26_A10     26_A10   26_A10   \n",
       "\n",
       "                                    vireo_nogenos souporcell  \\\n",
       "AAACAGCCAAGGTATA-1_20220928-IGVF-D0         27_C4      27_C4   \n",
       "AAACAGCCAATGCGCT-1_20220928-IGVF-D0         25_A4      25_A4   \n",
       "AAACAGCCAGCAAATA-1_20220928-IGVF-D0         27_C4      27_C4   \n",
       "AAACAGCCATTGTGAT-1_20220928-IGVF-D0         25_A4      25_A4   \n",
       "AAACATGCAAACATAG-1_20220928-IGVF-D0         25_A4      25_A4   \n",
       "...                                           ...        ...   \n",
       "TTTGTTGGTTCCAGGG-1_20220928-IGVF-D3       doublet     26_A10   \n",
       "TTTGTTGGTTCCTGTG-1_20220928-IGVF-D3         25_A4      25_A4   \n",
       "TTTGTTGGTTGCCTCA-1_20220928-IGVF-D3         25_A4      25_A4   \n",
       "TTTGTTGGTTGGATAT-1_20220928-IGVF-D3         25_A4      25_A4   \n",
       "TTTGTTGGTTTGACCT-1_20220928-IGVF-D3        26_A10     26_A10   \n",
       "\n",
       "                                    souporcell_nogenos demuxalot scsplit  \\\n",
       "AAACAGCCAAGGTATA-1_20220928-IGVF-D0              27_C4     27_C4   27_C4   \n",
       "AAACAGCCAATGCGCT-1_20220928-IGVF-D0              25_A4     25_A4   25_A4   \n",
       "AAACAGCCAGCAAATA-1_20220928-IGVF-D0              27_C4     27_C4   27_C4   \n",
       "AAACAGCCATTGTGAT-1_20220928-IGVF-D0              25_A4     25_A4   25_A4   \n",
       "AAACATGCAAACATAG-1_20220928-IGVF-D0              25_A4     25_A4   25_A4   \n",
       "...                                                ...       ...     ...   \n",
       "TTTGTTGGTTCCAGGG-1_20220928-IGVF-D3            doublet   doublet  26_A10   \n",
       "TTTGTTGGTTCCTGTG-1_20220928-IGVF-D3              25_A4     25_A4   25_A4   \n",
       "TTTGTTGGTTGCCTCA-1_20220928-IGVF-D3              25_A4     25_A4   25_A4   \n",
       "TTTGTTGGTTGGATAT-1_20220928-IGVF-D3              25_A4     25_A4   25_A4   \n",
       "TTTGTTGGTTTGACCT-1_20220928-IGVF-D3             26_A10    26_A10  26_A10   \n",
       "\n",
       "                                    scsplit_nogenos  \n",
       "AAACAGCCAAGGTATA-1_20220928-IGVF-D0           27_C4  \n",
       "AAACAGCCAATGCGCT-1_20220928-IGVF-D0           25_A4  \n",
       "AAACAGCCAGCAAATA-1_20220928-IGVF-D0           27_C4  \n",
       "AAACAGCCATTGTGAT-1_20220928-IGVF-D0           25_A4  \n",
       "AAACATGCAAACATAG-1_20220928-IGVF-D0           25_A4  \n",
       "...                                             ...  \n",
       "TTTGTTGGTTCCAGGG-1_20220928-IGVF-D3         doublet  \n",
       "TTTGTTGGTTCCTGTG-1_20220928-IGVF-D3           25_A4  \n",
       "TTTGTTGGTTGCCTCA-1_20220928-IGVF-D3           25_A4  \n",
       "TTTGTTGGTTGGATAT-1_20220928-IGVF-D3           25_A4  \n",
       "TTTGTTGGTTTGACCT-1_20220928-IGVF-D3          26_A10  \n",
       "\n",
       "[30497 rows x 9 columns]"
      ]
     },
     "execution_count": 147,
     "metadata": {},
     "output_type": "execute_result"
    }
   ],
   "source": [
    "inter_gex"
   ]
  },
  {
   "cell_type": "code",
   "execution_count": null,
   "id": "677dc0a3",
   "metadata": {},
   "outputs": [],
   "source": []
  }
 ],
 "metadata": {
  "kernelspec": {
   "display_name": "allcools",
   "language": "python",
   "name": "allcools"
  },
  "language_info": {
   "codemirror_mode": {
    "name": "ipython",
    "version": 3
   },
   "file_extension": ".py",
   "mimetype": "text/x-python",
   "name": "python",
   "nbconvert_exporter": "python",
   "pygments_lexer": "ipython3",
   "version": "3.7.13"
  }
 },
 "nbformat": 4,
 "nbformat_minor": 5
}
