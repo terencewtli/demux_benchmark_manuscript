{
 "cells": [
  {
   "cell_type": "code",
   "execution_count": 1,
   "id": "2e9e3c59",
   "metadata": {},
   "outputs": [],
   "source": [
    "import numpy as np\n",
    "import pandas as pd\n",
    "import matplotlib.pyplot as plt\n",
    "import seaborn as sns"
   ]
  },
  {
   "cell_type": "code",
   "execution_count": 2,
   "id": "5c4e4f0f",
   "metadata": {},
   "outputs": [],
   "source": [
    "projdir = '/u/home/t/terencew/project-cluo/igvf/pilot/multiome'\n",
    "donors = np.loadtxt(f'{projdir}/txt/donors.txt', dtype=str)\n",
    "samples = np.loadtxt(f'{projdir}/txt/samples.txt', dtype=str)\n",
    "s = samples[0]"
   ]
  },
  {
   "cell_type": "code",
   "execution_count": 3,
   "id": "2d32f106",
   "metadata": {},
   "outputs": [],
   "source": [
    "prop_doub = np.loadtxt(f'{projdir}/ambient/ambisim/prop_doub/txt/experiments.txt', dtype=str)\n",
    "mux_test = np.loadtxt(f'{projdir}/ambient/ambisim/mux_test/txt/experiments.txt', dtype=str)\n",
    "\n",
    "gex_methods = ['demuxlet', 'freemuxlet', 'vireo', 'vireo_nogenos',\n",
    "                    'scsplit', 'scsplit_nogenos', 'souporcell', 'souporcell_nogenos', 'demuxalot']\n",
    "\n",
    "atac_methods = ['demuxlet', 'freemuxlet', 'vireo', 'vireo_nogenos',\n",
    "                    'scsplit', 'scsplit_nogenos', 'souporcell', 'souporcell_nogenos', 'scavengers']"
   ]
  },
  {
   "cell_type": "code",
   "execution_count": null,
   "id": "1f698092",
   "metadata": {},
   "outputs": [],
   "source": [
    "props = [0, 10, 20, 30]\n",
    "props = [str(x) for x in props]"
   ]
  }
 ],
 "metadata": {
  "kernelspec": {
   "display_name": "scFates",
   "language": "python",
   "name": "scfates"
  },
  "language_info": {
   "codemirror_mode": {
    "name": "ipython",
    "version": 3
   },
   "file_extension": ".py",
   "mimetype": "text/x-python",
   "name": "python",
   "nbconvert_exporter": "python",
   "pygments_lexer": "ipython3",
   "version": "3.11.8"
  }
 },
 "nbformat": 4,
 "nbformat_minor": 5
}
