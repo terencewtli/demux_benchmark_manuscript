{
 "cells": [
  {
   "cell_type": "code",
   "execution_count": 1,
   "id": "c87a2350",
   "metadata": {},
   "outputs": [
    {
     "name": "stderr",
     "output_type": "stream",
     "text": [
      "Loading required package: viridisLite\n",
      "\n",
      "\n",
      "Attaching package: ‘viridis’\n",
      "\n",
      "\n",
      "The following object is masked from ‘package:scales’:\n",
      "\n",
      "    viridis_pal\n",
      "\n",
      "\n",
      "── \u001b[1mAttaching packages\u001b[22m ─────────────────────────────────────── tidyverse 1.3.2 ──\n",
      "\u001b[32m✔\u001b[39m \u001b[34mtibble \u001b[39m 3.2.1     \u001b[32m✔\u001b[39m \u001b[34mdplyr  \u001b[39m 1.1.4\n",
      "\u001b[32m✔\u001b[39m \u001b[34mtidyr  \u001b[39m 1.2.1     \u001b[32m✔\u001b[39m \u001b[34mstringr\u001b[39m 1.4.1\n",
      "\u001b[32m✔\u001b[39m \u001b[34mreadr  \u001b[39m 2.1.5     \u001b[32m✔\u001b[39m \u001b[34mforcats\u001b[39m 0.5.2\n",
      "\u001b[32m✔\u001b[39m \u001b[34mpurrr  \u001b[39m 0.3.5     \n",
      "── \u001b[1mConflicts\u001b[22m ────────────────────────────────────────── tidyverse_conflicts() ──\n",
      "\u001b[31m✖\u001b[39m \u001b[34mreadr\u001b[39m::\u001b[32mcol_factor()\u001b[39m masks \u001b[34mscales\u001b[39m::col_factor()\n",
      "\u001b[31m✖\u001b[39m \u001b[34mdplyr\u001b[39m::\u001b[32mcombine()\u001b[39m    masks \u001b[34mgridExtra\u001b[39m::combine()\n",
      "\u001b[31m✖\u001b[39m \u001b[34mpurrr\u001b[39m::\u001b[32mdiscard()\u001b[39m    masks \u001b[34mscales\u001b[39m::discard()\n",
      "\u001b[31m✖\u001b[39m \u001b[34mdplyr\u001b[39m::\u001b[32mfilter()\u001b[39m     masks \u001b[34mstats\u001b[39m::filter()\n",
      "\u001b[31m✖\u001b[39m \u001b[34mdplyr\u001b[39m::\u001b[32mlag()\u001b[39m        masks \u001b[34mstats\u001b[39m::lag()\n"
     ]
    }
   ],
   "source": [
    "library(ggplot2)\n",
    "library(RColorBrewer)\n",
    "library(cowplot)\n",
    "library(gridExtra)\n",
    "library(ggsci)\n",
    "library(scales)\n",
    "library(viridis)\n",
    "library(tidyverse)"
   ]
  },
  {
   "cell_type": "code",
   "execution_count": 2,
   "id": "3ff34b16",
   "metadata": {},
   "outputs": [],
   "source": [
    "projdir = '/u/home/t/terencew/project-cluo/igvf/pilot/multiome/'"
   ]
  },
  {
   "cell_type": "code",
   "execution_count": 3,
   "id": "c5764e5e",
   "metadata": {},
   "outputs": [],
   "source": [
    "demux_hex = c('#FF3004', '#00A931', '#033B91', '#748705','#664110',\n",
    "            '#F98502', '#48D571', '#376BBB', '#A0B341', '#6A6C62')\n",
    "\n",
    "gex_hex = c('#FF3004', '#00A931', '#033B91', '#748705', '#664110',\n",
    "            '#F98502', '#48D571', '#376BBB', '#A0B341')\n",
    "\n",
    "atac_hex = c('#FF3004', '#00A931', '#033B91', '#748705',\n",
    "            '#F98502', '#48D571', '#376BBB', '#A0B341', '#6A6C62')"
   ]
  },
  {
   "cell_type": "code",
   "execution_count": 4,
   "id": "c2d7a360",
   "metadata": {},
   "outputs": [],
   "source": [
    "gex_order <- c('demuxlet', 'vireo', 'souporcell', 'scsplit',  'demuxalot',\n",
    "               'freemuxlet', 'vireo_nogenos', 'souporcell_nogenos', 'scsplit_nogenos')\n",
    "\n",
    "atac_order <- c('demuxlet', 'vireo', 'souporcell', 'scsplit',\n",
    "               'freemuxlet', 'vireo_nogenos', 'souporcell_nogenos', 'scsplit_nogenos', 'scavengers')\n",
    "\n",
    "gex_geno <- c(rep('geno_based', 5), rep('geno_free', 4))\n",
    "atac_geno <- c(rep('geno_based', 4), rep('geno_free', 5))\n",
    "\n",
    "col_names <- c('method', 'geno_type')\n",
    "\n",
    "gex_methods <- as.data.frame(gex_order)\n",
    "gex_methods$geno_type <- gex_geno\n",
    "colnames(gex_methods) <- col_names\n",
    "\n",
    "atac_methods <- as.data.frame(atac_order)\n",
    "atac_methods$geno_type <- atac_geno\n",
    "colnames(atac_methods) <- col_names\n",
    "\n",
    "renamed_hex <- demux_hex\n",
    "tmp_order <- c('demuxlet', 'vireo', 'souporcell', 'scsplit',  'demuxalot',\n",
    "               'freemuxlet', 'vireo, no genotypes', 'souporcell, no genotypes',\n",
    "                  'scsplit, no genotypes', 'scavengers')\n",
    "names(renamed_hex) <- tmp_order"
   ]
  },
  {
   "cell_type": "code",
   "execution_count": 5,
   "id": "3c5e8512",
   "metadata": {},
   "outputs": [],
   "source": [
    "doub_gex_drop <- read.table(paste0(projdir, 'csv/final_figures/figure2/doub_gex_drop_mean.csv.gz'),\n",
    "                          sep='\\t', header=1, row.names=1)\n",
    "\n",
    "doub_atac_drop <- read.table(paste0(projdir, 'csv/final_figures/figure2/doub_atac_drop_mean.csv.gz'),\n",
    "                          sep='\\t', header=1, row.names=1)\n",
    "\n",
    "mux_gex_drop <- read.table(paste0(projdir, 'csv/final_figures/figure2/mux_gex_drop_mean.csv.gz'),\n",
    "                          sep='\\t', header=1, row.names=1)\n",
    "\n",
    "mux_atac_drop <- read.table(paste0(projdir, 'csv/final_figures/figure2/mux_atac_drop_mean.csv.gz'),\n",
    "                          sep='\\t', header=1, row.names=1)"
   ]
  },
  {
   "cell_type": "code",
   "execution_count": 6,
   "id": "6523d356",
   "metadata": {},
   "outputs": [],
   "source": [
    "doub_gex_donor <- read.table(paste0(projdir, 'csv/final_figures/figure2/doub_gex_donor_mean.csv.gz'),\n",
    "                          sep='\\t', header=1, row.names=1)\n",
    "\n",
    "doub_atac_donor <- read.table(paste0(projdir, 'csv/final_figures/figure2/doub_atac_donor_mean.csv.gz'),\n",
    "                          sep='\\t', header=1, row.names=1)\n",
    "\n",
    "mux_gex_donor <- read.table(paste0(projdir, 'csv/final_figures/figure2/mux_gex_donor_mean.csv.gz'),\n",
    "                          sep='\\t', header=1, row.names=1)\n",
    "\n",
    "mux_atac_donor <- read.table(paste0(projdir, 'csv/final_figures/figure2/mux_atac_donor_mean.csv.gz'),\n",
    "                          sep='\\t', header=1, row.names=1)"
   ]
  },
  {
   "cell_type": "code",
   "execution_count": 7,
   "id": "6726e442",
   "metadata": {},
   "outputs": [],
   "source": [
    "doub_gex_drop$method <- factor(doub_gex_drop$method, levels = gex_order)\n",
    "doub_atac_drop$method <- factor(doub_atac_drop$method, levels = atac_order)\n",
    "mux_gex_drop$method <- factor(mux_gex_drop$method, levels = gex_order)\n",
    "mux_atac_drop$method <- factor(mux_atac_drop$method, levels = atac_order)"
   ]
  },
  {
   "cell_type": "code",
   "execution_count": 8,
   "id": "74c3fc93",
   "metadata": {},
   "outputs": [],
   "source": [
    "doub_gex_donor$method <- factor(doub_gex_donor$method, levels = gex_order)\n",
    "doub_atac_donor$method <- factor(doub_atac_donor$method, levels = atac_order)\n",
    "mux_gex_donor$method <- factor(mux_gex_donor$method, levels = gex_order)\n",
    "mux_atac_donor$method <- factor(mux_atac_donor$method, levels = atac_order)"
   ]
  },
  {
   "cell_type": "code",
   "execution_count": 9,
   "id": "474aa296",
   "metadata": {},
   "outputs": [],
   "source": [
    "gex_order <- c('demuxlet', 'vireo', 'souporcell', 'scsplit',  'demuxalot',\n",
    "               'freemuxlet', 'vireo_nogenos', 'souporcell_nogenos', 'scsplit_nogenos')\n",
    "\n",
    "atac_order <- c('demuxlet', 'vireo', 'souporcell', 'scsplit',\n",
    "               'freemuxlet', 'vireo_nogenos', 'souporcell_nogenos', 'scsplit_nogenos', 'scavengers')\n",
    "\n",
    "gex_geno <- c(rep('geno_based', 5), rep('geno_free', 4))\n",
    "atac_geno <- c(rep('geno_based', 4), rep('geno_free', 5))\n",
    "\n",
    "col_names <- c('method', 'geno_type')\n",
    "\n",
    "gex_methods <- as.data.frame(gex_order)\n",
    "gex_methods$geno_type <- gex_geno\n",
    "colnames(gex_methods) <- col_names\n",
    "\n",
    "atac_methods <- as.data.frame(atac_order)\n",
    "atac_methods$geno_type <- atac_geno\n",
    "colnames(atac_methods) <- col_names"
   ]
  },
  {
   "cell_type": "code",
   "execution_count": 10,
   "id": "4025e442",
   "metadata": {},
   "outputs": [],
   "source": [
    "joint_methods <- c('demuxlet', 'vireo', 'souporcell', 'scsplit',\n",
    "               'freemuxlet', 'vireo_nogenos', 'souporcell_nogenos', 'scsplit_nogenos')"
   ]
  },
  {
   "cell_type": "code",
   "execution_count": 11,
   "id": "d888ad5e",
   "metadata": {},
   "outputs": [],
   "source": [
    "doub_gex_drop <- doub_gex_drop[doub_gex_drop$method %in% joint_methods,]\n",
    "doub_atac_drop <- doub_atac_drop[doub_atac_drop$method %in% joint_methods,]\n",
    "mux_gex_drop <- mux_gex_drop[mux_gex_drop$method %in% joint_methods,]\n",
    "mux_atac_drop <- mux_atac_drop[mux_atac_drop$method %in% joint_methods,]"
   ]
  },
  {
   "cell_type": "code",
   "execution_count": 12,
   "id": "525ee4ee",
   "metadata": {},
   "outputs": [],
   "source": [
    "doub_gex_donor <- doub_gex_donor[doub_gex_donor$method %in% joint_methods,]\n",
    "doub_atac_donor <- doub_atac_donor[doub_atac_donor$method %in% joint_methods,]\n",
    "mux_gex_donor <- mux_gex_donor[mux_gex_donor$method %in% joint_methods,]\n",
    "mux_atac_donor <- mux_atac_donor[mux_atac_donor$method %in% joint_methods,]"
   ]
  },
  {
   "cell_type": "code",
   "execution_count": 13,
   "id": "f9407239",
   "metadata": {},
   "outputs": [
    {
     "data": {
      "text/html": [
       "<style>\n",
       ".list-inline {list-style: none; margin:0; padding: 0}\n",
       ".list-inline>li {display: inline-block}\n",
       ".list-inline>li:not(:last-child)::after {content: \"\\00b7\"; padding: 0 .5ex}\n",
       "</style>\n",
       "<ol class=list-inline><li>32</li><li>3</li></ol>\n"
      ],
      "text/latex": [
       "\\begin{enumerate*}\n",
       "\\item 32\n",
       "\\item 3\n",
       "\\end{enumerate*}\n"
      ],
      "text/markdown": [
       "1. 32\n",
       "2. 3\n",
       "\n",
       "\n"
      ],
      "text/plain": [
       "[1] 32  3"
      ]
     },
     "metadata": {},
     "output_type": "display_data"
    },
    {
     "data": {
      "text/html": [
       "<style>\n",
       ".list-inline {list-style: none; margin:0; padding: 0}\n",
       ".list-inline>li {display: inline-block}\n",
       ".list-inline>li:not(:last-child)::after {content: \"\\00b7\"; padding: 0 .5ex}\n",
       "</style>\n",
       "<ol class=list-inline><li>32</li><li>3</li></ol>\n"
      ],
      "text/latex": [
       "\\begin{enumerate*}\n",
       "\\item 32\n",
       "\\item 3\n",
       "\\end{enumerate*}\n"
      ],
      "text/markdown": [
       "1. 32\n",
       "2. 3\n",
       "\n",
       "\n"
      ],
      "text/plain": [
       "[1] 32  3"
      ]
     },
     "metadata": {},
     "output_type": "display_data"
    },
    {
     "data": {
      "text/html": [
       "<style>\n",
       ".list-inline {list-style: none; margin:0; padding: 0}\n",
       ".list-inline>li {display: inline-block}\n",
       ".list-inline>li:not(:last-child)::after {content: \"\\00b7\"; padding: 0 .5ex}\n",
       "</style>\n",
       "<ol class=list-inline><li>32</li><li>3</li></ol>\n"
      ],
      "text/latex": [
       "\\begin{enumerate*}\n",
       "\\item 32\n",
       "\\item 3\n",
       "\\end{enumerate*}\n"
      ],
      "text/markdown": [
       "1. 32\n",
       "2. 3\n",
       "\n",
       "\n"
      ],
      "text/plain": [
       "[1] 32  3"
      ]
     },
     "metadata": {},
     "output_type": "display_data"
    },
    {
     "data": {
      "text/html": [
       "<style>\n",
       ".list-inline {list-style: none; margin:0; padding: 0}\n",
       ".list-inline>li {display: inline-block}\n",
       ".list-inline>li:not(:last-child)::after {content: \"\\00b7\"; padding: 0 .5ex}\n",
       "</style>\n",
       "<ol class=list-inline><li>32</li><li>3</li></ol>\n"
      ],
      "text/latex": [
       "\\begin{enumerate*}\n",
       "\\item 32\n",
       "\\item 3\n",
       "\\end{enumerate*}\n"
      ],
      "text/markdown": [
       "1. 32\n",
       "2. 3\n",
       "\n",
       "\n"
      ],
      "text/plain": [
       "[1] 32  3"
      ]
     },
     "metadata": {},
     "output_type": "display_data"
    }
   ],
   "source": [
    "dim(doub_gex_drop)\n",
    "dim(doub_atac_drop)\n",
    "dim(doub_gex_donor)\n",
    "dim(doub_atac_donor)"
   ]
  },
  {
   "cell_type": "code",
   "execution_count": 14,
   "id": "0300bdf1",
   "metadata": {},
   "outputs": [],
   "source": [
    "doub_gex_drop$mod <- 'RNA'\n",
    "doub_atac_drop$mod <- 'ATAC'\n",
    "doub_gex_donor$mod <- 'RNA'\n",
    "doub_atac_donor$mod <- 'ATAC'"
   ]
  },
  {
   "cell_type": "code",
   "execution_count": 15,
   "id": "bc8283a8",
   "metadata": {},
   "outputs": [],
   "source": [
    "mux_gex_drop$mod <- 'RNA'\n",
    "mux_atac_drop$mod <- 'ATAC'\n",
    "mux_gex_donor$mod <- 'RNA'\n",
    "mux_atac_donor$mod <- 'ATAC'"
   ]
  },
  {
   "cell_type": "code",
   "execution_count": 29,
   "id": "8a0b4606",
   "metadata": {},
   "outputs": [],
   "source": [
    "doub_merged_drop <- rbind(doub_gex_drop, doub_atac_drop)\n",
    "doub_merged_donor <- rbind(doub_gex_donor, doub_atac_donor)\n",
    "mux_merged_drop <- rbind(mux_gex_drop, mux_atac_drop)\n",
    "mux_merged_donor <- rbind(mux_gex_donor, mux_atac_donor)"
   ]
  },
  {
   "cell_type": "code",
   "execution_count": 30,
   "id": "6d78e6fa",
   "metadata": {
    "scrolled": false
   },
   "outputs": [
    {
     "data": {
      "text/html": [
       "<table class=\"dataframe\">\n",
       "<caption>A data.frame: 6 × 4</caption>\n",
       "<thead>\n",
       "\t<tr><th></th><th scope=col>method</th><th scope=col>amb_prop</th><th scope=col>value</th><th scope=col>mod</th></tr>\n",
       "\t<tr><th></th><th scope=col>&lt;fct&gt;</th><th scope=col>&lt;int&gt;</th><th scope=col>&lt;dbl&gt;</th><th scope=col>&lt;chr&gt;</th></tr>\n",
       "</thead>\n",
       "<tbody>\n",
       "\t<tr><th scope=row>0</th><td>demuxlet          </td><td>0</td><td>0.9939716</td><td>RNA</td></tr>\n",
       "\t<tr><th scope=row>1</th><td>freemuxlet        </td><td>0</td><td>0.9707467</td><td>RNA</td></tr>\n",
       "\t<tr><th scope=row>2</th><td>vireo             </td><td>0</td><td>1.0000000</td><td>RNA</td></tr>\n",
       "\t<tr><th scope=row>3</th><td>vireo_nogenos     </td><td>0</td><td>0.9999722</td><td>RNA</td></tr>\n",
       "\t<tr><th scope=row>4</th><td>souporcell        </td><td>0</td><td>1.0000000</td><td>RNA</td></tr>\n",
       "\t<tr><th scope=row>5</th><td>souporcell_nogenos</td><td>0</td><td>1.0000000</td><td>RNA</td></tr>\n",
       "</tbody>\n",
       "</table>\n"
      ],
      "text/latex": [
       "A data.frame: 6 × 4\n",
       "\\begin{tabular}{r|llll}\n",
       "  & method & amb\\_prop & value & mod\\\\\n",
       "  & <fct> & <int> & <dbl> & <chr>\\\\\n",
       "\\hline\n",
       "\t0 & demuxlet           & 0 & 0.9939716 & RNA\\\\\n",
       "\t1 & freemuxlet         & 0 & 0.9707467 & RNA\\\\\n",
       "\t2 & vireo              & 0 & 1.0000000 & RNA\\\\\n",
       "\t3 & vireo\\_nogenos      & 0 & 0.9999722 & RNA\\\\\n",
       "\t4 & souporcell         & 0 & 1.0000000 & RNA\\\\\n",
       "\t5 & souporcell\\_nogenos & 0 & 1.0000000 & RNA\\\\\n",
       "\\end{tabular}\n"
      ],
      "text/markdown": [
       "\n",
       "A data.frame: 6 × 4\n",
       "\n",
       "| <!--/--> | method &lt;fct&gt; | amb_prop &lt;int&gt; | value &lt;dbl&gt; | mod &lt;chr&gt; |\n",
       "|---|---|---|---|---|\n",
       "| 0 | demuxlet           | 0 | 0.9939716 | RNA |\n",
       "| 1 | freemuxlet         | 0 | 0.9707467 | RNA |\n",
       "| 2 | vireo              | 0 | 1.0000000 | RNA |\n",
       "| 3 | vireo_nogenos      | 0 | 0.9999722 | RNA |\n",
       "| 4 | souporcell         | 0 | 1.0000000 | RNA |\n",
       "| 5 | souporcell_nogenos | 0 | 1.0000000 | RNA |\n",
       "\n"
      ],
      "text/plain": [
       "  method             amb_prop value     mod\n",
       "0 demuxlet           0        0.9939716 RNA\n",
       "1 freemuxlet         0        0.9707467 RNA\n",
       "2 vireo              0        1.0000000 RNA\n",
       "3 vireo_nogenos      0        0.9999722 RNA\n",
       "4 souporcell         0        1.0000000 RNA\n",
       "5 souporcell_nogenos 0        1.0000000 RNA"
      ]
     },
     "metadata": {},
     "output_type": "display_data"
    }
   ],
   "source": [
    "head(doub_merged_drop)"
   ]
  },
  {
   "cell_type": "code",
   "execution_count": 31,
   "id": "b68897c0",
   "metadata": {},
   "outputs": [
    {
     "data": {
      "text/html": [
       "<style>\n",
       ".dl-inline {width: auto; margin:0; padding: 0}\n",
       ".dl-inline>dt, .dl-inline>dd {float: none; width: auto; display: inline-block}\n",
       ".dl-inline>dt::after {content: \":\\0020\"; padding-right: .5ex}\n",
       ".dl-inline>dt:not(:first-of-type) {padding-left: .5ex}\n",
       "</style><dl class=dl-inline><dt>demuxlet</dt><dd>'Genotype-based'</dd><dt>vireo</dt><dd>'Genotype-based'</dd><dt>souporcell</dt><dd>'Genotype-based'</dd><dt>scsplit</dt><dd>'Genotype-based'</dd><dt>demuxalot</dt><dd>'Genotype-based'</dd><dt>freemuxlet</dt><dd>'Genotype-free'</dd><dt>vireo_nogenos</dt><dd>'Genotype-free'</dd><dt>souporcell_nogenos</dt><dd>'Genotype-free'</dd><dt>scsplit_nogenos</dt><dd>'Genotype-free'</dd><dt>scavengers</dt><dd>'Genotype-free'</dd></dl>\n"
      ],
      "text/latex": [
       "\\begin{description*}\n",
       "\\item[demuxlet] 'Genotype-based'\n",
       "\\item[vireo] 'Genotype-based'\n",
       "\\item[souporcell] 'Genotype-based'\n",
       "\\item[scsplit] 'Genotype-based'\n",
       "\\item[demuxalot] 'Genotype-based'\n",
       "\\item[freemuxlet] 'Genotype-free'\n",
       "\\item[vireo\\textbackslash{}\\_nogenos] 'Genotype-free'\n",
       "\\item[souporcell\\textbackslash{}\\_nogenos] 'Genotype-free'\n",
       "\\item[scsplit\\textbackslash{}\\_nogenos] 'Genotype-free'\n",
       "\\item[scavengers] 'Genotype-free'\n",
       "\\end{description*}\n"
      ],
      "text/markdown": [
       "demuxlet\n",
       ":   'Genotype-based'vireo\n",
       ":   'Genotype-based'souporcell\n",
       ":   'Genotype-based'scsplit\n",
       ":   'Genotype-based'demuxalot\n",
       ":   'Genotype-based'freemuxlet\n",
       ":   'Genotype-free'vireo_nogenos\n",
       ":   'Genotype-free'souporcell_nogenos\n",
       ":   'Genotype-free'scsplit_nogenos\n",
       ":   'Genotype-free'scavengers\n",
       ":   'Genotype-free'\n",
       "\n"
      ],
      "text/plain": [
       "          demuxlet              vireo         souporcell            scsplit \n",
       "  \"Genotype-based\"   \"Genotype-based\"   \"Genotype-based\"   \"Genotype-based\" \n",
       "         demuxalot         freemuxlet      vireo_nogenos souporcell_nogenos \n",
       "  \"Genotype-based\"    \"Genotype-free\"    \"Genotype-free\"    \"Genotype-free\" \n",
       "   scsplit_nogenos         scavengers \n",
       "   \"Genotype-free\"    \"Genotype-free\" "
      ]
     },
     "metadata": {},
     "output_type": "display_data"
    }
   ],
   "source": [
    "merged_order <- c('demuxlet', 'vireo', 'souporcell', 'scsplit',  'demuxalot',\n",
    "               'freemuxlet', 'vireo_nogenos', 'souporcell_nogenos', 'scsplit_nogenos', 'scavengers')\n",
    "names(demux_hex) <- merged_order\n",
    "method_classes <- c(rep('Genotype-based', 5), rep('Genotype-free', 5))\n",
    "class_dict <- setNames(method_classes, merged_order)\n",
    "class_dict"
   ]
  },
  {
   "cell_type": "code",
   "execution_count": 35,
   "id": "36266af6",
   "metadata": {},
   "outputs": [
    {
     "data": {
      "text/html": [
       "<table class=\"dataframe\">\n",
       "<caption>A data.frame: 6 × 5</caption>\n",
       "<thead>\n",
       "\t<tr><th></th><th scope=col>method</th><th scope=col>amb_prop</th><th scope=col>value</th><th scope=col>mod</th><th scope=col>method_class</th></tr>\n",
       "\t<tr><th></th><th scope=col>&lt;fct&gt;</th><th scope=col>&lt;int&gt;</th><th scope=col>&lt;dbl&gt;</th><th scope=col>&lt;chr&gt;</th><th scope=col>&lt;chr&gt;</th></tr>\n",
       "</thead>\n",
       "<tbody>\n",
       "\t<tr><th scope=row>0</th><td>demuxlet          </td><td>0</td><td>0.9939716</td><td>RNA</td><td>Genotype-based</td></tr>\n",
       "\t<tr><th scope=row>1</th><td>freemuxlet        </td><td>0</td><td>0.9707467</td><td>RNA</td><td>Genotype-free </td></tr>\n",
       "\t<tr><th scope=row>2</th><td>vireo             </td><td>0</td><td>1.0000000</td><td>RNA</td><td>Genotype-based</td></tr>\n",
       "\t<tr><th scope=row>3</th><td>vireo_nogenos     </td><td>0</td><td>0.9999722</td><td>RNA</td><td>Genotype-free </td></tr>\n",
       "\t<tr><th scope=row>4</th><td>souporcell        </td><td>0</td><td>1.0000000</td><td>RNA</td><td>Genotype-based</td></tr>\n",
       "\t<tr><th scope=row>5</th><td>souporcell_nogenos</td><td>0</td><td>1.0000000</td><td>RNA</td><td>Genotype-free </td></tr>\n",
       "</tbody>\n",
       "</table>\n"
      ],
      "text/latex": [
       "A data.frame: 6 × 5\n",
       "\\begin{tabular}{r|lllll}\n",
       "  & method & amb\\_prop & value & mod & method\\_class\\\\\n",
       "  & <fct> & <int> & <dbl> & <chr> & <chr>\\\\\n",
       "\\hline\n",
       "\t0 & demuxlet           & 0 & 0.9939716 & RNA & Genotype-based\\\\\n",
       "\t1 & freemuxlet         & 0 & 0.9707467 & RNA & Genotype-free \\\\\n",
       "\t2 & vireo              & 0 & 1.0000000 & RNA & Genotype-based\\\\\n",
       "\t3 & vireo\\_nogenos      & 0 & 0.9999722 & RNA & Genotype-free \\\\\n",
       "\t4 & souporcell         & 0 & 1.0000000 & RNA & Genotype-based\\\\\n",
       "\t5 & souporcell\\_nogenos & 0 & 1.0000000 & RNA & Genotype-free \\\\\n",
       "\\end{tabular}\n"
      ],
      "text/markdown": [
       "\n",
       "A data.frame: 6 × 5\n",
       "\n",
       "| <!--/--> | method &lt;fct&gt; | amb_prop &lt;int&gt; | value &lt;dbl&gt; | mod &lt;chr&gt; | method_class &lt;chr&gt; |\n",
       "|---|---|---|---|---|---|\n",
       "| 0 | demuxlet           | 0 | 0.9939716 | RNA | Genotype-based |\n",
       "| 1 | freemuxlet         | 0 | 0.9707467 | RNA | Genotype-free  |\n",
       "| 2 | vireo              | 0 | 1.0000000 | RNA | Genotype-based |\n",
       "| 3 | vireo_nogenos      | 0 | 0.9999722 | RNA | Genotype-free  |\n",
       "| 4 | souporcell         | 0 | 1.0000000 | RNA | Genotype-based |\n",
       "| 5 | souporcell_nogenos | 0 | 1.0000000 | RNA | Genotype-free  |\n",
       "\n"
      ],
      "text/plain": [
       "  method             amb_prop value     mod method_class  \n",
       "0 demuxlet           0        0.9939716 RNA Genotype-based\n",
       "1 freemuxlet         0        0.9707467 RNA Genotype-free \n",
       "2 vireo              0        1.0000000 RNA Genotype-based\n",
       "3 vireo_nogenos      0        0.9999722 RNA Genotype-free \n",
       "4 souporcell         0        1.0000000 RNA Genotype-based\n",
       "5 souporcell_nogenos 0        1.0000000 RNA Genotype-free "
      ]
     },
     "metadata": {},
     "output_type": "display_data"
    }
   ],
   "source": [
    "doub_merged_drop$method_class <- class_dict[doub_merged_drop$method]\n",
    "head(doub_merged_drop)"
   ]
  },
  {
   "cell_type": "code",
   "execution_count": 38,
   "id": "8cbb4582",
   "metadata": {},
   "outputs": [],
   "source": [
    "doub_merged_drop$method_class <- class_dict[doub_merged_drop$method]\n",
    "mux_merged_drop$method_class <- class_dict[mux_merged_drop$method]\n",
    "doub_merged_donor$method_class <- class_dict[doub_merged_donor$method]\n",
    "mux_merged_donor$method_class <- class_dict[mux_merged_donor$method]"
   ]
  },
  {
   "cell_type": "code",
   "execution_count": 40,
   "id": "4cebfbf0",
   "metadata": {},
   "outputs": [
    {
     "data": {
      "text/html": [
       "<table class=\"dataframe\">\n",
       "<caption>A data.frame: 6 × 5</caption>\n",
       "<thead>\n",
       "\t<tr><th></th><th scope=col>method</th><th scope=col>amb_prop</th><th scope=col>value</th><th scope=col>mod</th><th scope=col>method_class</th></tr>\n",
       "\t<tr><th></th><th scope=col>&lt;fct&gt;</th><th scope=col>&lt;int&gt;</th><th scope=col>&lt;dbl&gt;</th><th scope=col>&lt;chr&gt;</th><th scope=col>&lt;chr&gt;</th></tr>\n",
       "</thead>\n",
       "<tbody>\n",
       "\t<tr><th scope=row>0</th><td>demuxlet          </td><td>0</td><td>0.9939716</td><td>RNA</td><td>Genotype-based</td></tr>\n",
       "\t<tr><th scope=row>1</th><td>freemuxlet        </td><td>0</td><td>0.9707467</td><td>RNA</td><td>Genotype-free </td></tr>\n",
       "\t<tr><th scope=row>2</th><td>vireo             </td><td>0</td><td>1.0000000</td><td>RNA</td><td>Genotype-based</td></tr>\n",
       "\t<tr><th scope=row>3</th><td>vireo_nogenos     </td><td>0</td><td>0.9999722</td><td>RNA</td><td>Genotype-free </td></tr>\n",
       "\t<tr><th scope=row>4</th><td>souporcell        </td><td>0</td><td>1.0000000</td><td>RNA</td><td>Genotype-based</td></tr>\n",
       "\t<tr><th scope=row>5</th><td>souporcell_nogenos</td><td>0</td><td>1.0000000</td><td>RNA</td><td>Genotype-free </td></tr>\n",
       "</tbody>\n",
       "</table>\n"
      ],
      "text/latex": [
       "A data.frame: 6 × 5\n",
       "\\begin{tabular}{r|lllll}\n",
       "  & method & amb\\_prop & value & mod & method\\_class\\\\\n",
       "  & <fct> & <int> & <dbl> & <chr> & <chr>\\\\\n",
       "\\hline\n",
       "\t0 & demuxlet           & 0 & 0.9939716 & RNA & Genotype-based\\\\\n",
       "\t1 & freemuxlet         & 0 & 0.9707467 & RNA & Genotype-free \\\\\n",
       "\t2 & vireo              & 0 & 1.0000000 & RNA & Genotype-based\\\\\n",
       "\t3 & vireo\\_nogenos      & 0 & 0.9999722 & RNA & Genotype-free \\\\\n",
       "\t4 & souporcell         & 0 & 1.0000000 & RNA & Genotype-based\\\\\n",
       "\t5 & souporcell\\_nogenos & 0 & 1.0000000 & RNA & Genotype-free \\\\\n",
       "\\end{tabular}\n"
      ],
      "text/markdown": [
       "\n",
       "A data.frame: 6 × 5\n",
       "\n",
       "| <!--/--> | method &lt;fct&gt; | amb_prop &lt;int&gt; | value &lt;dbl&gt; | mod &lt;chr&gt; | method_class &lt;chr&gt; |\n",
       "|---|---|---|---|---|---|\n",
       "| 0 | demuxlet           | 0 | 0.9939716 | RNA | Genotype-based |\n",
       "| 1 | freemuxlet         | 0 | 0.9707467 | RNA | Genotype-free  |\n",
       "| 2 | vireo              | 0 | 1.0000000 | RNA | Genotype-based |\n",
       "| 3 | vireo_nogenos      | 0 | 0.9999722 | RNA | Genotype-free  |\n",
       "| 4 | souporcell         | 0 | 1.0000000 | RNA | Genotype-based |\n",
       "| 5 | souporcell_nogenos | 0 | 1.0000000 | RNA | Genotype-free  |\n",
       "\n"
      ],
      "text/plain": [
       "  method             amb_prop value     mod method_class  \n",
       "0 demuxlet           0        0.9939716 RNA Genotype-based\n",
       "1 freemuxlet         0        0.9707467 RNA Genotype-free \n",
       "2 vireo              0        1.0000000 RNA Genotype-based\n",
       "3 vireo_nogenos      0        0.9999722 RNA Genotype-free \n",
       "4 souporcell         0        1.0000000 RNA Genotype-based\n",
       "5 souporcell_nogenos 0        1.0000000 RNA Genotype-free "
      ]
     },
     "metadata": {},
     "output_type": "display_data"
    }
   ],
   "source": [
    "head(doub_merged_drop)"
   ]
  },
  {
   "cell_type": "code",
   "execution_count": 36,
   "id": "1b552da2",
   "metadata": {},
   "outputs": [],
   "source": [
    "# doub_merged_drop$method_class <- class_dict[doub_merged_drop$method[match(doub_merged_drop$method, names(class_dict))]]\n",
    "# mux_merged_drop$method_class <- class_dict[mux_merged_drop$method[match(mux_merged_drop$method, names(class_dict))]]\n",
    "# doub_merged_donor$method_class <- class_dict[doub_merged_donor$method[match(doub_merged_donor$method, names(class_dict))]]\n",
    "# mux_merged_donor$method_class <- class_dict[mux_merged_donor$method[match(mux_merged_donor$method, names(class_dict))]]"
   ]
  },
  {
   "cell_type": "code",
   "execution_count": 45,
   "id": "40616c6c",
   "metadata": {
    "scrolled": true
   },
   "outputs": [
    {
     "name": "stderr",
     "output_type": "stream",
     "text": [
      "\u001b[1m\u001b[22m`summarise()` has grouped output by 'method_class'. You can override using the\n",
      "`.groups` argument.\n",
      "\u001b[1m\u001b[22m`summarise()` has grouped output by 'method_class'. You can override using the\n",
      "`.groups` argument.\n",
      "\u001b[1m\u001b[22m`summarise()` has grouped output by 'method_class'. You can override using the\n",
      "`.groups` argument.\n",
      "\u001b[1m\u001b[22m`summarise()` has grouped output by 'method_class'. You can override using the\n",
      "`.groups` argument.\n"
     ]
    }
   ],
   "source": [
    "mean_doub_merged_drop <- doub_merged_drop %>%\n",
    "  group_by(method_class, mod) %>%   # Group by amb_prop\n",
    "  summarize(mean_value = mean(value, na.rm = TRUE))\n",
    "\n",
    "mean_doub_merged_donor <- doub_merged_donor %>%\n",
    "  group_by(method_class, mod) %>%   # Group by amb_prop\n",
    "  summarize(mean_value = mean(value, na.rm = TRUE))\n",
    "\n",
    "mean_mux_merged_drop <- mux_merged_drop %>%\n",
    "  group_by(method_class, mod) %>%   # Group by amb_prop\n",
    "  summarize(mean_value = mean(value, na.rm = TRUE))\n",
    "\n",
    "mean_mux_merged_donor <- mux_merged_donor %>%\n",
    "  group_by(method_class, mod) %>%   # Group by amb_prop\n",
    "  summarize(mean_value = mean(value, na.rm = TRUE))"
   ]
  },
  {
   "cell_type": "code",
   "execution_count": 46,
   "id": "6bd19c8c",
   "metadata": {
    "scrolled": false
   },
   "outputs": [
    {
     "data": {
      "text/html": [
       "<table class=\"dataframe\">\n",
       "<caption>A grouped_df: 4 × 3</caption>\n",
       "<thead>\n",
       "\t<tr><th scope=col>method_class</th><th scope=col>mod</th><th scope=col>mean_value</th></tr>\n",
       "\t<tr><th scope=col>&lt;chr&gt;</th><th scope=col>&lt;chr&gt;</th><th scope=col>&lt;dbl&gt;</th></tr>\n",
       "</thead>\n",
       "<tbody>\n",
       "\t<tr><td>Genotype-based</td><td>ATAC</td><td>0.9475272</td></tr>\n",
       "\t<tr><td>Genotype-based</td><td>RNA </td><td>0.9467580</td></tr>\n",
       "\t<tr><td>Genotype-free </td><td>ATAC</td><td>0.9336732</td></tr>\n",
       "\t<tr><td>Genotype-free </td><td>RNA </td><td>0.9361926</td></tr>\n",
       "</tbody>\n",
       "</table>\n"
      ],
      "text/latex": [
       "A grouped\\_df: 4 × 3\n",
       "\\begin{tabular}{lll}\n",
       " method\\_class & mod & mean\\_value\\\\\n",
       " <chr> & <chr> & <dbl>\\\\\n",
       "\\hline\n",
       "\t Genotype-based & ATAC & 0.9475272\\\\\n",
       "\t Genotype-based & RNA  & 0.9467580\\\\\n",
       "\t Genotype-free  & ATAC & 0.9336732\\\\\n",
       "\t Genotype-free  & RNA  & 0.9361926\\\\\n",
       "\\end{tabular}\n"
      ],
      "text/markdown": [
       "\n",
       "A grouped_df: 4 × 3\n",
       "\n",
       "| method_class &lt;chr&gt; | mod &lt;chr&gt; | mean_value &lt;dbl&gt; |\n",
       "|---|---|---|\n",
       "| Genotype-based | ATAC | 0.9475272 |\n",
       "| Genotype-based | RNA  | 0.9467580 |\n",
       "| Genotype-free  | ATAC | 0.9336732 |\n",
       "| Genotype-free  | RNA  | 0.9361926 |\n",
       "\n"
      ],
      "text/plain": [
       "  method_class   mod  mean_value\n",
       "1 Genotype-based ATAC 0.9475272 \n",
       "2 Genotype-based RNA  0.9467580 \n",
       "3 Genotype-free  ATAC 0.9336732 \n",
       "4 Genotype-free  RNA  0.9361926 "
      ]
     },
     "metadata": {},
     "output_type": "display_data"
    }
   ],
   "source": [
    "mean_doub_merged_drop"
   ]
  },
  {
   "cell_type": "code",
   "execution_count": 60,
   "id": "759dfcc6",
   "metadata": {},
   "outputs": [],
   "source": [
    "mod_order <- c('RNA', 'ATAC')"
   ]
  },
  {
   "cell_type": "code",
   "execution_count": 61,
   "id": "be5c515f",
   "metadata": {},
   "outputs": [],
   "source": [
    "mean_doub_merged_drop$mod <- factor(mean_doub_merged_drop$mod, levels = mod_order)\n",
    "mean_mux_merged_drop$mod <- factor(mean_mux_merged_drop$mod, levels = mod_order)\n",
    "mean_doub_merged_donor$mod <- factor(mean_doub_merged_donor$mod, levels = mod_order)\n",
    "mean_mux_merged_donor$mod <- factor(mean_mux_merged_donor$mod, levels = mod_order)"
   ]
  },
  {
   "cell_type": "code",
   "execution_count": 71,
   "id": "7e4dae73",
   "metadata": {},
   "outputs": [],
   "source": [
    "axis_size = 12\n",
    "title_size = 18\n",
    "ymax = 1.0\n",
    "ymin = 0.5\n",
    "palette = 'PuRd'"
   ]
  },
  {
   "cell_type": "code",
   "execution_count": 73,
   "id": "4f0dfeff",
   "metadata": {},
   "outputs": [
    {
     "data": {
      "image/png": "[encoded data removed]",
      "text/plain": [
       "plot without title"
      ]
     },
     "metadata": {
      "image/png": {
       "height": 480,
       "width": 480
      }
     },
     "output_type": "display_data"
    }
   ],
   "source": [
    "### for legend\n",
    "options(repr.plot.width=8, repr.plot.height=8)\n",
    "\n",
    "ggplot(mean_doub_merged_drop, aes(x = mod, y = mean_value, fill = method_class)) +\n",
    "  geom_bar(stat='identity',position='dodge') + \n",
    "  labs(x = \"Modality\", y = \"Accuracy\") +\n",
    "  theme_bw() +\n",
    "   theme(axis.text.x = element_text(size=axis_size,angle=45, hjust=0.6, vjust=0.6, color='black'),\n",
    "        axis.text.y = element_text(size=axis_size,angle=0, color='black'),\n",
    "        axis.title.x = element_text(size=axis_size),\n",
    "        axis.title.y = element_text(size=axis_size),\n",
    "        axis.line = element_line(color = \"black\"),\n",
    "         legend.key.size = unit(1, \"cm\"), \n",
    "     legend.title = element_text(size= 20),\n",
    "         legend.text = element_text(size = 16),\n",
    "         legend.position = 'right',\n",
    "        panel.grid = element_blank(),\n",
    "        plot.title = element_text(size = title_size, hjust = 0.5)) +\n",
    "    scale_fill_brewer(palette=palette) + \n",
    "  coord_cartesian(ylim = c(0, 1)) + \n",
    "labs(title = \"Accuracy, RNA\",fill='Method type') +\n",
    "  guides(color = guide_legend(title = 'Modality', override.aes = list(size = 1.5)),\n",
    "        shape = guide_legend(title = ''))"
   ]
  },
  {
   "cell_type": "code",
   "execution_count": 87,
   "id": "3bfe594c",
   "metadata": {},
   "outputs": [],
   "source": [
    "p1 <- ggplot(mean_doub_merged_drop, aes(x = mod, y = mean_value, fill = method_class)) +\n",
    "  geom_bar(stat='identity',position='dodge') + \n",
    "  labs(x = \"Modality\", y = \"Accuracy\") +\n",
    "  theme_bw() +\n",
    "   theme(axis.text.x = element_text(size=axis_size,angle=45, hjust=0.6, vjust=0.6, color='black'),\n",
    "        axis.text.y = element_text(size=axis_size,angle=0, color='black'),\n",
    "        axis.title.x = element_text(size=axis_size),\n",
    "        axis.title.y = element_text(size=axis_size),\n",
    "        axis.line = element_line(color = \"black\"),\n",
    "         legend.key.size = unit(1, \"cm\"), \n",
    "     legend.title = element_text(size= 20),\n",
    "         legend.text = element_text(size = 16),\n",
    "         legend.position = 'none',\n",
    "        panel.grid = element_blank(),\n",
    "        plot.title = element_text(size = title_size, hjust = 0.5)) +\n",
    "    scale_fill_brewer(palette=palette) + \n",
    "  coord_cartesian(ylim = c(0, 1)) + \n",
    "labs(title = \"Droplet-type, vary doublet rate\",fill='Method type')"
   ]
  },
  {
   "cell_type": "code",
   "execution_count": 94,
   "id": "0d67cf80",
   "metadata": {},
   "outputs": [],
   "source": [
    "p2 <- ggplot(mean_doub_merged_donor, aes(x = mod, y = mean_value, fill = method_class)) +\n",
    "  geom_bar(stat='identity',position='dodge') + \n",
    "  labs(x = \"Modality\", y = \"Accuracy\") +\n",
    "  theme_bw() +\n",
    "   theme(axis.text.x = element_text(size=axis_size,angle=45, hjust=0.6, vjust=0.6, color='black'),\n",
    "        axis.text.y = element_text(size=axis_size,angle=0, color='black'),\n",
    "        axis.title.x = element_text(size=axis_size),\n",
    "        axis.title.y = element_text(size=axis_size),\n",
    "        axis.line = element_line(color = \"black\"),\n",
    "         legend.key.size = unit(1, \"cm\"), \n",
    "     legend.title = element_text(size= 20),\n",
    "         legend.text = element_text(size = 16),\n",
    "         legend.position = 'none',\n",
    "        panel.grid = element_blank(),\n",
    "        plot.title = element_text(size = title_size, hjust = 0.5)) +\n",
    "    scale_fill_brewer(palette=palette) + \n",
    "  coord_cartesian(ylim = c(0, 1)) + \n",
    "labs(title = \"Singleton-donor, vary doublet rate\",fill='Method type')"
   ]
  },
  {
   "cell_type": "code",
   "execution_count": 95,
   "id": "21e732d0",
   "metadata": {},
   "outputs": [],
   "source": [
    "p3 <- ggplot(mean_doub_merged_drop, aes(x = mod, y = mean_value, fill = method_class)) +\n",
    "  geom_bar(stat='identity',position='dodge') + \n",
    "  labs(x = \"Modality\", y = \"Accuracy\") +\n",
    "  theme_bw() +\n",
    "   theme(axis.text.x = element_text(size=axis_size,angle=45, hjust=0.6, vjust=0.6, color='black'),\n",
    "        axis.text.y = element_text(size=axis_size,angle=0, color='black'),\n",
    "        axis.title.x = element_text(size=axis_size),\n",
    "        axis.title.y = element_text(size=axis_size),\n",
    "        axis.line = element_line(color = \"black\"),\n",
    "         legend.key.size = unit(1, \"cm\"), \n",
    "     legend.title = element_text(size= 20),\n",
    "         legend.text = element_text(size = 16),\n",
    "         legend.position = 'none',\n",
    "        panel.grid = element_blank(),\n",
    "        plot.title = element_text(size = title_size, hjust = 0.5)) +\n",
    "    scale_fill_brewer(palette=palette) + \n",
    "  coord_cartesian(ylim = c(0, 1)) + \n",
    "labs(title = \"Droplet-type, vary num muxed\",fill='Method type')"
   ]
  },
  {
   "cell_type": "code",
   "execution_count": 96,
   "id": "c4363442",
   "metadata": {},
   "outputs": [],
   "source": [
    "p4 <- ggplot(mean_mux_merged_donor, aes(x = mod, y = mean_value, fill = method_class)) +\n",
    "  geom_bar(stat='identity',position='dodge') + \n",
    "  labs(x = \"Modality\", y = \"Accuracy\") +\n",
    "  theme_bw() +\n",
    "   theme(axis.text.x = element_text(size=axis_size,angle=45, hjust=0.6, vjust=0.6, color='black'),\n",
    "        axis.text.y = element_text(size=axis_size,angle=0, color='black'),\n",
    "        axis.title.x = element_text(size=axis_size),\n",
    "        axis.title.y = element_text(size=axis_size),\n",
    "        axis.line = element_line(color = \"black\"),\n",
    "         legend.key.size = unit(1, \"cm\"), \n",
    "     legend.title = element_text(size= 20),\n",
    "         legend.text = element_text(size = 16),\n",
    "         legend.position = 'none',\n",
    "        panel.grid = element_blank(),\n",
    "        plot.title = element_text(size = title_size, hjust = 0.5)) +\n",
    "    scale_fill_brewer(palette=palette) + \n",
    "  coord_cartesian(ylim = c(0, 1)) + \n",
    "labs(title = \"Singleton-donor, vary num muxed\",fill='Method type')"
   ]
  },
  {
   "cell_type": "code",
   "execution_count": 97,
   "id": "f0870e46",
   "metadata": {},
   "outputs": [
    {
     "data": {
      "image/png": "[encoded data removed]",
      "text/plain": [
       "plot without title"
      ]
     },
     "metadata": {
      "image/png": {
       "height": 600,
       "width": 600
      }
     },
     "output_type": "display_data"
    }
   ],
   "source": [
    "options(repr.plot.width=10, repr.plot.height=10)\n",
    "prow <- plot_grid(p1, p2, p3, p4,\n",
    "  align = 'h',\n",
    "#   labels = c('A', 'B', 'C', 'D'),\n",
    "    labels = c('', '', '', ''),\n",
    "  nrow = 2\n",
    ")\n",
    "# combined_plot <- plot_grid(prow, rel_widths = c(1,1), width=400)\n",
    "combined_plot <- plot_grid(prow)\n",
    "final_plot <- ggdraw() +\n",
    "  draw_text('Mean accuracy between method classes', x = 0.55, y = 0.98, hjust = 0.5, vjust = 1,\n",
    "            size = 25, color = \"black\", family = \"arial\") +\n",
    "  draw_plot(combined_plot, x = 0, y = 0, width = 1, height = 0.9)\n",
    "\n",
    "# Show the final plot\n",
    "print(final_plot)"
   ]
  },
  {
   "cell_type": "code",
   "execution_count": null,
   "id": "785d6484",
   "metadata": {},
   "outputs": [],
   "source": []
  },
  {
   "cell_type": "code",
   "execution_count": null,
   "id": "18344e74",
   "metadata": {},
   "outputs": [],
   "source": []
  }
 ],
 "metadata": {
  "kernelspec": {
   "display_name": "R 4.1.0",
   "language": "R",
   "name": "ir410"
  },
  "language_info": {
   "codemirror_mode": "r",
   "file_extension": ".r",
   "mimetype": "text/x-r-source",
   "name": "R",
   "pygments_lexer": "r",
   "version": "4.1.0"
  }
 },
 "nbformat": 4,
 "nbformat_minor": 5
}
