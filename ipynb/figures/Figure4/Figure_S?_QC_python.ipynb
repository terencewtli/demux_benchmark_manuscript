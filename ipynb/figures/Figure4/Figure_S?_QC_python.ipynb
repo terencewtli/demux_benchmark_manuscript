{
 "cells": [
  {
   "cell_type": "code",
   "execution_count": 1,
   "id": "7cfb208b",
   "metadata": {},
   "outputs": [],
   "source": [
    "import numpy as np\n",
    "import pandas as pd\n",
    "import matplotlib.pyplot as plt\n",
    "import seaborn as sns"
   ]
  },
  {
   "cell_type": "code",
   "execution_count": 2,
   "id": "2316f9bd",
   "metadata": {},
   "outputs": [],
   "source": [
    "projdir = '/u/home/t/terencew/project-cluo/igvf/pilot/multiome'\n",
    "donors = np.loadtxt(f'{projdir}/txt/donors.txt', dtype=str)\n",
    "samples = np.loadtxt(f'{projdir}/txt/samples.txt', dtype=str)\n",
    "s = samples[0]"
   ]
  },
  {
   "cell_type": "code",
   "execution_count": 4,
   "id": "af6b2585",
   "metadata": {},
   "outputs": [
    {
     "name": "stdout",
     "output_type": "stream",
     "text": [
      "adelus_donor_atac.csv\t\t gex_atac_overlap.csv\r\n",
      "adelus_donor_gex.csv\t\t igvf_donor_atac.csv\r\n",
      "adelus_joint_upset.csv\t\t igvf_donor_gex.csv\r\n",
      "adelus_overlap_atac.csv\t\t igvf_joint_upset.csv\r\n",
      "adelus_overlap_gex.csv\t\t igvf_merged.csv\r\n",
      "adelus_overlap_merged.csv\t igvf_overlap_atac_ambimux.csv\r\n",
      "adelus_upset.csv\t\t igvf_overlap_atac.csv\r\n",
      "figure_4c_igvf_mean.csv\t\t igvf_overlap_gex_ambimux.csv\r\n",
      "figure_4d_inter.csv\t\t igvf_overlap_gex.csv\r\n",
      "figure_4d_inter_droplet.csv\t igvf_overlap_merged.csv\r\n",
      "figure_4d_inter_indivs.csv\t indiv_overlap.csv\r\n",
      "figure_s7_atac_dist_ambimux.csv  inter_atac_singlets.csv\r\n",
      "figure_s7_atac_dist.csv\t\t inter_gex_singlets.csv\r\n",
      "figure_s7_gex_dist_ambimux.csv\t overlap.csv\r\n",
      "figure_s7_gex_dist.csv\t\t sing_overlap.csv\r\n",
      "figure_S8_atac_dbl.csv\t\t status_atac.csv\r\n",
      "figure_S8_gex_dbl.csv\t\t status_gex.csv\r\n"
     ]
    }
   ],
   "source": [
    "!ls {projdir}/csv/final_figures/figure4/"
   ]
  },
  {
   "cell_type": "code",
   "execution_count": 1,
   "id": "ea4230be",
   "metadata": {},
   "outputs": [],
   "source": [
    "# pd.read_csv(f'{projdir}/csv/final_figures/figure4/', sep='\\t', header=0, index_col=0)"
   ]
  },
  {
   "cell_type": "code",
   "execution_count": null,
   "id": "387ceb8d",
   "metadata": {},
   "outputs": [],
   "source": []
  }
 ],
 "metadata": {
  "kernelspec": {
   "display_name": "scFates",
   "language": "python",
   "name": "scfates"
  },
  "language_info": {
   "codemirror_mode": {
    "name": "ipython",
    "version": 3
   },
   "file_extension": ".py",
   "mimetype": "text/x-python",
   "name": "python",
   "nbconvert_exporter": "python",
   "pygments_lexer": "ipython3",
   "version": "3.11.8"
  }
 },
 "nbformat": 4,
 "nbformat_minor": 5
}
