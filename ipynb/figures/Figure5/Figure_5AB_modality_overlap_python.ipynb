{
 "cells": [
  {
   "cell_type": "code",
   "execution_count": 1,
   "id": "214b8e1c",
   "metadata": {},
   "outputs": [],
   "source": [
    "import numpy as np\n",
    "import pandas as pd\n",
    "import matplotlib.pyplot as plt\n",
    "import seaborn as sns"
   ]
  },
  {
   "cell_type": "code",
   "execution_count": 2,
   "id": "273148ce",
   "metadata": {},
   "outputs": [],
   "source": [
    "projdir = '/u/home/t/terencew/project-cluo/igvf/pilot/multiome'\n",
    "donors = np.loadtxt(f'{projdir}/txt/donors.txt', dtype=str)\n",
    "samples = np.loadtxt(f'{projdir}/txt/samples.txt', dtype=str)\n",
    "s = samples[0]"
   ]
  },
  {
   "cell_type": "code",
   "execution_count": 79,
   "id": "1bfa379b",
   "metadata": {},
   "outputs": [],
   "source": [
    "igvf_gex = pd.read_csv(f'{projdir}/csv/demux/singlet_gex.csv', sep='\\t', header=0,\n",
    "                          index_col=0)\n",
    "igvf_atac = pd.read_csv(f'{projdir}/csv/demux/singlet_atac.csv', sep='\\t', header=0,\n",
    "                           index_col=0)"
   ]
  },
  {
   "cell_type": "code",
   "execution_count": 80,
   "id": "9ddfcdee",
   "metadata": {},
   "outputs": [],
   "source": [
    "gex_igvf = pd.DataFrame(np.sum(igvf_gex, axis=1).value_counts().sort_index(ascending=False))\n",
    "atac_igvf = pd.DataFrame(np.sum(igvf_atac, axis=1).value_counts().sort_index(ascending=False))\n",
    "\n",
    "gex_igvf[1] = gex_igvf.index\n",
    "atac_igvf[1] = atac_igvf.index\n",
    "cols = ['# droplets', '# methods overlapping']\n",
    "gex_igvf.columns = cols\n",
    "atac_igvf.columns = cols\n",
    "gex_igvf['mod'] = 'RNA'\n",
    "atac_igvf['mod'] = 'ATAC'\n",
    "merged_igvf = pd.concat([gex_igvf, atac_igvf])"
   ]
  },
  {
   "cell_type": "code",
   "execution_count": 82,
   "id": "42a20259",
   "metadata": {},
   "outputs": [
    {
     "data": {
      "text/plain": [
       "<AxesSubplot:xlabel='# methods overlapping', ylabel='# droplets'>"
      ]
     },
     "execution_count": 82,
     "metadata": {},
     "output_type": "execute_result"
    },
    {
     "data": {
      "image/png": "[encoded data removed]",
      "text/plain": [
       "<Figure size 432x288 with 1 Axes>"
      ]
     },
     "metadata": {
      "needs_background": "light"
     },
     "output_type": "display_data"
    }
   ],
   "source": [
    "sns.barplot(merged_igvf, x='# methods overlapping', y='# droplets', hue='mod')"
   ]
  },
  {
   "cell_type": "code",
   "execution_count": 83,
   "id": "7e446ad0",
   "metadata": {},
   "outputs": [],
   "source": [
    "# merged_dist.to_csv(f'{projdir})"
   ]
  },
  {
   "cell_type": "code",
   "execution_count": 67,
   "id": "0628a04a",
   "metadata": {},
   "outputs": [],
   "source": []
  },
  {
   "cell_type": "code",
   "execution_count": 88,
   "id": "e45571bf",
   "metadata": {},
   "outputs": [],
   "source": [
    "# select = ['demuxlet', 'vireo', 'souporcell']\n",
    "select = ['demuxlet', 'vireo', 'souporcell', 'vireo_nogenos', 'souporcell_nogenos']\n",
    "sub_gex = igvf_gex[select]\n",
    "sub_atac = igvf_atac[select]\n",
    "\n",
    "sub_gex_igvf = pd.DataFrame(np.sum(sub_gex, axis=1).value_counts().sort_index(ascending=False))\n",
    "sub_atac_igvf = pd.DataFrame(np.sum(sub_atac, axis=1).value_counts().sort_index(ascending=False))\n",
    "\n",
    "sub_gex_igvf[1] = sub_gex_igvf.index\n",
    "sub_atac_igvf[1] = sub_atac_igvf.index\n",
    "\n",
    "cols = ['# droplets', '# methods overlapping']\n",
    "sub_gex_igvf.columns = cols\n",
    "sub_atac_igvf.columns = cols\n",
    "\n",
    "sub_gex_igvf['mod'] = 'RNA'\n",
    "sub_atac_igvf['mod'] = 'ATAC'\n",
    "sub_merged_igvf = pd.concat([sub_gex_igvf, sub_atac_igvf])"
   ]
  },
  {
   "cell_type": "code",
   "execution_count": 89,
   "id": "bb389063",
   "metadata": {},
   "outputs": [
    {
     "data": {
      "text/plain": [
       "<AxesSubplot:xlabel='# methods overlapping', ylabel='# droplets'>"
      ]
     },
     "execution_count": 89,
     "metadata": {},
     "output_type": "execute_result"
    },
    {
     "data": {
      "image/png": "[encoded data removed]",
      "text/plain": [
       "<Figure size 432x288 with 1 Axes>"
      ]
     },
     "metadata": {
      "needs_background": "light"
     },
     "output_type": "display_data"
    }
   ],
   "source": [
    "sns.barplot(sub_merged_igvf, x='# methods overlapping', y='# droplets', hue='mod')"
   ]
  },
  {
   "cell_type": "markdown",
   "id": "e6d19a3b",
   "metadata": {},
   "source": [
    "### adelus"
   ]
  },
  {
   "cell_type": "code",
   "execution_count": 92,
   "id": "d3ead9dc",
   "metadata": {},
   "outputs": [],
   "source": [
    "adelus_dir = '/u/project/cluo/terencew/demux_benchmark/adelus_2023/'"
   ]
  },
  {
   "cell_type": "code",
   "execution_count": 95,
   "id": "392a47c9",
   "metadata": {},
   "outputs": [],
   "source": [
    "adelus_gex = pd.read_csv(f'{adelus_dir}/csv/demux/singlet_gex.csv', sep='\\t', header=0,\n",
    "                          index_col=0)\n",
    "adelus_atac = pd.read_csv(f'{adelus_dir}/csv/demux/singlet_atac.csv', sep='\\t', header=0,\n",
    "                           index_col=0)"
   ]
  },
  {
   "cell_type": "code",
   "execution_count": 96,
   "id": "06f2fa1b",
   "metadata": {},
   "outputs": [],
   "source": [
    "gex_adelus = pd.DataFrame(np.sum(adelus_gex, axis=1).value_counts().sort_index(ascending=False))\n",
    "atac_adelus = pd.DataFrame(np.sum(adelus_atac, axis=1).value_counts().sort_index(ascending=False))\n",
    "\n",
    "gex_adelus[1] = gex_adelus.index\n",
    "atac_adelus[1] = atac_adelus.index\n",
    "cols = ['# droplets', '# methods overlapping']\n",
    "gex_adelus.columns = cols\n",
    "atac_adelus.columns = cols\n",
    "gex_adelus['mod'] = 'RNA'\n",
    "atac_adelus['mod'] = 'ATAC'\n",
    "merged_adelus = pd.concat([gex_adelus, atac_adelus])"
   ]
  },
  {
   "cell_type": "code",
   "execution_count": 97,
   "id": "62bb7693",
   "metadata": {},
   "outputs": [
    {
     "data": {
      "text/plain": [
       "<AxesSubplot:xlabel='# methods overlapping', ylabel='# droplets'>"
      ]
     },
     "execution_count": 97,
     "metadata": {},
     "output_type": "execute_result"
    },
    {
     "data": {
      "image/png": "[encoded data removed]",
      "text/plain": [
       "<Figure size 432x288 with 1 Axes>"
      ]
     },
     "metadata": {
      "needs_background": "light"
     },
     "output_type": "display_data"
    }
   ],
   "source": [
    "sns.barplot(merged_dist, x='# methods overlapping', y='# droplets', hue='mod')"
   ]
  },
  {
   "cell_type": "code",
   "execution_count": 98,
   "id": "326cb38a",
   "metadata": {},
   "outputs": [],
   "source": [
    "# select = ['demuxlet', 'vireo', 'souporcell']\n",
    "select = ['demuxlet', 'vireo', 'souporcell', 'vireo_nogenos', 'souporcell_nogenos']\n",
    "sub_gex = adelus_gex[select]\n",
    "sub_atac = adelus_atac[select]\n",
    "\n",
    "sub_gex_adelus = pd.DataFrame(np.sum(sub_gex, axis=1).value_counts().sort_index(ascending=False))\n",
    "sub_atac_adelus = pd.DataFrame(np.sum(sub_atac, axis=1).value_counts().sort_index(ascending=False))\n",
    "\n",
    "sub_gex_adelus[1] = sub_gex_adelus.index\n",
    "sub_atac_adelus[1] = sub_atac_adelus.index\n",
    "\n",
    "cols = ['# droplets', '# methods overlapping']\n",
    "sub_gex_adelus.columns = cols\n",
    "sub_atac_adelus.columns = cols\n",
    "\n",
    "sub_gex_adelus['mod'] = 'RNA'\n",
    "sub_atac_adelus['mod'] = 'ATAC'\n",
    "sub_merged_adelus = pd.concat([sub_gex_adelus, sub_atac_adelus])"
   ]
  },
  {
   "cell_type": "code",
   "execution_count": null,
   "id": "af7e0db1",
   "metadata": {},
   "outputs": [],
   "source": [
    "sns.barplot(sub_merged_dist, x='# methods overlapping', y='# droplets', hue='mod')"
   ]
  }
 ],
 "metadata": {
  "kernelspec": {
   "display_name": "allcools",
   "language": "python",
   "name": "allcools"
  },
  "language_info": {
   "codemirror_mode": {
    "name": "ipython",
    "version": 3
   },
   "file_extension": ".py",
   "mimetype": "text/x-python",
   "name": "python",
   "nbconvert_exporter": "python",
   "pygments_lexer": "ipython3",
   "version": "3.7.13"
  }
 },
 "nbformat": 4,
 "nbformat_minor": 5
}
