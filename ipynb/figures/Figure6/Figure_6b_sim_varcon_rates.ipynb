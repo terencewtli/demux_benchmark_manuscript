{
 "cells": [
  {
   "cell_type": "code",
   "execution_count": 1,
   "id": "ea2eda3e",
   "metadata": {},
   "outputs": [],
   "source": [
    "import numpy as np\n",
    "import pandas as pd\n",
    "import matplotlib.pyplot as plt\n",
    "import seaborn as sns\n",
    "from scipy.io import mmread, mmwrite"
   ]
  },
  {
   "cell_type": "code",
   "execution_count": 2,
   "id": "93e38d97",
   "metadata": {},
   "outputs": [],
   "source": [
    "projdir = '/u/home/t/terencew/project-cluo/igvf/pilot/multiome/'\n",
    "donors = list(np.loadtxt(f'{projdir}/txt/donors.txt', dtype=str))\n",
    "samples = list(np.loadtxt(f'{projdir}/txt/samples.txt', dtype=str))\n",
    "s = samples[0]\n",
    "\n",
    "gex_methods = ['demuxlet', 'freemuxlet', 'vireo', 'vireo_nogenos',\n",
    "    'souporcell', 'souporcell_nogenos', 'demuxalot']\n",
    "atac_methods = ['demuxlet', 'freemuxlet',  'vireo', 'vireo_nogenos',\n",
    "    'souporcell', 'souporcell_nogenos']\n",
    "\n",
    "con_cols = ['C1', 'C2', 'I1', 'I2']\n",
    "cov_thresh = [0, 10, 20]\n",
    "final_con_cols = ['C1', 'C2', 'I1', 'I2', 'DP', 'Consistent rate', 'Inconsistent rate',\n",
    "       'C1 rate', 'C2 rate', 'I1 rate', 'I2 rate']"
   ]
  },
  {
   "cell_type": "code",
   "execution_count": 3,
   "id": "3c84cd2a",
   "metadata": {},
   "outputs": [],
   "source": [
    "pd_exps = ['0_20', '10_20', '20_20', '30_20']\n",
    "mux_exps = ['2_20', '6_20', '8_20', '10_20', '12_20', '14_20', '16_20']"
   ]
  },
  {
   "cell_type": "code",
   "execution_count": 4,
   "id": "fd2b3d57",
   "metadata": {},
   "outputs": [
    {
     "name": "stdout",
     "output_type": "stream",
     "text": [
      "ls: cannot access {indir}/: No such file or directory\r\n"
     ]
    }
   ],
   "source": [
    "!ls {indir}/"
   ]
  },
  {
   "cell_type": "code",
   "execution_count": 5,
   "id": "66e3de1d",
   "metadata": {},
   "outputs": [],
   "source": [
    "def process_con(con):\n",
    "    con['DP'] = np.sum(con.iloc[:,:4], axis=1)\n",
    "    con['Consistent rate'] = (con['C1'] + con['C2']) / con['DP']\n",
    "    con['Inconsistent rate'] = 1 - con['Consistent rate']\n",
    "    con['C1 rate'] = con['C1'] / con['DP']\n",
    "    con['C2 rate'] = con['C2'] / con['DP']\n",
    "    con['I1 rate'] = con['I1'] / con['DP']\n",
    "    con['I2 rate'] = con['I2'] / con['DP']\n",
    "    return con"
   ]
  },
  {
   "cell_type": "code",
   "execution_count": 6,
   "id": "18c34d96",
   "metadata": {},
   "outputs": [
    {
     "name": "stdout",
     "output_type": "stream",
     "text": [
      "0_20\n",
      "10_20\n",
      "20_20\n",
      "30_20\n"
     ]
    }
   ],
   "source": [
    "cov = 0\n",
    "indir = f'{projdir}/ambient/ambisim/prop_doub/csv/var_consistency/'\n",
    "exp = pd_exps[0]\n",
    "\n",
    "pd_gex_0 = pd.DataFrame(index=pd_exps, columns=final_con_cols, data=0)\n",
    "pd_atac_0 = pd.DataFrame(index=pd_exps, columns=final_con_cols, data=0)\n",
    "\n",
    "for exp in pd_exps:\n",
    "    print(exp)\n",
    "    gex_truth_con = pd.read_csv(f'{indir}/gex/{s}/{exp}_cov{cov}_truth.csv', sep='\\t', header=0, index_col=0)\n",
    "    tmp_gex = pd.DataFrame(np.sum(gex_truth_con.drop(columns=['donor']), axis=0)).transpose()\n",
    "    pd_gex_0.loc[exp] = process_con(tmp_gex).values[0]\n",
    "    \n",
    "    atac_truth_con = pd.read_csv(f'{indir}/atac/{s}/{exp}_cov{cov}_truth.csv', sep='\\t', header=0, index_col=0)\n",
    "    tmp_atac = pd.DataFrame(np.sum(atac_truth_con.drop(columns=['donor']), axis=0)).transpose()\n",
    "    pd_atac_0.loc[exp] = process_con(tmp_atac).values[0]"
   ]
  },
  {
   "cell_type": "code",
   "execution_count": 7,
   "id": "32e0e3b0",
   "metadata": {},
   "outputs": [
    {
     "name": "stdout",
     "output_type": "stream",
     "text": [
      "0_20\n",
      "10_20\n",
      "20_20\n",
      "30_20\n"
     ]
    }
   ],
   "source": [
    "cov = 10\n",
    "indir = f'{projdir}/ambient/ambisim/prop_doub/csv/var_consistency/'\n",
    "exp = pd_exps[0]\n",
    "\n",
    "pd_gex_10 = pd.DataFrame(index=pd_exps, columns=final_con_cols, data=0)\n",
    "pd_atac_10 = pd.DataFrame(index=pd_exps, columns=final_con_cols, data=0)\n",
    "\n",
    "for exp in pd_exps:\n",
    "    print(exp)\n",
    "    gex_truth_con = pd.read_csv(f'{indir}/gex/{s}/{exp}_cov{cov}_truth.csv', sep='\\t', header=0, index_col=0)\n",
    "    tmp_gex = pd.DataFrame(np.sum(gex_truth_con.drop(columns=['donor']), axis=0)).transpose()\n",
    "    pd_gex_10.loc[exp] = process_con(tmp_gex).values[0]\n",
    "    \n",
    "    atac_truth_con = pd.read_csv(f'{indir}/atac/{s}/{exp}_cov{cov}_truth.csv', sep='\\t', header=0, index_col=0)\n",
    "    tmp_atac = pd.DataFrame(np.sum(atac_truth_con.drop(columns=['donor']), axis=0)).transpose()\n",
    "    pd_atac_10.loc[exp] = process_con(tmp_atac).values[0]"
   ]
  },
  {
   "cell_type": "code",
   "execution_count": 8,
   "id": "2b405a7c",
   "metadata": {},
   "outputs": [
    {
     "name": "stdout",
     "output_type": "stream",
     "text": [
      "0_20\n",
      "10_20\n",
      "20_20\n",
      "30_20\n"
     ]
    }
   ],
   "source": [
    "cov = 20\n",
    "indir = f'{projdir}/ambient/ambisim/prop_doub/csv/var_consistency/'\n",
    "exp = pd_exps[0]\n",
    "\n",
    "pd_gex_20 = pd.DataFrame(index=pd_exps, columns=final_con_cols, data=0)\n",
    "pd_atac_20 = pd.DataFrame(index=pd_exps, columns=final_con_cols, data=0)\n",
    "\n",
    "for exp in pd_exps:\n",
    "    print(exp)\n",
    "    gex_truth_con = pd.read_csv(f'{indir}/gex/{s}/{exp}_cov{cov}_truth.csv', sep='\\t', header=0, index_col=0)\n",
    "    tmp_gex = pd.DataFrame(np.sum(gex_truth_con.drop(columns=['donor']), axis=0)).transpose()\n",
    "    pd_gex_20.loc[exp] = process_con(tmp_gex).values[0]\n",
    "    \n",
    "    atac_truth_con = pd.read_csv(f'{indir}/atac/{s}/{exp}_cov{cov}_truth.csv', sep='\\t', header=0, index_col=0)\n",
    "    tmp_atac = pd.DataFrame(np.sum(atac_truth_con.drop(columns=['donor']), axis=0)).transpose()\n",
    "    pd_atac_20.loc[exp] = process_con(tmp_atac).values[0]"
   ]
  },
  {
   "cell_type": "code",
   "execution_count": 9,
   "id": "9310108e",
   "metadata": {},
   "outputs": [
    {
     "name": "stderr",
     "output_type": "stream",
     "text": [
      "/u/home/t/terencew/project-cluo/miniconda3/envs/allcools/lib/python3.7/site-packages/ipykernel_launcher.py:6: SettingWithCopyWarning: \n",
      "A value is trying to be set on a copy of a slice from a DataFrame.\n",
      "Try using .loc[row_indexer,col_indexer] = value instead\n",
      "\n",
      "See the caveats in the documentation: https://pandas.pydata.org/pandas-docs/stable/user_guide/indexing.html#returning-a-view-versus-a-copy\n",
      "  \n",
      "/u/home/t/terencew/project-cluo/miniconda3/envs/allcools/lib/python3.7/site-packages/ipykernel_launcher.py:7: SettingWithCopyWarning: \n",
      "A value is trying to be set on a copy of a slice from a DataFrame.\n",
      "Try using .loc[row_indexer,col_indexer] = value instead\n",
      "\n",
      "See the caveats in the documentation: https://pandas.pydata.org/pandas-docs/stable/user_guide/indexing.html#returning-a-view-versus-a-copy\n",
      "  import sys\n",
      "/u/home/t/terencew/project-cluo/miniconda3/envs/allcools/lib/python3.7/site-packages/ipykernel_launcher.py:8: SettingWithCopyWarning: \n",
      "A value is trying to be set on a copy of a slice from a DataFrame.\n",
      "Try using .loc[row_indexer,col_indexer] = value instead\n",
      "\n",
      "See the caveats in the documentation: https://pandas.pydata.org/pandas-docs/stable/user_guide/indexing.html#returning-a-view-versus-a-copy\n",
      "  \n"
     ]
    }
   ],
   "source": [
    "select = ['C1 rate', 'C2 rate', 'I1 rate', 'I2 rate']\n",
    "tmp_gex_0 = pd_gex_0[select]\n",
    "tmp_gex_10 = pd_gex_10[select]\n",
    "tmp_gex_20 = pd_gex_20[select]\n",
    "\n",
    "tmp_gex_0['coverage'] = 0\n",
    "tmp_gex_10['coverage'] = 10\n",
    "tmp_gex_20['coverage'] = 20\n",
    "gex_cov = pd.concat([tmp_gex_0, tmp_gex_10, tmp_gex_20])\n",
    "gex_cov['prop'] = [x.split('_')[0] for x in gex_cov.index]"
   ]
  },
  {
   "cell_type": "code",
   "execution_count": 10,
   "id": "28b41f8a",
   "metadata": {},
   "outputs": [
    {
     "name": "stderr",
     "output_type": "stream",
     "text": [
      "/u/home/t/terencew/project-cluo/miniconda3/envs/allcools/lib/python3.7/site-packages/ipykernel_launcher.py:6: SettingWithCopyWarning: \n",
      "A value is trying to be set on a copy of a slice from a DataFrame.\n",
      "Try using .loc[row_indexer,col_indexer] = value instead\n",
      "\n",
      "See the caveats in the documentation: https://pandas.pydata.org/pandas-docs/stable/user_guide/indexing.html#returning-a-view-versus-a-copy\n",
      "  \n",
      "/u/home/t/terencew/project-cluo/miniconda3/envs/allcools/lib/python3.7/site-packages/ipykernel_launcher.py:7: SettingWithCopyWarning: \n",
      "A value is trying to be set on a copy of a slice from a DataFrame.\n",
      "Try using .loc[row_indexer,col_indexer] = value instead\n",
      "\n",
      "See the caveats in the documentation: https://pandas.pydata.org/pandas-docs/stable/user_guide/indexing.html#returning-a-view-versus-a-copy\n",
      "  import sys\n",
      "/u/home/t/terencew/project-cluo/miniconda3/envs/allcools/lib/python3.7/site-packages/ipykernel_launcher.py:8: SettingWithCopyWarning: \n",
      "A value is trying to be set on a copy of a slice from a DataFrame.\n",
      "Try using .loc[row_indexer,col_indexer] = value instead\n",
      "\n",
      "See the caveats in the documentation: https://pandas.pydata.org/pandas-docs/stable/user_guide/indexing.html#returning-a-view-versus-a-copy\n",
      "  \n"
     ]
    }
   ],
   "source": [
    "select = ['C1 rate', 'C2 rate', 'I1 rate', 'I2 rate']\n",
    "tmp_atac_0 = pd_atac_0[select]\n",
    "tmp_atac_10 = pd_atac_10[select]\n",
    "tmp_atac_20 = pd_atac_20[select]\n",
    "\n",
    "tmp_atac_0['coverage'] = 0\n",
    "tmp_atac_10['coverage'] = 10\n",
    "tmp_atac_20['coverage'] = 20\n",
    "atac_cov = pd.concat([tmp_atac_0, tmp_atac_10, tmp_atac_20])\n",
    "atac_cov['prop'] = [x.split('_')[0] for x in atac_cov.index]"
   ]
  },
  {
   "cell_type": "code",
   "execution_count": 11,
   "id": "b332c29c",
   "metadata": {},
   "outputs": [],
   "source": [
    "tmp_gex_cov = gex_cov[gex_cov['coverage'] == 0]\n",
    "tmp_atac_cov = atac_cov[atac_cov['coverage'] == 0]"
   ]
  },
  {
   "cell_type": "code",
   "execution_count": 48,
   "id": "545c3950",
   "metadata": {},
   "outputs": [
    {
     "data": {
      "text/html": [
       "<div>\n",
       "<style scoped>\n",
       "    .dataframe tbody tr th:only-of-type {\n",
       "        vertical-align: middle;\n",
       "    }\n",
       "\n",
       "    .dataframe tbody tr th {\n",
       "        vertical-align: top;\n",
       "    }\n",
       "\n",
       "    .dataframe thead th {\n",
       "        text-align: right;\n",
       "    }\n",
       "</style>\n",
       "<table border=\"1\" class=\"dataframe\">\n",
       "  <thead>\n",
       "    <tr style=\"text-align: right;\">\n",
       "      <th></th>\n",
       "      <th>C1 rate</th>\n",
       "      <th>C2 rate</th>\n",
       "      <th>I1 rate</th>\n",
       "      <th>I2 rate</th>\n",
       "      <th>coverage</th>\n",
       "      <th>prop</th>\n",
       "    </tr>\n",
       "  </thead>\n",
       "  <tbody>\n",
       "    <tr>\n",
       "      <th>0_20</th>\n",
       "      <td>0.068644</td>\n",
       "      <td>0.918502</td>\n",
       "      <td>0.008127</td>\n",
       "      <td>0.004728</td>\n",
       "      <td>0</td>\n",
       "      <td>0</td>\n",
       "    </tr>\n",
       "    <tr>\n",
       "      <th>10_20</th>\n",
       "      <td>0.063313</td>\n",
       "      <td>0.908695</td>\n",
       "      <td>0.022968</td>\n",
       "      <td>0.005024</td>\n",
       "      <td>0</td>\n",
       "      <td>10</td>\n",
       "    </tr>\n",
       "    <tr>\n",
       "      <th>20_20</th>\n",
       "      <td>0.058353</td>\n",
       "      <td>0.897918</td>\n",
       "      <td>0.038298</td>\n",
       "      <td>0.005431</td>\n",
       "      <td>0</td>\n",
       "      <td>20</td>\n",
       "    </tr>\n",
       "    <tr>\n",
       "      <th>30_20</th>\n",
       "      <td>0.052730</td>\n",
       "      <td>0.887955</td>\n",
       "      <td>0.053423</td>\n",
       "      <td>0.005892</td>\n",
       "      <td>0</td>\n",
       "      <td>30</td>\n",
       "    </tr>\n",
       "    <tr>\n",
       "      <th>0_20</th>\n",
       "      <td>0.063677</td>\n",
       "      <td>0.932769</td>\n",
       "      <td>0.003343</td>\n",
       "      <td>0.000211</td>\n",
       "      <td>10</td>\n",
       "      <td>0</td>\n",
       "    </tr>\n",
       "    <tr>\n",
       "      <th>10_20</th>\n",
       "      <td>0.057230</td>\n",
       "      <td>0.919741</td>\n",
       "      <td>0.022004</td>\n",
       "      <td>0.001025</td>\n",
       "      <td>10</td>\n",
       "      <td>10</td>\n",
       "    </tr>\n",
       "    <tr>\n",
       "      <th>20_20</th>\n",
       "      <td>0.051500</td>\n",
       "      <td>0.906425</td>\n",
       "      <td>0.040211</td>\n",
       "      <td>0.001864</td>\n",
       "      <td>10</td>\n",
       "      <td>20</td>\n",
       "    </tr>\n",
       "    <tr>\n",
       "      <th>30_20</th>\n",
       "      <td>0.045489</td>\n",
       "      <td>0.894449</td>\n",
       "      <td>0.057342</td>\n",
       "      <td>0.002721</td>\n",
       "      <td>10</td>\n",
       "      <td>30</td>\n",
       "    </tr>\n",
       "    <tr>\n",
       "      <th>0_20</th>\n",
       "      <td>0.062418</td>\n",
       "      <td>0.934354</td>\n",
       "      <td>0.003152</td>\n",
       "      <td>0.000076</td>\n",
       "      <td>20</td>\n",
       "      <td>0</td>\n",
       "    </tr>\n",
       "    <tr>\n",
       "      <th>10_20</th>\n",
       "      <td>0.055558</td>\n",
       "      <td>0.920415</td>\n",
       "      <td>0.023015</td>\n",
       "      <td>0.001013</td>\n",
       "      <td>20</td>\n",
       "      <td>10</td>\n",
       "    </tr>\n",
       "    <tr>\n",
       "      <th>20_20</th>\n",
       "      <td>0.049602</td>\n",
       "      <td>0.906547</td>\n",
       "      <td>0.041881</td>\n",
       "      <td>0.001970</td>\n",
       "      <td>20</td>\n",
       "      <td>20</td>\n",
       "    </tr>\n",
       "    <tr>\n",
       "      <th>30_20</th>\n",
       "      <td>0.043632</td>\n",
       "      <td>0.894159</td>\n",
       "      <td>0.059291</td>\n",
       "      <td>0.002919</td>\n",
       "      <td>20</td>\n",
       "      <td>30</td>\n",
       "    </tr>\n",
       "  </tbody>\n",
       "</table>\n",
       "</div>"
      ],
      "text/plain": [
       "        C1 rate   C2 rate   I1 rate   I2 rate  coverage prop\n",
       "0_20   0.068644  0.918502  0.008127  0.004728         0    0\n",
       "10_20  0.063313  0.908695  0.022968  0.005024         0   10\n",
       "20_20  0.058353  0.897918  0.038298  0.005431         0   20\n",
       "30_20  0.052730  0.887955  0.053423  0.005892         0   30\n",
       "0_20   0.063677  0.932769  0.003343  0.000211        10    0\n",
       "10_20  0.057230  0.919741  0.022004  0.001025        10   10\n",
       "20_20  0.051500  0.906425  0.040211  0.001864        10   20\n",
       "30_20  0.045489  0.894449  0.057342  0.002721        10   30\n",
       "0_20   0.062418  0.934354  0.003152  0.000076        20    0\n",
       "10_20  0.055558  0.920415  0.023015  0.001013        20   10\n",
       "20_20  0.049602  0.906547  0.041881  0.001970        20   20\n",
       "30_20  0.043632  0.894159  0.059291  0.002919        20   30"
      ]
     },
     "execution_count": 48,
     "metadata": {},
     "output_type": "execute_result"
    }
   ],
   "source": [
    "gex_cov"
   ]
  },
  {
   "cell_type": "code",
   "execution_count": 12,
   "id": "55e6c611",
   "metadata": {},
   "outputs": [],
   "source": [
    "final_gex_cov = tmp_gex_cov.melt(id_vars=['prop'], value_vars=select)\n",
    "final_atac_cov = tmp_atac_cov.melt(id_vars=['prop'], value_vars=select)\n",
    "final_gex_cov['mod'] = 'gex'\n",
    "final_atac_cov['mod'] = 'atac'"
   ]
  },
  {
   "cell_type": "code",
   "execution_count": 13,
   "id": "01d3817d",
   "metadata": {},
   "outputs": [],
   "source": [
    "merged_cov = pd.concat([final_gex_cov, final_atac_cov])"
   ]
  },
  {
   "cell_type": "code",
   "execution_count": 14,
   "id": "53b74800",
   "metadata": {},
   "outputs": [],
   "source": [
    "# ax = sns.barplot(final_gex_cov, x='prop', y='value', hue='variable')\n",
    "# ax.set_ylim(0, 1)\n",
    "# ax.set_ylabel('')\n",
    "# ax.set_xlabel('')"
   ]
  },
  {
   "cell_type": "code",
   "execution_count": 15,
   "id": "cceb0b8b",
   "metadata": {},
   "outputs": [],
   "source": [
    "# ax = sns.barplot(final_atac_cov, x='prop', y='value', hue='variable')\n",
    "# ax.set_ylim(0, 1)\n",
    "# ax.set_ylabel('')\n",
    "# ax.set_xlabel('')"
   ]
  },
  {
   "cell_type": "code",
   "execution_count": 16,
   "id": "d346c3f7",
   "metadata": {},
   "outputs": [
    {
     "data": {
      "text/html": [
       "<div>\n",
       "<style scoped>\n",
       "    .dataframe tbody tr th:only-of-type {\n",
       "        vertical-align: middle;\n",
       "    }\n",
       "\n",
       "    .dataframe tbody tr th {\n",
       "        vertical-align: top;\n",
       "    }\n",
       "\n",
       "    .dataframe thead th {\n",
       "        text-align: right;\n",
       "    }\n",
       "</style>\n",
       "<table border=\"1\" class=\"dataframe\">\n",
       "  <thead>\n",
       "    <tr style=\"text-align: right;\">\n",
       "      <th></th>\n",
       "      <th>C1 rate</th>\n",
       "      <th>C2 rate</th>\n",
       "      <th>I1 rate</th>\n",
       "      <th>I2 rate</th>\n",
       "      <th>coverage</th>\n",
       "      <th>prop</th>\n",
       "    </tr>\n",
       "  </thead>\n",
       "  <tbody>\n",
       "    <tr>\n",
       "      <th>0_20</th>\n",
       "      <td>0.083552</td>\n",
       "      <td>0.894680</td>\n",
       "      <td>0.012835</td>\n",
       "      <td>0.008932</td>\n",
       "      <td>0</td>\n",
       "      <td>0</td>\n",
       "    </tr>\n",
       "    <tr>\n",
       "      <th>10_20</th>\n",
       "      <td>0.080726</td>\n",
       "      <td>0.883915</td>\n",
       "      <td>0.025855</td>\n",
       "      <td>0.009504</td>\n",
       "      <td>0</td>\n",
       "      <td>10</td>\n",
       "    </tr>\n",
       "    <tr>\n",
       "      <th>20_20</th>\n",
       "      <td>0.077685</td>\n",
       "      <td>0.871658</td>\n",
       "      <td>0.040434</td>\n",
       "      <td>0.010223</td>\n",
       "      <td>0</td>\n",
       "      <td>20</td>\n",
       "    </tr>\n",
       "    <tr>\n",
       "      <th>30_20</th>\n",
       "      <td>0.074599</td>\n",
       "      <td>0.858513</td>\n",
       "      <td>0.055940</td>\n",
       "      <td>0.010948</td>\n",
       "      <td>0</td>\n",
       "      <td>30</td>\n",
       "    </tr>\n",
       "    <tr>\n",
       "      <th>0_20</th>\n",
       "      <td>0.068317</td>\n",
       "      <td>0.927679</td>\n",
       "      <td>0.003634</td>\n",
       "      <td>0.000369</td>\n",
       "      <td>10</td>\n",
       "      <td>0</td>\n",
       "    </tr>\n",
       "    <tr>\n",
       "      <th>10_20</th>\n",
       "      <td>0.067265</td>\n",
       "      <td>0.924858</td>\n",
       "      <td>0.007576</td>\n",
       "      <td>0.000300</td>\n",
       "      <td>10</td>\n",
       "      <td>10</td>\n",
       "    </tr>\n",
       "    <tr>\n",
       "      <th>20_20</th>\n",
       "      <td>0.065782</td>\n",
       "      <td>0.921519</td>\n",
       "      <td>0.012349</td>\n",
       "      <td>0.000350</td>\n",
       "      <td>10</td>\n",
       "      <td>20</td>\n",
       "    </tr>\n",
       "    <tr>\n",
       "      <th>30_20</th>\n",
       "      <td>0.065551</td>\n",
       "      <td>0.915906</td>\n",
       "      <td>0.018128</td>\n",
       "      <td>0.000414</td>\n",
       "      <td>10</td>\n",
       "      <td>30</td>\n",
       "    </tr>\n",
       "    <tr>\n",
       "      <th>0_20</th>\n",
       "      <td>0.067213</td>\n",
       "      <td>0.929582</td>\n",
       "      <td>0.003184</td>\n",
       "      <td>0.000021</td>\n",
       "      <td>20</td>\n",
       "      <td>0</td>\n",
       "    </tr>\n",
       "    <tr>\n",
       "      <th>10_20</th>\n",
       "      <td>0.066155</td>\n",
       "      <td>0.926745</td>\n",
       "      <td>0.007077</td>\n",
       "      <td>0.000023</td>\n",
       "      <td>20</td>\n",
       "      <td>10</td>\n",
       "    </tr>\n",
       "    <tr>\n",
       "      <th>20_20</th>\n",
       "      <td>0.065039</td>\n",
       "      <td>0.923698</td>\n",
       "      <td>0.011226</td>\n",
       "      <td>0.000036</td>\n",
       "      <td>20</td>\n",
       "      <td>20</td>\n",
       "    </tr>\n",
       "    <tr>\n",
       "      <th>30_20</th>\n",
       "      <td>0.064942</td>\n",
       "      <td>0.917987</td>\n",
       "      <td>0.016920</td>\n",
       "      <td>0.000151</td>\n",
       "      <td>20</td>\n",
       "      <td>30</td>\n",
       "    </tr>\n",
       "  </tbody>\n",
       "</table>\n",
       "</div>"
      ],
      "text/plain": [
       "        C1 rate   C2 rate   I1 rate   I2 rate  coverage prop\n",
       "0_20   0.083552  0.894680  0.012835  0.008932         0    0\n",
       "10_20  0.080726  0.883915  0.025855  0.009504         0   10\n",
       "20_20  0.077685  0.871658  0.040434  0.010223         0   20\n",
       "30_20  0.074599  0.858513  0.055940  0.010948         0   30\n",
       "0_20   0.068317  0.927679  0.003634  0.000369        10    0\n",
       "10_20  0.067265  0.924858  0.007576  0.000300        10   10\n",
       "20_20  0.065782  0.921519  0.012349  0.000350        10   20\n",
       "30_20  0.065551  0.915906  0.018128  0.000414        10   30\n",
       "0_20   0.067213  0.929582  0.003184  0.000021        20    0\n",
       "10_20  0.066155  0.926745  0.007077  0.000023        20   10\n",
       "20_20  0.065039  0.923698  0.011226  0.000036        20   20\n",
       "30_20  0.064942  0.917987  0.016920  0.000151        20   30"
      ]
     },
     "execution_count": 16,
     "metadata": {},
     "output_type": "execute_result"
    }
   ],
   "source": [
    "atac_cov"
   ]
  },
  {
   "cell_type": "code",
   "execution_count": 19,
   "id": "51eda8ad",
   "metadata": {},
   "outputs": [
    {
     "name": "stdout",
     "output_type": "stream",
     "text": [
      "C1 rate\n",
      "C2 rate\n",
      "I1 rate\n",
      "I2 rate\n"
     ]
    },
    {
     "data": {
      "text/plain": [
       "Text(0.5, 0.04, 'Ambient proportion')"
      ]
     },
     "execution_count": 19,
     "metadata": {},
     "output_type": "execute_result"
    },
    {
     "data": {
      "image/png": "[encoded data removed]",
      "text/plain": [
       "<Figure size 504x360 with 4 Axes>"
      ]
     },
     "metadata": {},
     "output_type": "display_data"
    }
   ],
   "source": [
    "sns.set_theme(palette='Dark2')\n",
    "ylims = [0.25, 1, 0.1, 0.02]\n",
    "fig, axes = plt.subplots(2, 2, figsize=(7, 5))\n",
    "for i,ax in enumerate(axes.flatten()):\n",
    "    col = select[i]\n",
    "    lim = ylims[i]\n",
    "    print(col)\n",
    "    tmp_merged = merged_cov[merged_cov['variable'] == col]\n",
    "    sns.barplot(tmp_merged, x='prop', y='value', hue='mod', ax=ax)\n",
    "    ax.set_ylim(0, lim)\n",
    "    ax.set_ylabel('')\n",
    "    ax.set_xlabel('')\n",
    "    ax.legend_.remove()\n",
    "    ax.set_title(col, fontsize=12)\n",
    "    ax.grid(False)\n",
    "    ax.set_facecolor('white')\n",
    "\n",
    "plt.suptitle('Variant consistency, vary doublet %', fontsize=14)\n",
    "plt.subplots_adjust(wspace=0.4, hspace=0.4)  # Adjust the value as needed\n",
    "fig.text(0.5, 0.04, 'Ambient proportion', ha='center', va='center', fontsize=15)"
   ]
  },
  {
   "cell_type": "code",
   "execution_count": 20,
   "id": "f4ad540a",
   "metadata": {},
   "outputs": [
    {
     "data": {
      "image/png": "[encoded data removed]",
      "text/plain": [
       "<Figure size 432x288 with 1 Axes>"
      ]
     },
     "metadata": {},
     "output_type": "display_data"
    }
   ],
   "source": [
    "sns.set_theme(palette='Dark2')\n",
    "tmp_merged = merged_cov[merged_cov['variable'] == select[0]]\n",
    "ax = sns.barplot(tmp_merged, x='prop', y='value', hue='mod')\n",
    "# ax.legend_.remove()\n",
    "ax.legend(title='modality', bbox_to_anchor=(1.3, 1),loc='center right')\n",
    "ax.set_title(col, fontsize=12)\n",
    "ax.grid(False)\n",
    "# ax.set_legend"
   ]
  },
  {
   "cell_type": "markdown",
   "id": "dcaadef8",
   "metadata": {},
   "source": [
    "### check effect of coverage"
   ]
  },
  {
   "cell_type": "code",
   "execution_count": 21,
   "id": "e56180db",
   "metadata": {},
   "outputs": [],
   "source": [
    "# test_gex = gex_cov.melt(id_vars=['prop'], value_vars=select)\n",
    "# test_atac_cov = tmp_atac_cov.melt(id_vars=['prop'], value_vars=select)\n",
    "# test_gex_cov['mod'] = 'gex'\n",
    "# test_atac_cov['mod'] = 'atac'"
   ]
  },
  {
   "cell_type": "code",
   "execution_count": 22,
   "id": "25e7a3f6",
   "metadata": {},
   "outputs": [],
   "source": [
    "test_gex_cov = gex_cov.melt(id_vars=['prop' , 'coverage'], value_vars=select)\n",
    "test_atac_cov = atac_cov.melt(id_vars=['prop' , 'coverage'], value_vars=select)"
   ]
  },
  {
   "cell_type": "code",
   "execution_count": 23,
   "id": "c5759195",
   "metadata": {},
   "outputs": [
    {
     "data": {
      "text/html": [
       "<div>\n",
       "<style scoped>\n",
       "    .dataframe tbody tr th:only-of-type {\n",
       "        vertical-align: middle;\n",
       "    }\n",
       "\n",
       "    .dataframe tbody tr th {\n",
       "        vertical-align: top;\n",
       "    }\n",
       "\n",
       "    .dataframe thead th {\n",
       "        text-align: right;\n",
       "    }\n",
       "</style>\n",
       "<table border=\"1\" class=\"dataframe\">\n",
       "  <thead>\n",
       "    <tr style=\"text-align: right;\">\n",
       "      <th></th>\n",
       "      <th>prop</th>\n",
       "      <th>coverage</th>\n",
       "      <th>variable</th>\n",
       "      <th>value</th>\n",
       "    </tr>\n",
       "  </thead>\n",
       "  <tbody>\n",
       "    <tr>\n",
       "      <th>0</th>\n",
       "      <td>0</td>\n",
       "      <td>0</td>\n",
       "      <td>C1 rate</td>\n",
       "      <td>0.068644</td>\n",
       "    </tr>\n",
       "    <tr>\n",
       "      <th>1</th>\n",
       "      <td>10</td>\n",
       "      <td>0</td>\n",
       "      <td>C1 rate</td>\n",
       "      <td>0.063313</td>\n",
       "    </tr>\n",
       "    <tr>\n",
       "      <th>2</th>\n",
       "      <td>20</td>\n",
       "      <td>0</td>\n",
       "      <td>C1 rate</td>\n",
       "      <td>0.058353</td>\n",
       "    </tr>\n",
       "    <tr>\n",
       "      <th>3</th>\n",
       "      <td>30</td>\n",
       "      <td>0</td>\n",
       "      <td>C1 rate</td>\n",
       "      <td>0.052730</td>\n",
       "    </tr>\n",
       "    <tr>\n",
       "      <th>4</th>\n",
       "      <td>0</td>\n",
       "      <td>10</td>\n",
       "      <td>C1 rate</td>\n",
       "      <td>0.063677</td>\n",
       "    </tr>\n",
       "  </tbody>\n",
       "</table>\n",
       "</div>"
      ],
      "text/plain": [
       "  prop  coverage variable     value\n",
       "0    0         0  C1 rate  0.068644\n",
       "1   10         0  C1 rate  0.063313\n",
       "2   20         0  C1 rate  0.058353\n",
       "3   30         0  C1 rate  0.052730\n",
       "4    0        10  C1 rate  0.063677"
      ]
     },
     "execution_count": 23,
     "metadata": {},
     "output_type": "execute_result"
    }
   ],
   "source": [
    "test_gex_cov.head()"
   ]
  },
  {
   "cell_type": "code",
   "execution_count": 24,
   "id": "5de10a64",
   "metadata": {},
   "outputs": [
    {
     "data": {
      "text/html": [
       "<div>\n",
       "<style scoped>\n",
       "    .dataframe tbody tr th:only-of-type {\n",
       "        vertical-align: middle;\n",
       "    }\n",
       "\n",
       "    .dataframe tbody tr th {\n",
       "        vertical-align: top;\n",
       "    }\n",
       "\n",
       "    .dataframe thead th {\n",
       "        text-align: right;\n",
       "    }\n",
       "</style>\n",
       "<table border=\"1\" class=\"dataframe\">\n",
       "  <thead>\n",
       "    <tr style=\"text-align: right;\">\n",
       "      <th></th>\n",
       "      <th>C1</th>\n",
       "      <th>C2</th>\n",
       "      <th>I1</th>\n",
       "      <th>I2</th>\n",
       "      <th>DP</th>\n",
       "      <th>Consistent rate</th>\n",
       "      <th>Inconsistent rate</th>\n",
       "      <th>C1 rate</th>\n",
       "      <th>C2 rate</th>\n",
       "      <th>I1 rate</th>\n",
       "      <th>I2 rate</th>\n",
       "    </tr>\n",
       "  </thead>\n",
       "  <tbody>\n",
       "    <tr>\n",
       "      <th>0</th>\n",
       "      <td>144221</td>\n",
       "      <td>2955551</td>\n",
       "      <td>195980</td>\n",
       "      <td>9647</td>\n",
       "      <td>3305399</td>\n",
       "      <td>0.937791</td>\n",
       "      <td>0.062209</td>\n",
       "      <td>0.043632</td>\n",
       "      <td>0.894159</td>\n",
       "      <td>0.059291</td>\n",
       "      <td>0.002919</td>\n",
       "    </tr>\n",
       "  </tbody>\n",
       "</table>\n",
       "</div>"
      ],
      "text/plain": [
       "       C1       C2      I1    I2       DP  Consistent rate  Inconsistent rate  \\\n",
       "0  144221  2955551  195980  9647  3305399         0.937791           0.062209   \n",
       "\n",
       "    C1 rate   C2 rate   I1 rate   I2 rate  \n",
       "0  0.043632  0.894159  0.059291  0.002919  "
      ]
     },
     "execution_count": 24,
     "metadata": {},
     "output_type": "execute_result"
    }
   ],
   "source": [
    "tmp_gex"
   ]
  },
  {
   "cell_type": "code",
   "execution_count": 25,
   "id": "1acc7890",
   "metadata": {},
   "outputs": [
    {
     "data": {
      "text/plain": [
       "Text(0.5, 0, 'Ambient proportion')"
      ]
     },
     "execution_count": 25,
     "metadata": {},
     "output_type": "execute_result"
    },
    {
     "data": {
      "image/png": "[encoded data removed]",
      "text/plain": [
       "<Figure size 432x288 with 1 Axes>"
      ]
     },
     "metadata": {},
     "output_type": "display_data"
    }
   ],
   "source": [
    "sns.set_theme(palette='Paired')\n",
    "tmp_gex = test_gex_cov[test_gex_cov['variable'] == 'I1 rate']\n",
    "ax = sns.barplot(tmp_gex, x='prop', y='value', hue='coverage')\n",
    "ax.set_ylim(0, 0.1)\n",
    "ax.grid(False)\n",
    "ax.set_facecolor('white')\n",
    "# ax.legend(title='coverage', bbox_to_anchor=(1.2, 1),loc='center right')\n",
    "ax.legend().set_visible(False)\n",
    "ax.set_title('Vary doublet %, RNA', size=20)\n",
    "ax.set_ylabel('')\n",
    "ax.set_xlabel('Ambient proportion')"
   ]
  },
  {
   "cell_type": "code",
   "execution_count": 26,
   "id": "7f287646",
   "metadata": {},
   "outputs": [
    {
     "data": {
      "text/plain": [
       "Text(0.5, 0, 'Ambient proportion')"
      ]
     },
     "execution_count": 26,
     "metadata": {},
     "output_type": "execute_result"
    },
    {
     "data": {
      "image/png": "[encoded data removed]",
      "text/plain": [
       "<Figure size 432x288 with 1 Axes>"
      ]
     },
     "metadata": {},
     "output_type": "display_data"
    }
   ],
   "source": [
    "sns.set_theme(palette='Paired')\n",
    "tmp_atac = test_atac_cov[test_atac_cov['variable'] == 'I1 rate']\n",
    "ax = sns.barplot(tmp_atac, x='prop', y='value', hue='coverage')\n",
    "ax.set_ylim(0, 0.1)\n",
    "ax.grid(False)\n",
    "ax.set_facecolor('white')\n",
    "# ax.legend(title='coverage', bbox_to_anchor=(1.2, 1),loc='center right')\n",
    "ax.legend().set_visible(False)\n",
    "ax.set_title('Vary doublet %, ATAC', size=20)\n",
    "ax.set_ylabel('')\n",
    "ax.set_xlabel('Ambient proportion')"
   ]
  },
  {
   "cell_type": "markdown",
   "id": "f6854552",
   "metadata": {},
   "source": [
    "### um mux? lmao"
   ]
  },
  {
   "cell_type": "code",
   "execution_count": 27,
   "id": "25f88480",
   "metadata": {},
   "outputs": [
    {
     "name": "stdout",
     "output_type": "stream",
     "text": [
      "10_20_cov0_all.csv     14_20_cov10_all.csv    2_20_cov20_all.csv\r\n",
      "10_20_cov0_truth.csv   14_20_cov10_truth.csv  2_20_cov20_truth.csv\r\n",
      "10_20_cov10_all.csv    14_20_cov20_all.csv    6_20_cov0_all.csv\r\n",
      "10_20_cov10_truth.csv  14_20_cov20_truth.csv  6_20_cov0_truth.csv\r\n",
      "10_20_cov20_all.csv    16_20_cov0_all.csv     6_20_cov10_all.csv\r\n",
      "10_20_cov20_truth.csv  16_20_cov0_truth.csv   6_20_cov10_truth.csv\r\n",
      "12_20_cov0_all.csv     16_20_cov10_all.csv    6_20_cov20_all.csv\r\n",
      "12_20_cov0_truth.csv   16_20_cov10_truth.csv  6_20_cov20_truth.csv\r\n",
      "12_20_cov10_all.csv    16_20_cov20_all.csv    8_20_cov0_all.csv\r\n",
      "12_20_cov10_truth.csv  16_20_cov20_truth.csv  8_20_cov0_truth.csv\r\n",
      "12_20_cov20_all.csv    2_20_cov0_all.csv      8_20_cov10_all.csv\r\n",
      "12_20_cov20_truth.csv  2_20_cov0_truth.csv    8_20_cov10_truth.csv\r\n",
      "14_20_cov0_all.csv     2_20_cov10_all.csv     8_20_cov20_all.csv\r\n",
      "14_20_cov0_truth.csv   2_20_cov10_truth.csv   8_20_cov20_truth.csv\r\n"
     ]
    }
   ],
   "source": [
    "!ls {projdir}/ambient/ambisim/mux_test/csv/var_consistency/gex/{s}/"
   ]
  },
  {
   "cell_type": "code",
   "execution_count": 28,
   "id": "b1407d2a",
   "metadata": {},
   "outputs": [
    {
     "name": "stdout",
     "output_type": "stream",
     "text": [
      "2_20\n",
      "6_20\n",
      "8_20\n",
      "10_20\n",
      "12_20\n",
      "14_20\n",
      "16_20\n"
     ]
    }
   ],
   "source": [
    "cov = 0\n",
    "indir = f'{projdir}/ambient/ambisim/mux_test/csv/var_consistency/'\n",
    "exp = mux_exps[0]\n",
    "\n",
    "mux_gex_0 = pd.DataFrame(index=mux_exps, columns=final_con_cols, data=0)\n",
    "mux_atac_0 = pd.DataFrame(index=mux_exps, columns=final_con_cols, data=0)\n",
    "\n",
    "for exp in mux_exps:\n",
    "    print(exp)\n",
    "    gex_truth_con = pd.read_csv(f'{indir}/gex/{s}/{exp}_cov{cov}_truth.csv', sep='\\t', header=0, index_col=0)\n",
    "    tmp_gex = pd.DataFrame(np.sum(gex_truth_con.drop(columns=['donor']), axis=0)).transpose()\n",
    "    mux_gex_0.loc[exp] = process_con(tmp_gex).values[0]\n",
    "    \n",
    "    atac_truth_con = pd.read_csv(f'{indir}/atac/{s}/{exp}_cov{cov}_truth.csv', sep='\\t', header=0, index_col=0)\n",
    "    tmp_atac = pd.DataFrame(np.sum(atac_truth_con.drop(columns=['donor']), axis=0)).transpose()\n",
    "    mux_atac_0.loc[exp] = process_con(tmp_atac).values[0]"
   ]
  },
  {
   "cell_type": "code",
   "execution_count": 29,
   "id": "8867bf9b",
   "metadata": {},
   "outputs": [
    {
     "name": "stdout",
     "output_type": "stream",
     "text": [
      "2_20\n",
      "6_20\n",
      "8_20\n",
      "10_20\n",
      "12_20\n",
      "14_20\n",
      "16_20\n"
     ]
    }
   ],
   "source": [
    "cov = 10\n",
    "indir = f'{projdir}/ambient/ambisim/mux_test/csv/var_consistency/'\n",
    "exp = mux_exps[0]\n",
    "\n",
    "mux_gex_10 = pd.DataFrame(index=mux_exps, columns=final_con_cols, data=0)\n",
    "mux_atac_10 = pd.DataFrame(index=mux_exps, columns=final_con_cols, data=0)\n",
    "\n",
    "for exp in mux_exps:\n",
    "    print(exp)\n",
    "    gex_truth_con = pd.read_csv(f'{indir}/gex/{s}/{exp}_cov{cov}_truth.csv', sep='\\t', header=0, index_col=0)\n",
    "    tmp_gex = pd.DataFrame(np.sum(gex_truth_con.drop(columns=['donor']), axis=0)).transpose()\n",
    "    mux_gex_10.loc[exp] = process_con(tmp_gex).values[0]\n",
    "    \n",
    "    atac_truth_con = pd.read_csv(f'{indir}/atac/{s}/{exp}_cov{cov}_truth.csv', sep='\\t', header=0, index_col=0)\n",
    "    tmp_atac = pd.DataFrame(np.sum(atac_truth_con.drop(columns=['donor']), axis=0)).transpose()\n",
    "    mux_atac_10.loc[exp] = process_con(tmp_atac).values[0]"
   ]
  },
  {
   "cell_type": "code",
   "execution_count": 30,
   "id": "af1e9407",
   "metadata": {},
   "outputs": [
    {
     "name": "stdout",
     "output_type": "stream",
     "text": [
      "2_20\n",
      "6_20\n",
      "8_20\n",
      "10_20\n",
      "12_20\n",
      "14_20\n",
      "16_20\n"
     ]
    }
   ],
   "source": [
    "cov = 20\n",
    "indir = f'{projdir}/ambient/ambisim/mux_test/csv/var_consistency/'\n",
    "exp = mux_exps[0]\n",
    "\n",
    "mux_gex_20 = pd.DataFrame(index=mux_exps, columns=final_con_cols, data=0)\n",
    "mux_atac_20 = pd.DataFrame(index=mux_exps, columns=final_con_cols, data=0)\n",
    "\n",
    "for exp in mux_exps:\n",
    "    print(exp)\n",
    "    gex_truth_con = pd.read_csv(f'{indir}/gex/{s}/{exp}_cov{cov}_truth.csv', sep='\\t', header=0, index_col=0)\n",
    "    tmp_gex = pd.DataFrame(np.sum(gex_truth_con.drop(columns=['donor']), axis=0)).transpose()\n",
    "    mux_gex_20.loc[exp] = process_con(tmp_gex).values[0]\n",
    "    \n",
    "    atac_truth_con = pd.read_csv(f'{indir}/atac/{s}/{exp}_cov{cov}_truth.csv', sep='\\t', header=0, index_col=0)\n",
    "    tmp_atac = pd.DataFrame(np.sum(atac_truth_con.drop(columns=['donor']), axis=0)).transpose()\n",
    "    mux_atac_20.loc[exp] = process_con(tmp_atac).values[0]"
   ]
  },
  {
   "cell_type": "code",
   "execution_count": 31,
   "id": "8dd05397",
   "metadata": {},
   "outputs": [
    {
     "name": "stderr",
     "output_type": "stream",
     "text": [
      "/u/home/t/terencew/project-cluo/miniconda3/envs/allcools/lib/python3.7/site-packages/ipykernel_launcher.py:6: SettingWithCopyWarning: \n",
      "A value is trying to be set on a copy of a slice from a DataFrame.\n",
      "Try using .loc[row_indexer,col_indexer] = value instead\n",
      "\n",
      "See the caveats in the documentation: https://pandas.pydata.org/pandas-docs/stable/user_guide/indexing.html#returning-a-view-versus-a-copy\n",
      "  \n",
      "/u/home/t/terencew/project-cluo/miniconda3/envs/allcools/lib/python3.7/site-packages/ipykernel_launcher.py:7: SettingWithCopyWarning: \n",
      "A value is trying to be set on a copy of a slice from a DataFrame.\n",
      "Try using .loc[row_indexer,col_indexer] = value instead\n",
      "\n",
      "See the caveats in the documentation: https://pandas.pydata.org/pandas-docs/stable/user_guide/indexing.html#returning-a-view-versus-a-copy\n",
      "  import sys\n",
      "/u/home/t/terencew/project-cluo/miniconda3/envs/allcools/lib/python3.7/site-packages/ipykernel_launcher.py:8: SettingWithCopyWarning: \n",
      "A value is trying to be set on a copy of a slice from a DataFrame.\n",
      "Try using .loc[row_indexer,col_indexer] = value instead\n",
      "\n",
      "See the caveats in the documentation: https://pandas.pydata.org/pandas-docs/stable/user_guide/indexing.html#returning-a-view-versus-a-copy\n",
      "  \n",
      "/u/home/t/terencew/project-cluo/miniconda3/envs/allcools/lib/python3.7/site-packages/ipykernel_launcher.py:16: SettingWithCopyWarning: \n",
      "A value is trying to be set on a copy of a slice from a DataFrame.\n",
      "Try using .loc[row_indexer,col_indexer] = value instead\n",
      "\n",
      "See the caveats in the documentation: https://pandas.pydata.org/pandas-docs/stable/user_guide/indexing.html#returning-a-view-versus-a-copy\n",
      "  app.launch_new_instance()\n",
      "/u/home/t/terencew/project-cluo/miniconda3/envs/allcools/lib/python3.7/site-packages/ipykernel_launcher.py:17: SettingWithCopyWarning: \n",
      "A value is trying to be set on a copy of a slice from a DataFrame.\n",
      "Try using .loc[row_indexer,col_indexer] = value instead\n",
      "\n",
      "See the caveats in the documentation: https://pandas.pydata.org/pandas-docs/stable/user_guide/indexing.html#returning-a-view-versus-a-copy\n",
      "/u/home/t/terencew/project-cluo/miniconda3/envs/allcools/lib/python3.7/site-packages/ipykernel_launcher.py:18: SettingWithCopyWarning: \n",
      "A value is trying to be set on a copy of a slice from a DataFrame.\n",
      "Try using .loc[row_indexer,col_indexer] = value instead\n",
      "\n",
      "See the caveats in the documentation: https://pandas.pydata.org/pandas-docs/stable/user_guide/indexing.html#returning-a-view-versus-a-copy\n"
     ]
    }
   ],
   "source": [
    "select = ['C1 rate', 'C2 rate', 'I1 rate', 'I2 rate']\n",
    "tmp_mux_gex_0 = mux_gex_0[select]\n",
    "tmp_mux_gex_10 = mux_gex_10[select]\n",
    "tmp_mux_gex_20 = mux_gex_20[select]\n",
    "\n",
    "tmp_mux_gex_0['coverage'] = 0\n",
    "tmp_mux_gex_10['coverage'] = 10\n",
    "tmp_mux_gex_20['coverage'] = 20\n",
    "gex_mux_cov = pd.concat([tmp_mux_gex_0, tmp_mux_gex_10, tmp_mux_gex_20])\n",
    "gex_mux_cov['donors'] = [x.split('_')[0] for x in gex_mux_cov.index]\n",
    "\n",
    "tmp_mux_atac_0 = mux_atac_0[select]\n",
    "tmp_mux_atac_10 = mux_atac_10[select]\n",
    "tmp_mux_atac_20 = mux_atac_20[select]\n",
    "\n",
    "tmp_mux_atac_0['coverage'] = 0\n",
    "tmp_mux_atac_10['coverage'] = 10\n",
    "tmp_mux_atac_20['coverage'] = 20\n",
    "atac_mux_cov = pd.concat([tmp_mux_atac_0, tmp_mux_atac_10, tmp_mux_atac_20])\n",
    "atac_mux_cov['donors'] = [x.split('_')[0] for x in atac_mux_cov.index]"
   ]
  },
  {
   "cell_type": "code",
   "execution_count": 32,
   "id": "9bc994af",
   "metadata": {},
   "outputs": [
    {
     "data": {
      "text/html": [
       "<div>\n",
       "<style scoped>\n",
       "    .dataframe tbody tr th:only-of-type {\n",
       "        vertical-align: middle;\n",
       "    }\n",
       "\n",
       "    .dataframe tbody tr th {\n",
       "        vertical-align: top;\n",
       "    }\n",
       "\n",
       "    .dataframe thead th {\n",
       "        text-align: right;\n",
       "    }\n",
       "</style>\n",
       "<table border=\"1\" class=\"dataframe\">\n",
       "  <thead>\n",
       "    <tr style=\"text-align: right;\">\n",
       "      <th></th>\n",
       "      <th>C1 rate</th>\n",
       "      <th>C2 rate</th>\n",
       "      <th>I1 rate</th>\n",
       "      <th>I2 rate</th>\n",
       "      <th>coverage</th>\n",
       "      <th>donors</th>\n",
       "    </tr>\n",
       "  </thead>\n",
       "  <tbody>\n",
       "    <tr>\n",
       "      <th>2_20</th>\n",
       "      <td>0.210660</td>\n",
       "      <td>0.750406</td>\n",
       "      <td>0.032300</td>\n",
       "      <td>0.006634</td>\n",
       "      <td>0</td>\n",
       "      <td>2</td>\n",
       "    </tr>\n",
       "    <tr>\n",
       "      <th>6_20</th>\n",
       "      <td>0.029819</td>\n",
       "      <td>0.926018</td>\n",
       "      <td>0.040787</td>\n",
       "      <td>0.003376</td>\n",
       "      <td>0</td>\n",
       "      <td>6</td>\n",
       "    </tr>\n",
       "    <tr>\n",
       "      <th>8_20</th>\n",
       "      <td>0.018912</td>\n",
       "      <td>0.935830</td>\n",
       "      <td>0.042121</td>\n",
       "      <td>0.003138</td>\n",
       "      <td>0</td>\n",
       "      <td>8</td>\n",
       "    </tr>\n",
       "    <tr>\n",
       "      <th>10_20</th>\n",
       "      <td>0.014137</td>\n",
       "      <td>0.940681</td>\n",
       "      <td>0.042633</td>\n",
       "      <td>0.002549</td>\n",
       "      <td>0</td>\n",
       "      <td>10</td>\n",
       "    </tr>\n",
       "    <tr>\n",
       "      <th>12_20</th>\n",
       "      <td>0.011689</td>\n",
       "      <td>0.942475</td>\n",
       "      <td>0.043557</td>\n",
       "      <td>0.002279</td>\n",
       "      <td>0</td>\n",
       "      <td>12</td>\n",
       "    </tr>\n",
       "    <tr>\n",
       "      <th>14_20</th>\n",
       "      <td>0.009736</td>\n",
       "      <td>0.944714</td>\n",
       "      <td>0.043488</td>\n",
       "      <td>0.002062</td>\n",
       "      <td>0</td>\n",
       "      <td>14</td>\n",
       "    </tr>\n",
       "    <tr>\n",
       "      <th>16_20</th>\n",
       "      <td>0.008695</td>\n",
       "      <td>0.946250</td>\n",
       "      <td>0.043204</td>\n",
       "      <td>0.001851</td>\n",
       "      <td>0</td>\n",
       "      <td>16</td>\n",
       "    </tr>\n",
       "    <tr>\n",
       "      <th>2_20</th>\n",
       "      <td>0.205120</td>\n",
       "      <td>0.758716</td>\n",
       "      <td>0.033618</td>\n",
       "      <td>0.002546</td>\n",
       "      <td>10</td>\n",
       "      <td>2</td>\n",
       "    </tr>\n",
       "    <tr>\n",
       "      <th>6_20</th>\n",
       "      <td>0.019511</td>\n",
       "      <td>0.934884</td>\n",
       "      <td>0.045218</td>\n",
       "      <td>0.000386</td>\n",
       "      <td>10</td>\n",
       "      <td>6</td>\n",
       "    </tr>\n",
       "    <tr>\n",
       "      <th>8_20</th>\n",
       "      <td>0.009413</td>\n",
       "      <td>0.943203</td>\n",
       "      <td>0.047053</td>\n",
       "      <td>0.000332</td>\n",
       "      <td>10</td>\n",
       "      <td>8</td>\n",
       "    </tr>\n",
       "    <tr>\n",
       "      <th>10_20</th>\n",
       "      <td>0.005410</td>\n",
       "      <td>0.946564</td>\n",
       "      <td>0.047837</td>\n",
       "      <td>0.000189</td>\n",
       "      <td>10</td>\n",
       "      <td>10</td>\n",
       "    </tr>\n",
       "    <tr>\n",
       "      <th>12_20</th>\n",
       "      <td>0.003725</td>\n",
       "      <td>0.946706</td>\n",
       "      <td>0.049460</td>\n",
       "      <td>0.000109</td>\n",
       "      <td>10</td>\n",
       "      <td>12</td>\n",
       "    </tr>\n",
       "    <tr>\n",
       "      <th>14_20</th>\n",
       "      <td>0.002629</td>\n",
       "      <td>0.947977</td>\n",
       "      <td>0.049288</td>\n",
       "      <td>0.000105</td>\n",
       "      <td>10</td>\n",
       "      <td>14</td>\n",
       "    </tr>\n",
       "    <tr>\n",
       "      <th>16_20</th>\n",
       "      <td>0.002056</td>\n",
       "      <td>0.948728</td>\n",
       "      <td>0.049118</td>\n",
       "      <td>0.000098</td>\n",
       "      <td>10</td>\n",
       "      <td>16</td>\n",
       "    </tr>\n",
       "    <tr>\n",
       "      <th>2_20</th>\n",
       "      <td>0.201641</td>\n",
       "      <td>0.759923</td>\n",
       "      <td>0.035724</td>\n",
       "      <td>0.002711</td>\n",
       "      <td>20</td>\n",
       "      <td>2</td>\n",
       "    </tr>\n",
       "    <tr>\n",
       "      <th>6_20</th>\n",
       "      <td>0.016646</td>\n",
       "      <td>0.934930</td>\n",
       "      <td>0.048093</td>\n",
       "      <td>0.000331</td>\n",
       "      <td>20</td>\n",
       "      <td>6</td>\n",
       "    </tr>\n",
       "    <tr>\n",
       "      <th>8_20</th>\n",
       "      <td>0.006925</td>\n",
       "      <td>0.942855</td>\n",
       "      <td>0.049965</td>\n",
       "      <td>0.000255</td>\n",
       "      <td>20</td>\n",
       "      <td>8</td>\n",
       "    </tr>\n",
       "    <tr>\n",
       "      <th>10_20</th>\n",
       "      <td>0.003394</td>\n",
       "      <td>0.945747</td>\n",
       "      <td>0.050759</td>\n",
       "      <td>0.000100</td>\n",
       "      <td>20</td>\n",
       "      <td>10</td>\n",
       "    </tr>\n",
       "    <tr>\n",
       "      <th>12_20</th>\n",
       "      <td>0.002024</td>\n",
       "      <td>0.945296</td>\n",
       "      <td>0.052635</td>\n",
       "      <td>0.000045</td>\n",
       "      <td>20</td>\n",
       "      <td>12</td>\n",
       "    </tr>\n",
       "    <tr>\n",
       "      <th>14_20</th>\n",
       "      <td>0.001281</td>\n",
       "      <td>0.946364</td>\n",
       "      <td>0.052325</td>\n",
       "      <td>0.000030</td>\n",
       "      <td>20</td>\n",
       "      <td>14</td>\n",
       "    </tr>\n",
       "    <tr>\n",
       "      <th>16_20</th>\n",
       "      <td>0.000859</td>\n",
       "      <td>0.946959</td>\n",
       "      <td>0.052159</td>\n",
       "      <td>0.000023</td>\n",
       "      <td>20</td>\n",
       "      <td>16</td>\n",
       "    </tr>\n",
       "  </tbody>\n",
       "</table>\n",
       "</div>"
      ],
      "text/plain": [
       "        C1 rate   C2 rate   I1 rate   I2 rate  coverage donors\n",
       "2_20   0.210660  0.750406  0.032300  0.006634         0      2\n",
       "6_20   0.029819  0.926018  0.040787  0.003376         0      6\n",
       "8_20   0.018912  0.935830  0.042121  0.003138         0      8\n",
       "10_20  0.014137  0.940681  0.042633  0.002549         0     10\n",
       "12_20  0.011689  0.942475  0.043557  0.002279         0     12\n",
       "14_20  0.009736  0.944714  0.043488  0.002062         0     14\n",
       "16_20  0.008695  0.946250  0.043204  0.001851         0     16\n",
       "2_20   0.205120  0.758716  0.033618  0.002546        10      2\n",
       "6_20   0.019511  0.934884  0.045218  0.000386        10      6\n",
       "8_20   0.009413  0.943203  0.047053  0.000332        10      8\n",
       "10_20  0.005410  0.946564  0.047837  0.000189        10     10\n",
       "12_20  0.003725  0.946706  0.049460  0.000109        10     12\n",
       "14_20  0.002629  0.947977  0.049288  0.000105        10     14\n",
       "16_20  0.002056  0.948728  0.049118  0.000098        10     16\n",
       "2_20   0.201641  0.759923  0.035724  0.002711        20      2\n",
       "6_20   0.016646  0.934930  0.048093  0.000331        20      6\n",
       "8_20   0.006925  0.942855  0.049965  0.000255        20      8\n",
       "10_20  0.003394  0.945747  0.050759  0.000100        20     10\n",
       "12_20  0.002024  0.945296  0.052635  0.000045        20     12\n",
       "14_20  0.001281  0.946364  0.052325  0.000030        20     14\n",
       "16_20  0.000859  0.946959  0.052159  0.000023        20     16"
      ]
     },
     "execution_count": 32,
     "metadata": {},
     "output_type": "execute_result"
    }
   ],
   "source": [
    "gex_mux_cov"
   ]
  },
  {
   "cell_type": "code",
   "execution_count": 33,
   "id": "2d89fa0d",
   "metadata": {},
   "outputs": [
    {
     "data": {
      "text/html": [
       "<div>\n",
       "<style scoped>\n",
       "    .dataframe tbody tr th:only-of-type {\n",
       "        vertical-align: middle;\n",
       "    }\n",
       "\n",
       "    .dataframe tbody tr th {\n",
       "        vertical-align: top;\n",
       "    }\n",
       "\n",
       "    .dataframe thead th {\n",
       "        text-align: right;\n",
       "    }\n",
       "</style>\n",
       "<table border=\"1\" class=\"dataframe\">\n",
       "  <thead>\n",
       "    <tr style=\"text-align: right;\">\n",
       "      <th></th>\n",
       "      <th>C1 rate</th>\n",
       "      <th>C2 rate</th>\n",
       "      <th>I1 rate</th>\n",
       "      <th>I2 rate</th>\n",
       "      <th>coverage</th>\n",
       "      <th>donors</th>\n",
       "    </tr>\n",
       "  </thead>\n",
       "  <tbody>\n",
       "    <tr>\n",
       "      <th>2_20</th>\n",
       "      <td>0.235608</td>\n",
       "      <td>0.721922</td>\n",
       "      <td>0.031502</td>\n",
       "      <td>0.010969</td>\n",
       "      <td>0</td>\n",
       "      <td>2</td>\n",
       "    </tr>\n",
       "    <tr>\n",
       "      <th>6_20</th>\n",
       "      <td>0.048698</td>\n",
       "      <td>0.901864</td>\n",
       "      <td>0.042290</td>\n",
       "      <td>0.007148</td>\n",
       "      <td>0</td>\n",
       "      <td>6</td>\n",
       "    </tr>\n",
       "    <tr>\n",
       "      <th>8_20</th>\n",
       "      <td>0.034473</td>\n",
       "      <td>0.915797</td>\n",
       "      <td>0.043022</td>\n",
       "      <td>0.006708</td>\n",
       "      <td>0</td>\n",
       "      <td>8</td>\n",
       "    </tr>\n",
       "    <tr>\n",
       "      <th>10_20</th>\n",
       "      <td>0.027267</td>\n",
       "      <td>0.923313</td>\n",
       "      <td>0.043847</td>\n",
       "      <td>0.005573</td>\n",
       "      <td>0</td>\n",
       "      <td>10</td>\n",
       "    </tr>\n",
       "    <tr>\n",
       "      <th>12_20</th>\n",
       "      <td>0.022830</td>\n",
       "      <td>0.927220</td>\n",
       "      <td>0.044891</td>\n",
       "      <td>0.005059</td>\n",
       "      <td>0</td>\n",
       "      <td>12</td>\n",
       "    </tr>\n",
       "    <tr>\n",
       "      <th>14_20</th>\n",
       "      <td>0.019297</td>\n",
       "      <td>0.930743</td>\n",
       "      <td>0.045360</td>\n",
       "      <td>0.004600</td>\n",
       "      <td>0</td>\n",
       "      <td>14</td>\n",
       "    </tr>\n",
       "    <tr>\n",
       "      <th>16_20</th>\n",
       "      <td>0.017265</td>\n",
       "      <td>0.933288</td>\n",
       "      <td>0.045355</td>\n",
       "      <td>0.004091</td>\n",
       "      <td>0</td>\n",
       "      <td>16</td>\n",
       "    </tr>\n",
       "    <tr>\n",
       "      <th>2_20</th>\n",
       "      <td>0.230906</td>\n",
       "      <td>0.759700</td>\n",
       "      <td>0.008898</td>\n",
       "      <td>0.000495</td>\n",
       "      <td>10</td>\n",
       "      <td>2</td>\n",
       "    </tr>\n",
       "    <tr>\n",
       "      <th>6_20</th>\n",
       "      <td>0.033497</td>\n",
       "      <td>0.952465</td>\n",
       "      <td>0.013723</td>\n",
       "      <td>0.000315</td>\n",
       "      <td>10</td>\n",
       "      <td>6</td>\n",
       "    </tr>\n",
       "    <tr>\n",
       "      <th>8_20</th>\n",
       "      <td>0.019331</td>\n",
       "      <td>0.966415</td>\n",
       "      <td>0.013853</td>\n",
       "      <td>0.000401</td>\n",
       "      <td>10</td>\n",
       "      <td>8</td>\n",
       "    </tr>\n",
       "    <tr>\n",
       "      <th>10_20</th>\n",
       "      <td>0.012350</td>\n",
       "      <td>0.972937</td>\n",
       "      <td>0.014471</td>\n",
       "      <td>0.000242</td>\n",
       "      <td>10</td>\n",
       "      <td>10</td>\n",
       "    </tr>\n",
       "    <tr>\n",
       "      <th>12_20</th>\n",
       "      <td>0.008738</td>\n",
       "      <td>0.976232</td>\n",
       "      <td>0.014808</td>\n",
       "      <td>0.000223</td>\n",
       "      <td>10</td>\n",
       "      <td>12</td>\n",
       "    </tr>\n",
       "    <tr>\n",
       "      <th>14_20</th>\n",
       "      <td>0.006285</td>\n",
       "      <td>0.978593</td>\n",
       "      <td>0.014884</td>\n",
       "      <td>0.000238</td>\n",
       "      <td>10</td>\n",
       "      <td>14</td>\n",
       "    </tr>\n",
       "    <tr>\n",
       "      <th>16_20</th>\n",
       "      <td>0.005097</td>\n",
       "      <td>0.979801</td>\n",
       "      <td>0.014902</td>\n",
       "      <td>0.000199</td>\n",
       "      <td>10</td>\n",
       "      <td>16</td>\n",
       "    </tr>\n",
       "    <tr>\n",
       "      <th>2_20</th>\n",
       "      <td>0.228680</td>\n",
       "      <td>0.762933</td>\n",
       "      <td>0.008266</td>\n",
       "      <td>0.000121</td>\n",
       "      <td>20</td>\n",
       "      <td>2</td>\n",
       "    </tr>\n",
       "    <tr>\n",
       "      <th>6_20</th>\n",
       "      <td>0.031462</td>\n",
       "      <td>0.955589</td>\n",
       "      <td>0.012842</td>\n",
       "      <td>0.000107</td>\n",
       "      <td>20</td>\n",
       "      <td>6</td>\n",
       "    </tr>\n",
       "    <tr>\n",
       "      <th>8_20</th>\n",
       "      <td>0.016807</td>\n",
       "      <td>0.970172</td>\n",
       "      <td>0.012946</td>\n",
       "      <td>0.000075</td>\n",
       "      <td>20</td>\n",
       "      <td>8</td>\n",
       "    </tr>\n",
       "    <tr>\n",
       "      <th>10_20</th>\n",
       "      <td>0.009644</td>\n",
       "      <td>0.976752</td>\n",
       "      <td>0.013529</td>\n",
       "      <td>0.000075</td>\n",
       "      <td>20</td>\n",
       "      <td>10</td>\n",
       "    </tr>\n",
       "    <tr>\n",
       "      <th>12_20</th>\n",
       "      <td>0.006213</td>\n",
       "      <td>0.980083</td>\n",
       "      <td>0.013655</td>\n",
       "      <td>0.000048</td>\n",
       "      <td>20</td>\n",
       "      <td>12</td>\n",
       "    </tr>\n",
       "    <tr>\n",
       "      <th>14_20</th>\n",
       "      <td>0.004017</td>\n",
       "      <td>0.982309</td>\n",
       "      <td>0.013604</td>\n",
       "      <td>0.000070</td>\n",
       "      <td>20</td>\n",
       "      <td>14</td>\n",
       "    </tr>\n",
       "    <tr>\n",
       "      <th>16_20</th>\n",
       "      <td>0.002896</td>\n",
       "      <td>0.983343</td>\n",
       "      <td>0.013716</td>\n",
       "      <td>0.000045</td>\n",
       "      <td>20</td>\n",
       "      <td>16</td>\n",
       "    </tr>\n",
       "  </tbody>\n",
       "</table>\n",
       "</div>"
      ],
      "text/plain": [
       "        C1 rate   C2 rate   I1 rate   I2 rate  coverage donors\n",
       "2_20   0.235608  0.721922  0.031502  0.010969         0      2\n",
       "6_20   0.048698  0.901864  0.042290  0.007148         0      6\n",
       "8_20   0.034473  0.915797  0.043022  0.006708         0      8\n",
       "10_20  0.027267  0.923313  0.043847  0.005573         0     10\n",
       "12_20  0.022830  0.927220  0.044891  0.005059         0     12\n",
       "14_20  0.019297  0.930743  0.045360  0.004600         0     14\n",
       "16_20  0.017265  0.933288  0.045355  0.004091         0     16\n",
       "2_20   0.230906  0.759700  0.008898  0.000495        10      2\n",
       "6_20   0.033497  0.952465  0.013723  0.000315        10      6\n",
       "8_20   0.019331  0.966415  0.013853  0.000401        10      8\n",
       "10_20  0.012350  0.972937  0.014471  0.000242        10     10\n",
       "12_20  0.008738  0.976232  0.014808  0.000223        10     12\n",
       "14_20  0.006285  0.978593  0.014884  0.000238        10     14\n",
       "16_20  0.005097  0.979801  0.014902  0.000199        10     16\n",
       "2_20   0.228680  0.762933  0.008266  0.000121        20      2\n",
       "6_20   0.031462  0.955589  0.012842  0.000107        20      6\n",
       "8_20   0.016807  0.970172  0.012946  0.000075        20      8\n",
       "10_20  0.009644  0.976752  0.013529  0.000075        20     10\n",
       "12_20  0.006213  0.980083  0.013655  0.000048        20     12\n",
       "14_20  0.004017  0.982309  0.013604  0.000070        20     14\n",
       "16_20  0.002896  0.983343  0.013716  0.000045        20     16"
      ]
     },
     "execution_count": 33,
     "metadata": {},
     "output_type": "execute_result"
    }
   ],
   "source": [
    "atac_mux_cov"
   ]
  },
  {
   "cell_type": "code",
   "execution_count": 34,
   "id": "5fd8cfd1",
   "metadata": {},
   "outputs": [],
   "source": [
    "tmp_gex_mux_cov = gex_mux_cov[gex_mux_cov['coverage'] == 0]\n",
    "tmp_atac_mux_cov = atac_mux_cov[atac_mux_cov['coverage'] == 0]\n",
    "final_gex_mux_cov = tmp_gex_mux_cov.melt(id_vars=['donors'], value_vars=select)\n",
    "final_atac_mux_cov = tmp_atac_mux_cov.melt(id_vars=['donors'], value_vars=select)\n",
    "final_gex_mux_cov['mod'] = 'gex'\n",
    "final_atac_mux_cov['mod'] = 'atac'\n",
    "merged_mux_cov = pd.concat([final_gex_mux_cov, final_atac_mux_cov])"
   ]
  },
  {
   "cell_type": "code",
   "execution_count": 35,
   "id": "580ff62c",
   "metadata": {},
   "outputs": [
    {
     "name": "stdout",
     "output_type": "stream",
     "text": [
      "I2 rate\n",
      "C1 rate\n",
      "C2 rate\n",
      "I1 rate\n"
     ]
    },
    {
     "data": {
      "text/plain": [
       "Text(0.5, 0.04, '# muxed donors')"
      ]
     },
     "execution_count": 35,
     "metadata": {},
     "output_type": "execute_result"
    },
    {
     "data": {
      "image/png": "[encoded data removed]",
      "text/plain": [
       "<Figure size 504x360 with 4 Axes>"
      ]
     },
     "metadata": {},
     "output_type": "display_data"
    }
   ],
   "source": [
    "sns.set_theme(palette='Dark2')\n",
    "# fig, axes = plt.subplots(2, 2, figsize=(12, 6))\n",
    "\n",
    "# for i,ax in enumerate(axes.flatten()):\n",
    "#     print(col)\n",
    "#     col = select[i]\n",
    "#     tmp_merged = merged_mux_cov[merged_mux_cov['variable'] == col]\n",
    "#     sns.barplot(tmp_merged, x='donors', y='value', hue='mod', ax=ax)\n",
    "#     ax.set_ylim(0, 1)\n",
    "#     ax.set_ylabel('')\n",
    "#     ax.set_xlabel('')\n",
    "#     ax.legend_.remove()\n",
    "\n",
    "ylims = [0.25, 1, 0.1, 0.02]\n",
    "\n",
    "fig, axes = plt.subplots(2, 2, figsize=(7, 5))\n",
    "for i,ax in enumerate(axes.flatten()):\n",
    "    print(col)\n",
    "    col = select[i]\n",
    "    lim = ylims[i]\n",
    "    tmp_merged = merged_mux_cov[merged_mux_cov['variable'] == col]\n",
    "    sns.barplot(tmp_merged, x='donors', y='value', hue='mod', ax=ax)\n",
    "    ax.set_ylim(0, lim)\n",
    "    ax.set_ylabel('')\n",
    "    ax.set_xlabel('')\n",
    "    ax.legend_.remove()\n",
    "    ax.set_title(col, fontsize=12)\n",
    "    ax.grid(False)\n",
    "    ax.set_facecolor('white')\n",
    "    ax.grid(False)\n",
    "\n",
    "plt.suptitle('Variant consistency, vary # muxed donors ', fontsize=14)\n",
    "plt.subplots_adjust(wspace=0.4, hspace=0.4)  # Adjust the value as needed\n",
    "fig.text(0.5, 0.04, '# muxed donors', ha='center', va='center', fontsize=15)"
   ]
  },
  {
   "cell_type": "code",
   "execution_count": 37,
   "id": "3a057521",
   "metadata": {},
   "outputs": [],
   "source": [
    "test_mux_gex_cov = gex_mux_cov.melt(id_vars=['donors' , 'coverage'], value_vars=select)\n",
    "test_mux_atac_cov = atac_mux_cov.melt(id_vars=['donors' , 'coverage'], value_vars=select)"
   ]
  },
  {
   "cell_type": "code",
   "execution_count": 38,
   "id": "5cd9bbcd",
   "metadata": {},
   "outputs": [
    {
     "data": {
      "text/plain": [
       "Text(0.5, 1.0, 'Vary # muxed donors, RNA')"
      ]
     },
     "execution_count": 38,
     "metadata": {},
     "output_type": "execute_result"
    },
    {
     "data": {
      "image/png": "[encoded data removed]",
      "text/plain": [
       "<Figure size 432x288 with 1 Axes>"
      ]
     },
     "metadata": {},
     "output_type": "display_data"
    }
   ],
   "source": [
    "sns.set_theme(palette='Paired')\n",
    "tmp_gex = test_mux_gex_cov[test_mux_gex_cov['variable'] == 'I1 rate']\n",
    "ax = sns.barplot(tmp_gex, x='donors', y='value', hue='coverage')\n",
    "ax.set_ylim(0, 0.1)\n",
    "ax.grid(False)\n",
    "ax.set_facecolor('white')\n",
    "ax.legend(title='coverage', bbox_to_anchor=(1.2, 1),loc='center right')\n",
    "ax.set_title('Vary # muxed donors, RNA', size=20)"
   ]
  },
  {
   "cell_type": "code",
   "execution_count": 39,
   "id": "66985bd1",
   "metadata": {},
   "outputs": [
    {
     "data": {
      "text/plain": [
       "Text(0, 0.5, '')"
      ]
     },
     "execution_count": 39,
     "metadata": {},
     "output_type": "execute_result"
    },
    {
     "data": {
      "image/png": "[encoded data removed]",
      "text/plain": [
       "<Figure size 432x288 with 1 Axes>"
      ]
     },
     "metadata": {},
     "output_type": "display_data"
    }
   ],
   "source": [
    "sns.set_theme(palette='Paired')\n",
    "tmp_gex = test_mux_gex_cov[test_mux_gex_cov['variable'] == 'I1 rate']\n",
    "ax = sns.barplot(tmp_gex, x='donors', y='value', hue='coverage')\n",
    "ax.set_ylim(0, 0.1)\n",
    "ax.grid(False)\n",
    "ax.set_facecolor('white')\n",
    "# ax.legend(title='coverage', bbox_to_anchor=(1.2, 1),loc='center right')\n",
    "ax.legend().set_visible(False)\n",
    "ax.set_title('Vary # muxed donors, RNA', size=20)\n",
    "ax.set_ylabel('')"
   ]
  },
  {
   "cell_type": "code",
   "execution_count": 40,
   "id": "3df77821",
   "metadata": {},
   "outputs": [
    {
     "data": {
      "text/plain": [
       "Text(0, 0.5, '')"
      ]
     },
     "execution_count": 40,
     "metadata": {},
     "output_type": "execute_result"
    },
    {
     "data": {
      "image/png": "[encoded data removed]",
      "text/plain": [
       "<Figure size 432x288 with 1 Axes>"
      ]
     },
     "metadata": {},
     "output_type": "display_data"
    }
   ],
   "source": [
    "sns.set_theme(palette='Paired')\n",
    "tmp_atac = test_mux_atac_cov[test_mux_atac_cov['variable'] == 'I1 rate']\n",
    "ax = sns.barplot(tmp_atac, x='donors', y='value', hue='coverage')\n",
    "ax.set_ylim(0, 0.1)\n",
    "ax.grid(False)\n",
    "ax.set_facecolor('white')\n",
    "# ax.legend(title='coverage', bbox_to_anchor=(1.2, 1),loc='center right')\n",
    "ax.legend().set_visible(False)\n",
    "ax.set_title('Vary # muxed donors, ATAC', size=20)\n",
    "ax.set_ylabel('')"
   ]
  },
  {
   "cell_type": "code",
   "execution_count": 41,
   "id": "b62e5494",
   "metadata": {},
   "outputs": [
    {
     "name": "stdout",
     "output_type": "stream",
     "text": [
      "I2 rate\n",
      "C1 rate\n",
      "C2 rate\n",
      "I1 rate\n"
     ]
    },
    {
     "data": {
      "text/plain": [
       "Text(0.5, 0.04, '# muxed donors')"
      ]
     },
     "execution_count": 41,
     "metadata": {},
     "output_type": "execute_result"
    },
    {
     "data": {
      "image/png": "[encoded data removed]",
      "text/plain": [
       "<Figure size 432x288 with 4 Axes>"
      ]
     },
     "metadata": {},
     "output_type": "display_data"
    }
   ],
   "source": [
    "ylims = [0.25, 1, 0.1, 0.02]\n",
    "\n",
    "fig, axes = plt.subplots(2, 2, figsize=(6, 4))\n",
    "for i,ax in enumerate(axes.flatten()):\n",
    "    print(col)\n",
    "    col = select[i]\n",
    "    lim = ylims[i]\n",
    "    tmp_merged = merged_mux_cov[merged_mux_cov['variable'] == col]\n",
    "    sns.barplot(tmp_merged, x='donors', y='value', hue='mod', ax=ax)\n",
    "    ax.set_ylim(0, lim)\n",
    "    ax.set_ylabel('')\n",
    "    ax.set_xlabel('')\n",
    "    ax.legend_.remove()\n",
    "    ax.set_title(col, fontsize=12)\n",
    "\n",
    "plt.suptitle('Variant consistency, vary # muxed donors ', fontsize=14)\n",
    "plt.subplots_adjust(wspace=0.4, hspace=0.4)  # Adjust the value as needed\n",
    "fig.text(0.5, 0.04, '# muxed donors', ha='center', va='center', fontsize=15)"
   ]
  },
  {
   "cell_type": "code",
   "execution_count": 46,
   "id": "874e7f8d",
   "metadata": {},
   "outputs": [],
   "source": [
    "merged_cov.index.name = 'index'\n",
    "merged_mux_cov.index.name = 'index'"
   ]
  },
  {
   "cell_type": "code",
   "execution_count": 47,
   "id": "e707b0ec",
   "metadata": {},
   "outputs": [],
   "source": [
    "### 5b\n",
    "merged_cov.to_csv(f'{projdir}/csv/final_figures/figure5/figure_5b_pd.csv', sep='\\t', header=True, index=True)\n",
    "merged_mux_cov.to_csv(f'{projdir}/csv/final_figures/figure5/figure_5b_mux.csv', sep='\\t', header=True, index=True)"
   ]
  },
  {
   "cell_type": "code",
   "execution_count": 53,
   "id": "4402bd51",
   "metadata": {},
   "outputs": [
    {
     "data": {
      "text/plain": [
       "(   donors  coverage variable     value\n",
       " 0       2         0  C1 rate  0.210660\n",
       " 1       6         0  C1 rate  0.029819\n",
       " 2       8         0  C1 rate  0.018912\n",
       " 3      10         0  C1 rate  0.014137\n",
       " 4      12         0  C1 rate  0.011689\n",
       " ..    ...       ...      ...       ...\n",
       " 79      8        20  I2 rate  0.000255\n",
       " 80     10        20  I2 rate  0.000100\n",
       " 81     12        20  I2 rate  0.000045\n",
       " 82     14        20  I2 rate  0.000030\n",
       " 83     16        20  I2 rate  0.000023\n",
       " \n",
       " [84 rows x 4 columns],\n",
       "    donors  coverage variable     value\n",
       " 0       2         0  C1 rate  0.235608\n",
       " 1       6         0  C1 rate  0.048698\n",
       " 2       8         0  C1 rate  0.034473\n",
       " 3      10         0  C1 rate  0.027267\n",
       " 4      12         0  C1 rate  0.022830\n",
       " ..    ...       ...      ...       ...\n",
       " 79      8        20  I2 rate  0.000075\n",
       " 80     10        20  I2 rate  0.000075\n",
       " 81     12        20  I2 rate  0.000048\n",
       " 82     14        20  I2 rate  0.000070\n",
       " 83     16        20  I2 rate  0.000045\n",
       " \n",
       " [84 rows x 4 columns])"
      ]
     },
     "execution_count": 53,
     "metadata": {},
     "output_type": "execute_result"
    }
   ],
   "source": [
    "test_mux_gex_cov, test_mux_atac_cov"
   ]
  },
  {
   "cell_type": "code",
   "execution_count": null,
   "id": "b5b2250e",
   "metadata": {},
   "outputs": [],
   "source": []
  },
  {
   "cell_type": "code",
   "execution_count": 54,
   "id": "fbe81300",
   "metadata": {},
   "outputs": [],
   "source": [
    "### s12?\n",
    "### s12?\n",
    "test_gex_cov.to_csv(f'{projdir}/csv/final_figures/figure5/figure_s12_pd_gex_cov.csv', sep='\\t', header=True, index=True)\n",
    "test_atac_cov.to_csv(f'{projdir}/csv/final_figures/figure5/figure_s12_pd_atac_cov.csv', sep='\\t', header=True, index=True)\n",
    "test_mux_gex_cov.to_csv(f'{projdir}/csv/final_figures/figure5/figure_s12_mux_gex_cov.csv', sep='\\t', header=True, index=True)\n",
    "test_mux_atac_cov.to_csv(f'{projdir}/csv/final_figures/figure5/figure_s12_mux_atac_cov.csv', sep='\\t', header=True, index=True)"
   ]
  },
  {
   "cell_type": "code",
   "execution_count": 55,
   "id": "bf113598",
   "metadata": {},
   "outputs": [],
   "source": []
  },
  {
   "cell_type": "code",
   "execution_count": null,
   "id": "292a0385",
   "metadata": {},
   "outputs": [],
   "source": []
  }
 ],
 "metadata": {
  "kernelspec": {
   "display_name": "allcools",
   "language": "python",
   "name": "allcools"
  },
  "language_info": {
   "codemirror_mode": {
    "name": "ipython",
    "version": 3
   },
   "file_extension": ".py",
   "mimetype": "text/x-python",
   "name": "python",
   "nbconvert_exporter": "python",
   "pygments_lexer": "ipython3",
   "version": "3.7.13"
  }
 },
 "nbformat": 4,
 "nbformat_minor": 5
}
