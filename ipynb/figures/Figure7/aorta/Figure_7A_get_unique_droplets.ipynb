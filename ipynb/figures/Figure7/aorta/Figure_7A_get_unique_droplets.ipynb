{
 "cells": [
  {
   "cell_type": "code",
   "execution_count": 1,
   "id": "e9a1f44c",
   "metadata": {},
   "outputs": [],
   "source": [
    "import numpy as np\n",
    "import pandas as pd\n",
    "import matplotlib.pyplot as plt\n",
    "import seaborn as sns\n",
    "from scipy.io import mmread, mmwrite"
   ]
  },
  {
   "cell_type": "code",
   "execution_count": 12,
   "id": "cfbe01af",
   "metadata": {},
   "outputs": [],
   "source": [
    "projdir = '/u/home/t/terencew/project-cluo/demux_benchmark/adelus_2023/'\n",
    "donors = list(np.loadtxt(f'{projdir}/txt/donors.txt', dtype=str))\n",
    "samples = list(np.loadtxt(f'{projdir}/txt/samples.txt', dtype=str))\n",
    "new_samples = [x.replace('MT_', 'MT-').replace('pooled_','pooled-') for x in samples]\n",
    "s = samples[0]\n",
    "\n",
    "gex_methods = ['demuxlet', 'freemuxlet', 'vireo', 'vireo_nogenos',\n",
    "               'scsplit', 'scsplit_nogenos',\n",
    "    'souporcell', 'souporcell_nogenos', 'demuxalot']\n",
    "atac_methods = ['demuxlet', 'freemuxlet',  'vireo', 'vireo_nogenos',\n",
    "               'scsplit', 'scsplit_nogenos',\n",
    "    'souporcell', 'souporcell_nogenos', 'scavengers']\n",
    "\n",
    "con_cols = ['C1', 'C2', 'I1', 'I2']"
   ]
  },
  {
   "cell_type": "code",
   "execution_count": 13,
   "id": "1cb55675",
   "metadata": {},
   "outputs": [],
   "source": [
    "h_donors = list(np.loadtxt(f'{projdir}/txt/donors.txt', dtype=str))\n",
    "mt13_donors = list(np.loadtxt(f'{projdir}/txt/MT1-3_donors.txt', dtype=str))\n",
    "mt4_donors = list(np.loadtxt(f'{projdir}/txt/MT4_donors.txt', dtype=str))\n",
    "mt5_donors = list(np.loadtxt(f'{projdir}/txt/MT5_donors.txt', dtype=str))"
   ]
  },
  {
   "cell_type": "code",
   "execution_count": 14,
   "id": "a5946e0f",
   "metadata": {},
   "outputs": [
    {
     "data": {
      "text/plain": [
       "((35201, 9), (35201, 9))"
      ]
     },
     "execution_count": 14,
     "metadata": {},
     "output_type": "execute_result"
    }
   ],
   "source": [
    "gex = pd.read_csv(f'{projdir}/csv/demux/inter_gex_raw_donors.csv', sep='\\t',\n",
    "                  header=0, index_col=0)\n",
    "atac = pd.read_csv(f'{projdir}/csv/demux/inter_atac_raw_donors.csv', sep='\\t',\n",
    "                   header=0, index_col=0)\n",
    "gex.shape, atac.shape\n",
    "\n",
    "gex['sample'] = [x.split('_')[1] for x in gex.index]\n",
    "atac['sample'] = [x.split('_')[1] for x in atac.index]\n",
    "\n",
    "# gex = gex[gex['sample'] == s]\n",
    "# atac = atac[atac['sample'] == s]\n",
    "\n",
    "gex = gex.drop(columns=['sample'])\n",
    "atac = atac.drop(columns=['sample'])\n",
    "\n",
    "gex.replace({'doublet' : 'non_singlet' , 'unassigned' : 'non_singlet'}, inplace=True)\n",
    "atac.replace({'doublet' : 'non_singlet' , 'unassigned' : 'non_singlet'}, inplace=True)\n",
    "\n",
    "gex.shape, atac.shape"
   ]
  },
  {
   "cell_type": "code",
   "execution_count": 15,
   "id": "b0797595",
   "metadata": {},
   "outputs": [],
   "source": [
    "tmp_gex = gex.copy()\n",
    "tmp_atac = atac.copy()\n",
    "tmp_gex['inter'] = gex.eq(gex.iloc[:, 0], axis=0).all(1)\n",
    "tmp_atac['inter'] = atac.eq(atac.iloc[:, 0], axis=0).all(1)\n",
    "\n",
    "gex['inter'] = tmp_gex['inter']\n",
    "atac['inter'] = tmp_atac['inter']\n",
    "\n",
    "tmp_gex = gex.iloc[:,:7]\n",
    "tmp_gex.columns = [f'gex_{x}' for x in tmp_gex.columns]\n",
    "tmp_atac = atac.iloc[:,:6]\n",
    "tmp_atac.columns = [f'atac_{x}' for x in tmp_atac.columns]\n",
    " \n",
    "merged = pd.concat([tmp_gex, tmp_atac], axis=1)\n",
    "merged['inter'] = merged.eq(merged.iloc[:, 0], axis=0).all(1)"
   ]
  },
  {
   "cell_type": "code",
   "execution_count": 16,
   "id": "4ae09574",
   "metadata": {},
   "outputs": [
    {
     "data": {
      "text/plain": [
       "((20033, 10), (14414, 10), (16061, 10))"
      ]
     },
     "execution_count": 16,
     "metadata": {},
     "output_type": "execute_result"
    }
   ],
   "source": [
    "gex_mask = ~gex['inter']\n",
    "unique_gex = gex[gex_mask]\n",
    "\n",
    "atac_mask = ~atac['inter']\n",
    "unique_atac = atac[atac_mask]\n",
    "\n",
    "all_mask = ~merged['inter']\n",
    "unique_all = gex[all_mask]\n",
    "unique_gex.shape, unique_atac.shape, unique_all.shape"
   ]
  },
  {
   "cell_type": "code",
   "execution_count": 17,
   "id": "db8b1ee4",
   "metadata": {},
   "outputs": [],
   "source": [
    "gex_unique = pd.DataFrame(index=gex_methods, columns=['n_drops'], data=0)\n",
    "for method in gex_methods:\n",
    "    mask = gex[method] != 'non_singlet'\n",
    "    method_gex = gex[mask]\n",
    "    gex_unique.loc[method] = method_gex.shape[0] - np.sum(method_gex['inter'])\n",
    "gex_unique['method'] = gex_unique.index\n",
    "gex_unique['mod'] = 'gex'"
   ]
  },
  {
   "cell_type": "code",
   "execution_count": 18,
   "id": "f54fd1d5",
   "metadata": {},
   "outputs": [],
   "source": [
    "atac_unique = pd.DataFrame(index=atac_methods, columns=['n_drops'], data=0)\n",
    "for method in atac_methods:\n",
    "    mask = atac[method] != 'non_singlet'\n",
    "    method_atac = atac[mask]\n",
    "    atac_unique.loc[method] = method_atac.shape[0] - np.sum(method_atac['inter'])\n",
    "atac_unique['method'] = atac_unique.index\n",
    "atac_unique['mod'] = 'atac'"
   ]
  },
  {
   "cell_type": "code",
   "execution_count": 19,
   "id": "a675f0e2",
   "metadata": {},
   "outputs": [
    {
     "data": {
      "text/html": [
       "<div>\n",
       "<style scoped>\n",
       "    .dataframe tbody tr th:only-of-type {\n",
       "        vertical-align: middle;\n",
       "    }\n",
       "\n",
       "    .dataframe tbody tr th {\n",
       "        vertical-align: top;\n",
       "    }\n",
       "\n",
       "    .dataframe thead th {\n",
       "        text-align: right;\n",
       "    }\n",
       "</style>\n",
       "<table border=\"1\" class=\"dataframe\">\n",
       "  <thead>\n",
       "    <tr style=\"text-align: right;\">\n",
       "      <th></th>\n",
       "      <th>n_drops</th>\n",
       "      <th>method</th>\n",
       "      <th>mod</th>\n",
       "    </tr>\n",
       "  </thead>\n",
       "  <tbody>\n",
       "    <tr>\n",
       "      <th>demuxlet</th>\n",
       "      <td>9823</td>\n",
       "      <td>demuxlet</td>\n",
       "      <td>gex</td>\n",
       "    </tr>\n",
       "    <tr>\n",
       "      <th>freemuxlet</th>\n",
       "      <td>19948</td>\n",
       "      <td>freemuxlet</td>\n",
       "      <td>gex</td>\n",
       "    </tr>\n",
       "    <tr>\n",
       "      <th>vireo</th>\n",
       "      <td>15007</td>\n",
       "      <td>vireo</td>\n",
       "      <td>gex</td>\n",
       "    </tr>\n",
       "    <tr>\n",
       "      <th>vireo_nogenos</th>\n",
       "      <td>16409</td>\n",
       "      <td>vireo_nogenos</td>\n",
       "      <td>gex</td>\n",
       "    </tr>\n",
       "    <tr>\n",
       "      <th>scsplit</th>\n",
       "      <td>16351</td>\n",
       "      <td>scsplit</td>\n",
       "      <td>gex</td>\n",
       "    </tr>\n",
       "    <tr>\n",
       "      <th>scsplit_nogenos</th>\n",
       "      <td>16177</td>\n",
       "      <td>scsplit_nogenos</td>\n",
       "      <td>gex</td>\n",
       "    </tr>\n",
       "    <tr>\n",
       "      <th>souporcell</th>\n",
       "      <td>17365</td>\n",
       "      <td>souporcell</td>\n",
       "      <td>gex</td>\n",
       "    </tr>\n",
       "    <tr>\n",
       "      <th>souporcell_nogenos</th>\n",
       "      <td>17282</td>\n",
       "      <td>souporcell_nogenos</td>\n",
       "      <td>gex</td>\n",
       "    </tr>\n",
       "    <tr>\n",
       "      <th>demuxalot</th>\n",
       "      <td>14168</td>\n",
       "      <td>demuxalot</td>\n",
       "      <td>gex</td>\n",
       "    </tr>\n",
       "    <tr>\n",
       "      <th>demuxlet</th>\n",
       "      <td>8443</td>\n",
       "      <td>demuxlet</td>\n",
       "      <td>atac</td>\n",
       "    </tr>\n",
       "    <tr>\n",
       "      <th>freemuxlet</th>\n",
       "      <td>14382</td>\n",
       "      <td>freemuxlet</td>\n",
       "      <td>atac</td>\n",
       "    </tr>\n",
       "    <tr>\n",
       "      <th>vireo</th>\n",
       "      <td>10084</td>\n",
       "      <td>vireo</td>\n",
       "      <td>atac</td>\n",
       "    </tr>\n",
       "    <tr>\n",
       "      <th>vireo_nogenos</th>\n",
       "      <td>10137</td>\n",
       "      <td>vireo_nogenos</td>\n",
       "      <td>atac</td>\n",
       "    </tr>\n",
       "    <tr>\n",
       "      <th>scsplit</th>\n",
       "      <td>12121</td>\n",
       "      <td>scsplit</td>\n",
       "      <td>atac</td>\n",
       "    </tr>\n",
       "    <tr>\n",
       "      <th>scsplit_nogenos</th>\n",
       "      <td>12271</td>\n",
       "      <td>scsplit_nogenos</td>\n",
       "      <td>atac</td>\n",
       "    </tr>\n",
       "    <tr>\n",
       "      <th>souporcell</th>\n",
       "      <td>10676</td>\n",
       "      <td>souporcell</td>\n",
       "      <td>atac</td>\n",
       "    </tr>\n",
       "    <tr>\n",
       "      <th>souporcell_nogenos</th>\n",
       "      <td>12208</td>\n",
       "      <td>souporcell_nogenos</td>\n",
       "      <td>atac</td>\n",
       "    </tr>\n",
       "    <tr>\n",
       "      <th>scavengers</th>\n",
       "      <td>11269</td>\n",
       "      <td>scavengers</td>\n",
       "      <td>atac</td>\n",
       "    </tr>\n",
       "  </tbody>\n",
       "</table>\n",
       "</div>"
      ],
      "text/plain": [
       "                    n_drops              method   mod\n",
       "demuxlet               9823            demuxlet   gex\n",
       "freemuxlet            19948          freemuxlet   gex\n",
       "vireo                 15007               vireo   gex\n",
       "vireo_nogenos         16409       vireo_nogenos   gex\n",
       "scsplit               16351             scsplit   gex\n",
       "scsplit_nogenos       16177     scsplit_nogenos   gex\n",
       "souporcell            17365          souporcell   gex\n",
       "souporcell_nogenos    17282  souporcell_nogenos   gex\n",
       "demuxalot             14168           demuxalot   gex\n",
       "demuxlet               8443            demuxlet  atac\n",
       "freemuxlet            14382          freemuxlet  atac\n",
       "vireo                 10084               vireo  atac\n",
       "vireo_nogenos         10137       vireo_nogenos  atac\n",
       "scsplit               12121             scsplit  atac\n",
       "scsplit_nogenos       12271     scsplit_nogenos  atac\n",
       "souporcell            10676          souporcell  atac\n",
       "souporcell_nogenos    12208  souporcell_nogenos  atac\n",
       "scavengers            11269          scavengers  atac"
      ]
     },
     "execution_count": 19,
     "metadata": {},
     "output_type": "execute_result"
    }
   ],
   "source": [
    "merged_unique = pd.concat([gex_unique, atac_unique])\n",
    "merged_unique"
   ]
  },
  {
   "cell_type": "code",
   "execution_count": 20,
   "id": "19ede03b",
   "metadata": {},
   "outputs": [
    {
     "data": {
      "text/plain": [
       "Text(0.5, 1.0, 'Aorta dataset')"
      ]
     },
     "execution_count": 20,
     "metadata": {},
     "output_type": "execute_result"
    },
    {
     "data": {
      "image/png": "[encoded data removed]",
      "text/plain": [
       "<Figure size 432x288 with 1 Axes>"
      ]
     },
     "metadata": {},
     "output_type": "display_data"
    }
   ],
   "source": [
    "sns.set_theme(palette='Dark2')\n",
    "ax = sns.barplot(merged_unique, x='method', y='n_drops', hue='mod')\n",
    "ax.set_xticklabels(ax.get_xticklabels(), rotation=45)\n",
    "sns.move_legend(ax, \"upper left\", bbox_to_anchor=(1, 1))\n",
    "ax.legend_.set_visible(False)\n",
    "ax.grid(False)\n",
    "ax.set_facecolor('white')\n",
    "ax.set_title('Aorta dataset', size=20)"
   ]
  },
  {
   "cell_type": "code",
   "execution_count": 28,
   "id": "7d4f1b15",
   "metadata": {},
   "outputs": [],
   "source": [
    "merged_unique.reset_index(drop=True, inplace=True)\n",
    "merged_unique.loc[18] = ['0', 'scavengers', 'gex']\n",
    "merged_unique.loc[19] = ['0', 'demuxalot', 'atac']"
   ]
  },
  {
   "cell_type": "code",
   "execution_count": 29,
   "id": "edf99d7e",
   "metadata": {},
   "outputs": [],
   "source": [
    "merged_unique.to_csv(f'{projdir}/csv/final_figures/figure6/unique_drops.csv', sep='\\t', header=True, index=True)"
   ]
  },
  {
   "cell_type": "code",
   "execution_count": null,
   "id": "67398015",
   "metadata": {},
   "outputs": [],
   "source": []
  }
 ],
 "metadata": {
  "kernelspec": {
   "display_name": "allcools",
   "language": "python",
   "name": "allcools"
  },
  "language_info": {
   "codemirror_mode": {
    "name": "ipython",
    "version": 3
   },
   "file_extension": ".py",
   "mimetype": "text/x-python",
   "name": "python",
   "nbconvert_exporter": "python",
   "pygments_lexer": "ipython3",
   "version": "3.7.13"
  }
 },
 "nbformat": 4,
 "nbformat_minor": 5
}
