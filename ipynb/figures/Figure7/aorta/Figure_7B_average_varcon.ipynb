{
 "cells": [
  {
   "cell_type": "code",
   "execution_count": 1,
   "id": "98e2fd44",
   "metadata": {},
   "outputs": [],
   "source": [
    "import numpy as np\n",
    "import pandas as pd\n",
    "import matplotlib.pyplot as plt\n",
    "import seaborn as sns\n",
    "from scipy.io import mmread, mmwrite"
   ]
  },
  {
   "cell_type": "code",
   "execution_count": 2,
   "id": "7a7b07c1",
   "metadata": {},
   "outputs": [],
   "source": [
    "projdir = '/u/home/t/terencew/project-cluo/demux_benchmark/adelus_2023/'\n",
    "donors = list(np.loadtxt(f'{projdir}/txt/donors.txt', dtype=str))\n",
    "samples = list(np.loadtxt(f'{projdir}/txt/samples.txt', dtype=str))\n",
    "new_samples = [x.replace('MT_', 'MT-').replace('pooled_','pooled-') for x in samples]\n",
    "s = samples[0]\n",
    "\n",
    "gex_methods = ['demuxlet', 'freemuxlet', 'vireo', 'vireo_nogenos',\n",
    "               'scsplit', 'scsplit_nogenos',\n",
    "            'souporcell', 'souporcell_nogenos', 'demuxalot']\n",
    "atac_methods = ['demuxlet', 'freemuxlet', 'vireo', 'vireo_nogenos',\n",
    "               'scsplit', 'scsplit_nogenos',\n",
    "            'souporcell', 'souporcell_nogenos', 'scavengers']\n",
    "\n",
    "con_cols = ['C1', 'C2', 'I1', 'I2']"
   ]
  },
  {
   "cell_type": "code",
   "execution_count": 3,
   "id": "d1f41329",
   "metadata": {},
   "outputs": [
    {
     "data": {
      "text/plain": [
       "((35201, 10), (35201, 10))"
      ]
     },
     "execution_count": 3,
     "metadata": {},
     "output_type": "execute_result"
    }
   ],
   "source": [
    "gex_sings = pd.read_csv(f'{projdir}/csv/demux/singlet_gex.csv', sep='\\t',\n",
    "                  header=0, index_col=0)\n",
    "atac_sings = pd.read_csv(f'{projdir}/csv/demux/singlet_atac.csv', sep='\\t',\n",
    "                   header=0, index_col=0)\n",
    "gex_sings.replace({'doublet' : 'non_singlet' , 'unassigned' : 'non_singlet'}, inplace=True)\n",
    "atac_sings.replace({'doublet' : 'non_singlet' , 'unassigned' : 'non_singlet'}, inplace=True)\n",
    "\n",
    "tmp_gex_sings = gex_sings.copy()\n",
    "tmp_atac_sings = atac_sings.copy()\n",
    "tmp_gex_sings['inter'] = gex_sings.eq(gex_sings.iloc[:, 0], axis=0).all(1)\n",
    "tmp_atac_sings['inter'] = atac_sings.eq(atac_sings.iloc[:, 0], axis=0).all(1)\n",
    "gex_sings['inter'] = tmp_gex_sings['inter']\n",
    "atac_sings['inter'] = tmp_atac_sings['inter']\n",
    "gex_sings.shape, atac_sings.shape"
   ]
  },
  {
   "cell_type": "code",
   "execution_count": 4,
   "id": "340ef305",
   "metadata": {},
   "outputs": [],
   "source": [
    "tmp_gex_sings = gex_sings.iloc[:,:-1]\n",
    "tmp_gex_sings.columns = [f'gex_{x}' for x in tmp_gex_sings.columns]\n",
    "tmp_atac_sings = atac_sings.iloc[:,:-1]\n",
    "tmp_atac_sings.columns = [f'atac_{x}' for x in tmp_atac_sings.columns]\n",
    " \n",
    "merged_sings = pd.concat([tmp_gex_sings, tmp_atac_sings], axis=1)\n",
    "merged_sings['inter'] = merged_sings.eq(merged_sings.iloc[:, 0], axis=0).all(1)"
   ]
  },
  {
   "cell_type": "code",
   "execution_count": 5,
   "id": "89e9f2ef",
   "metadata": {},
   "outputs": [
    {
     "data": {
      "text/plain": [
       "(19607, 25088, 16176)"
      ]
     },
     "execution_count": 5,
     "metadata": {},
     "output_type": "execute_result"
    }
   ],
   "source": [
    "sum(gex_sings['inter']), sum(atac_sings['inter']), sum(merged_sings['inter'])"
   ]
  },
  {
   "cell_type": "code",
   "execution_count": 8,
   "id": "85d7ad97",
   "metadata": {},
   "outputs": [
    {
     "data": {
      "text/plain": [
       "((35201, 9), (35201, 9))"
      ]
     },
     "execution_count": 8,
     "metadata": {},
     "output_type": "execute_result"
    }
   ],
   "source": [
    "gex = pd.read_csv(f'{projdir}/csv/demux/inter_gex.csv', sep='\\t',\n",
    "                  header=0, index_col=0)\n",
    "atac = pd.read_csv(f'{projdir}/csv/demux/inter_atac.csv', sep='\\t',\n",
    "                   header=0, index_col=0)\n",
    "gex.replace({'doublet' : 'non_singlet' , 'unassigned' : 'non_singlet'}, inplace=True)\n",
    "atac.replace({'doublet' : 'non_singlet' , 'unassigned' : 'non_singlet'}, inplace=True)\n",
    "\n",
    "gex.index = [x.replace('MT_', 'MT-').replace('pooled_', 'pooled-') for x in gex.index]\n",
    "atac.index = [x.replace('MT_', 'MT-').replace('pooled_', 'pooled-') for x in atac.index]\n",
    "\n",
    "gex.shape, atac.shape"
   ]
  },
  {
   "cell_type": "code",
   "execution_count": 9,
   "id": "3df9d61f",
   "metadata": {},
   "outputs": [
    {
     "data": {
      "text/plain": [
       "((35201, 11), (35201, 11))"
      ]
     },
     "execution_count": 9,
     "metadata": {},
     "output_type": "execute_result"
    }
   ],
   "source": [
    "tmp_gex = gex.copy()\n",
    "tmp_atac = atac.copy()\n",
    "tmp_gex['inter'] = gex.eq(gex.iloc[:, 0], axis=0).all(1)\n",
    "tmp_atac['inter'] = atac.eq(atac.iloc[:, 0], axis=0).all(1)\n",
    "tmp_gex['majority'] = gex.mode(axis=1)[0]\n",
    "tmp_atac['majority'] = atac.mode(axis=1)[0]\n",
    "\n",
    "gex['majority'] = tmp_gex['majority']\n",
    "atac['majority'] = tmp_atac['majority']\n",
    "\n",
    "gex['inter'] = tmp_gex['inter']\n",
    "atac['inter'] = tmp_atac['inter']\n",
    "\n",
    "# gex_inter = pd.DataFrame(tmp_gex[tmp_gex['inter']]['demuxlet'])\n",
    "# gex_inter.columns = ['inter']\n",
    "\n",
    "# atac_inter = pd.DataFrame(tmp_atac[tmp_atac['inter']]['demuxlet'])\n",
    "# atac_inter.columns = ['inter']\n",
    "\n",
    "gex.shape, atac.shape"
   ]
  },
  {
   "cell_type": "code",
   "execution_count": 10,
   "id": "fde55f9b",
   "metadata": {},
   "outputs": [
    {
     "data": {
      "text/plain": [
       "((20033, 11), (14414, 11))"
      ]
     },
     "execution_count": 10,
     "metadata": {},
     "output_type": "execute_result"
    }
   ],
   "source": [
    "gex_mask = ~gex['inter']\n",
    "unique_gex = gex[gex_mask]\n",
    "\n",
    "atac_mask = ~atac['inter']\n",
    "unique_atac = atac[atac_mask]\n",
    "unique_gex.shape, unique_atac.shape"
   ]
  },
  {
   "cell_type": "code",
   "execution_count": 11,
   "id": "d684b9ca",
   "metadata": {},
   "outputs": [],
   "source": [
    "def process_con(con):\n",
    "    con['DP'] = np.sum(con.iloc[:,:4], axis=1)\n",
    "    con['Consistent rate'] = (con['C1'] + con['C2']) / con['DP']\n",
    "    con['Inconsistent rate'] = 1 - con['Consistent rate']\n",
    "    con['C1 rate'] = con['C1'] / con['DP']\n",
    "    con['C2 rate'] = con['C2'] / con['DP']\n",
    "    con['I1 rate'] = con['I1'] / con['DP']\n",
    "    con['I2 rate'] = con['I2'] / con['DP']\n",
    "    return con"
   ]
  },
  {
   "cell_type": "code",
   "execution_count": 15,
   "id": "437f048d",
   "metadata": {},
   "outputs": [
    {
     "name": "stdout",
     "output_type": "stream",
     "text": [
      "demuxlet 9823\n",
      "freemuxlet 19948\n",
      "vireo 15007\n",
      "vireo_nogenos 16409\n",
      "scsplit 16351\n",
      "scsplit_nogenos 16177\n",
      "souporcell 17365\n",
      "souporcell_nogenos 17282\n",
      "demuxalot 14168\n"
     ]
    }
   ],
   "source": [
    "tmp_cols = con_cols + ['n_drops']\n",
    "cov = 20\n",
    "condir = f'{projdir}/csv/var_consistency/gex/merged/'\n",
    "all_con_gex = pd.DataFrame(index=gex_methods, columns=tmp_cols, data=0)\n",
    "for method in gex_methods:\n",
    "    mask = unique_gex[method] != 'non_singlet'\n",
    "    method_con = pd.read_csv(f'{condir}/{method}_cov{cov}_varcon.csv', sep='\\t', header=0, index_col=0)\n",
    "    method_gex = unique_gex[mask]\n",
    "    mask = method_con.index.isin(method_gex.index)\n",
    "    method_con = method_con[mask]\n",
    "    method_con = pd.DataFrame(method_con.sum(axis=0)[:4]).transpose()\n",
    "    all_con_gex.loc[method] = list(method_con.iloc[0]) + [method_gex.shape[0]]\n",
    "    print(method, method_gex.shape[0])"
   ]
  },
  {
   "cell_type": "code",
   "execution_count": 16,
   "id": "923ad1e0",
   "metadata": {},
   "outputs": [
    {
     "name": "stdout",
     "output_type": "stream",
     "text": [
      "demuxlet 8443\n",
      "freemuxlet 14382\n",
      "vireo 10084\n",
      "vireo_nogenos 10137\n",
      "scsplit 12121\n",
      "scsplit_nogenos 12271\n",
      "souporcell 10676\n",
      "souporcell_nogenos 12208\n",
      "scavengers 11269\n"
     ]
    }
   ],
   "source": [
    "tmp_cols = con_cols + ['n_drops']\n",
    "cov = 20\n",
    "condir = f'{projdir}/csv/var_consistency/atac/merged/'\n",
    "all_con_atac = pd.DataFrame(index=atac_methods, columns=tmp_cols, data=0)\n",
    "for method in atac_methods:\n",
    "    mask = unique_atac[method] != 'non_singlet'\n",
    "    method_con = pd.read_csv(f'{condir}/{method}_cov{cov}_varcon.csv', sep='\\t', header=0, index_col=0)\n",
    "    method_atac = unique_atac[mask]\n",
    "    mask = method_con.index.isin(method_atac.index)\n",
    "    method_con = method_con[mask]\n",
    "    method_con = pd.DataFrame(method_con.sum(axis=0)[:4]).transpose()\n",
    "    all_con_atac.loc[method] = list(method_con.iloc[0]) + [method_atac.shape[0]]\n",
    "    print(method, method_atac.shape[0])"
   ]
  },
  {
   "cell_type": "code",
   "execution_count": 19,
   "id": "67c247a4",
   "metadata": {},
   "outputs": [
    {
     "data": {
      "text/html": [
       "<div>\n",
       "<style scoped>\n",
       "    .dataframe tbody tr th:only-of-type {\n",
       "        vertical-align: middle;\n",
       "    }\n",
       "\n",
       "    .dataframe tbody tr th {\n",
       "        vertical-align: top;\n",
       "    }\n",
       "\n",
       "    .dataframe thead th {\n",
       "        text-align: right;\n",
       "    }\n",
       "</style>\n",
       "<table border=\"1\" class=\"dataframe\">\n",
       "  <thead>\n",
       "    <tr style=\"text-align: right;\">\n",
       "      <th></th>\n",
       "      <th>C1</th>\n",
       "      <th>C2</th>\n",
       "      <th>I1</th>\n",
       "      <th>I2</th>\n",
       "      <th>DP</th>\n",
       "      <th>Consistent rate</th>\n",
       "      <th>Inconsistent rate</th>\n",
       "      <th>C1 rate</th>\n",
       "      <th>C2 rate</th>\n",
       "      <th>I1 rate</th>\n",
       "      <th>I2 rate</th>\n",
       "    </tr>\n",
       "  </thead>\n",
       "  <tbody>\n",
       "    <tr>\n",
       "      <th>demuxlet</th>\n",
       "      <td>1.893719</td>\n",
       "      <td>77.449455</td>\n",
       "      <td>4.629645</td>\n",
       "      <td>0.056093</td>\n",
       "      <td>84.028912</td>\n",
       "      <td>0.944237</td>\n",
       "      <td>0.055763</td>\n",
       "      <td>0.022537</td>\n",
       "      <td>0.921700</td>\n",
       "      <td>0.055096</td>\n",
       "      <td>0.000668</td>\n",
       "    </tr>\n",
       "    <tr>\n",
       "      <th>freemuxlet</th>\n",
       "      <td>2.893674</td>\n",
       "      <td>172.982404</td>\n",
       "      <td>23.811510</td>\n",
       "      <td>0.277421</td>\n",
       "      <td>199.965009</td>\n",
       "      <td>0.879534</td>\n",
       "      <td>0.120466</td>\n",
       "      <td>0.014471</td>\n",
       "      <td>0.865063</td>\n",
       "      <td>0.119078</td>\n",
       "      <td>0.001387</td>\n",
       "    </tr>\n",
       "    <tr>\n",
       "      <th>vireo</th>\n",
       "      <td>1.871860</td>\n",
       "      <td>80.147531</td>\n",
       "      <td>5.223296</td>\n",
       "      <td>0.069834</td>\n",
       "      <td>87.312521</td>\n",
       "      <td>0.939377</td>\n",
       "      <td>0.060623</td>\n",
       "      <td>0.021439</td>\n",
       "      <td>0.917939</td>\n",
       "      <td>0.059823</td>\n",
       "      <td>0.000800</td>\n",
       "    </tr>\n",
       "    <tr>\n",
       "      <th>vireo_nogenos</th>\n",
       "      <td>2.023158</td>\n",
       "      <td>93.018648</td>\n",
       "      <td>7.493875</td>\n",
       "      <td>0.097934</td>\n",
       "      <td>102.633616</td>\n",
       "      <td>0.926030</td>\n",
       "      <td>0.073970</td>\n",
       "      <td>0.019712</td>\n",
       "      <td>0.906318</td>\n",
       "      <td>0.073016</td>\n",
       "      <td>0.000954</td>\n",
       "    </tr>\n",
       "    <tr>\n",
       "      <th>scsplit</th>\n",
       "      <td>2.128799</td>\n",
       "      <td>165.904715</td>\n",
       "      <td>31.831509</td>\n",
       "      <td>0.288178</td>\n",
       "      <td>200.153202</td>\n",
       "      <td>0.839524</td>\n",
       "      <td>0.160476</td>\n",
       "      <td>0.010636</td>\n",
       "      <td>0.828889</td>\n",
       "      <td>0.159036</td>\n",
       "      <td>0.001440</td>\n",
       "    </tr>\n",
       "    <tr>\n",
       "      <th>scsplit_nogenos</th>\n",
       "      <td>2.038882</td>\n",
       "      <td>162.668789</td>\n",
       "      <td>31.446869</td>\n",
       "      <td>0.278605</td>\n",
       "      <td>196.433146</td>\n",
       "      <td>0.838492</td>\n",
       "      <td>0.161508</td>\n",
       "      <td>0.010380</td>\n",
       "      <td>0.828113</td>\n",
       "      <td>0.160089</td>\n",
       "      <td>0.001418</td>\n",
       "    </tr>\n",
       "    <tr>\n",
       "      <th>souporcell</th>\n",
       "      <td>2.403916</td>\n",
       "      <td>124.157846</td>\n",
       "      <td>13.005989</td>\n",
       "      <td>0.163778</td>\n",
       "      <td>139.731529</td>\n",
       "      <td>0.905749</td>\n",
       "      <td>0.094251</td>\n",
       "      <td>0.017204</td>\n",
       "      <td>0.888546</td>\n",
       "      <td>0.093078</td>\n",
       "      <td>0.001172</td>\n",
       "    </tr>\n",
       "    <tr>\n",
       "      <th>souporcell_nogenos</th>\n",
       "      <td>2.409848</td>\n",
       "      <td>126.935829</td>\n",
       "      <td>13.905740</td>\n",
       "      <td>0.178220</td>\n",
       "      <td>143.429638</td>\n",
       "      <td>0.901806</td>\n",
       "      <td>0.098194</td>\n",
       "      <td>0.016802</td>\n",
       "      <td>0.885004</td>\n",
       "      <td>0.096952</td>\n",
       "      <td>0.001243</td>\n",
       "    </tr>\n",
       "    <tr>\n",
       "      <th>demuxalot</th>\n",
       "      <td>1.574887</td>\n",
       "      <td>63.630011</td>\n",
       "      <td>3.360672</td>\n",
       "      <td>0.041643</td>\n",
       "      <td>68.607213</td>\n",
       "      <td>0.950409</td>\n",
       "      <td>0.049591</td>\n",
       "      <td>0.022955</td>\n",
       "      <td>0.927454</td>\n",
       "      <td>0.048984</td>\n",
       "      <td>0.000607</td>\n",
       "    </tr>\n",
       "  </tbody>\n",
       "</table>\n",
       "</div>"
      ],
      "text/plain": [
       "                          C1          C2         I1        I2          DP  \\\n",
       "demuxlet            1.893719   77.449455   4.629645  0.056093   84.028912   \n",
       "freemuxlet          2.893674  172.982404  23.811510  0.277421  199.965009   \n",
       "vireo               1.871860   80.147531   5.223296  0.069834   87.312521   \n",
       "vireo_nogenos       2.023158   93.018648   7.493875  0.097934  102.633616   \n",
       "scsplit             2.128799  165.904715  31.831509  0.288178  200.153202   \n",
       "scsplit_nogenos     2.038882  162.668789  31.446869  0.278605  196.433146   \n",
       "souporcell          2.403916  124.157846  13.005989  0.163778  139.731529   \n",
       "souporcell_nogenos  2.409848  126.935829  13.905740  0.178220  143.429638   \n",
       "demuxalot           1.574887   63.630011   3.360672  0.041643   68.607213   \n",
       "\n",
       "                    Consistent rate  Inconsistent rate   C1 rate   C2 rate  \\\n",
       "demuxlet                   0.944237           0.055763  0.022537  0.921700   \n",
       "freemuxlet                 0.879534           0.120466  0.014471  0.865063   \n",
       "vireo                      0.939377           0.060623  0.021439  0.917939   \n",
       "vireo_nogenos              0.926030           0.073970  0.019712  0.906318   \n",
       "scsplit                    0.839524           0.160476  0.010636  0.828889   \n",
       "scsplit_nogenos            0.838492           0.161508  0.010380  0.828113   \n",
       "souporcell                 0.905749           0.094251  0.017204  0.888546   \n",
       "souporcell_nogenos         0.901806           0.098194  0.016802  0.885004   \n",
       "demuxalot                  0.950409           0.049591  0.022955  0.927454   \n",
       "\n",
       "                     I1 rate   I2 rate  \n",
       "demuxlet            0.055096  0.000668  \n",
       "freemuxlet          0.119078  0.001387  \n",
       "vireo               0.059823  0.000800  \n",
       "vireo_nogenos       0.073016  0.000954  \n",
       "scsplit             0.159036  0.001440  \n",
       "scsplit_nogenos     0.160089  0.001418  \n",
       "souporcell          0.093078  0.001172  \n",
       "souporcell_nogenos  0.096952  0.001243  \n",
       "demuxalot           0.048984  0.000607  "
      ]
     },
     "execution_count": 19,
     "metadata": {},
     "output_type": "execute_result"
    }
   ],
   "source": [
    "### this is just singlets called by that method, I think this is fine!\n",
    "\n",
    "tmp_cols = con_cols + ['n_drops']\n",
    "cov = 20\n",
    "condir = f'{projdir}/csv/var_consistency/gex/merged/'\n",
    "all_con_gex = pd.DataFrame(index=gex_methods, columns=tmp_cols, data=0)\n",
    "for method in gex_methods:\n",
    "    mask = unique_gex[method] != 'non_singlet'\n",
    "    method_con = pd.read_csv(f'{condir}/{method}_cov{cov}_varcon.csv', sep='\\t', header=0, index_col=0)\n",
    "    method_gex = unique_gex[mask]\n",
    "    mask = method_con.index.isin(method_gex.index)\n",
    "    method_con = method_con[mask]\n",
    "    method_con = pd.DataFrame(method_con.sum(axis=0)[:4]).transpose()\n",
    "    all_con_gex.loc[method] = list(method_con.iloc[0]) + [method_gex.shape[0]]\n",
    "    \n",
    "test_con_gex = all_con_gex.iloc[:,:4].div(all_con_gex['n_drops'], axis=0)\n",
    "test_con_gex = process_con(test_con_gex)\n",
    "test_con_gex"
   ]
  },
  {
   "cell_type": "code",
   "execution_count": 21,
   "id": "232dff42",
   "metadata": {},
   "outputs": [
    {
     "data": {
      "text/html": [
       "<div>\n",
       "<style scoped>\n",
       "    .dataframe tbody tr th:only-of-type {\n",
       "        vertical-align: middle;\n",
       "    }\n",
       "\n",
       "    .dataframe tbody tr th {\n",
       "        vertical-align: top;\n",
       "    }\n",
       "\n",
       "    .dataframe thead th {\n",
       "        text-align: right;\n",
       "    }\n",
       "</style>\n",
       "<table border=\"1\" class=\"dataframe\">\n",
       "  <thead>\n",
       "    <tr style=\"text-align: right;\">\n",
       "      <th></th>\n",
       "      <th>C1</th>\n",
       "      <th>C2</th>\n",
       "      <th>I1</th>\n",
       "      <th>I2</th>\n",
       "      <th>DP</th>\n",
       "      <th>Consistent rate</th>\n",
       "      <th>Inconsistent rate</th>\n",
       "      <th>C1 rate</th>\n",
       "      <th>C2 rate</th>\n",
       "      <th>I1 rate</th>\n",
       "      <th>I2 rate</th>\n",
       "    </tr>\n",
       "  </thead>\n",
       "  <tbody>\n",
       "    <tr>\n",
       "      <th>demuxlet</th>\n",
       "      <td>1.426862</td>\n",
       "      <td>62.293971</td>\n",
       "      <td>4.522326</td>\n",
       "      <td>0.085988</td>\n",
       "      <td>68.329148</td>\n",
       "      <td>0.932557</td>\n",
       "      <td>0.067443</td>\n",
       "      <td>0.020882</td>\n",
       "      <td>0.911675</td>\n",
       "      <td>0.066184</td>\n",
       "      <td>0.001258</td>\n",
       "    </tr>\n",
       "    <tr>\n",
       "      <th>freemuxlet</th>\n",
       "      <td>10.145738</td>\n",
       "      <td>625.441733</td>\n",
       "      <td>113.672577</td>\n",
       "      <td>2.472813</td>\n",
       "      <td>751.732861</td>\n",
       "      <td>0.845496</td>\n",
       "      <td>0.154504</td>\n",
       "      <td>0.013496</td>\n",
       "      <td>0.832000</td>\n",
       "      <td>0.151214</td>\n",
       "      <td>0.003289</td>\n",
       "    </tr>\n",
       "    <tr>\n",
       "      <th>vireo</th>\n",
       "      <td>2.721936</td>\n",
       "      <td>120.588457</td>\n",
       "      <td>11.462416</td>\n",
       "      <td>0.284808</td>\n",
       "      <td>135.057616</td>\n",
       "      <td>0.913021</td>\n",
       "      <td>0.086979</td>\n",
       "      <td>0.020154</td>\n",
       "      <td>0.892867</td>\n",
       "      <td>0.084871</td>\n",
       "      <td>0.002109</td>\n",
       "    </tr>\n",
       "    <tr>\n",
       "      <th>vireo_nogenos</th>\n",
       "      <td>3.603433</td>\n",
       "      <td>172.461774</td>\n",
       "      <td>19.814343</td>\n",
       "      <td>0.482391</td>\n",
       "      <td>196.361941</td>\n",
       "      <td>0.896636</td>\n",
       "      <td>0.103364</td>\n",
       "      <td>0.018351</td>\n",
       "      <td>0.878285</td>\n",
       "      <td>0.100907</td>\n",
       "      <td>0.002457</td>\n",
       "    </tr>\n",
       "    <tr>\n",
       "      <th>scsplit</th>\n",
       "      <td>9.885405</td>\n",
       "      <td>660.897203</td>\n",
       "      <td>135.562742</td>\n",
       "      <td>2.731045</td>\n",
       "      <td>809.076396</td>\n",
       "      <td>0.829072</td>\n",
       "      <td>0.170928</td>\n",
       "      <td>0.012218</td>\n",
       "      <td>0.816854</td>\n",
       "      <td>0.167552</td>\n",
       "      <td>0.003376</td>\n",
       "    </tr>\n",
       "    <tr>\n",
       "      <th>scsplit_nogenos</th>\n",
       "      <td>8.836281</td>\n",
       "      <td>647.854128</td>\n",
       "      <td>141.513895</td>\n",
       "      <td>2.604759</td>\n",
       "      <td>800.809062</td>\n",
       "      <td>0.820034</td>\n",
       "      <td>0.179966</td>\n",
       "      <td>0.011034</td>\n",
       "      <td>0.808999</td>\n",
       "      <td>0.176714</td>\n",
       "      <td>0.003253</td>\n",
       "    </tr>\n",
       "    <tr>\n",
       "      <th>souporcell</th>\n",
       "      <td>5.586456</td>\n",
       "      <td>393.316223</td>\n",
       "      <td>77.851161</td>\n",
       "      <td>1.720120</td>\n",
       "      <td>478.473960</td>\n",
       "      <td>0.833698</td>\n",
       "      <td>0.166302</td>\n",
       "      <td>0.011676</td>\n",
       "      <td>0.822022</td>\n",
       "      <td>0.162707</td>\n",
       "      <td>0.003595</td>\n",
       "    </tr>\n",
       "    <tr>\n",
       "      <th>souporcell_nogenos</th>\n",
       "      <td>4.748935</td>\n",
       "      <td>317.286288</td>\n",
       "      <td>58.554718</td>\n",
       "      <td>1.319299</td>\n",
       "      <td>381.909240</td>\n",
       "      <td>0.843224</td>\n",
       "      <td>0.156776</td>\n",
       "      <td>0.012435</td>\n",
       "      <td>0.830790</td>\n",
       "      <td>0.153321</td>\n",
       "      <td>0.003454</td>\n",
       "    </tr>\n",
       "    <tr>\n",
       "      <th>scavengers</th>\n",
       "      <td>4.893602</td>\n",
       "      <td>324.219097</td>\n",
       "      <td>61.839027</td>\n",
       "      <td>1.073387</td>\n",
       "      <td>392.025113</td>\n",
       "      <td>0.839519</td>\n",
       "      <td>0.160481</td>\n",
       "      <td>0.012483</td>\n",
       "      <td>0.827037</td>\n",
       "      <td>0.157743</td>\n",
       "      <td>0.002738</td>\n",
       "    </tr>\n",
       "  </tbody>\n",
       "</table>\n",
       "</div>"
      ],
      "text/plain": [
       "                           C1          C2          I1        I2          DP  \\\n",
       "demuxlet             1.426862   62.293971    4.522326  0.085988   68.329148   \n",
       "freemuxlet          10.145738  625.441733  113.672577  2.472813  751.732861   \n",
       "vireo                2.721936  120.588457   11.462416  0.284808  135.057616   \n",
       "vireo_nogenos        3.603433  172.461774   19.814343  0.482391  196.361941   \n",
       "scsplit              9.885405  660.897203  135.562742  2.731045  809.076396   \n",
       "scsplit_nogenos      8.836281  647.854128  141.513895  2.604759  800.809062   \n",
       "souporcell           5.586456  393.316223   77.851161  1.720120  478.473960   \n",
       "souporcell_nogenos   4.748935  317.286288   58.554718  1.319299  381.909240   \n",
       "scavengers           4.893602  324.219097   61.839027  1.073387  392.025113   \n",
       "\n",
       "                    Consistent rate  Inconsistent rate   C1 rate   C2 rate  \\\n",
       "demuxlet                   0.932557           0.067443  0.020882  0.911675   \n",
       "freemuxlet                 0.845496           0.154504  0.013496  0.832000   \n",
       "vireo                      0.913021           0.086979  0.020154  0.892867   \n",
       "vireo_nogenos              0.896636           0.103364  0.018351  0.878285   \n",
       "scsplit                    0.829072           0.170928  0.012218  0.816854   \n",
       "scsplit_nogenos            0.820034           0.179966  0.011034  0.808999   \n",
       "souporcell                 0.833698           0.166302  0.011676  0.822022   \n",
       "souporcell_nogenos         0.843224           0.156776  0.012435  0.830790   \n",
       "scavengers                 0.839519           0.160481  0.012483  0.827037   \n",
       "\n",
       "                     I1 rate   I2 rate  \n",
       "demuxlet            0.066184  0.001258  \n",
       "freemuxlet          0.151214  0.003289  \n",
       "vireo               0.084871  0.002109  \n",
       "vireo_nogenos       0.100907  0.002457  \n",
       "scsplit             0.167552  0.003376  \n",
       "scsplit_nogenos     0.176714  0.003253  \n",
       "souporcell          0.162707  0.003595  \n",
       "souporcell_nogenos  0.153321  0.003454  \n",
       "scavengers          0.157743  0.002738  "
      ]
     },
     "execution_count": 21,
     "metadata": {},
     "output_type": "execute_result"
    }
   ],
   "source": [
    "### this is just singlets called by that method, I think this is fine!\n",
    "\n",
    "tmp_cols = con_cols + ['n_drops']\n",
    "cov = 20\n",
    "condir = f'{projdir}/csv/var_consistency/atac/merged/'\n",
    "all_con_atac = pd.DataFrame(index=atac_methods, columns=tmp_cols, data=0)\n",
    "for method in atac_methods:\n",
    "    mask = unique_atac[method] != 'non_singlet'\n",
    "    method_con = pd.read_csv(f'{condir}/{method}_cov{cov}_varcon.csv', sep='\\t', header=0, index_col=0)\n",
    "    method_atac = unique_atac[mask]\n",
    "    mask = method_con.index.isin(method_atac.index)\n",
    "    method_con = method_con[mask]\n",
    "    method_con = pd.DataFrame(method_con.sum(axis=0)[:4]).transpose()\n",
    "    all_con_atac.loc[method] = list(method_con.iloc[0]) + [method_atac.shape[0]]\n",
    "\n",
    "    \n",
    "test_con_atac = all_con_atac.iloc[:,:4].div(all_con_atac['n_drops'], axis=0)\n",
    "test_con_atac = process_con(test_con_atac)\n",
    "test_con_atac"
   ]
  },
  {
   "cell_type": "code",
   "execution_count": 22,
   "id": "b270d0e5",
   "metadata": {},
   "outputs": [],
   "source": [
    "test_con_gex['method'] = [f'gex_{x}' for x in test_con_gex.index]\n",
    "test_con_atac['method'] = [f'atac_{x}' for x in test_con_atac.index]"
   ]
  },
  {
   "cell_type": "code",
   "execution_count": 23,
   "id": "7bac3c2c",
   "metadata": {},
   "outputs": [
    {
     "data": {
      "text/plain": [
       "<AxesSubplot:xlabel='variable', ylabel='value'>"
      ]
     },
     "execution_count": 23,
     "metadata": {},
     "output_type": "execute_result"
    },
    {
     "data": {
      "image/png": "[encoded data removed]",
      "text/plain": [
       "<Figure size 432x288 with 1 Axes>"
      ]
     },
     "metadata": {
      "needs_background": "light"
     },
     "output_type": "display_data"
    }
   ],
   "source": [
    "melt_cols = ['C1 rate', 'C2 rate', 'I1 rate', 'I2 rate']\n",
    "gex_melt_con = test_con_gex.melt(id_vars='method', value_vars=melt_cols)\n",
    "sns.barplot(gex_melt_con, x='variable', y='value', hue='method')"
   ]
  },
  {
   "cell_type": "code",
   "execution_count": 24,
   "id": "a4f15fd1",
   "metadata": {},
   "outputs": [
    {
     "data": {
      "text/plain": [
       "<AxesSubplot:xlabel='variable', ylabel='value'>"
      ]
     },
     "execution_count": 24,
     "metadata": {},
     "output_type": "execute_result"
    },
    {
     "data": {
      "image/png": "[encoded data removed]",
      "text/plain": [
       "<Figure size 432x288 with 1 Axes>"
      ]
     },
     "metadata": {
      "needs_background": "light"
     },
     "output_type": "display_data"
    }
   ],
   "source": [
    "melt_cols = ['C1 rate', 'C2 rate', 'I1 rate', 'I2 rate']\n",
    "atac_melt_con = test_con_atac.melt(id_vars='method', value_vars=melt_cols)\n",
    "sns.barplot(atac_melt_con, x='variable', y='value', hue='method')"
   ]
  },
  {
   "cell_type": "code",
   "execution_count": 25,
   "id": "934395cd",
   "metadata": {},
   "outputs": [],
   "source": [
    "gex_melt_con['mod'] = 'gex'\n",
    "atac_melt_con['mod'] = 'atac'"
   ]
  },
  {
   "cell_type": "code",
   "execution_count": 26,
   "id": "4841d4a0",
   "metadata": {},
   "outputs": [],
   "source": [
    "merged = pd.concat([gex_melt_con, atac_melt_con])\n",
    "merged['method'] = [x.replace('gex_','').replace('atac_','') for x in merged['method']]"
   ]
  },
  {
   "cell_type": "code",
   "execution_count": 27,
   "id": "85be1852",
   "metadata": {},
   "outputs": [
    {
     "data": {
      "text/plain": [
       "<AxesSubplot:xlabel='variable', ylabel='value'>"
      ]
     },
     "execution_count": 27,
     "metadata": {},
     "output_type": "execute_result"
    },
    {
     "data": {
      "image/png": "[encoded data removed]",
      "text/plain": [
       "<Figure size 432x288 with 1 Axes>"
      ]
     },
     "metadata": {
      "needs_background": "light"
     },
     "output_type": "display_data"
    }
   ],
   "source": [
    "sns.barplot(merged, x='variable', y='value', hue='method')"
   ]
  },
  {
   "cell_type": "code",
   "execution_count": 28,
   "id": "bc164732",
   "metadata": {},
   "outputs": [],
   "source": [
    "# merged"
   ]
  },
  {
   "cell_type": "code",
   "execution_count": 29,
   "id": "940edd80",
   "metadata": {},
   "outputs": [
    {
     "data": {
      "text/plain": [
       "<seaborn.axisgrid.FacetGrid at 0x2ad8980be290>"
      ]
     },
     "execution_count": 29,
     "metadata": {},
     "output_type": "execute_result"
    },
    {
     "data": {
      "image/png": "[encoded data removed]",
      "text/plain": [
       "<Figure size 494.625x360 with 1 Axes>"
      ]
     },
     "metadata": {
      "needs_background": "light"
     },
     "output_type": "display_data"
    }
   ],
   "source": [
    "sns.catplot(merged, kind='bar', x='variable', y='value', hue='method')\n",
    "\n",
    "# sns.catplot(\n",
    "#     penguins, kind=\"bar\",\n",
    "#     x=\"sex\", y=\"body_mass_g\", col=\"species\",\n",
    "#     height=4, aspect=.5,\n",
    "# )"
   ]
  },
  {
   "cell_type": "code",
   "execution_count": 30,
   "id": "2410680b",
   "metadata": {},
   "outputs": [
    {
     "data": {
      "image/png": "[encoded data removed]",
      "text/plain": [
       "<Figure size 432x288 with 1 Axes>"
      ]
     },
     "metadata": {
      "needs_background": "light"
     },
     "output_type": "display_data"
    }
   ],
   "source": [
    "sns.set_palette('Dark2')\n",
    "\n",
    "tmp_merged = merged[merged['variable'] == 'C2 rate']\n",
    "ax = sns.barplot(tmp_merged, x='method', y='value', hue='mod')\n",
    "ax.set_ylim(0, 1)\n",
    "ax.set_xticklabels(ax.get_xticklabels(), rotation=45, fontsize=15,\n",
    "                   horizontalalignment='right')\n",
    "# ax.set_yticklabels(ax.get_yticklabels(), fontsize=12)\n",
    "\n",
    "sns.move_legend(ax, \"upper left\", bbox_to_anchor=(1, 1))\n",
    "ax.set_xlabel(\"\")\n",
    "ax.set_ylabel(\"\")\n",
    "ax.set_title(f'C2 rate', fontsize=20)\n",
    "# custom_ticks = np.linspace(0, 0.2, 5)\n",
    "# ax.set_yticks(custom_ticks, fontsize=20)\n",
    "ax.tick_params(axis='y', labelsize=15)  # Adjust the labelsize parameter as needed\n",
    "ax.grid(False)"
   ]
  },
  {
   "cell_type": "code",
   "execution_count": 31,
   "id": "85f78f26",
   "metadata": {},
   "outputs": [
    {
     "data": {
      "image/png": "[encoded data removed]",
      "text/plain": [
       "<Figure size 432x288 with 1 Axes>"
      ]
     },
     "metadata": {
      "needs_background": "light"
     },
     "output_type": "display_data"
    }
   ],
   "source": [
    "sns.set_palette('Dark2')\n",
    "\n",
    "tmp_merged = merged[merged['variable'] == 'I1 rate']\n",
    "ax = sns.barplot(tmp_merged, x='method', y='value', hue='mod')\n",
    "ax.set_ylim(0, 0.2)\n",
    "ax.set_xticklabels(ax.get_xticklabels(), rotation=45, fontsize=15,\n",
    "                   horizontalalignment='right')\n",
    "# ax.set_yticklabels(ax.get_yticklabels(), fontsize=12)\n",
    "\n",
    "sns.move_legend(ax, \"upper left\", bbox_to_anchor=(1, 1))\n",
    "ax.set_xlabel(\"\")\n",
    "ax.set_ylabel(\"\")\n",
    "ax.set_title(f'I1 rate', fontsize=20)\n",
    "custom_ticks = np.linspace(0, 0.2, 5)\n",
    "ax.set_yticks(custom_ticks, fontsize=20)\n",
    "ax.tick_params(axis='y', labelsize=15)  # Adjust the labelsize parameter as needed\n",
    "ax.grid(False)"
   ]
  },
  {
   "cell_type": "code",
   "execution_count": 33,
   "id": "9aebf25d",
   "metadata": {},
   "outputs": [
    {
     "data": {
      "text/plain": [
       "<AxesSubplot:xlabel='method', ylabel='value'>"
      ]
     },
     "execution_count": 33,
     "metadata": {},
     "output_type": "execute_result"
    },
    {
     "data": {
      "image/png": "[encoded data removed]",
      "text/plain": [
       "<Figure size 432x288 with 1 Axes>"
      ]
     },
     "metadata": {
      "needs_background": "light"
     },
     "output_type": "display_data"
    }
   ],
   "source": [
    "tmp_merged = merged[merged['variable'] == 'I1 rate']\n",
    "sns.barplot(tmp_merged, x='method', y='value', hue='mod')"
   ]
  },
  {
   "cell_type": "code",
   "execution_count": 34,
   "id": "7086feaa",
   "metadata": {},
   "outputs": [
    {
     "data": {
      "text/plain": [
       "<AxesSubplot:xlabel='method', ylabel='value'>"
      ]
     },
     "execution_count": 34,
     "metadata": {},
     "output_type": "execute_result"
    },
    {
     "data": {
      "image/png": "[encoded data removed]",
      "text/plain": [
       "<Figure size 432x288 with 1 Axes>"
      ]
     },
     "metadata": {
      "needs_background": "light"
     },
     "output_type": "display_data"
    }
   ],
   "source": [
    "sns.barplot(tmp_merged, x='method', y='value', hue='mod')"
   ]
  },
  {
   "cell_type": "code",
   "execution_count": 35,
   "id": "6b26cb90",
   "metadata": {},
   "outputs": [
    {
     "data": {
      "text/plain": [
       "Text(0.5, 0.98, 'Aorta dataset')"
      ]
     },
     "execution_count": 35,
     "metadata": {},
     "output_type": "execute_result"
    },
    {
     "data": {
      "image/png": "[encoded data removed]",
      "text/plain": [
       "<Figure size 360x720 with 2 Axes>"
      ]
     },
     "metadata": {
      "needs_background": "light"
     },
     "output_type": "display_data"
    }
   ],
   "source": [
    "sns.set_palette('Dark2')\n",
    "final_cols = ['C2 rate', 'I1 rate']\n",
    "\n",
    "ylims = [1, 0.2]\n",
    "\n",
    "fig, axes = plt.subplots(2, 1, figsize=(5, 10))\n",
    "\n",
    "for i,ax in enumerate(axes.flatten()):\n",
    "    col = final_cols[i]\n",
    "    ylim = ylims[i]\n",
    "    tmp_merged = merged[merged['variable'] == col]\n",
    "    sns.barplot(tmp_merged, x='method', y='value', hue='mod', ax=ax)\n",
    "    ax.set_ylim(0, ylim)\n",
    "    ax.set_xticklabels(ax.get_xticklabels(), rotation=45, fontsize=15,\n",
    "                       horizontalalignment='right')\n",
    "\n",
    "    sns.move_legend(ax, \"upper left\", bbox_to_anchor=(1, 1))\n",
    "    ax.set_xlabel(\"\")\n",
    "    ax.set_ylabel(\"\")\n",
    "    ax.set_title(col, fontsize=20)\n",
    "    ax.tick_params(axis='y', labelsize=15)  # Adjust the labelsize parameter as needed\n",
    "    ax.grid(False)\n",
    "    ax.legend_.set_visible(False)\n",
    "    \n",
    "plt.subplots_adjust(wspace=0.2, hspace=0.8)  # Adjust the value as needed\n",
    "plt.suptitle('Aorta dataset', size=25)"
   ]
  },
  {
   "cell_type": "code",
   "execution_count": 37,
   "id": "3b8bd7ef",
   "metadata": {},
   "outputs": [],
   "source": [
    "merged.reset_index(drop=True, inplace=True)"
   ]
  },
  {
   "cell_type": "code",
   "execution_count": 41,
   "id": "f7da2a6a",
   "metadata": {},
   "outputs": [],
   "source": [
    "merged.loc[73] = ['scavengers', 'C1 rate', 0, 'gex']\n",
    "merged.loc[74] = ['scavengers', 'C2 rate', 0, 'gex']\n",
    "merged.loc[75] = ['scavengers', 'I1 rate', 0, 'gex']\n",
    "merged.loc[76] = ['scavengers', 'I2 rate', 0, 'gex']"
   ]
  },
  {
   "cell_type": "code",
   "execution_count": 42,
   "id": "2336f9fc",
   "metadata": {},
   "outputs": [],
   "source": [
    "merged.loc[77] = ['demuxalot', 'C1 rate', 0, 'atac']\n",
    "merged.loc[78] = ['demuxalot', 'C2 rate', 0, 'atac']\n",
    "merged.loc[79] = ['demuxalot', 'I1 rate', 0, 'atac']\n",
    "merged.loc[80] = ['demuxalot', 'I2 rate', 0, 'atac']"
   ]
  },
  {
   "cell_type": "code",
   "execution_count": 43,
   "id": "2e596574",
   "metadata": {},
   "outputs": [],
   "source": [
    "merged.to_csv(f'{projdir}/csv/final_figures/figure6/figure_6b_avg_con_rates.csv', sep='\\t', header=True, index=True)"
   ]
  },
  {
   "cell_type": "code",
   "execution_count": 44,
   "id": "cf47567f",
   "metadata": {},
   "outputs": [
    {
     "data": {
      "text/html": [
       "<div>\n",
       "<style scoped>\n",
       "    .dataframe tbody tr th:only-of-type {\n",
       "        vertical-align: middle;\n",
       "    }\n",
       "\n",
       "    .dataframe tbody tr th {\n",
       "        vertical-align: top;\n",
       "    }\n",
       "\n",
       "    .dataframe thead th {\n",
       "        text-align: right;\n",
       "    }\n",
       "</style>\n",
       "<table border=\"1\" class=\"dataframe\">\n",
       "  <thead>\n",
       "    <tr style=\"text-align: right;\">\n",
       "      <th></th>\n",
       "      <th>method</th>\n",
       "      <th>variable</th>\n",
       "      <th>value</th>\n",
       "      <th>mod</th>\n",
       "    </tr>\n",
       "  </thead>\n",
       "  <tbody>\n",
       "    <tr>\n",
       "      <th>0</th>\n",
       "      <td>demuxlet</td>\n",
       "      <td>C1 rate</td>\n",
       "      <td>0.022537</td>\n",
       "      <td>gex</td>\n",
       "    </tr>\n",
       "    <tr>\n",
       "      <th>1</th>\n",
       "      <td>freemuxlet</td>\n",
       "      <td>C1 rate</td>\n",
       "      <td>0.014471</td>\n",
       "      <td>gex</td>\n",
       "    </tr>\n",
       "    <tr>\n",
       "      <th>2</th>\n",
       "      <td>vireo</td>\n",
       "      <td>C1 rate</td>\n",
       "      <td>0.021439</td>\n",
       "      <td>gex</td>\n",
       "    </tr>\n",
       "    <tr>\n",
       "      <th>3</th>\n",
       "      <td>vireo_nogenos</td>\n",
       "      <td>C1 rate</td>\n",
       "      <td>0.019712</td>\n",
       "      <td>gex</td>\n",
       "    </tr>\n",
       "    <tr>\n",
       "      <th>4</th>\n",
       "      <td>scsplit</td>\n",
       "      <td>C1 rate</td>\n",
       "      <td>0.010636</td>\n",
       "      <td>gex</td>\n",
       "    </tr>\n",
       "    <tr>\n",
       "      <th>...</th>\n",
       "      <td>...</td>\n",
       "      <td>...</td>\n",
       "      <td>...</td>\n",
       "      <td>...</td>\n",
       "    </tr>\n",
       "    <tr>\n",
       "      <th>79</th>\n",
       "      <td>demuxalot</td>\n",
       "      <td>I1 rate</td>\n",
       "      <td>0.000000</td>\n",
       "      <td>atac</td>\n",
       "    </tr>\n",
       "    <tr>\n",
       "      <th>80</th>\n",
       "      <td>demuxalot</td>\n",
       "      <td>I2 rate</td>\n",
       "      <td>0.000000</td>\n",
       "      <td>atac</td>\n",
       "    </tr>\n",
       "    <tr>\n",
       "      <th>74</th>\n",
       "      <td>scavengers</td>\n",
       "      <td>C2 rate</td>\n",
       "      <td>0.000000</td>\n",
       "      <td>gex</td>\n",
       "    </tr>\n",
       "    <tr>\n",
       "      <th>75</th>\n",
       "      <td>scavengers</td>\n",
       "      <td>I1 rate</td>\n",
       "      <td>0.000000</td>\n",
       "      <td>gex</td>\n",
       "    </tr>\n",
       "    <tr>\n",
       "      <th>76</th>\n",
       "      <td>scavengers</td>\n",
       "      <td>I2 rate</td>\n",
       "      <td>0.000000</td>\n",
       "      <td>gex</td>\n",
       "    </tr>\n",
       "  </tbody>\n",
       "</table>\n",
       "<p>80 rows × 4 columns</p>\n",
       "</div>"
      ],
      "text/plain": [
       "           method variable     value   mod\n",
       "0        demuxlet  C1 rate  0.022537   gex\n",
       "1      freemuxlet  C1 rate  0.014471   gex\n",
       "2           vireo  C1 rate  0.021439   gex\n",
       "3   vireo_nogenos  C1 rate  0.019712   gex\n",
       "4         scsplit  C1 rate  0.010636   gex\n",
       "..            ...      ...       ...   ...\n",
       "79      demuxalot  I1 rate  0.000000  atac\n",
       "80      demuxalot  I2 rate  0.000000  atac\n",
       "74     scavengers  C2 rate  0.000000   gex\n",
       "75     scavengers  I1 rate  0.000000   gex\n",
       "76     scavengers  I2 rate  0.000000   gex\n",
       "\n",
       "[80 rows x 4 columns]"
      ]
     },
     "execution_count": 44,
     "metadata": {},
     "output_type": "execute_result"
    }
   ],
   "source": [
    "merged"
   ]
  },
  {
   "cell_type": "code",
   "execution_count": null,
   "id": "1c415dc9",
   "metadata": {},
   "outputs": [],
   "source": []
  }
 ],
 "metadata": {
  "kernelspec": {
   "display_name": "allcools",
   "language": "python",
   "name": "allcools"
  },
  "language_info": {
   "codemirror_mode": {
    "name": "ipython",
    "version": 3
   },
   "file_extension": ".py",
   "mimetype": "text/x-python",
   "name": "python",
   "nbconvert_exporter": "python",
   "pygments_lexer": "ipython3",
   "version": "3.7.13"
  }
 },
 "nbformat": 4,
 "nbformat_minor": 5
}
