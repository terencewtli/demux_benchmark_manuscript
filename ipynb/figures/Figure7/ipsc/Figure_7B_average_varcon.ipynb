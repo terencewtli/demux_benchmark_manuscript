{
 "cells": [
  {
   "cell_type": "code",
   "execution_count": 1,
   "id": "ed81533b",
   "metadata": {},
   "outputs": [],
   "source": [
    "import numpy as np\n",
    "import pandas as pd\n",
    "import matplotlib.pyplot as plt\n",
    "import seaborn as sns\n",
    "from scipy.io import mmread, mmwrite"
   ]
  },
  {
   "cell_type": "code",
   "execution_count": 2,
   "id": "6e41bc7f",
   "metadata": {},
   "outputs": [],
   "source": [
    "projdir = '/u/home/t/terencew/project-cluo/igvf/pilot/multiome/'\n",
    "donors = list(np.loadtxt(f'{projdir}/txt/donors.txt', dtype=str))\n",
    "samples = list(np.loadtxt(f'{projdir}/txt/samples.txt', dtype=str))[:2]\n",
    "s = samples[0]\n",
    "\n",
    "gex_methods = ['demuxlet', 'freemuxlet', 'vireo', 'vireo_nogenos',\n",
    "               'scsplit', 'scsplit_nogenos',\n",
    "            'souporcell', 'souporcell_nogenos', 'demuxalot']\n",
    "atac_methods = ['demuxlet', 'freemuxlet', 'vireo', 'vireo_nogenos',\n",
    "               'scsplit', 'scsplit_nogenos',\n",
    "            'souporcell', 'souporcell_nogenos', 'scavengers']\n",
    "\n",
    "con_cols = ['C1', 'C2', 'I1', 'I2']"
   ]
  },
  {
   "cell_type": "code",
   "execution_count": 3,
   "id": "64e9f874",
   "metadata": {},
   "outputs": [
    {
     "data": {
      "text/plain": [
       "((30497, 10), (30497, 10))"
      ]
     },
     "execution_count": 3,
     "metadata": {},
     "output_type": "execute_result"
    }
   ],
   "source": [
    "gex_sings = pd.read_csv(f'{projdir}/csv/demux/singlet_gex.csv', sep='\\t',\n",
    "                  header=0, index_col=0)\n",
    "atac_sings = pd.read_csv(f'{projdir}/csv/demux/singlet_atac.csv', sep='\\t',\n",
    "                   header=0, index_col=0)\n",
    "gex_sings.replace({'doublet' : 'non_singlet' , 'unassigned' : 'non_singlet'}, inplace=True)\n",
    "atac_sings.replace({'doublet' : 'non_singlet' , 'unassigned' : 'non_singlet'}, inplace=True)\n",
    "\n",
    "tmp_gex_sings = gex_sings.copy()\n",
    "tmp_atac_sings = atac_sings.copy()\n",
    "tmp_gex_sings['inter'] = gex_sings.eq(gex_sings.iloc[:, 0], axis=0).all(1)\n",
    "tmp_atac_sings['inter'] = atac_sings.eq(atac_sings.iloc[:, 0], axis=0).all(1)\n",
    "gex_sings['inter'] = tmp_gex_sings['inter']\n",
    "atac_sings['inter'] = tmp_atac_sings['inter']\n",
    "gex_sings.shape, atac_sings.shape"
   ]
  },
  {
   "cell_type": "code",
   "execution_count": 4,
   "id": "9c442785",
   "metadata": {
    "scrolled": true
   },
   "outputs": [
    {
     "data": {
      "text/html": [
       "<div>\n",
       "<style scoped>\n",
       "    .dataframe tbody tr th:only-of-type {\n",
       "        vertical-align: middle;\n",
       "    }\n",
       "\n",
       "    .dataframe tbody tr th {\n",
       "        vertical-align: top;\n",
       "    }\n",
       "\n",
       "    .dataframe thead th {\n",
       "        text-align: right;\n",
       "    }\n",
       "</style>\n",
       "<table border=\"1\" class=\"dataframe\">\n",
       "  <thead>\n",
       "    <tr style=\"text-align: right;\">\n",
       "      <th></th>\n",
       "      <th>demuxlet</th>\n",
       "      <th>freemuxlet</th>\n",
       "      <th>vireo</th>\n",
       "      <th>vireo_nogenos</th>\n",
       "      <th>souporcell</th>\n",
       "      <th>souporcell_nogenos</th>\n",
       "      <th>demuxalot</th>\n",
       "      <th>scsplit</th>\n",
       "      <th>scsplit_nogenos</th>\n",
       "      <th>inter</th>\n",
       "    </tr>\n",
       "  </thead>\n",
       "  <tbody>\n",
       "    <tr>\n",
       "      <th>AAACAGCCAAGGTATA-1_20220928-IGVF-D0</th>\n",
       "      <td>1</td>\n",
       "      <td>1</td>\n",
       "      <td>1</td>\n",
       "      <td>1</td>\n",
       "      <td>1</td>\n",
       "      <td>1</td>\n",
       "      <td>1</td>\n",
       "      <td>1</td>\n",
       "      <td>1</td>\n",
       "      <td>True</td>\n",
       "    </tr>\n",
       "    <tr>\n",
       "      <th>AAACAGCCAATGCGCT-1_20220928-IGVF-D0</th>\n",
       "      <td>1</td>\n",
       "      <td>1</td>\n",
       "      <td>1</td>\n",
       "      <td>1</td>\n",
       "      <td>1</td>\n",
       "      <td>1</td>\n",
       "      <td>1</td>\n",
       "      <td>1</td>\n",
       "      <td>1</td>\n",
       "      <td>True</td>\n",
       "    </tr>\n",
       "    <tr>\n",
       "      <th>AAACAGCCAGCAAATA-1_20220928-IGVF-D0</th>\n",
       "      <td>1</td>\n",
       "      <td>1</td>\n",
       "      <td>1</td>\n",
       "      <td>1</td>\n",
       "      <td>1</td>\n",
       "      <td>1</td>\n",
       "      <td>1</td>\n",
       "      <td>1</td>\n",
       "      <td>1</td>\n",
       "      <td>True</td>\n",
       "    </tr>\n",
       "    <tr>\n",
       "      <th>AAACAGCCATTGTGAT-1_20220928-IGVF-D0</th>\n",
       "      <td>1</td>\n",
       "      <td>1</td>\n",
       "      <td>1</td>\n",
       "      <td>1</td>\n",
       "      <td>1</td>\n",
       "      <td>1</td>\n",
       "      <td>1</td>\n",
       "      <td>1</td>\n",
       "      <td>1</td>\n",
       "      <td>True</td>\n",
       "    </tr>\n",
       "    <tr>\n",
       "      <th>AAACATGCAAACATAG-1_20220928-IGVF-D0</th>\n",
       "      <td>1</td>\n",
       "      <td>1</td>\n",
       "      <td>1</td>\n",
       "      <td>1</td>\n",
       "      <td>1</td>\n",
       "      <td>1</td>\n",
       "      <td>1</td>\n",
       "      <td>1</td>\n",
       "      <td>1</td>\n",
       "      <td>True</td>\n",
       "    </tr>\n",
       "    <tr>\n",
       "      <th>...</th>\n",
       "      <td>...</td>\n",
       "      <td>...</td>\n",
       "      <td>...</td>\n",
       "      <td>...</td>\n",
       "      <td>...</td>\n",
       "      <td>...</td>\n",
       "      <td>...</td>\n",
       "      <td>...</td>\n",
       "      <td>...</td>\n",
       "      <td>...</td>\n",
       "    </tr>\n",
       "    <tr>\n",
       "      <th>TTTGTTGGTTCCAGGG-1_20220928-IGVF-D3</th>\n",
       "      <td>1</td>\n",
       "      <td>0</td>\n",
       "      <td>0</td>\n",
       "      <td>0</td>\n",
       "      <td>1</td>\n",
       "      <td>0</td>\n",
       "      <td>0</td>\n",
       "      <td>1</td>\n",
       "      <td>0</td>\n",
       "      <td>False</td>\n",
       "    </tr>\n",
       "    <tr>\n",
       "      <th>TTTGTTGGTTCCTGTG-1_20220928-IGVF-D3</th>\n",
       "      <td>0</td>\n",
       "      <td>1</td>\n",
       "      <td>1</td>\n",
       "      <td>1</td>\n",
       "      <td>1</td>\n",
       "      <td>1</td>\n",
       "      <td>1</td>\n",
       "      <td>1</td>\n",
       "      <td>1</td>\n",
       "      <td>False</td>\n",
       "    </tr>\n",
       "    <tr>\n",
       "      <th>TTTGTTGGTTGCCTCA-1_20220928-IGVF-D3</th>\n",
       "      <td>1</td>\n",
       "      <td>1</td>\n",
       "      <td>1</td>\n",
       "      <td>1</td>\n",
       "      <td>1</td>\n",
       "      <td>1</td>\n",
       "      <td>1</td>\n",
       "      <td>1</td>\n",
       "      <td>1</td>\n",
       "      <td>True</td>\n",
       "    </tr>\n",
       "    <tr>\n",
       "      <th>TTTGTTGGTTGGATAT-1_20220928-IGVF-D3</th>\n",
       "      <td>1</td>\n",
       "      <td>1</td>\n",
       "      <td>1</td>\n",
       "      <td>1</td>\n",
       "      <td>1</td>\n",
       "      <td>1</td>\n",
       "      <td>1</td>\n",
       "      <td>1</td>\n",
       "      <td>1</td>\n",
       "      <td>True</td>\n",
       "    </tr>\n",
       "    <tr>\n",
       "      <th>TTTGTTGGTTTGACCT-1_20220928-IGVF-D3</th>\n",
       "      <td>1</td>\n",
       "      <td>1</td>\n",
       "      <td>1</td>\n",
       "      <td>1</td>\n",
       "      <td>1</td>\n",
       "      <td>1</td>\n",
       "      <td>1</td>\n",
       "      <td>1</td>\n",
       "      <td>1</td>\n",
       "      <td>True</td>\n",
       "    </tr>\n",
       "  </tbody>\n",
       "</table>\n",
       "<p>30497 rows × 10 columns</p>\n",
       "</div>"
      ],
      "text/plain": [
       "                                     demuxlet  freemuxlet  vireo  \\\n",
       "AAACAGCCAAGGTATA-1_20220928-IGVF-D0         1           1      1   \n",
       "AAACAGCCAATGCGCT-1_20220928-IGVF-D0         1           1      1   \n",
       "AAACAGCCAGCAAATA-1_20220928-IGVF-D0         1           1      1   \n",
       "AAACAGCCATTGTGAT-1_20220928-IGVF-D0         1           1      1   \n",
       "AAACATGCAAACATAG-1_20220928-IGVF-D0         1           1      1   \n",
       "...                                       ...         ...    ...   \n",
       "TTTGTTGGTTCCAGGG-1_20220928-IGVF-D3         1           0      0   \n",
       "TTTGTTGGTTCCTGTG-1_20220928-IGVF-D3         0           1      1   \n",
       "TTTGTTGGTTGCCTCA-1_20220928-IGVF-D3         1           1      1   \n",
       "TTTGTTGGTTGGATAT-1_20220928-IGVF-D3         1           1      1   \n",
       "TTTGTTGGTTTGACCT-1_20220928-IGVF-D3         1           1      1   \n",
       "\n",
       "                                     vireo_nogenos  souporcell  \\\n",
       "AAACAGCCAAGGTATA-1_20220928-IGVF-D0              1           1   \n",
       "AAACAGCCAATGCGCT-1_20220928-IGVF-D0              1           1   \n",
       "AAACAGCCAGCAAATA-1_20220928-IGVF-D0              1           1   \n",
       "AAACAGCCATTGTGAT-1_20220928-IGVF-D0              1           1   \n",
       "AAACATGCAAACATAG-1_20220928-IGVF-D0              1           1   \n",
       "...                                            ...         ...   \n",
       "TTTGTTGGTTCCAGGG-1_20220928-IGVF-D3              0           1   \n",
       "TTTGTTGGTTCCTGTG-1_20220928-IGVF-D3              1           1   \n",
       "TTTGTTGGTTGCCTCA-1_20220928-IGVF-D3              1           1   \n",
       "TTTGTTGGTTGGATAT-1_20220928-IGVF-D3              1           1   \n",
       "TTTGTTGGTTTGACCT-1_20220928-IGVF-D3              1           1   \n",
       "\n",
       "                                     souporcell_nogenos  demuxalot  scsplit  \\\n",
       "AAACAGCCAAGGTATA-1_20220928-IGVF-D0                   1          1        1   \n",
       "AAACAGCCAATGCGCT-1_20220928-IGVF-D0                   1          1        1   \n",
       "AAACAGCCAGCAAATA-1_20220928-IGVF-D0                   1          1        1   \n",
       "AAACAGCCATTGTGAT-1_20220928-IGVF-D0                   1          1        1   \n",
       "AAACATGCAAACATAG-1_20220928-IGVF-D0                   1          1        1   \n",
       "...                                                 ...        ...      ...   \n",
       "TTTGTTGGTTCCAGGG-1_20220928-IGVF-D3                   0          0        1   \n",
       "TTTGTTGGTTCCTGTG-1_20220928-IGVF-D3                   1          1        1   \n",
       "TTTGTTGGTTGCCTCA-1_20220928-IGVF-D3                   1          1        1   \n",
       "TTTGTTGGTTGGATAT-1_20220928-IGVF-D3                   1          1        1   \n",
       "TTTGTTGGTTTGACCT-1_20220928-IGVF-D3                   1          1        1   \n",
       "\n",
       "                                     scsplit_nogenos  inter  \n",
       "AAACAGCCAAGGTATA-1_20220928-IGVF-D0                1   True  \n",
       "AAACAGCCAATGCGCT-1_20220928-IGVF-D0                1   True  \n",
       "AAACAGCCAGCAAATA-1_20220928-IGVF-D0                1   True  \n",
       "AAACAGCCATTGTGAT-1_20220928-IGVF-D0                1   True  \n",
       "AAACATGCAAACATAG-1_20220928-IGVF-D0                1   True  \n",
       "...                                              ...    ...  \n",
       "TTTGTTGGTTCCAGGG-1_20220928-IGVF-D3                0  False  \n",
       "TTTGTTGGTTCCTGTG-1_20220928-IGVF-D3                1  False  \n",
       "TTTGTTGGTTGCCTCA-1_20220928-IGVF-D3                1   True  \n",
       "TTTGTTGGTTGGATAT-1_20220928-IGVF-D3                1   True  \n",
       "TTTGTTGGTTTGACCT-1_20220928-IGVF-D3                1   True  \n",
       "\n",
       "[30497 rows x 10 columns]"
      ]
     },
     "execution_count": 4,
     "metadata": {},
     "output_type": "execute_result"
    }
   ],
   "source": [
    "gex_sings"
   ]
  },
  {
   "cell_type": "code",
   "execution_count": 5,
   "id": "42805eee",
   "metadata": {},
   "outputs": [],
   "source": [
    "tmp_gex_sings = gex_sings.iloc[:,:-1]\n",
    "tmp_gex_sings.columns = [f'gex_{x}' for x in tmp_gex_sings.columns]\n",
    "tmp_atac_sings = atac_sings.iloc[:,:-1]\n",
    "tmp_atac_sings.columns = [f'atac_{x}' for x in tmp_atac_sings.columns]\n",
    " \n",
    "merged_sings = pd.concat([tmp_gex_sings, tmp_atac_sings], axis=1)\n",
    "merged_sings['inter'] = merged_sings.eq(merged_sings.iloc[:, 0], axis=0).all(1)"
   ]
  },
  {
   "cell_type": "code",
   "execution_count": 6,
   "id": "1e2a78e8",
   "metadata": {},
   "outputs": [
    {
     "data": {
      "text/plain": [
       "(17642, 17390, 12022)"
      ]
     },
     "execution_count": 6,
     "metadata": {},
     "output_type": "execute_result"
    }
   ],
   "source": [
    "sum(gex_sings['inter']), sum(atac_sings['inter']), sum(merged_sings['inter'])"
   ]
  },
  {
   "cell_type": "code",
   "execution_count": 7,
   "id": "f00192d0",
   "metadata": {},
   "outputs": [
    {
     "data": {
      "text/plain": [
       "((30497, 9), (30497, 9))"
      ]
     },
     "execution_count": 7,
     "metadata": {},
     "output_type": "execute_result"
    }
   ],
   "source": [
    "gex = pd.read_csv(f'{projdir}/csv/demux/inter_gex.csv', sep='\\t',\n",
    "                  header=0, index_col=0)\n",
    "atac = pd.read_csv(f'{projdir}/csv/demux/inter_atac.csv', sep='\\t',\n",
    "                   header=0, index_col=0)\n",
    "gex.replace({'doublet' : 'non_singlet' , 'unassigned' : 'non_singlet'}, inplace=True)\n",
    "atac.replace({'doublet' : 'non_singlet' , 'unassigned' : 'non_singlet'}, inplace=True)\n",
    "\n",
    "gex.shape, atac.shape"
   ]
  },
  {
   "cell_type": "code",
   "execution_count": 8,
   "id": "8843b0be",
   "metadata": {},
   "outputs": [
    {
     "data": {
      "text/plain": [
       "((30497, 10), (30497, 10))"
      ]
     },
     "execution_count": 8,
     "metadata": {},
     "output_type": "execute_result"
    }
   ],
   "source": [
    "tmp_gex = gex.copy()\n",
    "tmp_atac = atac.copy()\n",
    "tmp_gex['inter'] = gex.eq(gex.iloc[:, 0], axis=0).all(1)\n",
    "tmp_atac['inter'] = atac.eq(atac.iloc[:, 0], axis=0).all(1)\n",
    "# tmp_gex['majority'] = gex.mode(axis=1)[0]\n",
    "# tmp_atac['majority'] = atac.mode(axis=1)[0]\n",
    "\n",
    "# gex['majority'] = tmp_gex['majority']\n",
    "# atac['majority'] = tmp_atac['majority']\n",
    "\n",
    "gex['inter'] = tmp_gex['inter']\n",
    "atac['inter'] = tmp_atac['inter']\n",
    "\n",
    "# gex_inter = pd.DataFrame(tmp_gex[tmp_gex['inter']]['demuxlet'])\n",
    "# gex_inter.columns = ['inter']\n",
    "\n",
    "# atac_inter = pd.DataFrame(tmp_atac[tmp_atac['inter']]['demuxlet'])\n",
    "# atac_inter.columns = ['inter']\n",
    "\n",
    "gex.shape, atac.shape"
   ]
  },
  {
   "cell_type": "code",
   "execution_count": 9,
   "id": "0ae77029",
   "metadata": {},
   "outputs": [],
   "source": [
    "tmp_gex = gex.iloc[:,:-1]\n",
    "tmp_gex.columns = [f'gex_{x}' for x in tmp_gex.columns]\n",
    "tmp_atac = atac.iloc[:,:-1]\n",
    "tmp_atac.columns = [f'atac_{x}' for x in tmp_atac.columns]\n",
    " \n",
    "merged = pd.concat([tmp_gex, tmp_atac], axis=1)\n",
    "merged['inter'] = merged.eq(merged.iloc[:, 0], axis=0).all(1)"
   ]
  },
  {
   "cell_type": "code",
   "execution_count": 10,
   "id": "b4e10204",
   "metadata": {},
   "outputs": [
    {
     "data": {
      "text/plain": [
       "(17583, 15493, 10680)"
      ]
     },
     "execution_count": 10,
     "metadata": {},
     "output_type": "execute_result"
    }
   ],
   "source": [
    "sum(gex['inter']), sum(atac['inter']), sum(merged['inter'])"
   ]
  },
  {
   "cell_type": "code",
   "execution_count": 11,
   "id": "f28f656c",
   "metadata": {},
   "outputs": [
    {
     "name": "stderr",
     "output_type": "stream",
     "text": [
      "/u/home/t/terencew/project-cluo/miniconda3/envs/allcools/lib/python3.7/site-packages/ipykernel_launcher.py:9: SettingWithCopyWarning: \n",
      "A value is trying to be set on a copy of a slice from a DataFrame.\n",
      "Try using .loc[row_indexer,col_indexer] = value instead\n",
      "\n",
      "See the caveats in the documentation: https://pandas.pydata.org/pandas-docs/stable/user_guide/indexing.html#returning-a-view-versus-a-copy\n",
      "  if __name__ == '__main__':\n"
     ]
    },
    {
     "data": {
      "text/plain": [
       "((12914, 10), (15004, 10), (19817, 11))"
      ]
     },
     "execution_count": 11,
     "metadata": {},
     "output_type": "execute_result"
    }
   ],
   "source": [
    "gex_mask = ~gex['inter']\n",
    "unique_gex = gex[gex_mask]\n",
    "\n",
    "atac_mask = ~atac['inter']\n",
    "unique_atac = atac[atac_mask]\n",
    "\n",
    "all_mask = ~merged['inter']\n",
    "unique_all = gex[all_mask]\n",
    "unique_all['scavengers'] = merged['atac_scavengers']\n",
    "unique_gex.shape, unique_atac.shape, unique_all.shape"
   ]
  },
  {
   "cell_type": "code",
   "execution_count": 12,
   "id": "c5a50174",
   "metadata": {},
   "outputs": [],
   "source": [
    "def process_con(con):\n",
    "    con['DP'] = np.sum(con.iloc[:,:4], axis=1)\n",
    "    con['Consistent rate'] = (con['C1'] + con['C2']) / con['DP']\n",
    "    con['Inconsistent rate'] = 1 - con['Consistent rate']\n",
    "    con['C1 rate'] = con['C1'] / con['DP']\n",
    "    con['C2 rate'] = con['C2'] / con['DP']\n",
    "    con['I1 rate'] = con['I1'] / con['DP']\n",
    "    con['I2 rate'] = con['I2'] / con['DP']\n",
    "    return con"
   ]
  },
  {
   "cell_type": "code",
   "execution_count": 13,
   "id": "0dcb8fdb",
   "metadata": {},
   "outputs": [],
   "source": [
    "final_con_cols = ['C1', 'C2', 'I1', 'I2', 'DP',\n",
    "                  'Consistent rate', 'Inconsistent rate',\n",
    "                   'C1 rate', 'C2 rate', 'I1 rate', 'I2 rate']"
   ]
  },
  {
   "cell_type": "code",
   "execution_count": 14,
   "id": "06be97a1",
   "metadata": {
    "scrolled": true
   },
   "outputs": [
    {
     "name": "stdout",
     "output_type": "stream",
     "text": [
      "demuxlet 10730\n",
      "freemuxlet 17494\n",
      "vireo 11490\n",
      "vireo_nogenos 12671\n",
      "scsplit 15283\n",
      "scsplit_nogenos 12892\n",
      "souporcell 13460\n",
      "souporcell_nogenos 14255\n",
      "demuxalot 9306\n"
     ]
    }
   ],
   "source": [
    "tmp_cols = con_cols + ['n_drops']\n",
    "cov = 20\n",
    "condir = f'{projdir}/csv/var_consistency/real/gex/merged/'\n",
    "all_con_gex = pd.DataFrame(index=gex_methods, columns=tmp_cols, data=0)\n",
    "for method in gex_methods:\n",
    "    mask = unique_all[method] != 'non_singlet'\n",
    "    method_con = pd.read_csv(f'{condir}/{method}_cov{cov}_varcon.csv', sep='\\t', header=0, index_col=0)\n",
    "    method_gex = unique_all[mask]\n",
    "    mask = method_con.index.isin(method_gex.index)\n",
    "    method_con = method_con[mask]\n",
    "    method_con = pd.DataFrame(method_con.sum(axis=0)[:4]).transpose()\n",
    "    all_con_gex.loc[method] = list(method_con.iloc[0]) + [method_gex.shape[0]]\n",
    "    print(method, method_gex.shape[0])\n",
    "all_con_gex['method'] = all_con_gex.index"
   ]
  },
  {
   "cell_type": "code",
   "execution_count": 15,
   "id": "ca39b2de",
   "metadata": {},
   "outputs": [
    {
     "name": "stdout",
     "output_type": "stream",
     "text": [
      "demuxlet 10730\n",
      "freemuxlet 17494\n",
      "vireo 11490\n",
      "vireo_nogenos 12671\n",
      "scsplit 15283\n",
      "scsplit_nogenos 12892\n",
      "souporcell 13460\n",
      "souporcell_nogenos 14255\n",
      "scavengers 14572\n"
     ]
    }
   ],
   "source": [
    "tmp_cols = con_cols + ['n_drops']\n",
    "cov = 20\n",
    "condir = f'{projdir}/csv/var_consistency/real/atac/merged/'\n",
    "all_con_atac = pd.DataFrame(index=atac_methods, columns=tmp_cols, data=0)\n",
    "for method in atac_methods:\n",
    "    mask = unique_all[method] != 'non_singlet'\n",
    "    method_con = pd.read_csv(f'{condir}/{method}_cov{cov}_varcon.csv', sep='\\t', header=0, index_col=0)\n",
    "    method_atac = unique_all[mask]\n",
    "    mask = method_con.index.isin(method_atac.index)\n",
    "    method_con = method_con[mask]\n",
    "    method_con = pd.DataFrame(method_con.sum(axis=0)[:4]).transpose()\n",
    "    all_con_atac.loc[method] = list(method_con.iloc[0]) + [method_atac.shape[0]]\n",
    "    print(method, method_atac.shape[0])\n",
    "all_con_atac['method'] = all_con_atac.index"
   ]
  },
  {
   "cell_type": "code",
   "execution_count": 16,
   "id": "01fb8e99",
   "metadata": {},
   "outputs": [],
   "source": [
    "### this is for unique_gex\n",
    "# ### this is just singlets called by that method, I think this is fine!\n",
    "\n",
    "# tmp_cols = con_cols + ['n_drops']\n",
    "# cov = 20\n",
    "# condir = f'{projdir}/csv/var_consistency/real/gex/{s}/'\n",
    "# all_con_gex = pd.DataFrame(index=gex_methods, columns=tmp_cols, data=0)\n",
    "# for method in gex_methods:\n",
    "#     mask = unique_gex[method] != 'non_singlet'\n",
    "#     method_con = pd.read_csv(f'{condir}/{method}_cov{cov}_varcon.csv', sep='\\t', header=0, index_col=0)\n",
    "#     method_gex = unique_gex[mask]\n",
    "#     mask = method_con.index.isin(method_gex.index)\n",
    "#     method_con = method_con[mask]\n",
    "#     method_con = pd.DataFrame(method_con.sum(axis=0)[:4]).transpose()\n",
    "#     all_con_gex.loc[method] = list(method_con.iloc[0]) + [method_gex.shape[0]]\n",
    "    \n",
    "# test_con_gex = all_con_gex.iloc[:,:4].div(all_con_gex['n_drops'], axis=0)\n",
    "# test_con_gex = process_con(test_con_gex)\n",
    "# test_con_gex"
   ]
  },
  {
   "cell_type": "code",
   "execution_count": 17,
   "id": "217e5343",
   "metadata": {},
   "outputs": [],
   "source": [
    "### unique_atac\n",
    "# ### this is just singlets called by that method, I think this is fine!\n",
    "\n",
    "# tmp_cols = con_cols + ['n_drops']\n",
    "# cov = 20\n",
    "# condir = f'{projdir}/csv/var_consistency/real/atac/{s}/'\n",
    "# all_con_atac = pd.DataFrame(index=atac_methods, columns=tmp_cols, data=0)\n",
    "# for method in atac_methods:\n",
    "#     mask = unique_atac[method] != 'non_singlet'\n",
    "#     method_con = pd.read_csv(f'{condir}/{method}_cov{cov}_varcon.csv', sep='\\t', header=0, index_col=0)\n",
    "#     method_atac = unique_atac[mask]\n",
    "#     mask = method_con.index.isin(method_atac.index)\n",
    "#     method_con = method_con[mask]\n",
    "#     method_con = pd.DataFrame(method_con.sum(axis=0)[:4]).transpose()\n",
    "#     all_con_atac.loc[method] = list(method_con.iloc[0]) + [method_atac.shape[0]]\n",
    "\n",
    "    \n",
    "# test_con_atac = all_con_atac.iloc[:,:4].div(all_con_atac['n_drops'], axis=0)\n",
    "# test_con_atac = process_con(test_con_atac)\n",
    "# test_con_atac"
   ]
  },
  {
   "cell_type": "code",
   "execution_count": 18,
   "id": "034916c8",
   "metadata": {},
   "outputs": [
    {
     "data": {
      "text/html": [
       "<div>\n",
       "<style scoped>\n",
       "    .dataframe tbody tr th:only-of-type {\n",
       "        vertical-align: middle;\n",
       "    }\n",
       "\n",
       "    .dataframe tbody tr th {\n",
       "        vertical-align: top;\n",
       "    }\n",
       "\n",
       "    .dataframe thead th {\n",
       "        text-align: right;\n",
       "    }\n",
       "</style>\n",
       "<table border=\"1\" class=\"dataframe\">\n",
       "  <thead>\n",
       "    <tr style=\"text-align: right;\">\n",
       "      <th></th>\n",
       "      <th>C1</th>\n",
       "      <th>C2</th>\n",
       "      <th>I1</th>\n",
       "      <th>I2</th>\n",
       "      <th>DP</th>\n",
       "      <th>Consistent rate</th>\n",
       "      <th>Inconsistent rate</th>\n",
       "      <th>C1 rate</th>\n",
       "      <th>C2 rate</th>\n",
       "      <th>I1 rate</th>\n",
       "      <th>I2 rate</th>\n",
       "    </tr>\n",
       "  </thead>\n",
       "  <tbody>\n",
       "    <tr>\n",
       "      <th>demuxlet</th>\n",
       "      <td>29.538677</td>\n",
       "      <td>573.260019</td>\n",
       "      <td>26.499627</td>\n",
       "      <td>2.432712</td>\n",
       "      <td>631.731034</td>\n",
       "      <td>0.954201</td>\n",
       "      <td>0.045799</td>\n",
       "      <td>0.046758</td>\n",
       "      <td>0.907443</td>\n",
       "      <td>0.041948</td>\n",
       "      <td>0.003851</td>\n",
       "    </tr>\n",
       "    <tr>\n",
       "      <th>freemuxlet</th>\n",
       "      <td>37.063679</td>\n",
       "      <td>854.159483</td>\n",
       "      <td>79.200354</td>\n",
       "      <td>5.108266</td>\n",
       "      <td>975.531782</td>\n",
       "      <td>0.913577</td>\n",
       "      <td>0.086423</td>\n",
       "      <td>0.037993</td>\n",
       "      <td>0.875583</td>\n",
       "      <td>0.081187</td>\n",
       "      <td>0.005236</td>\n",
       "    </tr>\n",
       "    <tr>\n",
       "      <th>vireo</th>\n",
       "      <td>33.843603</td>\n",
       "      <td>663.677198</td>\n",
       "      <td>32.738729</td>\n",
       "      <td>2.961880</td>\n",
       "      <td>733.221410</td>\n",
       "      <td>0.951310</td>\n",
       "      <td>0.048690</td>\n",
       "      <td>0.046157</td>\n",
       "      <td>0.905153</td>\n",
       "      <td>0.044651</td>\n",
       "      <td>0.004040</td>\n",
       "    </tr>\n",
       "    <tr>\n",
       "      <th>vireo_nogenos</th>\n",
       "      <td>35.010023</td>\n",
       "      <td>712.907979</td>\n",
       "      <td>41.942388</td>\n",
       "      <td>3.450083</td>\n",
       "      <td>793.310473</td>\n",
       "      <td>0.942781</td>\n",
       "      <td>0.057219</td>\n",
       "      <td>0.044132</td>\n",
       "      <td>0.898649</td>\n",
       "      <td>0.052870</td>\n",
       "      <td>0.004349</td>\n",
       "    </tr>\n",
       "    <tr>\n",
       "      <th>scsplit</th>\n",
       "      <td>24.102140</td>\n",
       "      <td>522.193679</td>\n",
       "      <td>40.383433</td>\n",
       "      <td>2.740758</td>\n",
       "      <td>589.420009</td>\n",
       "      <td>0.926836</td>\n",
       "      <td>0.073164</td>\n",
       "      <td>0.040891</td>\n",
       "      <td>0.885945</td>\n",
       "      <td>0.068514</td>\n",
       "      <td>0.004650</td>\n",
       "    </tr>\n",
       "    <tr>\n",
       "      <th>scsplit_nogenos</th>\n",
       "      <td>30.338194</td>\n",
       "      <td>667.775908</td>\n",
       "      <td>54.017530</td>\n",
       "      <td>3.897068</td>\n",
       "      <td>756.028700</td>\n",
       "      <td>0.923396</td>\n",
       "      <td>0.076604</td>\n",
       "      <td>0.040128</td>\n",
       "      <td>0.883268</td>\n",
       "      <td>0.071449</td>\n",
       "      <td>0.005155</td>\n",
       "    </tr>\n",
       "    <tr>\n",
       "      <th>souporcell</th>\n",
       "      <td>36.202452</td>\n",
       "      <td>823.428529</td>\n",
       "      <td>63.688856</td>\n",
       "      <td>4.664116</td>\n",
       "      <td>927.983952</td>\n",
       "      <td>0.926343</td>\n",
       "      <td>0.073657</td>\n",
       "      <td>0.039012</td>\n",
       "      <td>0.887331</td>\n",
       "      <td>0.068631</td>\n",
       "      <td>0.005026</td>\n",
       "    </tr>\n",
       "    <tr>\n",
       "      <th>souporcell_nogenos</th>\n",
       "      <td>34.618941</td>\n",
       "      <td>758.981480</td>\n",
       "      <td>55.912732</td>\n",
       "      <td>4.089723</td>\n",
       "      <td>853.602876</td>\n",
       "      <td>0.929707</td>\n",
       "      <td>0.070293</td>\n",
       "      <td>0.040556</td>\n",
       "      <td>0.889151</td>\n",
       "      <td>0.065502</td>\n",
       "      <td>0.004791</td>\n",
       "    </tr>\n",
       "    <tr>\n",
       "      <th>demuxalot</th>\n",
       "      <td>28.198152</td>\n",
       "      <td>534.649151</td>\n",
       "      <td>18.317322</td>\n",
       "      <td>2.103589</td>\n",
       "      <td>583.268214</td>\n",
       "      <td>0.964989</td>\n",
       "      <td>0.035011</td>\n",
       "      <td>0.048345</td>\n",
       "      <td>0.916644</td>\n",
       "      <td>0.031405</td>\n",
       "      <td>0.003607</td>\n",
       "    </tr>\n",
       "  </tbody>\n",
       "</table>\n",
       "</div>"
      ],
      "text/plain": [
       "                           C1          C2         I1        I2          DP  \\\n",
       "demuxlet            29.538677  573.260019  26.499627  2.432712  631.731034   \n",
       "freemuxlet          37.063679  854.159483  79.200354  5.108266  975.531782   \n",
       "vireo               33.843603  663.677198  32.738729  2.961880  733.221410   \n",
       "vireo_nogenos       35.010023  712.907979  41.942388  3.450083  793.310473   \n",
       "scsplit             24.102140  522.193679  40.383433  2.740758  589.420009   \n",
       "scsplit_nogenos     30.338194  667.775908  54.017530  3.897068  756.028700   \n",
       "souporcell          36.202452  823.428529  63.688856  4.664116  927.983952   \n",
       "souporcell_nogenos  34.618941  758.981480  55.912732  4.089723  853.602876   \n",
       "demuxalot           28.198152  534.649151  18.317322  2.103589  583.268214   \n",
       "\n",
       "                    Consistent rate  Inconsistent rate   C1 rate   C2 rate  \\\n",
       "demuxlet                   0.954201           0.045799  0.046758  0.907443   \n",
       "freemuxlet                 0.913577           0.086423  0.037993  0.875583   \n",
       "vireo                      0.951310           0.048690  0.046157  0.905153   \n",
       "vireo_nogenos              0.942781           0.057219  0.044132  0.898649   \n",
       "scsplit                    0.926836           0.073164  0.040891  0.885945   \n",
       "scsplit_nogenos            0.923396           0.076604  0.040128  0.883268   \n",
       "souporcell                 0.926343           0.073657  0.039012  0.887331   \n",
       "souporcell_nogenos         0.929707           0.070293  0.040556  0.889151   \n",
       "demuxalot                  0.964989           0.035011  0.048345  0.916644   \n",
       "\n",
       "                     I1 rate   I2 rate  \n",
       "demuxlet            0.041948  0.003851  \n",
       "freemuxlet          0.081187  0.005236  \n",
       "vireo               0.044651  0.004040  \n",
       "vireo_nogenos       0.052870  0.004349  \n",
       "scsplit             0.068514  0.004650  \n",
       "scsplit_nogenos     0.071449  0.005155  \n",
       "souporcell          0.068631  0.005026  \n",
       "souporcell_nogenos  0.065502  0.004791  \n",
       "demuxalot           0.031405  0.003607  "
      ]
     },
     "execution_count": 18,
     "metadata": {},
     "output_type": "execute_result"
    }
   ],
   "source": [
    "## unique_all\n",
    "### this is just singlets called by that method, I think this is fine!\n",
    "\n",
    "tmp_cols = con_cols + ['n_drops']\n",
    "cov = 20\n",
    "condir = f'{projdir}/csv/var_consistency/real/gex/merged/'\n",
    "all_con_gex = pd.DataFrame(index=gex_methods, columns=tmp_cols, data=0)\n",
    "for method in gex_methods:\n",
    "    mask = unique_all[method] != 'non_singlet'\n",
    "    method_con = pd.read_csv(f'{condir}/{method}_cov{cov}_varcon.csv', sep='\\t', header=0, index_col=0)\n",
    "    method_gex = unique_all[mask]\n",
    "    mask = method_con.index.isin(method_gex.index)\n",
    "    method_con = method_con[mask]\n",
    "    method_con = pd.DataFrame(method_con.sum(axis=0)[:4]).transpose()\n",
    "    all_con_gex.loc[method] = list(method_con.iloc[0]) + [method_gex.shape[0]]\n",
    "\n",
    "    \n",
    "test_con_gex = all_con_gex.iloc[:,:4].div(all_con_gex['n_drops'], axis=0)\n",
    "test_con_gex = process_con(test_con_gex)\n",
    "test_con_gex"
   ]
  },
  {
   "cell_type": "code",
   "execution_count": 19,
   "id": "3a682c04",
   "metadata": {},
   "outputs": [
    {
     "data": {
      "text/html": [
       "<div>\n",
       "<style scoped>\n",
       "    .dataframe tbody tr th:only-of-type {\n",
       "        vertical-align: middle;\n",
       "    }\n",
       "\n",
       "    .dataframe tbody tr th {\n",
       "        vertical-align: top;\n",
       "    }\n",
       "\n",
       "    .dataframe thead th {\n",
       "        text-align: right;\n",
       "    }\n",
       "</style>\n",
       "<table border=\"1\" class=\"dataframe\">\n",
       "  <thead>\n",
       "    <tr style=\"text-align: right;\">\n",
       "      <th></th>\n",
       "      <th>C1</th>\n",
       "      <th>C2</th>\n",
       "      <th>I1</th>\n",
       "      <th>I2</th>\n",
       "      <th>DP</th>\n",
       "      <th>Consistent rate</th>\n",
       "      <th>Inconsistent rate</th>\n",
       "      <th>C1 rate</th>\n",
       "      <th>C2 rate</th>\n",
       "      <th>I1 rate</th>\n",
       "      <th>I2 rate</th>\n",
       "    </tr>\n",
       "  </thead>\n",
       "  <tbody>\n",
       "    <tr>\n",
       "      <th>demuxlet</th>\n",
       "      <td>80.018733</td>\n",
       "      <td>1348.344734</td>\n",
       "      <td>25.724418</td>\n",
       "      <td>2.481733</td>\n",
       "      <td>1456.569618</td>\n",
       "      <td>0.980635</td>\n",
       "      <td>0.019365</td>\n",
       "      <td>0.054936</td>\n",
       "      <td>0.925699</td>\n",
       "      <td>0.017661</td>\n",
       "      <td>0.001704</td>\n",
       "    </tr>\n",
       "    <tr>\n",
       "      <th>freemuxlet</th>\n",
       "      <td>111.535098</td>\n",
       "      <td>2244.796102</td>\n",
       "      <td>165.407225</td>\n",
       "      <td>6.093003</td>\n",
       "      <td>2527.831428</td>\n",
       "      <td>0.932155</td>\n",
       "      <td>0.067845</td>\n",
       "      <td>0.044123</td>\n",
       "      <td>0.888032</td>\n",
       "      <td>0.065434</td>\n",
       "      <td>0.002410</td>\n",
       "    </tr>\n",
       "    <tr>\n",
       "      <th>vireo</th>\n",
       "      <td>88.508442</td>\n",
       "      <td>1545.186597</td>\n",
       "      <td>40.398520</td>\n",
       "      <td>3.072150</td>\n",
       "      <td>1677.165709</td>\n",
       "      <td>0.974081</td>\n",
       "      <td>0.025919</td>\n",
       "      <td>0.052773</td>\n",
       "      <td>0.921308</td>\n",
       "      <td>0.024087</td>\n",
       "      <td>0.001832</td>\n",
       "    </tr>\n",
       "    <tr>\n",
       "      <th>vireo_nogenos</th>\n",
       "      <td>93.001973</td>\n",
       "      <td>1668.535317</td>\n",
       "      <td>58.096046</td>\n",
       "      <td>3.603109</td>\n",
       "      <td>1823.236445</td>\n",
       "      <td>0.966160</td>\n",
       "      <td>0.033840</td>\n",
       "      <td>0.051009</td>\n",
       "      <td>0.915150</td>\n",
       "      <td>0.031864</td>\n",
       "      <td>0.001976</td>\n",
       "    </tr>\n",
       "    <tr>\n",
       "      <th>scsplit</th>\n",
       "      <td>84.476477</td>\n",
       "      <td>1621.912190</td>\n",
       "      <td>87.146568</td>\n",
       "      <td>3.844926</td>\n",
       "      <td>1797.380161</td>\n",
       "      <td>0.949375</td>\n",
       "      <td>0.050625</td>\n",
       "      <td>0.047000</td>\n",
       "      <td>0.902376</td>\n",
       "      <td>0.048485</td>\n",
       "      <td>0.002139</td>\n",
       "    </tr>\n",
       "    <tr>\n",
       "      <th>scsplit_nogenos</th>\n",
       "      <td>81.048712</td>\n",
       "      <td>1469.179724</td>\n",
       "      <td>83.175147</td>\n",
       "      <td>3.842073</td>\n",
       "      <td>1637.245656</td>\n",
       "      <td>0.946851</td>\n",
       "      <td>0.053149</td>\n",
       "      <td>0.049503</td>\n",
       "      <td>0.897348</td>\n",
       "      <td>0.050802</td>\n",
       "      <td>0.002347</td>\n",
       "    </tr>\n",
       "    <tr>\n",
       "      <th>souporcell</th>\n",
       "      <td>96.750149</td>\n",
       "      <td>1822.256315</td>\n",
       "      <td>89.386850</td>\n",
       "      <td>4.654160</td>\n",
       "      <td>2013.047474</td>\n",
       "      <td>0.953284</td>\n",
       "      <td>0.046716</td>\n",
       "      <td>0.048062</td>\n",
       "      <td>0.905223</td>\n",
       "      <td>0.044404</td>\n",
       "      <td>0.002312</td>\n",
       "    </tr>\n",
       "    <tr>\n",
       "      <th>souporcell_nogenos</th>\n",
       "      <td>92.547387</td>\n",
       "      <td>1707.632340</td>\n",
       "      <td>75.812978</td>\n",
       "      <td>4.089442</td>\n",
       "      <td>1880.082147</td>\n",
       "      <td>0.957501</td>\n",
       "      <td>0.042499</td>\n",
       "      <td>0.049225</td>\n",
       "      <td>0.908275</td>\n",
       "      <td>0.040324</td>\n",
       "      <td>0.002175</td>\n",
       "    </tr>\n",
       "    <tr>\n",
       "      <th>scavengers</th>\n",
       "      <td>113.856231</td>\n",
       "      <td>2043.240393</td>\n",
       "      <td>93.816086</td>\n",
       "      <td>4.816086</td>\n",
       "      <td>2255.728795</td>\n",
       "      <td>0.956275</td>\n",
       "      <td>0.043725</td>\n",
       "      <td>0.050474</td>\n",
       "      <td>0.905801</td>\n",
       "      <td>0.041590</td>\n",
       "      <td>0.002135</td>\n",
       "    </tr>\n",
       "  </tbody>\n",
       "</table>\n",
       "</div>"
      ],
      "text/plain": [
       "                            C1           C2          I1        I2  \\\n",
       "demuxlet             80.018733  1348.344734   25.724418  2.481733   \n",
       "freemuxlet          111.535098  2244.796102  165.407225  6.093003   \n",
       "vireo                88.508442  1545.186597   40.398520  3.072150   \n",
       "vireo_nogenos        93.001973  1668.535317   58.096046  3.603109   \n",
       "scsplit              84.476477  1621.912190   87.146568  3.844926   \n",
       "scsplit_nogenos      81.048712  1469.179724   83.175147  3.842073   \n",
       "souporcell           96.750149  1822.256315   89.386850  4.654160   \n",
       "souporcell_nogenos   92.547387  1707.632340   75.812978  4.089442   \n",
       "scavengers          113.856231  2043.240393   93.816086  4.816086   \n",
       "\n",
       "                             DP  Consistent rate  Inconsistent rate   C1 rate  \\\n",
       "demuxlet            1456.569618         0.980635           0.019365  0.054936   \n",
       "freemuxlet          2527.831428         0.932155           0.067845  0.044123   \n",
       "vireo               1677.165709         0.974081           0.025919  0.052773   \n",
       "vireo_nogenos       1823.236445         0.966160           0.033840  0.051009   \n",
       "scsplit             1797.380161         0.949375           0.050625  0.047000   \n",
       "scsplit_nogenos     1637.245656         0.946851           0.053149  0.049503   \n",
       "souporcell          2013.047474         0.953284           0.046716  0.048062   \n",
       "souporcell_nogenos  1880.082147         0.957501           0.042499  0.049225   \n",
       "scavengers          2255.728795         0.956275           0.043725  0.050474   \n",
       "\n",
       "                     C2 rate   I1 rate   I2 rate  \n",
       "demuxlet            0.925699  0.017661  0.001704  \n",
       "freemuxlet          0.888032  0.065434  0.002410  \n",
       "vireo               0.921308  0.024087  0.001832  \n",
       "vireo_nogenos       0.915150  0.031864  0.001976  \n",
       "scsplit             0.902376  0.048485  0.002139  \n",
       "scsplit_nogenos     0.897348  0.050802  0.002347  \n",
       "souporcell          0.905223  0.044404  0.002312  \n",
       "souporcell_nogenos  0.908275  0.040324  0.002175  \n",
       "scavengers          0.905801  0.041590  0.002135  "
      ]
     },
     "execution_count": 19,
     "metadata": {},
     "output_type": "execute_result"
    }
   ],
   "source": [
    "## unique_all\n",
    "### this is just singlets called by that method, I think this is fine!\n",
    "\n",
    "tmp_cols = con_cols + ['n_drops']\n",
    "cov = 20\n",
    "condir = f'{projdir}/csv/var_consistency/real/atac/merged/'\n",
    "all_con_atac = pd.DataFrame(index=atac_methods, columns=tmp_cols, data=0)\n",
    "for method in atac_methods:\n",
    "    mask = unique_all[method] != 'non_singlet'\n",
    "    method_con = pd.read_csv(f'{condir}/{method}_cov{cov}_varcon.csv', sep='\\t', header=0, index_col=0)\n",
    "    method_atac = unique_all[mask]\n",
    "    mask = method_con.index.isin(method_atac.index)\n",
    "    method_con = method_con[mask]\n",
    "    method_con = pd.DataFrame(method_con.sum(axis=0)[:4]).transpose()\n",
    "    all_con_atac.loc[method] = list(method_con.iloc[0]) + [method_atac.shape[0]]\n",
    "\n",
    "raw_con_atac = all_con_atac.copy()\n",
    "\n",
    "test_con_atac = all_con_atac.iloc[:,:4].div(all_con_atac['n_drops'], axis=0)\n",
    "test_con_atac = process_con(test_con_atac)\n",
    "test_con_atac"
   ]
  },
  {
   "cell_type": "code",
   "execution_count": 20,
   "id": "a878e1c0",
   "metadata": {},
   "outputs": [],
   "source": [
    "test_con_gex['method'] = [f'gex_{x}' for x in test_con_gex.index]\n",
    "test_con_atac['method'] = [f'atac_{x}' for x in test_con_atac.index]"
   ]
  },
  {
   "cell_type": "code",
   "execution_count": 21,
   "id": "c0f9b834",
   "metadata": {
    "scrolled": true
   },
   "outputs": [
    {
     "data": {
      "text/plain": [
       "<AxesSubplot:xlabel='variable', ylabel='value'>"
      ]
     },
     "execution_count": 21,
     "metadata": {},
     "output_type": "execute_result"
    },
    {
     "data": {
      "image/png": "[encoded data removed]",
      "text/plain": [
       "<Figure size 432x288 with 1 Axes>"
      ]
     },
     "metadata": {
      "needs_background": "light"
     },
     "output_type": "display_data"
    }
   ],
   "source": [
    "melt_cols = ['C1 rate', 'C2 rate', 'I1 rate', 'I2 rate']\n",
    "gex_melt_con = test_con_gex.melt(id_vars='method', value_vars=melt_cols)\n",
    "sns.barplot(gex_melt_con, x='variable', y='value', hue='method')"
   ]
  },
  {
   "cell_type": "code",
   "execution_count": 22,
   "id": "971f5d68",
   "metadata": {},
   "outputs": [
    {
     "data": {
      "text/plain": [
       "<AxesSubplot:xlabel='variable', ylabel='value'>"
      ]
     },
     "execution_count": 22,
     "metadata": {},
     "output_type": "execute_result"
    },
    {
     "data": {
      "image/png": "[encoded data removed]",
      "text/plain": [
       "<Figure size 432x288 with 1 Axes>"
      ]
     },
     "metadata": {
      "needs_background": "light"
     },
     "output_type": "display_data"
    }
   ],
   "source": [
    "melt_cols = ['C1 rate', 'C2 rate', 'I1 rate', 'I2 rate']\n",
    "atac_melt_con = test_con_atac.melt(id_vars='method', value_vars=melt_cols)\n",
    "sns.barplot(atac_melt_con, x='variable', y='value', hue='method')"
   ]
  },
  {
   "cell_type": "code",
   "execution_count": 23,
   "id": "f2bcc719",
   "metadata": {},
   "outputs": [],
   "source": [
    "gex_melt_con['mod'] = 'gex'\n",
    "atac_melt_con['mod'] = 'atac'"
   ]
  },
  {
   "cell_type": "code",
   "execution_count": 24,
   "id": "451edac7",
   "metadata": {},
   "outputs": [],
   "source": [
    "merged = pd.concat([gex_melt_con, atac_melt_con])\n",
    "merged['method'] = [x.replace('gex_','').replace('atac_','') for x in merged['method']]"
   ]
  },
  {
   "cell_type": "code",
   "execution_count": 25,
   "id": "5eebc230",
   "metadata": {},
   "outputs": [
    {
     "data": {
      "text/plain": [
       "<AxesSubplot:xlabel='method', ylabel='value'>"
      ]
     },
     "execution_count": 25,
     "metadata": {},
     "output_type": "execute_result"
    },
    {
     "data": {
      "image/png": "[encoded data removed]",
      "text/plain": [
       "<Figure size 432x288 with 1 Axes>"
      ]
     },
     "metadata": {
      "needs_background": "light"
     },
     "output_type": "display_data"
    }
   ],
   "source": [
    "tmp_merged = merged[merged['variable'] == 'C1 rate']\n",
    "sns.barplot(tmp_merged, x='method', y='value', hue='mod')"
   ]
  },
  {
   "cell_type": "code",
   "execution_count": 26,
   "id": "5dd498dd",
   "metadata": {},
   "outputs": [
    {
     "data": {
      "image/png": "[encoded data removed]",
      "text/plain": [
       "<Figure size 432x288 with 1 Axes>"
      ]
     },
     "metadata": {
      "needs_background": "light"
     },
     "output_type": "display_data"
    }
   ],
   "source": [
    "sns.set_palette('Dark2')\n",
    "\n",
    "tmp_merged = merged[merged['variable'] == 'C2 rate']\n",
    "ax = sns.barplot(tmp_merged, x='method', y='value', hue='mod')\n",
    "ax.set_ylim(0, 1)\n",
    "ax.set_xticklabels(ax.get_xticklabels(), rotation=45, fontsize=15,\n",
    "                   horizontalalignment='right')\n",
    "# ax.set_yticklabels(ax.get_yticklabels(), fontsize=12)\n",
    "\n",
    "sns.move_legend(ax, \"upper left\", bbox_to_anchor=(1, 1))\n",
    "ax.set_xlabel(\"\")\n",
    "ax.set_ylabel(\"\")\n",
    "ax.set_title(f'C2 rate', fontsize=20)\n",
    "# custom_ticks = np.linspace(0, 0.2, 5)\n",
    "# ax.set_yticks(custom_ticks, fontsize=20)\n",
    "ax.tick_params(axis='y', labelsize=15)  # Adjust the labelsize parameter as needed\n",
    "ax.grid(False)"
   ]
  },
  {
   "cell_type": "code",
   "execution_count": 27,
   "id": "2eced2b7",
   "metadata": {},
   "outputs": [
    {
     "data": {
      "image/png": "[encoded data removed]",
      "text/plain": [
       "<Figure size 432x288 with 1 Axes>"
      ]
     },
     "metadata": {
      "needs_background": "light"
     },
     "output_type": "display_data"
    }
   ],
   "source": [
    "sns.set_palette('Dark2')\n",
    "\n",
    "tmp_merged = merged[merged['variable'] == 'I1 rate']\n",
    "ax = sns.barplot(tmp_merged, x='method', y='value', hue='mod')\n",
    "ax.set_ylim(0, 0.2)\n",
    "ax.set_xticklabels(ax.get_xticklabels(), rotation=45, fontsize=15,\n",
    "                   horizontalalignment='right')\n",
    "# ax.set_yticklabels(ax.get_yticklabels(), fontsize=12)\n",
    "\n",
    "sns.move_legend(ax, \"upper left\", bbox_to_anchor=(1, 1))\n",
    "ax.set_xlabel(\"\")\n",
    "ax.set_ylabel(\"\")\n",
    "ax.set_title(f'I1 rate', fontsize=20)\n",
    "custom_ticks = np.linspace(0, 0.2, 5)\n",
    "ax.set_yticks(custom_ticks, fontsize=20)\n",
    "ax.tick_params(axis='y', labelsize=15)  # Adjust the labelsize parameter as needed\n",
    "ax.grid(False)"
   ]
  },
  {
   "cell_type": "code",
   "execution_count": 33,
   "id": "d25c3f32",
   "metadata": {},
   "outputs": [],
   "source": [
    "### insanely ratchet\n",
    "merged.loc[73] = ['scavengers', 'C1 rate', 0, 'gex']\n",
    "merged.loc[74] = ['scavengers', 'C2 rate', 0, 'gex']\n",
    "merged.loc[75] = ['scavengers', 'I1 rate', 0, 'gex']\n",
    "merged.loc[76] = ['scavengers', 'I2 rate', 0, 'gex']\n",
    "merged.loc[77] = ['demuxalot', 'C1 rate', 0, 'atac']\n",
    "merged.loc[78] = ['demuxalot', 'C2 rate', 0, 'atac']\n",
    "merged.loc[79] = ['demuxalot', 'I1 rate', 0, 'atac']\n",
    "merged.loc[80] = ['demuxalot', 'I2 rate', 0, 'atac']"
   ]
  },
  {
   "cell_type": "code",
   "execution_count": 34,
   "id": "a2223eff",
   "metadata": {},
   "outputs": [],
   "source": [
    "merged.to_csv(f'{projdir}/csv/final_figures/figure6/figure_6b_avg_con_rates.csv', sep='\\t', header=True, index=True)"
   ]
  },
  {
   "cell_type": "markdown",
   "id": "b4e88c3b",
   "metadata": {},
   "source": [
    "### extra"
   ]
  },
  {
   "cell_type": "code",
   "execution_count": 123,
   "id": "f34566bf",
   "metadata": {
    "scrolled": true
   },
   "outputs": [],
   "source": [
    "# melt_cols = ['C1 rate', 'C2 rate', 'I1 rate', 'I2 rate', 'method']\n",
    "# melt_con = method_con.melt(id_vars='donor', value_vars=melt_cols)\n",
    "\n",
    "# sns.boxplot(melt_con, x='variable', y='value', hue='donor')"
   ]
  },
  {
   "cell_type": "code",
   "execution_count": 124,
   "id": "6e3f54c6",
   "metadata": {},
   "outputs": [
    {
     "data": {
      "text/html": [
       "<div>\n",
       "<style scoped>\n",
       "    .dataframe tbody tr th:only-of-type {\n",
       "        vertical-align: middle;\n",
       "    }\n",
       "\n",
       "    .dataframe tbody tr th {\n",
       "        vertical-align: top;\n",
       "    }\n",
       "\n",
       "    .dataframe thead th {\n",
       "        text-align: right;\n",
       "    }\n",
       "</style>\n",
       "<table border=\"1\" class=\"dataframe\">\n",
       "  <thead>\n",
       "    <tr style=\"text-align: right;\">\n",
       "      <th></th>\n",
       "      <th>C1</th>\n",
       "      <th>C2</th>\n",
       "      <th>I1</th>\n",
       "      <th>I2</th>\n",
       "    </tr>\n",
       "  </thead>\n",
       "  <tbody>\n",
       "    <tr>\n",
       "      <th>0</th>\n",
       "      <td>1296015</td>\n",
       "      <td>23392650</td>\n",
       "      <td>1279481</td>\n",
       "      <td>59543</td>\n",
       "    </tr>\n",
       "  </tbody>\n",
       "</table>\n",
       "</div>"
      ],
      "text/plain": [
       "        C1        C2       I1     I2\n",
       "0  1296015  23392650  1279481  59543"
      ]
     },
     "execution_count": 124,
     "metadata": {},
     "output_type": "execute_result"
    }
   ],
   "source": [
    "method_con"
   ]
  },
  {
   "cell_type": "code",
   "execution_count": 125,
   "id": "5f0b1cf0",
   "metadata": {},
   "outputs": [],
   "source": [
    "### what about singlets completely unique to that method?\n",
    "### code is a tad bit more complciated...\n",
    "# for i,method in enumerate(gex.columns[:7]):\n",
    "#     mask = gex[method] != 'non_singlet'\n",
    "#     print(gex[mask].shape)"
   ]
  },
  {
   "cell_type": "code",
   "execution_count": 64,
   "id": "dae4c27b",
   "metadata": {},
   "outputs": [
    {
     "data": {
      "text/plain": [
       "AAACAGCCAAGGTATA-1_20220928-IGVF-D0          27_C4\n",
       "AAACAGCCAATGCGCT-1_20220928-IGVF-D0          25_A4\n",
       "AAACAGCCAGCAAATA-1_20220928-IGVF-D0          27_C4\n",
       "AAACAGCCATTGTGAT-1_20220928-IGVF-D0          25_A4\n",
       "AAACATGCAAACATAG-1_20220928-IGVF-D0          25_A4\n",
       "                                          ...     \n",
       "TTTGTTGGTTCCAGGG-1_20220928-IGVF-D3         26_A10\n",
       "TTTGTTGGTTCCTGTG-1_20220928-IGVF-D3    non_singlet\n",
       "TTTGTTGGTTGCCTCA-1_20220928-IGVF-D3          25_A4\n",
       "TTTGTTGGTTGGATAT-1_20220928-IGVF-D3          25_A4\n",
       "TTTGTTGGTTTGACCT-1_20220928-IGVF-D3         26_A10\n",
       "Name: demuxlet, Length: 30497, dtype: object"
      ]
     },
     "execution_count": 64,
     "metadata": {},
     "output_type": "execute_result"
    }
   ],
   "source": [
    "gex.iloc[:,0]"
   ]
  },
  {
   "cell_type": "code",
   "execution_count": 89,
   "id": "33cd419e",
   "metadata": {},
   "outputs": [
    {
     "data": {
      "text/html": [
       "<div>\n",
       "<style scoped>\n",
       "    .dataframe tbody tr th:only-of-type {\n",
       "        vertical-align: middle;\n",
       "    }\n",
       "\n",
       "    .dataframe tbody tr th {\n",
       "        vertical-align: top;\n",
       "    }\n",
       "\n",
       "    .dataframe thead th {\n",
       "        text-align: right;\n",
       "    }\n",
       "</style>\n",
       "<table border=\"1\" class=\"dataframe\">\n",
       "  <thead>\n",
       "    <tr style=\"text-align: right;\">\n",
       "      <th></th>\n",
       "      <th>variable</th>\n",
       "      <th>value</th>\n",
       "    </tr>\n",
       "  </thead>\n",
       "  <tbody>\n",
       "    <tr>\n",
       "      <th>0</th>\n",
       "      <td>demuxlet</td>\n",
       "      <td>27_C4</td>\n",
       "    </tr>\n",
       "    <tr>\n",
       "      <th>1</th>\n",
       "      <td>demuxlet</td>\n",
       "      <td>27_C4</td>\n",
       "    </tr>\n",
       "    <tr>\n",
       "      <th>2</th>\n",
       "      <td>demuxlet</td>\n",
       "      <td>48_V3</td>\n",
       "    </tr>\n",
       "    <tr>\n",
       "      <th>3</th>\n",
       "      <td>demuxlet</td>\n",
       "      <td>non_singlet</td>\n",
       "    </tr>\n",
       "    <tr>\n",
       "      <th>4</th>\n",
       "      <td>demuxlet</td>\n",
       "      <td>non_singlet</td>\n",
       "    </tr>\n",
       "  </tbody>\n",
       "</table>\n",
       "</div>"
      ],
      "text/plain": [
       "   variable        value\n",
       "0  demuxlet        27_C4\n",
       "1  demuxlet        27_C4\n",
       "2  demuxlet        48_V3\n",
       "3  demuxlet  non_singlet\n",
       "4  demuxlet  non_singlet"
      ]
     },
     "execution_count": 89,
     "metadata": {},
     "output_type": "execute_result"
    }
   ],
   "source": [
    "tmp = unique_gex.iloc[:,:-1]\n",
    "to_plot = tmp.melt(value_vars=tmp.columns)\n",
    "to_plot.head()"
   ]
  },
  {
   "cell_type": "code",
   "execution_count": 92,
   "id": "dbd286e4",
   "metadata": {},
   "outputs": [
    {
     "data": {
      "text/plain": [
       "<AxesSubplot:xlabel='variable', ylabel='Count'>"
      ]
     },
     "execution_count": 92,
     "metadata": {},
     "output_type": "execute_result"
    },
    {
     "data": {
      "image/png": "[encoded data removed]",
      "text/plain": [
       "<Figure size 432x288 with 1 Axes>"
      ]
     },
     "metadata": {
      "needs_background": "light"
     },
     "output_type": "display_data"
    }
   ],
   "source": [
    "sns.histplot(to_plot, x='variable', hue='value', multiple='stack')"
   ]
  },
  {
   "cell_type": "code",
   "execution_count": 93,
   "id": "fc6e7d55",
   "metadata": {},
   "outputs": [
    {
     "data": {
      "text/html": [
       "<div>\n",
       "<style scoped>\n",
       "    .dataframe tbody tr th:only-of-type {\n",
       "        vertical-align: middle;\n",
       "    }\n",
       "\n",
       "    .dataframe tbody tr th {\n",
       "        vertical-align: top;\n",
       "    }\n",
       "\n",
       "    .dataframe thead th {\n",
       "        text-align: right;\n",
       "    }\n",
       "</style>\n",
       "<table border=\"1\" class=\"dataframe\">\n",
       "  <thead>\n",
       "    <tr style=\"text-align: right;\">\n",
       "      <th></th>\n",
       "      <th>variable</th>\n",
       "      <th>value</th>\n",
       "    </tr>\n",
       "  </thead>\n",
       "  <tbody>\n",
       "    <tr>\n",
       "      <th>0</th>\n",
       "      <td>demuxlet</td>\n",
       "      <td>non_singlet</td>\n",
       "    </tr>\n",
       "    <tr>\n",
       "      <th>1</th>\n",
       "      <td>demuxlet</td>\n",
       "      <td>26_A10</td>\n",
       "    </tr>\n",
       "    <tr>\n",
       "      <th>2</th>\n",
       "      <td>demuxlet</td>\n",
       "      <td>non_singlet</td>\n",
       "    </tr>\n",
       "    <tr>\n",
       "      <th>3</th>\n",
       "      <td>demuxlet</td>\n",
       "      <td>non_singlet</td>\n",
       "    </tr>\n",
       "    <tr>\n",
       "      <th>4</th>\n",
       "      <td>demuxlet</td>\n",
       "      <td>non_singlet</td>\n",
       "    </tr>\n",
       "  </tbody>\n",
       "</table>\n",
       "</div>"
      ],
      "text/plain": [
       "   variable        value\n",
       "0  demuxlet  non_singlet\n",
       "1  demuxlet       26_A10\n",
       "2  demuxlet  non_singlet\n",
       "3  demuxlet  non_singlet\n",
       "4  demuxlet  non_singlet"
      ]
     },
     "execution_count": 93,
     "metadata": {},
     "output_type": "execute_result"
    }
   ],
   "source": [
    "tmp = unique_atac.iloc[:,:-1]\n",
    "to_plot = tmp.melt(value_vars=tmp.columns)\n",
    "to_plot.head()"
   ]
  },
  {
   "cell_type": "code",
   "execution_count": 94,
   "id": "4c00df40",
   "metadata": {},
   "outputs": [
    {
     "data": {
      "text/plain": [
       "<AxesSubplot:xlabel='variable', ylabel='Count'>"
      ]
     },
     "execution_count": 94,
     "metadata": {},
     "output_type": "execute_result"
    },
    {
     "data": {
      "image/png": "[encoded data removed]",
      "text/plain": [
       "<Figure size 432x288 with 1 Axes>"
      ]
     },
     "metadata": {
      "needs_background": "light"
     },
     "output_type": "display_data"
    }
   ],
   "source": [
    "sns.histplot(to_plot, x='variable', hue='value', multiple='stack')"
   ]
  },
  {
   "cell_type": "code",
   "execution_count": 66,
   "id": "6ee78ab0",
   "metadata": {},
   "outputs": [],
   "source": [
    "extra_gex = pd.DataFrame(index=['gex'])\n",
    "for method in gex_methods:\n",
    "    gex_mask = unique_gex[method] != 'non_singlet'\n",
    "    extra_gex[method] = unique_gex[gex_mask].shape[0]\n",
    "# extra_gex = extra_gex.transpose()"
   ]
  },
  {
   "cell_type": "code",
   "execution_count": 67,
   "id": "579abd99",
   "metadata": {},
   "outputs": [],
   "source": [
    "extra_atac = pd.DataFrame(index=['atac'])\n",
    "for method in atac_methods:\n",
    "    atac_mask = unique_atac[method] != 'non_singlet'\n",
    "    extra_atac[method] =  unique_atac[atac_mask].shape[0]"
   ]
  },
  {
   "cell_type": "code",
   "execution_count": 68,
   "id": "8d1be476",
   "metadata": {},
   "outputs": [
    {
     "data": {
      "text/html": [
       "<div>\n",
       "<style scoped>\n",
       "    .dataframe tbody tr th:only-of-type {\n",
       "        vertical-align: middle;\n",
       "    }\n",
       "\n",
       "    .dataframe tbody tr th {\n",
       "        vertical-align: top;\n",
       "    }\n",
       "\n",
       "    .dataframe thead th {\n",
       "        text-align: right;\n",
       "    }\n",
       "</style>\n",
       "<table border=\"1\" class=\"dataframe\">\n",
       "  <thead>\n",
       "    <tr style=\"text-align: right;\">\n",
       "      <th></th>\n",
       "      <th>demuxlet</th>\n",
       "      <th>freemuxlet</th>\n",
       "      <th>vireo</th>\n",
       "      <th>vireo_nogenos</th>\n",
       "      <th>scsplit</th>\n",
       "      <th>scsplit_nogenos</th>\n",
       "      <th>souporcell</th>\n",
       "      <th>souporcell_nogenos</th>\n",
       "      <th>demuxalot</th>\n",
       "    </tr>\n",
       "  </thead>\n",
       "  <tbody>\n",
       "    <tr>\n",
       "      <th>gex</th>\n",
       "      <td>4359</td>\n",
       "      <td>11123</td>\n",
       "      <td>5119</td>\n",
       "      <td>6300</td>\n",
       "      <td>6653</td>\n",
       "      <td>7007</td>\n",
       "      <td>7089</td>\n",
       "      <td>7884</td>\n",
       "      <td>2935</td>\n",
       "    </tr>\n",
       "  </tbody>\n",
       "</table>\n",
       "</div>"
      ],
      "text/plain": [
       "     demuxlet  freemuxlet  vireo  vireo_nogenos  scsplit  scsplit_nogenos  \\\n",
       "gex      4359       11123   5119           6300     6653             7007   \n",
       "\n",
       "     souporcell  souporcell_nogenos  demuxalot  \n",
       "gex        7089                7884       2935  "
      ]
     },
     "execution_count": 68,
     "metadata": {},
     "output_type": "execute_result"
    }
   ],
   "source": [
    "extra_gex"
   ]
  },
  {
   "cell_type": "code",
   "execution_count": 69,
   "id": "a472ba32",
   "metadata": {},
   "outputs": [
    {
     "data": {
      "text/html": [
       "<div>\n",
       "<style scoped>\n",
       "    .dataframe tbody tr th:only-of-type {\n",
       "        vertical-align: middle;\n",
       "    }\n",
       "\n",
       "    .dataframe tbody tr th {\n",
       "        vertical-align: top;\n",
       "    }\n",
       "\n",
       "    .dataframe thead th {\n",
       "        text-align: right;\n",
       "    }\n",
       "</style>\n",
       "<table border=\"1\" class=\"dataframe\">\n",
       "  <thead>\n",
       "    <tr style=\"text-align: right;\">\n",
       "      <th></th>\n",
       "      <th>demuxlet</th>\n",
       "      <th>freemuxlet</th>\n",
       "      <th>vireo</th>\n",
       "      <th>vireo_nogenos</th>\n",
       "      <th>scsplit</th>\n",
       "      <th>scsplit_nogenos</th>\n",
       "      <th>souporcell</th>\n",
       "      <th>souporcell_nogenos</th>\n",
       "      <th>scavengers</th>\n",
       "    </tr>\n",
       "  </thead>\n",
       "  <tbody>\n",
       "    <tr>\n",
       "      <th>atac</th>\n",
       "      <td>2113</td>\n",
       "      <td>8103</td>\n",
       "      <td>3137</td>\n",
       "      <td>3982</td>\n",
       "      <td>5135</td>\n",
       "      <td>3961</td>\n",
       "      <td>4698</td>\n",
       "      <td>4582</td>\n",
       "      <td>4340</td>\n",
       "    </tr>\n",
       "  </tbody>\n",
       "</table>\n",
       "</div>"
      ],
      "text/plain": [
       "      demuxlet  freemuxlet  vireo  vireo_nogenos  scsplit  scsplit_nogenos  \\\n",
       "atac      2113        8103   3137           3982     5135             3961   \n",
       "\n",
       "      souporcell  souporcell_nogenos  scavengers  \n",
       "atac        4698                4582        4340  "
      ]
     },
     "execution_count": 69,
     "metadata": {},
     "output_type": "execute_result"
    }
   ],
   "source": [
    "extra_atac"
   ]
  },
  {
   "cell_type": "code",
   "execution_count": 70,
   "id": "fa213415",
   "metadata": {},
   "outputs": [],
   "source": [
    "extra_sings = pd.concat([extra_gex, extra_atac]).transpose()"
   ]
  },
  {
   "cell_type": "code",
   "execution_count": 71,
   "id": "751dc1cf",
   "metadata": {},
   "outputs": [
    {
     "data": {
      "text/plain": [
       "demuxlet               4359.0\n",
       "freemuxlet            11123.0\n",
       "vireo                  5119.0\n",
       "vireo_nogenos          6300.0\n",
       "scsplit                6653.0\n",
       "scsplit_nogenos        7007.0\n",
       "souporcell             7089.0\n",
       "souporcell_nogenos     7884.0\n",
       "demuxalot              2935.0\n",
       "scavengers                NaN\n",
       "Name: gex, dtype: float64"
      ]
     },
     "execution_count": 71,
     "metadata": {},
     "output_type": "execute_result"
    }
   ],
   "source": [
    "extra_sings['gex']"
   ]
  },
  {
   "cell_type": "code",
   "execution_count": 72,
   "id": "b947d248",
   "metadata": {},
   "outputs": [
    {
     "data": {
      "text/plain": [
       "Text(0.5, 0.98, 'Stem cell dataset')"
      ]
     },
     "execution_count": 72,
     "metadata": {},
     "output_type": "execute_result"
    },
    {
     "data": {
      "image/png": "[encoded data removed]",
      "text/plain": [
       "<Figure size 360x720 with 2 Axes>"
      ]
     },
     "metadata": {
      "needs_background": "light"
     },
     "output_type": "display_data"
    }
   ],
   "source": [
    "sns.set_palette('Dark2')\n",
    "final_cols = ['C2 rate', 'I1 rate']\n",
    "\n",
    "ylims = [1, 0.2]\n",
    "\n",
    "fig, axes = plt.subplots(2, 1, figsize=(5, 10))\n",
    "\n",
    "for i,ax in enumerate(axes.flatten()):\n",
    "    col = final_cols[i]\n",
    "    ylim = ylims[i]\n",
    "    tmp_merged = merged[merged['variable'] == col]\n",
    "    sns.barplot(tmp_merged, x='method', y='value', hue='mod', ax=ax)\n",
    "    ax.set_ylim(0, ylim)\n",
    "    ax.set_xticklabels(ax.get_xticklabels(), rotation=45, fontsize=15,\n",
    "                       horizontalalignment='right')\n",
    "\n",
    "    sns.move_legend(ax, \"upper left\", bbox_to_anchor=(1, 1))\n",
    "    ax.set_xlabel(\"\")\n",
    "    ax.set_ylabel(\"\")\n",
    "    ax.set_title(col, fontsize=20)\n",
    "    ax.tick_params(axis='y', labelsize=15)  # Adjust the labelsize parameter as needed\n",
    "    ax.grid(False)\n",
    "    ax.legend_.set_visible(False)\n",
    "    \n",
    "plt.subplots_adjust(wspace=0.2, hspace=0.8)  # Adjust the value as needed\n",
    "plt.suptitle('Stem cell dataset', size=25)"
   ]
  },
  {
   "cell_type": "code",
   "execution_count": null,
   "id": "6d00b11e",
   "metadata": {},
   "outputs": [],
   "source": []
  },
  {
   "cell_type": "code",
   "execution_count": null,
   "id": "9d78c949",
   "metadata": {},
   "outputs": [],
   "source": []
  }
 ],
 "metadata": {
  "kernelspec": {
   "display_name": "allcools",
   "language": "python",
   "name": "allcools"
  },
  "language_info": {
   "codemirror_mode": {
    "name": "ipython",
    "version": 3
   },
   "file_extension": ".py",
   "mimetype": "text/x-python",
   "name": "python",
   "nbconvert_exporter": "python",
   "pygments_lexer": "ipython3",
   "version": "3.7.13"
  }
 },
 "nbformat": 4,
 "nbformat_minor": 5
}
