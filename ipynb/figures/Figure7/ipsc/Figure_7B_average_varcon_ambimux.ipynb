{
 "cells": [
  {
   "cell_type": "code",
   "execution_count": 6,
   "id": "ed81533b",
   "metadata": {},
   "outputs": [],
   "source": [
    "import numpy as np\n",
    "import pandas as pd\n",
    "import matplotlib.pyplot as plt\n",
    "import seaborn as sns\n",
    "from scipy.io import mmread, mmwrite"
   ]
  },
  {
   "cell_type": "code",
   "execution_count": 7,
   "id": "6e41bc7f",
   "metadata": {},
   "outputs": [],
   "source": [
    "projdir = '/u/home/t/terencew/project-cluo/igvf/pilot/multiome/'\n",
    "donors = list(np.loadtxt(f'{projdir}/txt/donors.txt', dtype=str))\n",
    "samples = list(np.loadtxt(f'{projdir}/txt/samples.txt', dtype=str))[:2]\n",
    "s = samples[0]\n",
    "\n",
    "gex_methods = ['demuxlet', 'freemuxlet', 'vireo', 'vireo_nogenos',\n",
    "               'scsplit', 'scsplit_nogenos',\n",
    "            'souporcell', 'souporcell_nogenos', 'demuxalot', 'ambimux']\n",
    "atac_methods = ['demuxlet', 'freemuxlet', 'vireo', 'vireo_nogenos',\n",
    "               'scsplit', 'scsplit_nogenos',\n",
    "            'souporcell', 'souporcell_nogenos', 'scavengers', 'ambimux']\n",
    "\n",
    "con_cols = ['C1', 'C2', 'I1', 'I2']"
   ]
  },
  {
   "cell_type": "code",
   "execution_count": 9,
   "id": "b5b94826",
   "metadata": {},
   "outputs": [],
   "source": [
    "gex_sings = pd.read_csv(f'{projdir}/csv/demux/singlet_gex.csv', sep='\\t',\n",
    "                  header=0, index_col=0)\n",
    "atac_sings = pd.read_csv(f'{projdir}/csv/demux/singlet_atac.csv', sep='\\t',\n",
    "                   header=0, index_col=0)"
   ]
  },
  {
   "cell_type": "code",
   "execution_count": 22,
   "id": "03ad89ff",
   "metadata": {},
   "outputs": [],
   "source": []
  },
  {
   "cell_type": "code",
   "execution_count": 24,
   "id": "64e9f874",
   "metadata": {},
   "outputs": [
    {
     "data": {
      "text/plain": [
       "((30497, 12), (30497, 12))"
      ]
     },
     "execution_count": 24,
     "metadata": {},
     "output_type": "execute_result"
    }
   ],
   "source": [
    "gex_sings = pd.read_csv(f'{projdir}/csv/demux/singlet_gex.csv', sep='\\t',\n",
    "                  header=0, index_col=0)\n",
    "atac_sings = pd.read_csv(f'{projdir}/csv/demux/singlet_atac.csv', sep='\\t',\n",
    "                   header=0, index_col=0)\n",
    "\n",
    "ambimux = pd.read_csv(f'{projdir}/csv/demux/ambimux.csv', sep='\\t', header=0, index_col=0)\n",
    "d_mask = [':' in x for x in ambimux['best_sample']]\n",
    "ambimux.loc[d_mask, 'best_type'] = 'Doublet'\n",
    "ambimux['best_type'].replace({'Singlet' : 1,\n",
    "                             'Empty' : 0,\n",
    "                             'Doublet' : 0}, inplace=True)\n",
    "gex_sings['ambimux'] = ambimux['best_type']\n",
    "atac_sings['ambimux'] = ambimux['best_type']\n",
    "\n",
    "gex_sings.replace({'doublet' : 'non_singlet' , 'unassigned' : 'non_singlet'}, inplace=True)\n",
    "atac_sings.replace({'doublet' : 'non_singlet' , 'unassigned' : 'non_singlet'}, inplace=True)\n",
    "\n",
    "tmp_gex_sings = gex_sings.copy()\n",
    "tmp_atac_sings = atac_sings.copy()\n",
    "tmp_gex_sings['inter'] = gex_sings.eq(gex_sings.iloc[:, 0], axis=0).all(1)\n",
    "tmp_atac_sings['inter'] = atac_sings.eq(atac_sings.iloc[:, 0], axis=0).all(1)\n",
    "gex_sings['inter'] = tmp_gex_sings['inter']\n",
    "atac_sings['inter'] = tmp_atac_sings['inter']\n",
    "gex_sings.shape, atac_sings.shape"
   ]
  },
  {
   "cell_type": "code",
   "execution_count": 25,
   "id": "9c442785",
   "metadata": {
    "scrolled": true
   },
   "outputs": [
    {
     "data": {
      "text/html": [
       "<div>\n",
       "<style scoped>\n",
       "    .dataframe tbody tr th:only-of-type {\n",
       "        vertical-align: middle;\n",
       "    }\n",
       "\n",
       "    .dataframe tbody tr th {\n",
       "        vertical-align: top;\n",
       "    }\n",
       "\n",
       "    .dataframe thead th {\n",
       "        text-align: right;\n",
       "    }\n",
       "</style>\n",
       "<table border=\"1\" class=\"dataframe\">\n",
       "  <thead>\n",
       "    <tr style=\"text-align: right;\">\n",
       "      <th></th>\n",
       "      <th>demuxlet</th>\n",
       "      <th>freemuxlet</th>\n",
       "      <th>vireo</th>\n",
       "      <th>vireo_nogenos</th>\n",
       "      <th>souporcell</th>\n",
       "      <th>souporcell_nogenos</th>\n",
       "      <th>demuxalot</th>\n",
       "      <th>scsplit</th>\n",
       "      <th>scsplit_nogenos</th>\n",
       "      <th>ambimux</th>\n",
       "      <th>ambimux_gex</th>\n",
       "      <th>inter</th>\n",
       "    </tr>\n",
       "  </thead>\n",
       "  <tbody>\n",
       "    <tr>\n",
       "      <th>AAACAGCCAAGGTATA-1_20220928-IGVF-D0</th>\n",
       "      <td>1</td>\n",
       "      <td>1</td>\n",
       "      <td>1</td>\n",
       "      <td>1</td>\n",
       "      <td>1</td>\n",
       "      <td>1</td>\n",
       "      <td>1</td>\n",
       "      <td>1</td>\n",
       "      <td>1</td>\n",
       "      <td>1</td>\n",
       "      <td>1</td>\n",
       "      <td>True</td>\n",
       "    </tr>\n",
       "    <tr>\n",
       "      <th>AAACAGCCAATGCGCT-1_20220928-IGVF-D0</th>\n",
       "      <td>1</td>\n",
       "      <td>1</td>\n",
       "      <td>1</td>\n",
       "      <td>1</td>\n",
       "      <td>1</td>\n",
       "      <td>1</td>\n",
       "      <td>1</td>\n",
       "      <td>1</td>\n",
       "      <td>1</td>\n",
       "      <td>1</td>\n",
       "      <td>1</td>\n",
       "      <td>True</td>\n",
       "    </tr>\n",
       "    <tr>\n",
       "      <th>AAACAGCCAGCAAATA-1_20220928-IGVF-D0</th>\n",
       "      <td>1</td>\n",
       "      <td>1</td>\n",
       "      <td>1</td>\n",
       "      <td>1</td>\n",
       "      <td>1</td>\n",
       "      <td>1</td>\n",
       "      <td>1</td>\n",
       "      <td>1</td>\n",
       "      <td>1</td>\n",
       "      <td>1</td>\n",
       "      <td>1</td>\n",
       "      <td>True</td>\n",
       "    </tr>\n",
       "    <tr>\n",
       "      <th>AAACAGCCATTGTGAT-1_20220928-IGVF-D0</th>\n",
       "      <td>1</td>\n",
       "      <td>1</td>\n",
       "      <td>1</td>\n",
       "      <td>1</td>\n",
       "      <td>1</td>\n",
       "      <td>1</td>\n",
       "      <td>1</td>\n",
       "      <td>1</td>\n",
       "      <td>1</td>\n",
       "      <td>1</td>\n",
       "      <td>1</td>\n",
       "      <td>True</td>\n",
       "    </tr>\n",
       "    <tr>\n",
       "      <th>AAACATGCAAACATAG-1_20220928-IGVF-D0</th>\n",
       "      <td>1</td>\n",
       "      <td>1</td>\n",
       "      <td>1</td>\n",
       "      <td>1</td>\n",
       "      <td>1</td>\n",
       "      <td>1</td>\n",
       "      <td>1</td>\n",
       "      <td>1</td>\n",
       "      <td>1</td>\n",
       "      <td>1</td>\n",
       "      <td>1</td>\n",
       "      <td>True</td>\n",
       "    </tr>\n",
       "    <tr>\n",
       "      <th>...</th>\n",
       "      <td>...</td>\n",
       "      <td>...</td>\n",
       "      <td>...</td>\n",
       "      <td>...</td>\n",
       "      <td>...</td>\n",
       "      <td>...</td>\n",
       "      <td>...</td>\n",
       "      <td>...</td>\n",
       "      <td>...</td>\n",
       "      <td>...</td>\n",
       "      <td>...</td>\n",
       "      <td>...</td>\n",
       "    </tr>\n",
       "    <tr>\n",
       "      <th>TTTGTTGGTTCCAGGG-1_20220928-IGVF-D3</th>\n",
       "      <td>1</td>\n",
       "      <td>0</td>\n",
       "      <td>0</td>\n",
       "      <td>0</td>\n",
       "      <td>1</td>\n",
       "      <td>0</td>\n",
       "      <td>0</td>\n",
       "      <td>0</td>\n",
       "      <td>0</td>\n",
       "      <td>0</td>\n",
       "      <td>0</td>\n",
       "      <td>False</td>\n",
       "    </tr>\n",
       "    <tr>\n",
       "      <th>TTTGTTGGTTCCTGTG-1_20220928-IGVF-D3</th>\n",
       "      <td>0</td>\n",
       "      <td>1</td>\n",
       "      <td>1</td>\n",
       "      <td>1</td>\n",
       "      <td>1</td>\n",
       "      <td>1</td>\n",
       "      <td>1</td>\n",
       "      <td>1</td>\n",
       "      <td>1</td>\n",
       "      <td>1</td>\n",
       "      <td>1</td>\n",
       "      <td>False</td>\n",
       "    </tr>\n",
       "    <tr>\n",
       "      <th>TTTGTTGGTTGCCTCA-1_20220928-IGVF-D3</th>\n",
       "      <td>1</td>\n",
       "      <td>1</td>\n",
       "      <td>1</td>\n",
       "      <td>1</td>\n",
       "      <td>1</td>\n",
       "      <td>1</td>\n",
       "      <td>1</td>\n",
       "      <td>1</td>\n",
       "      <td>1</td>\n",
       "      <td>1</td>\n",
       "      <td>1</td>\n",
       "      <td>True</td>\n",
       "    </tr>\n",
       "    <tr>\n",
       "      <th>TTTGTTGGTTGGATAT-1_20220928-IGVF-D3</th>\n",
       "      <td>1</td>\n",
       "      <td>1</td>\n",
       "      <td>1</td>\n",
       "      <td>1</td>\n",
       "      <td>1</td>\n",
       "      <td>1</td>\n",
       "      <td>1</td>\n",
       "      <td>1</td>\n",
       "      <td>1</td>\n",
       "      <td>1</td>\n",
       "      <td>1</td>\n",
       "      <td>True</td>\n",
       "    </tr>\n",
       "    <tr>\n",
       "      <th>TTTGTTGGTTTGACCT-1_20220928-IGVF-D3</th>\n",
       "      <td>1</td>\n",
       "      <td>1</td>\n",
       "      <td>1</td>\n",
       "      <td>1</td>\n",
       "      <td>1</td>\n",
       "      <td>1</td>\n",
       "      <td>1</td>\n",
       "      <td>1</td>\n",
       "      <td>1</td>\n",
       "      <td>1</td>\n",
       "      <td>1</td>\n",
       "      <td>True</td>\n",
       "    </tr>\n",
       "  </tbody>\n",
       "</table>\n",
       "<p>30497 rows × 12 columns</p>\n",
       "</div>"
      ],
      "text/plain": [
       "                                     demuxlet  freemuxlet  vireo  \\\n",
       "AAACAGCCAAGGTATA-1_20220928-IGVF-D0         1           1      1   \n",
       "AAACAGCCAATGCGCT-1_20220928-IGVF-D0         1           1      1   \n",
       "AAACAGCCAGCAAATA-1_20220928-IGVF-D0         1           1      1   \n",
       "AAACAGCCATTGTGAT-1_20220928-IGVF-D0         1           1      1   \n",
       "AAACATGCAAACATAG-1_20220928-IGVF-D0         1           1      1   \n",
       "...                                       ...         ...    ...   \n",
       "TTTGTTGGTTCCAGGG-1_20220928-IGVF-D3         1           0      0   \n",
       "TTTGTTGGTTCCTGTG-1_20220928-IGVF-D3         0           1      1   \n",
       "TTTGTTGGTTGCCTCA-1_20220928-IGVF-D3         1           1      1   \n",
       "TTTGTTGGTTGGATAT-1_20220928-IGVF-D3         1           1      1   \n",
       "TTTGTTGGTTTGACCT-1_20220928-IGVF-D3         1           1      1   \n",
       "\n",
       "                                     vireo_nogenos  souporcell  \\\n",
       "AAACAGCCAAGGTATA-1_20220928-IGVF-D0              1           1   \n",
       "AAACAGCCAATGCGCT-1_20220928-IGVF-D0              1           1   \n",
       "AAACAGCCAGCAAATA-1_20220928-IGVF-D0              1           1   \n",
       "AAACAGCCATTGTGAT-1_20220928-IGVF-D0              1           1   \n",
       "AAACATGCAAACATAG-1_20220928-IGVF-D0              1           1   \n",
       "...                                            ...         ...   \n",
       "TTTGTTGGTTCCAGGG-1_20220928-IGVF-D3              0           1   \n",
       "TTTGTTGGTTCCTGTG-1_20220928-IGVF-D3              1           1   \n",
       "TTTGTTGGTTGCCTCA-1_20220928-IGVF-D3              1           1   \n",
       "TTTGTTGGTTGGATAT-1_20220928-IGVF-D3              1           1   \n",
       "TTTGTTGGTTTGACCT-1_20220928-IGVF-D3              1           1   \n",
       "\n",
       "                                     souporcell_nogenos  demuxalot  scsplit  \\\n",
       "AAACAGCCAAGGTATA-1_20220928-IGVF-D0                   1          1        1   \n",
       "AAACAGCCAATGCGCT-1_20220928-IGVF-D0                   1          1        1   \n",
       "AAACAGCCAGCAAATA-1_20220928-IGVF-D0                   1          1        1   \n",
       "AAACAGCCATTGTGAT-1_20220928-IGVF-D0                   1          1        1   \n",
       "AAACATGCAAACATAG-1_20220928-IGVF-D0                   1          1        1   \n",
       "...                                                 ...        ...      ...   \n",
       "TTTGTTGGTTCCAGGG-1_20220928-IGVF-D3                   0          0        0   \n",
       "TTTGTTGGTTCCTGTG-1_20220928-IGVF-D3                   1          1        1   \n",
       "TTTGTTGGTTGCCTCA-1_20220928-IGVF-D3                   1          1        1   \n",
       "TTTGTTGGTTGGATAT-1_20220928-IGVF-D3                   1          1        1   \n",
       "TTTGTTGGTTTGACCT-1_20220928-IGVF-D3                   1          1        1   \n",
       "\n",
       "                                     scsplit_nogenos  ambimux  ambimux_gex  \\\n",
       "AAACAGCCAAGGTATA-1_20220928-IGVF-D0                1        1            1   \n",
       "AAACAGCCAATGCGCT-1_20220928-IGVF-D0                1        1            1   \n",
       "AAACAGCCAGCAAATA-1_20220928-IGVF-D0                1        1            1   \n",
       "AAACAGCCATTGTGAT-1_20220928-IGVF-D0                1        1            1   \n",
       "AAACATGCAAACATAG-1_20220928-IGVF-D0                1        1            1   \n",
       "...                                              ...      ...          ...   \n",
       "TTTGTTGGTTCCAGGG-1_20220928-IGVF-D3                0        0            0   \n",
       "TTTGTTGGTTCCTGTG-1_20220928-IGVF-D3                1        1            1   \n",
       "TTTGTTGGTTGCCTCA-1_20220928-IGVF-D3                1        1            1   \n",
       "TTTGTTGGTTGGATAT-1_20220928-IGVF-D3                1        1            1   \n",
       "TTTGTTGGTTTGACCT-1_20220928-IGVF-D3                1        1            1   \n",
       "\n",
       "                                     inter  \n",
       "AAACAGCCAAGGTATA-1_20220928-IGVF-D0   True  \n",
       "AAACAGCCAATGCGCT-1_20220928-IGVF-D0   True  \n",
       "AAACAGCCAGCAAATA-1_20220928-IGVF-D0   True  \n",
       "AAACAGCCATTGTGAT-1_20220928-IGVF-D0   True  \n",
       "AAACATGCAAACATAG-1_20220928-IGVF-D0   True  \n",
       "...                                    ...  \n",
       "TTTGTTGGTTCCAGGG-1_20220928-IGVF-D3  False  \n",
       "TTTGTTGGTTCCTGTG-1_20220928-IGVF-D3  False  \n",
       "TTTGTTGGTTGCCTCA-1_20220928-IGVF-D3   True  \n",
       "TTTGTTGGTTGGATAT-1_20220928-IGVF-D3   True  \n",
       "TTTGTTGGTTTGACCT-1_20220928-IGVF-D3   True  \n",
       "\n",
       "[30497 rows x 12 columns]"
      ]
     },
     "execution_count": 25,
     "metadata": {},
     "output_type": "execute_result"
    }
   ],
   "source": [
    "gex_sings"
   ]
  },
  {
   "cell_type": "code",
   "execution_count": 26,
   "id": "42805eee",
   "metadata": {},
   "outputs": [],
   "source": [
    "tmp_gex_sings = gex_sings.iloc[:,:-1]\n",
    "tmp_gex_sings.columns = [f'gex_{x}' for x in tmp_gex_sings.columns]\n",
    "tmp_atac_sings = atac_sings.iloc[:,:-1]\n",
    "tmp_atac_sings.columns = [f'atac_{x}' for x in tmp_atac_sings.columns]\n",
    " \n",
    "merged_sings = pd.concat([tmp_gex_sings, tmp_atac_sings], axis=1)\n",
    "merged_sings['inter'] = merged_sings.eq(merged_sings.iloc[:, 0], axis=0).all(1)"
   ]
  },
  {
   "cell_type": "code",
   "execution_count": 27,
   "id": "1e2a78e8",
   "metadata": {},
   "outputs": [
    {
     "data": {
      "text/plain": [
       "(18543, 20460, 14895)"
      ]
     },
     "execution_count": 27,
     "metadata": {},
     "output_type": "execute_result"
    }
   ],
   "source": [
    "sum(gex_sings['inter']), sum(atac_sings['inter']), sum(merged_sings['inter'])"
   ]
  },
  {
   "cell_type": "code",
   "execution_count": 28,
   "id": "f00192d0",
   "metadata": {},
   "outputs": [
    {
     "data": {
      "text/plain": [
       "((30497, 9), (30497, 9))"
      ]
     },
     "execution_count": 28,
     "metadata": {},
     "output_type": "execute_result"
    }
   ],
   "source": [
    "gex = pd.read_csv(f'{projdir}/csv/demux/inter_gex.csv', sep='\\t',\n",
    "                  header=0, index_col=0)\n",
    "atac = pd.read_csv(f'{projdir}/csv/demux/inter_atac.csv', sep='\\t',\n",
    "                   header=0, index_col=0)\n",
    "gex.replace({'doublet' : 'non_singlet' , 'unassigned' : 'non_singlet'}, inplace=True)\n",
    "atac.replace({'doublet' : 'non_singlet' , 'unassigned' : 'non_singlet'}, inplace=True)\n",
    "\n",
    "gex.shape, atac.shape"
   ]
  },
  {
   "cell_type": "code",
   "execution_count": 29,
   "id": "3216298b",
   "metadata": {},
   "outputs": [],
   "source": [
    "ambimux = pd.read_csv(f'{projdir}/csv/demux/ambimux.csv', sep='\\t', header=0, index_col=0)\n",
    "gex['ambimux'] = ambimux['best_sample']\n",
    "atac['ambimux'] = ambimux['best_sample']"
   ]
  },
  {
   "cell_type": "code",
   "execution_count": 30,
   "id": "8843b0be",
   "metadata": {},
   "outputs": [
    {
     "data": {
      "text/plain": [
       "((30497, 11), (30497, 11))"
      ]
     },
     "execution_count": 30,
     "metadata": {},
     "output_type": "execute_result"
    }
   ],
   "source": [
    "tmp_gex = gex.copy()\n",
    "tmp_atac = atac.copy()\n",
    "tmp_gex['inter'] = gex.eq(gex.iloc[:, 0], axis=0).all(1)\n",
    "tmp_atac['inter'] = atac.eq(atac.iloc[:, 0], axis=0).all(1)\n",
    "# tmp_gex['majority'] = gex.mode(axis=1)[0]\n",
    "# tmp_atac['majority'] = atac.mode(axis=1)[0]\n",
    "\n",
    "# gex['majority'] = tmp_gex['majority']\n",
    "# atac['majority'] = tmp_atac['majority']\n",
    "\n",
    "gex['inter'] = tmp_gex['inter']\n",
    "atac['inter'] = tmp_atac['inter']\n",
    "\n",
    "# gex_inter = pd.DataFrame(tmp_gex[tmp_gex['inter']]['demuxlet'])\n",
    "# gex_inter.columns = ['inter']\n",
    "\n",
    "# atac_inter = pd.DataFrame(tmp_atac[tmp_atac['inter']]['demuxlet'])\n",
    "# atac_inter.columns = ['inter']\n",
    "\n",
    "gex.shape, atac.shape"
   ]
  },
  {
   "cell_type": "code",
   "execution_count": 31,
   "id": "0ae77029",
   "metadata": {},
   "outputs": [],
   "source": [
    "tmp_gex = gex.iloc[:,:-1]\n",
    "tmp_gex.columns = [f'gex_{x}' for x in tmp_gex.columns]\n",
    "tmp_atac = atac.iloc[:,:-1]\n",
    "tmp_atac.columns = [f'atac_{x}' for x in tmp_atac.columns]\n",
    " \n",
    "merged = pd.concat([tmp_gex, tmp_atac], axis=1)\n",
    "merged['inter'] = merged.eq(merged.iloc[:, 0], axis=0).all(1)"
   ]
  },
  {
   "cell_type": "code",
   "execution_count": 32,
   "id": "b4e10204",
   "metadata": {},
   "outputs": [
    {
     "data": {
      "text/plain": [
       "(16841, 20377, 14655)"
      ]
     },
     "execution_count": 32,
     "metadata": {},
     "output_type": "execute_result"
    }
   ],
   "source": [
    "sum(gex['inter']), sum(atac['inter']), sum(merged['inter'])"
   ]
  },
  {
   "cell_type": "code",
   "execution_count": 33,
   "id": "f28f656c",
   "metadata": {},
   "outputs": [
    {
     "name": "stderr",
     "output_type": "stream",
     "text": [
      "/u/home/t/terencew/project-cluo/miniconda3/envs/allcools/lib/python3.7/site-packages/ipykernel_launcher.py:9: SettingWithCopyWarning: \n",
      "A value is trying to be set on a copy of a slice from a DataFrame.\n",
      "Try using .loc[row_indexer,col_indexer] = value instead\n",
      "\n",
      "See the caveats in the documentation: https://pandas.pydata.org/pandas-docs/stable/user_guide/indexing.html#returning-a-view-versus-a-copy\n",
      "  if __name__ == '__main__':\n"
     ]
    },
    {
     "data": {
      "text/plain": [
       "((13656, 11), (10120, 11), (15842, 12))"
      ]
     },
     "execution_count": 33,
     "metadata": {},
     "output_type": "execute_result"
    }
   ],
   "source": [
    "gex_mask = ~gex['inter']\n",
    "unique_gex = gex[gex_mask]\n",
    "\n",
    "atac_mask = ~atac['inter']\n",
    "unique_atac = atac[atac_mask]\n",
    "\n",
    "all_mask = ~merged['inter']\n",
    "unique_all = gex[all_mask]\n",
    "unique_all['scavengers'] = merged['atac_scavengers']\n",
    "unique_gex.shape, unique_atac.shape, unique_all.shape"
   ]
  },
  {
   "cell_type": "code",
   "execution_count": 34,
   "id": "c5a50174",
   "metadata": {},
   "outputs": [],
   "source": [
    "def process_con(con):\n",
    "    con['DP'] = np.sum(con.iloc[:,:4], axis=1)\n",
    "    con['Consistent rate'] = (con['C1'] + con['C2']) / con['DP']\n",
    "    con['Inconsistent rate'] = 1 - con['Consistent rate']\n",
    "    con['C1 rate'] = con['C1'] / con['DP']\n",
    "    con['C2 rate'] = con['C2'] / con['DP']\n",
    "    con['I1 rate'] = con['I1'] / con['DP']\n",
    "    con['I2 rate'] = con['I2'] / con['DP']\n",
    "    return con"
   ]
  },
  {
   "cell_type": "code",
   "execution_count": 35,
   "id": "0dcb8fdb",
   "metadata": {},
   "outputs": [],
   "source": [
    "final_con_cols = ['C1', 'C2', 'I1', 'I2', 'DP',\n",
    "                  'Consistent rate', 'Inconsistent rate',\n",
    "                   'C1 rate', 'C2 rate', 'I1 rate', 'I2 rate']"
   ]
  },
  {
   "cell_type": "code",
   "execution_count": 36,
   "id": "06be97a1",
   "metadata": {
    "scrolled": true
   },
   "outputs": [
    {
     "name": "stdout",
     "output_type": "stream",
     "text": [
      "demuxlet 6753\n",
      "freemuxlet 13517\n",
      "vireo 7513\n",
      "vireo_nogenos 8694\n",
      "scsplit 9047\n",
      "scsplit_nogenos 9401\n",
      "souporcell 9483\n",
      "souporcell_nogenos 10278\n",
      "demuxalot 5329\n",
      "ambimux 15842\n"
     ]
    }
   ],
   "source": [
    "tmp_cols = con_cols + ['n_drops']\n",
    "cov = 20\n",
    "condir = f'{projdir}/csv/var_consistency/real/gex/merged/'\n",
    "all_con_gex = pd.DataFrame(index=gex_methods, columns=tmp_cols, data=0)\n",
    "for method in gex_methods:\n",
    "    mask = unique_all[method] != 'non_singlet'\n",
    "    method_con = pd.read_csv(f'{condir}/{method}_cov{cov}_varcon.csv', sep='\\t', header=0, index_col=0)\n",
    "    method_gex = unique_all[mask]\n",
    "    mask = method_con.index.isin(method_gex.index)\n",
    "    method_con = method_con[mask]\n",
    "    method_con = pd.DataFrame(method_con.sum(axis=0)[:4]).transpose()\n",
    "    all_con_gex.loc[method] = list(method_con.iloc[0]) + [method_gex.shape[0]]\n",
    "    print(method, method_gex.shape[0])\n",
    "all_con_gex['method'] = all_con_gex.index"
   ]
  },
  {
   "cell_type": "code",
   "execution_count": 37,
   "id": "ca39b2de",
   "metadata": {},
   "outputs": [
    {
     "name": "stdout",
     "output_type": "stream",
     "text": [
      "demuxlet 6753\n",
      "freemuxlet 13517\n",
      "vireo 7513\n",
      "vireo_nogenos 8694\n",
      "scsplit 9047\n",
      "scsplit_nogenos 9401\n",
      "souporcell 9483\n",
      "souporcell_nogenos 10278\n",
      "scavengers 10595\n",
      "ambimux 15842\n"
     ]
    }
   ],
   "source": [
    "tmp_cols = con_cols + ['n_drops']\n",
    "cov = 20\n",
    "condir = f'{projdir}/csv/var_consistency/real/atac/merged/'\n",
    "all_con_atac = pd.DataFrame(index=atac_methods, columns=tmp_cols, data=0)\n",
    "for method in atac_methods:\n",
    "    mask = unique_all[method] != 'non_singlet'\n",
    "    method_con = pd.read_csv(f'{condir}/{method}_cov{cov}_varcon.csv', sep='\\t', header=0, index_col=0)\n",
    "    method_atac = unique_all[mask]\n",
    "    mask = method_con.index.isin(method_atac.index)\n",
    "    method_con = method_con[mask]\n",
    "    method_con = pd.DataFrame(method_con.sum(axis=0)[:4]).transpose()\n",
    "    all_con_atac.loc[method] = list(method_con.iloc[0]) + [method_atac.shape[0]]\n",
    "    print(method, method_atac.shape[0])\n",
    "all_con_atac['method'] = all_con_atac.index"
   ]
  },
  {
   "cell_type": "code",
   "execution_count": 38,
   "id": "01fb8e99",
   "metadata": {},
   "outputs": [],
   "source": [
    "### this is for unique_gex\n",
    "# ### this is just singlets called by that method, I think this is fine!\n",
    "\n",
    "# tmp_cols = con_cols + ['n_drops']\n",
    "# cov = 20\n",
    "# condir = f'{projdir}/csv/var_consistency/real/gex/{s}/'\n",
    "# all_con_gex = pd.DataFrame(index=gex_methods, columns=tmp_cols, data=0)\n",
    "# for method in gex_methods:\n",
    "#     mask = unique_gex[method] != 'non_singlet'\n",
    "#     method_con = pd.read_csv(f'{condir}/{method}_cov{cov}_varcon.csv', sep='\\t', header=0, index_col=0)\n",
    "#     method_gex = unique_gex[mask]\n",
    "#     mask = method_con.index.isin(method_gex.index)\n",
    "#     method_con = method_con[mask]\n",
    "#     method_con = pd.DataFrame(method_con.sum(axis=0)[:4]).transpose()\n",
    "#     all_con_gex.loc[method] = list(method_con.iloc[0]) + [method_gex.shape[0]]\n",
    "    \n",
    "# test_con_gex = all_con_gex.iloc[:,:4].div(all_con_gex['n_drops'], axis=0)\n",
    "# test_con_gex = process_con(test_con_gex)\n",
    "# test_con_gex"
   ]
  },
  {
   "cell_type": "code",
   "execution_count": 39,
   "id": "217e5343",
   "metadata": {},
   "outputs": [],
   "source": [
    "### unique_atac\n",
    "# ### this is just singlets called by that method, I think this is fine!\n",
    "\n",
    "# tmp_cols = con_cols + ['n_drops']\n",
    "# cov = 20\n",
    "# condir = f'{projdir}/csv/var_consistency/real/atac/{s}/'\n",
    "# all_con_atac = pd.DataFrame(index=atac_methods, columns=tmp_cols, data=0)\n",
    "# for method in atac_methods:\n",
    "#     mask = unique_atac[method] != 'non_singlet'\n",
    "#     method_con = pd.read_csv(f'{condir}/{method}_cov{cov}_varcon.csv', sep='\\t', header=0, index_col=0)\n",
    "#     method_atac = unique_atac[mask]\n",
    "#     mask = method_con.index.isin(method_atac.index)\n",
    "#     method_con = method_con[mask]\n",
    "#     method_con = pd.DataFrame(method_con.sum(axis=0)[:4]).transpose()\n",
    "#     all_con_atac.loc[method] = list(method_con.iloc[0]) + [method_atac.shape[0]]\n",
    "\n",
    "    \n",
    "# test_con_atac = all_con_atac.iloc[:,:4].div(all_con_atac['n_drops'], axis=0)\n",
    "# test_con_atac = process_con(test_con_atac)\n",
    "# test_con_atac"
   ]
  },
  {
   "cell_type": "code",
   "execution_count": 40,
   "id": "034916c8",
   "metadata": {},
   "outputs": [
    {
     "data": {
      "text/html": [
       "<div>\n",
       "<style scoped>\n",
       "    .dataframe tbody tr th:only-of-type {\n",
       "        vertical-align: middle;\n",
       "    }\n",
       "\n",
       "    .dataframe tbody tr th {\n",
       "        vertical-align: top;\n",
       "    }\n",
       "\n",
       "    .dataframe thead th {\n",
       "        text-align: right;\n",
       "    }\n",
       "</style>\n",
       "<table border=\"1\" class=\"dataframe\">\n",
       "  <thead>\n",
       "    <tr style=\"text-align: right;\">\n",
       "      <th></th>\n",
       "      <th>C1</th>\n",
       "      <th>C2</th>\n",
       "      <th>I1</th>\n",
       "      <th>I2</th>\n",
       "      <th>DP</th>\n",
       "      <th>Consistent rate</th>\n",
       "      <th>Inconsistent rate</th>\n",
       "      <th>C1 rate</th>\n",
       "      <th>C2 rate</th>\n",
       "      <th>I1 rate</th>\n",
       "      <th>I2 rate</th>\n",
       "    </tr>\n",
       "  </thead>\n",
       "  <tbody>\n",
       "    <tr>\n",
       "      <th>demuxlet</th>\n",
       "      <td>32.872501</td>\n",
       "      <td>633.913520</td>\n",
       "      <td>33.858581</td>\n",
       "      <td>3.093440</td>\n",
       "      <td>703.738042</td>\n",
       "      <td>0.947492</td>\n",
       "      <td>0.052508</td>\n",
       "      <td>0.046711</td>\n",
       "      <td>0.900781</td>\n",
       "      <td>0.048112</td>\n",
       "      <td>0.004396</td>\n",
       "    </tr>\n",
       "    <tr>\n",
       "      <th>freemuxlet</th>\n",
       "      <td>40.943257</td>\n",
       "      <td>967.108382</td>\n",
       "      <td>98.382555</td>\n",
       "      <td>6.225568</td>\n",
       "      <td>1112.659762</td>\n",
       "      <td>0.905984</td>\n",
       "      <td>0.094016</td>\n",
       "      <td>0.036798</td>\n",
       "      <td>0.869186</td>\n",
       "      <td>0.088421</td>\n",
       "      <td>0.005595</td>\n",
       "    </tr>\n",
       "    <tr>\n",
       "      <th>vireo</th>\n",
       "      <td>39.118994</td>\n",
       "      <td>766.057367</td>\n",
       "      <td>42.655930</td>\n",
       "      <td>3.835884</td>\n",
       "      <td>851.668175</td>\n",
       "      <td>0.945411</td>\n",
       "      <td>0.054589</td>\n",
       "      <td>0.045932</td>\n",
       "      <td>0.899479</td>\n",
       "      <td>0.050085</td>\n",
       "      <td>0.004504</td>\n",
       "    </tr>\n",
       "    <tr>\n",
       "      <th>vireo_nogenos</th>\n",
       "      <td>40.102369</td>\n",
       "      <td>823.900966</td>\n",
       "      <td>54.722567</td>\n",
       "      <td>4.428686</td>\n",
       "      <td>923.154589</td>\n",
       "      <td>0.935925</td>\n",
       "      <td>0.064075</td>\n",
       "      <td>0.043441</td>\n",
       "      <td>0.892484</td>\n",
       "      <td>0.059278</td>\n",
       "      <td>0.004797</td>\n",
       "    </tr>\n",
       "    <tr>\n",
       "      <th>scsplit</th>\n",
       "      <td>32.397259</td>\n",
       "      <td>917.231458</td>\n",
       "      <td>118.287388</td>\n",
       "      <td>6.525036</td>\n",
       "      <td>1074.441141</td>\n",
       "      <td>0.883835</td>\n",
       "      <td>0.116165</td>\n",
       "      <td>0.030153</td>\n",
       "      <td>0.853682</td>\n",
       "      <td>0.110092</td>\n",
       "      <td>0.006073</td>\n",
       "    </tr>\n",
       "    <tr>\n",
       "      <th>scsplit_nogenos</th>\n",
       "      <td>37.385065</td>\n",
       "      <td>935.454207</td>\n",
       "      <td>95.630146</td>\n",
       "      <td>6.164344</td>\n",
       "      <td>1074.633762</td>\n",
       "      <td>0.905275</td>\n",
       "      <td>0.094725</td>\n",
       "      <td>0.034789</td>\n",
       "      <td>0.870487</td>\n",
       "      <td>0.088989</td>\n",
       "      <td>0.005736</td>\n",
       "    </tr>\n",
       "    <tr>\n",
       "      <th>souporcell</th>\n",
       "      <td>41.371191</td>\n",
       "      <td>971.537066</td>\n",
       "      <td>84.525783</td>\n",
       "      <td>6.070442</td>\n",
       "      <td>1103.504482</td>\n",
       "      <td>0.917901</td>\n",
       "      <td>0.082099</td>\n",
       "      <td>0.037491</td>\n",
       "      <td>0.880411</td>\n",
       "      <td>0.076598</td>\n",
       "      <td>0.005501</td>\n",
       "    </tr>\n",
       "    <tr>\n",
       "      <th>souporcell_nogenos</th>\n",
       "      <td>38.775151</td>\n",
       "      <td>870.696536</td>\n",
       "      <td>72.129013</td>\n",
       "      <td>5.165013</td>\n",
       "      <td>986.765713</td>\n",
       "      <td>0.921669</td>\n",
       "      <td>0.078331</td>\n",
       "      <td>0.039295</td>\n",
       "      <td>0.882374</td>\n",
       "      <td>0.073096</td>\n",
       "      <td>0.005234</td>\n",
       "    </tr>\n",
       "    <tr>\n",
       "      <th>demuxalot</th>\n",
       "      <td>31.422406</td>\n",
       "      <td>582.695252</td>\n",
       "      <td>21.536311</td>\n",
       "      <td>2.695252</td>\n",
       "      <td>638.349221</td>\n",
       "      <td>0.962040</td>\n",
       "      <td>0.037960</td>\n",
       "      <td>0.049224</td>\n",
       "      <td>0.912816</td>\n",
       "      <td>0.033738</td>\n",
       "      <td>0.004222</td>\n",
       "    </tr>\n",
       "    <tr>\n",
       "      <th>ambimux</th>\n",
       "      <td>20.346105</td>\n",
       "      <td>428.221942</td>\n",
       "      <td>31.792577</td>\n",
       "      <td>2.504608</td>\n",
       "      <td>482.865232</td>\n",
       "      <td>0.928972</td>\n",
       "      <td>0.071028</td>\n",
       "      <td>0.042136</td>\n",
       "      <td>0.886835</td>\n",
       "      <td>0.065842</td>\n",
       "      <td>0.005187</td>\n",
       "    </tr>\n",
       "  </tbody>\n",
       "</table>\n",
       "</div>"
      ],
      "text/plain": [
       "                           C1          C2          I1        I2           DP  \\\n",
       "demuxlet            32.872501  633.913520   33.858581  3.093440   703.738042   \n",
       "freemuxlet          40.943257  967.108382   98.382555  6.225568  1112.659762   \n",
       "vireo               39.118994  766.057367   42.655930  3.835884   851.668175   \n",
       "vireo_nogenos       40.102369  823.900966   54.722567  4.428686   923.154589   \n",
       "scsplit             32.397259  917.231458  118.287388  6.525036  1074.441141   \n",
       "scsplit_nogenos     37.385065  935.454207   95.630146  6.164344  1074.633762   \n",
       "souporcell          41.371191  971.537066   84.525783  6.070442  1103.504482   \n",
       "souporcell_nogenos  38.775151  870.696536   72.129013  5.165013   986.765713   \n",
       "demuxalot           31.422406  582.695252   21.536311  2.695252   638.349221   \n",
       "ambimux             20.346105  428.221942   31.792577  2.504608   482.865232   \n",
       "\n",
       "                    Consistent rate  Inconsistent rate   C1 rate   C2 rate  \\\n",
       "demuxlet                   0.947492           0.052508  0.046711  0.900781   \n",
       "freemuxlet                 0.905984           0.094016  0.036798  0.869186   \n",
       "vireo                      0.945411           0.054589  0.045932  0.899479   \n",
       "vireo_nogenos              0.935925           0.064075  0.043441  0.892484   \n",
       "scsplit                    0.883835           0.116165  0.030153  0.853682   \n",
       "scsplit_nogenos            0.905275           0.094725  0.034789  0.870487   \n",
       "souporcell                 0.917901           0.082099  0.037491  0.880411   \n",
       "souporcell_nogenos         0.921669           0.078331  0.039295  0.882374   \n",
       "demuxalot                  0.962040           0.037960  0.049224  0.912816   \n",
       "ambimux                    0.928972           0.071028  0.042136  0.886835   \n",
       "\n",
       "                     I1 rate   I2 rate  \n",
       "demuxlet            0.048112  0.004396  \n",
       "freemuxlet          0.088421  0.005595  \n",
       "vireo               0.050085  0.004504  \n",
       "vireo_nogenos       0.059278  0.004797  \n",
       "scsplit             0.110092  0.006073  \n",
       "scsplit_nogenos     0.088989  0.005736  \n",
       "souporcell          0.076598  0.005501  \n",
       "souporcell_nogenos  0.073096  0.005234  \n",
       "demuxalot           0.033738  0.004222  \n",
       "ambimux             0.065842  0.005187  "
      ]
     },
     "execution_count": 40,
     "metadata": {},
     "output_type": "execute_result"
    }
   ],
   "source": [
    "## unique_all\n",
    "### this is just singlets called by that method, I think this is fine!\n",
    "\n",
    "tmp_cols = con_cols + ['n_drops']\n",
    "cov = 20\n",
    "condir = f'{projdir}/csv/var_consistency/real/gex/merged/'\n",
    "all_con_gex = pd.DataFrame(index=gex_methods, columns=tmp_cols, data=0)\n",
    "for method in gex_methods:\n",
    "    mask = unique_all[method] != 'non_singlet'\n",
    "    method_con = pd.read_csv(f'{condir}/{method}_cov{cov}_varcon.csv', sep='\\t', header=0, index_col=0)\n",
    "    method_gex = unique_all[mask]\n",
    "    mask = method_con.index.isin(method_gex.index)\n",
    "    method_con = method_con[mask]\n",
    "    method_con = pd.DataFrame(method_con.sum(axis=0)[:4]).transpose()\n",
    "    all_con_gex.loc[method] = list(method_con.iloc[0]) + [method_gex.shape[0]]\n",
    "\n",
    "    \n",
    "test_con_gex = all_con_gex.iloc[:,:4].div(all_con_gex['n_drops'], axis=0)\n",
    "test_con_gex = process_con(test_con_gex)\n",
    "test_con_gex"
   ]
  },
  {
   "cell_type": "code",
   "execution_count": 41,
   "id": "3a682c04",
   "metadata": {},
   "outputs": [
    {
     "data": {
      "text/html": [
       "<div>\n",
       "<style scoped>\n",
       "    .dataframe tbody tr th:only-of-type {\n",
       "        vertical-align: middle;\n",
       "    }\n",
       "\n",
       "    .dataframe tbody tr th {\n",
       "        vertical-align: top;\n",
       "    }\n",
       "\n",
       "    .dataframe thead th {\n",
       "        text-align: right;\n",
       "    }\n",
       "</style>\n",
       "<table border=\"1\" class=\"dataframe\">\n",
       "  <thead>\n",
       "    <tr style=\"text-align: right;\">\n",
       "      <th></th>\n",
       "      <th>C1</th>\n",
       "      <th>C2</th>\n",
       "      <th>I1</th>\n",
       "      <th>I2</th>\n",
       "      <th>DP</th>\n",
       "      <th>Consistent rate</th>\n",
       "      <th>Inconsistent rate</th>\n",
       "      <th>C1 rate</th>\n",
       "      <th>C2 rate</th>\n",
       "      <th>I1 rate</th>\n",
       "      <th>I2 rate</th>\n",
       "    </tr>\n",
       "  </thead>\n",
       "  <tbody>\n",
       "    <tr>\n",
       "      <th>demuxlet</th>\n",
       "      <td>73.409596</td>\n",
       "      <td>1197.815489</td>\n",
       "      <td>27.924626</td>\n",
       "      <td>2.369021</td>\n",
       "      <td>1301.518732</td>\n",
       "      <td>0.976724</td>\n",
       "      <td>0.023276</td>\n",
       "      <td>0.056403</td>\n",
       "      <td>0.920321</td>\n",
       "      <td>0.021455</td>\n",
       "      <td>0.001820</td>\n",
       "    </tr>\n",
       "    <tr>\n",
       "      <th>freemuxlet</th>\n",
       "      <td>117.506029</td>\n",
       "      <td>2433.348524</td>\n",
       "      <td>207.604202</td>\n",
       "      <td>7.099208</td>\n",
       "      <td>2765.557964</td>\n",
       "      <td>0.922365</td>\n",
       "      <td>0.077635</td>\n",
       "      <td>0.042489</td>\n",
       "      <td>0.879876</td>\n",
       "      <td>0.075068</td>\n",
       "      <td>0.002567</td>\n",
       "    </tr>\n",
       "    <tr>\n",
       "      <th>vireo</th>\n",
       "      <td>87.061893</td>\n",
       "      <td>1514.082657</td>\n",
       "      <td>50.143884</td>\n",
       "      <td>3.283375</td>\n",
       "      <td>1654.571809</td>\n",
       "      <td>0.967709</td>\n",
       "      <td>0.032291</td>\n",
       "      <td>0.052619</td>\n",
       "      <td>0.915090</td>\n",
       "      <td>0.030306</td>\n",
       "      <td>0.001984</td>\n",
       "    </tr>\n",
       "    <tr>\n",
       "      <th>vireo_nogenos</th>\n",
       "      <td>93.807453</td>\n",
       "      <td>1698.081435</td>\n",
       "      <td>74.613182</td>\n",
       "      <td>4.028525</td>\n",
       "      <td>1870.530596</td>\n",
       "      <td>0.957958</td>\n",
       "      <td>0.042042</td>\n",
       "      <td>0.050150</td>\n",
       "      <td>0.907807</td>\n",
       "      <td>0.039889</td>\n",
       "      <td>0.002154</td>\n",
       "    </tr>\n",
       "    <tr>\n",
       "      <th>scsplit</th>\n",
       "      <td>87.793965</td>\n",
       "      <td>1771.354151</td>\n",
       "      <td>131.781032</td>\n",
       "      <td>5.069968</td>\n",
       "      <td>1995.999116</td>\n",
       "      <td>0.931437</td>\n",
       "      <td>0.068563</td>\n",
       "      <td>0.043985</td>\n",
       "      <td>0.887452</td>\n",
       "      <td>0.066023</td>\n",
       "      <td>0.002540</td>\n",
       "    </tr>\n",
       "    <tr>\n",
       "      <th>scsplit_nogenos</th>\n",
       "      <td>79.719498</td>\n",
       "      <td>1483.661738</td>\n",
       "      <td>93.372088</td>\n",
       "      <td>3.944580</td>\n",
       "      <td>1660.697904</td>\n",
       "      <td>0.941400</td>\n",
       "      <td>0.058600</td>\n",
       "      <td>0.048004</td>\n",
       "      <td>0.893397</td>\n",
       "      <td>0.056225</td>\n",
       "      <td>0.002375</td>\n",
       "    </tr>\n",
       "    <tr>\n",
       "      <th>souporcell</th>\n",
       "      <td>99.060529</td>\n",
       "      <td>1913.811979</td>\n",
       "      <td>117.652536</td>\n",
       "      <td>5.484973</td>\n",
       "      <td>2136.010018</td>\n",
       "      <td>0.942352</td>\n",
       "      <td>0.057648</td>\n",
       "      <td>0.046376</td>\n",
       "      <td>0.895975</td>\n",
       "      <td>0.055081</td>\n",
       "      <td>0.002568</td>\n",
       "    </tr>\n",
       "    <tr>\n",
       "      <th>souporcell_nogenos</th>\n",
       "      <td>93.052831</td>\n",
       "      <td>1747.753259</td>\n",
       "      <td>96.640008</td>\n",
       "      <td>4.637478</td>\n",
       "      <td>1942.083577</td>\n",
       "      <td>0.947851</td>\n",
       "      <td>0.052149</td>\n",
       "      <td>0.047914</td>\n",
       "      <td>0.899937</td>\n",
       "      <td>0.049761</td>\n",
       "      <td>0.002388</td>\n",
       "    </tr>\n",
       "    <tr>\n",
       "      <th>scavengers</th>\n",
       "      <td>122.345163</td>\n",
       "      <td>2208.136668</td>\n",
       "      <td>120.777725</td>\n",
       "      <td>5.620481</td>\n",
       "      <td>2456.880038</td>\n",
       "      <td>0.948553</td>\n",
       "      <td>0.051447</td>\n",
       "      <td>0.049797</td>\n",
       "      <td>0.898756</td>\n",
       "      <td>0.049159</td>\n",
       "      <td>0.002288</td>\n",
       "    </tr>\n",
       "    <tr>\n",
       "      <th>ambimux</th>\n",
       "      <td>69.215124</td>\n",
       "      <td>1208.551193</td>\n",
       "      <td>60.460990</td>\n",
       "      <td>3.062997</td>\n",
       "      <td>1341.290304</td>\n",
       "      <td>0.952640</td>\n",
       "      <td>0.047360</td>\n",
       "      <td>0.051603</td>\n",
       "      <td>0.901036</td>\n",
       "      <td>0.045077</td>\n",
       "      <td>0.002284</td>\n",
       "    </tr>\n",
       "  </tbody>\n",
       "</table>\n",
       "</div>"
      ],
      "text/plain": [
       "                            C1           C2          I1        I2  \\\n",
       "demuxlet             73.409596  1197.815489   27.924626  2.369021   \n",
       "freemuxlet          117.506029  2433.348524  207.604202  7.099208   \n",
       "vireo                87.061893  1514.082657   50.143884  3.283375   \n",
       "vireo_nogenos        93.807453  1698.081435   74.613182  4.028525   \n",
       "scsplit              87.793965  1771.354151  131.781032  5.069968   \n",
       "scsplit_nogenos      79.719498  1483.661738   93.372088  3.944580   \n",
       "souporcell           99.060529  1913.811979  117.652536  5.484973   \n",
       "souporcell_nogenos   93.052831  1747.753259   96.640008  4.637478   \n",
       "scavengers          122.345163  2208.136668  120.777725  5.620481   \n",
       "ambimux              69.215124  1208.551193   60.460990  3.062997   \n",
       "\n",
       "                             DP  Consistent rate  Inconsistent rate   C1 rate  \\\n",
       "demuxlet            1301.518732         0.976724           0.023276  0.056403   \n",
       "freemuxlet          2765.557964         0.922365           0.077635  0.042489   \n",
       "vireo               1654.571809         0.967709           0.032291  0.052619   \n",
       "vireo_nogenos       1870.530596         0.957958           0.042042  0.050150   \n",
       "scsplit             1995.999116         0.931437           0.068563  0.043985   \n",
       "scsplit_nogenos     1660.697904         0.941400           0.058600  0.048004   \n",
       "souporcell          2136.010018         0.942352           0.057648  0.046376   \n",
       "souporcell_nogenos  1942.083577         0.947851           0.052149  0.047914   \n",
       "scavengers          2456.880038         0.948553           0.051447  0.049797   \n",
       "ambimux             1341.290304         0.952640           0.047360  0.051603   \n",
       "\n",
       "                     C2 rate   I1 rate   I2 rate  \n",
       "demuxlet            0.920321  0.021455  0.001820  \n",
       "freemuxlet          0.879876  0.075068  0.002567  \n",
       "vireo               0.915090  0.030306  0.001984  \n",
       "vireo_nogenos       0.907807  0.039889  0.002154  \n",
       "scsplit             0.887452  0.066023  0.002540  \n",
       "scsplit_nogenos     0.893397  0.056225  0.002375  \n",
       "souporcell          0.895975  0.055081  0.002568  \n",
       "souporcell_nogenos  0.899937  0.049761  0.002388  \n",
       "scavengers          0.898756  0.049159  0.002288  \n",
       "ambimux             0.901036  0.045077  0.002284  "
      ]
     },
     "execution_count": 41,
     "metadata": {},
     "output_type": "execute_result"
    }
   ],
   "source": [
    "## unique_all\n",
    "### this is just singlets called by that method, I think this is fine!\n",
    "\n",
    "tmp_cols = con_cols + ['n_drops']\n",
    "cov = 20\n",
    "condir = f'{projdir}/csv/var_consistency/real/atac/merged/'\n",
    "all_con_atac = pd.DataFrame(index=atac_methods, columns=tmp_cols, data=0)\n",
    "for method in atac_methods:\n",
    "    mask = unique_all[method] != 'non_singlet'\n",
    "    method_con = pd.read_csv(f'{condir}/{method}_cov{cov}_varcon.csv', sep='\\t', header=0, index_col=0)\n",
    "    method_atac = unique_all[mask]\n",
    "    mask = method_con.index.isin(method_atac.index)\n",
    "    method_con = method_con[mask]\n",
    "    method_con = pd.DataFrame(method_con.sum(axis=0)[:4]).transpose()\n",
    "    all_con_atac.loc[method] = list(method_con.iloc[0]) + [method_atac.shape[0]]\n",
    "\n",
    "raw_con_atac = all_con_atac.copy()\n",
    "\n",
    "test_con_atac = all_con_atac.iloc[:,:4].div(all_con_atac['n_drops'], axis=0)\n",
    "test_con_atac = process_con(test_con_atac)\n",
    "test_con_atac"
   ]
  },
  {
   "cell_type": "code",
   "execution_count": 42,
   "id": "a878e1c0",
   "metadata": {},
   "outputs": [],
   "source": [
    "test_con_gex['method'] = [f'gex_{x}' for x in test_con_gex.index]\n",
    "test_con_atac['method'] = [f'atac_{x}' for x in test_con_atac.index]"
   ]
  },
  {
   "cell_type": "code",
   "execution_count": 43,
   "id": "c0f9b834",
   "metadata": {
    "scrolled": true
   },
   "outputs": [
    {
     "data": {
      "text/plain": [
       "<AxesSubplot:xlabel='variable', ylabel='value'>"
      ]
     },
     "execution_count": 43,
     "metadata": {},
     "output_type": "execute_result"
    },
    {
     "data": {
      "image/png": "[encoded data removed]",
      "text/plain": [
       "<Figure size 432x288 with 1 Axes>"
      ]
     },
     "metadata": {
      "needs_background": "light"
     },
     "output_type": "display_data"
    }
   ],
   "source": [
    "melt_cols = ['C1 rate', 'C2 rate', 'I1 rate', 'I2 rate']\n",
    "gex_melt_con = test_con_gex.melt(id_vars='method', value_vars=melt_cols)\n",
    "sns.barplot(gex_melt_con, x='variable', y='value', hue='method')"
   ]
  },
  {
   "cell_type": "code",
   "execution_count": 44,
   "id": "971f5d68",
   "metadata": {},
   "outputs": [
    {
     "data": {
      "text/plain": [
       "<AxesSubplot:xlabel='variable', ylabel='value'>"
      ]
     },
     "execution_count": 44,
     "metadata": {},
     "output_type": "execute_result"
    },
    {
     "data": {
      "image/png": "[encoded data removed]",
      "text/plain": [
       "<Figure size 432x288 with 1 Axes>"
      ]
     },
     "metadata": {
      "needs_background": "light"
     },
     "output_type": "display_data"
    }
   ],
   "source": [
    "melt_cols = ['C1 rate', 'C2 rate', 'I1 rate', 'I2 rate']\n",
    "atac_melt_con = test_con_atac.melt(id_vars='method', value_vars=melt_cols)\n",
    "sns.barplot(atac_melt_con, x='variable', y='value', hue='method')"
   ]
  },
  {
   "cell_type": "code",
   "execution_count": 45,
   "id": "f2bcc719",
   "metadata": {},
   "outputs": [],
   "source": [
    "gex_melt_con['mod'] = 'gex'\n",
    "atac_melt_con['mod'] = 'atac'"
   ]
  },
  {
   "cell_type": "code",
   "execution_count": 46,
   "id": "451edac7",
   "metadata": {},
   "outputs": [],
   "source": [
    "merged = pd.concat([gex_melt_con, atac_melt_con])\n",
    "merged['method'] = [x.replace('gex_','').replace('atac_','') for x in merged['method']]"
   ]
  },
  {
   "cell_type": "code",
   "execution_count": 47,
   "id": "5eebc230",
   "metadata": {},
   "outputs": [
    {
     "data": {
      "text/plain": [
       "<AxesSubplot:xlabel='method', ylabel='value'>"
      ]
     },
     "execution_count": 47,
     "metadata": {},
     "output_type": "execute_result"
    },
    {
     "data": {
      "image/png": "[encoded data removed]",
      "text/plain": [
       "<Figure size 432x288 with 1 Axes>"
      ]
     },
     "metadata": {
      "needs_background": "light"
     },
     "output_type": "display_data"
    }
   ],
   "source": [
    "tmp_merged = merged[merged['variable'] == 'C1 rate']\n",
    "sns.barplot(tmp_merged, x='method', y='value', hue='mod')"
   ]
  },
  {
   "cell_type": "code",
   "execution_count": 48,
   "id": "5dd498dd",
   "metadata": {},
   "outputs": [
    {
     "data": {
      "image/png": "[encoded data removed]",
      "text/plain": [
       "<Figure size 432x288 with 1 Axes>"
      ]
     },
     "metadata": {
      "needs_background": "light"
     },
     "output_type": "display_data"
    }
   ],
   "source": [
    "sns.set_palette('Dark2')\n",
    "\n",
    "tmp_merged = merged[merged['variable'] == 'C2 rate']\n",
    "ax = sns.barplot(tmp_merged, x='method', y='value', hue='mod')\n",
    "ax.set_ylim(0, 1)\n",
    "ax.set_xticklabels(ax.get_xticklabels(), rotation=45, fontsize=15,\n",
    "                   horizontalalignment='right')\n",
    "# ax.set_yticklabels(ax.get_yticklabels(), fontsize=12)\n",
    "\n",
    "sns.move_legend(ax, \"upper left\", bbox_to_anchor=(1, 1))\n",
    "ax.set_xlabel(\"\")\n",
    "ax.set_ylabel(\"\")\n",
    "ax.set_title(f'C2 rate', fontsize=20)\n",
    "# custom_ticks = np.linspace(0, 0.2, 5)\n",
    "# ax.set_yticks(custom_ticks, fontsize=20)\n",
    "ax.tick_params(axis='y', labelsize=15)  # Adjust the labelsize parameter as needed\n",
    "ax.grid(False)"
   ]
  },
  {
   "cell_type": "code",
   "execution_count": 49,
   "id": "2eced2b7",
   "metadata": {},
   "outputs": [
    {
     "data": {
      "image/png": "[encoded data removed]",
      "text/plain": [
       "<Figure size 432x288 with 1 Axes>"
      ]
     },
     "metadata": {
      "needs_background": "light"
     },
     "output_type": "display_data"
    }
   ],
   "source": [
    "sns.set_palette('Dark2')\n",
    "\n",
    "tmp_merged = merged[merged['variable'] == 'I1 rate']\n",
    "ax = sns.barplot(tmp_merged, x='method', y='value', hue='mod')\n",
    "ax.set_ylim(0, 0.2)\n",
    "ax.set_xticklabels(ax.get_xticklabels(), rotation=45, fontsize=15,\n",
    "                   horizontalalignment='right')\n",
    "# ax.set_yticklabels(ax.get_yticklabels(), fontsize=12)\n",
    "\n",
    "sns.move_legend(ax, \"upper left\", bbox_to_anchor=(1, 1))\n",
    "ax.set_xlabel(\"\")\n",
    "ax.set_ylabel(\"\")\n",
    "ax.set_title(f'I1 rate', fontsize=20)\n",
    "custom_ticks = np.linspace(0, 0.2, 5)\n",
    "ax.set_yticks(custom_ticks, fontsize=20)\n",
    "ax.tick_params(axis='y', labelsize=15)  # Adjust the labelsize parameter as needed\n",
    "ax.grid(False)"
   ]
  },
  {
   "cell_type": "code",
   "execution_count": 55,
   "id": "d25c3f32",
   "metadata": {},
   "outputs": [],
   "source": [
    "### insanely ratchet\n",
    "merged.loc[73] = ['scavengers', 'C1 rate', 0, 'gex']\n",
    "merged.loc[74] = ['scavengers', 'C2 rate', 0, 'gex']\n",
    "merged.loc[75] = ['scavengers', 'I1 rate', 0, 'gex']\n",
    "merged.loc[76] = ['scavengers', 'I2 rate', 0, 'gex']\n",
    "merged.loc[77] = ['demuxalot', 'C1 rate', 0, 'atac']\n",
    "merged.loc[78] = ['demuxalot', 'C2 rate', 0, 'atac']\n",
    "merged.loc[79] = ['demuxalot', 'I1 rate', 0, 'atac']\n",
    "merged.loc[80] = ['demuxalot', 'I2 rate', 0, 'atac']\n",
    "merged.loc[81] = ['ambimux', 'C1 rate', 0, 'atac']\n",
    "merged.loc[82] = ['ambimux', 'C2 rate', 0, 'atac']\n",
    "merged.loc[83] = ['ambimux', 'I1 rate', 0, 'atac']\n",
    "merged.loc[84] = ['ambimux', 'I2 rate', 0, 'atac']"
   ]
  },
  {
   "cell_type": "code",
   "execution_count": null,
   "id": "a2223eff",
   "metadata": {},
   "outputs": [],
   "source": [
    "merged.to_csv(f'{projdir}/csv/final_figures/figure6/figure_6b_avg_con_rates_ambimux.csv', sep='\\t', header=True, index=True)"
   ]
  },
  {
   "cell_type": "markdown",
   "id": "b4e88c3b",
   "metadata": {},
   "source": [
    "### extra"
   ]
  },
  {
   "cell_type": "code",
   "execution_count": 52,
   "id": "f34566bf",
   "metadata": {
    "scrolled": true
   },
   "outputs": [],
   "source": [
    "# melt_cols = ['C1 rate', 'C2 rate', 'I1 rate', 'I2 rate', 'method']\n",
    "# melt_con = method_con.melt(id_vars='donor', value_vars=melt_cols)\n",
    "\n",
    "# sns.boxplot(melt_con, x='variable', y='value', hue='donor')"
   ]
  },
  {
   "cell_type": "code",
   "execution_count": 124,
   "id": "6e3f54c6",
   "metadata": {},
   "outputs": [
    {
     "data": {
      "text/html": [
       "<div>\n",
       "<style scoped>\n",
       "    .dataframe tbody tr th:only-of-type {\n",
       "        vertical-align: middle;\n",
       "    }\n",
       "\n",
       "    .dataframe tbody tr th {\n",
       "        vertical-align: top;\n",
       "    }\n",
       "\n",
       "    .dataframe thead th {\n",
       "        text-align: right;\n",
       "    }\n",
       "</style>\n",
       "<table border=\"1\" class=\"dataframe\">\n",
       "  <thead>\n",
       "    <tr style=\"text-align: right;\">\n",
       "      <th></th>\n",
       "      <th>C1</th>\n",
       "      <th>C2</th>\n",
       "      <th>I1</th>\n",
       "      <th>I2</th>\n",
       "    </tr>\n",
       "  </thead>\n",
       "  <tbody>\n",
       "    <tr>\n",
       "      <th>0</th>\n",
       "      <td>1296015</td>\n",
       "      <td>23392650</td>\n",
       "      <td>1279481</td>\n",
       "      <td>59543</td>\n",
       "    </tr>\n",
       "  </tbody>\n",
       "</table>\n",
       "</div>"
      ],
      "text/plain": [
       "        C1        C2       I1     I2\n",
       "0  1296015  23392650  1279481  59543"
      ]
     },
     "execution_count": 124,
     "metadata": {},
     "output_type": "execute_result"
    }
   ],
   "source": [
    "method_con"
   ]
  },
  {
   "cell_type": "code",
   "execution_count": 125,
   "id": "5f0b1cf0",
   "metadata": {},
   "outputs": [],
   "source": [
    "### what about singlets completely unique to that method?\n",
    "### code is a tad bit more complciated...\n",
    "# for i,method in enumerate(gex.columns[:7]):\n",
    "#     mask = gex[method] != 'non_singlet'\n",
    "#     print(gex[mask].shape)"
   ]
  },
  {
   "cell_type": "code",
   "execution_count": 64,
   "id": "dae4c27b",
   "metadata": {},
   "outputs": [
    {
     "data": {
      "text/plain": [
       "AAACAGCCAAGGTATA-1_20220928-IGVF-D0          27_C4\n",
       "AAACAGCCAATGCGCT-1_20220928-IGVF-D0          25_A4\n",
       "AAACAGCCAGCAAATA-1_20220928-IGVF-D0          27_C4\n",
       "AAACAGCCATTGTGAT-1_20220928-IGVF-D0          25_A4\n",
       "AAACATGCAAACATAG-1_20220928-IGVF-D0          25_A4\n",
       "                                          ...     \n",
       "TTTGTTGGTTCCAGGG-1_20220928-IGVF-D3         26_A10\n",
       "TTTGTTGGTTCCTGTG-1_20220928-IGVF-D3    non_singlet\n",
       "TTTGTTGGTTGCCTCA-1_20220928-IGVF-D3          25_A4\n",
       "TTTGTTGGTTGGATAT-1_20220928-IGVF-D3          25_A4\n",
       "TTTGTTGGTTTGACCT-1_20220928-IGVF-D3         26_A10\n",
       "Name: demuxlet, Length: 30497, dtype: object"
      ]
     },
     "execution_count": 64,
     "metadata": {},
     "output_type": "execute_result"
    }
   ],
   "source": [
    "gex.iloc[:,0]"
   ]
  },
  {
   "cell_type": "code",
   "execution_count": 89,
   "id": "33cd419e",
   "metadata": {},
   "outputs": [
    {
     "data": {
      "text/html": [
       "<div>\n",
       "<style scoped>\n",
       "    .dataframe tbody tr th:only-of-type {\n",
       "        vertical-align: middle;\n",
       "    }\n",
       "\n",
       "    .dataframe tbody tr th {\n",
       "        vertical-align: top;\n",
       "    }\n",
       "\n",
       "    .dataframe thead th {\n",
       "        text-align: right;\n",
       "    }\n",
       "</style>\n",
       "<table border=\"1\" class=\"dataframe\">\n",
       "  <thead>\n",
       "    <tr style=\"text-align: right;\">\n",
       "      <th></th>\n",
       "      <th>variable</th>\n",
       "      <th>value</th>\n",
       "    </tr>\n",
       "  </thead>\n",
       "  <tbody>\n",
       "    <tr>\n",
       "      <th>0</th>\n",
       "      <td>demuxlet</td>\n",
       "      <td>27_C4</td>\n",
       "    </tr>\n",
       "    <tr>\n",
       "      <th>1</th>\n",
       "      <td>demuxlet</td>\n",
       "      <td>27_C4</td>\n",
       "    </tr>\n",
       "    <tr>\n",
       "      <th>2</th>\n",
       "      <td>demuxlet</td>\n",
       "      <td>48_V3</td>\n",
       "    </tr>\n",
       "    <tr>\n",
       "      <th>3</th>\n",
       "      <td>demuxlet</td>\n",
       "      <td>non_singlet</td>\n",
       "    </tr>\n",
       "    <tr>\n",
       "      <th>4</th>\n",
       "      <td>demuxlet</td>\n",
       "      <td>non_singlet</td>\n",
       "    </tr>\n",
       "  </tbody>\n",
       "</table>\n",
       "</div>"
      ],
      "text/plain": [
       "   variable        value\n",
       "0  demuxlet        27_C4\n",
       "1  demuxlet        27_C4\n",
       "2  demuxlet        48_V3\n",
       "3  demuxlet  non_singlet\n",
       "4  demuxlet  non_singlet"
      ]
     },
     "execution_count": 89,
     "metadata": {},
     "output_type": "execute_result"
    }
   ],
   "source": [
    "tmp = unique_gex.iloc[:,:-1]\n",
    "to_plot = tmp.melt(value_vars=tmp.columns)\n",
    "to_plot.head()"
   ]
  },
  {
   "cell_type": "code",
   "execution_count": 92,
   "id": "dbd286e4",
   "metadata": {},
   "outputs": [
    {
     "data": {
      "text/plain": [
       "<AxesSubplot:xlabel='variable', ylabel='Count'>"
      ]
     },
     "execution_count": 92,
     "metadata": {},
     "output_type": "execute_result"
    },
    {
     "data": {
      "image/png": "[encoded data removed]",
      "text/plain": [
       "<Figure size 432x288 with 1 Axes>"
      ]
     },
     "metadata": {
      "needs_background": "light"
     },
     "output_type": "display_data"
    }
   ],
   "source": [
    "sns.histplot(to_plot, x='variable', hue='value', multiple='stack')"
   ]
  },
  {
   "cell_type": "code",
   "execution_count": 93,
   "id": "fc6e7d55",
   "metadata": {},
   "outputs": [
    {
     "data": {
      "text/html": [
       "<div>\n",
       "<style scoped>\n",
       "    .dataframe tbody tr th:only-of-type {\n",
       "        vertical-align: middle;\n",
       "    }\n",
       "\n",
       "    .dataframe tbody tr th {\n",
       "        vertical-align: top;\n",
       "    }\n",
       "\n",
       "    .dataframe thead th {\n",
       "        text-align: right;\n",
       "    }\n",
       "</style>\n",
       "<table border=\"1\" class=\"dataframe\">\n",
       "  <thead>\n",
       "    <tr style=\"text-align: right;\">\n",
       "      <th></th>\n",
       "      <th>variable</th>\n",
       "      <th>value</th>\n",
       "    </tr>\n",
       "  </thead>\n",
       "  <tbody>\n",
       "    <tr>\n",
       "      <th>0</th>\n",
       "      <td>demuxlet</td>\n",
       "      <td>non_singlet</td>\n",
       "    </tr>\n",
       "    <tr>\n",
       "      <th>1</th>\n",
       "      <td>demuxlet</td>\n",
       "      <td>26_A10</td>\n",
       "    </tr>\n",
       "    <tr>\n",
       "      <th>2</th>\n",
       "      <td>demuxlet</td>\n",
       "      <td>non_singlet</td>\n",
       "    </tr>\n",
       "    <tr>\n",
       "      <th>3</th>\n",
       "      <td>demuxlet</td>\n",
       "      <td>non_singlet</td>\n",
       "    </tr>\n",
       "    <tr>\n",
       "      <th>4</th>\n",
       "      <td>demuxlet</td>\n",
       "      <td>non_singlet</td>\n",
       "    </tr>\n",
       "  </tbody>\n",
       "</table>\n",
       "</div>"
      ],
      "text/plain": [
       "   variable        value\n",
       "0  demuxlet  non_singlet\n",
       "1  demuxlet       26_A10\n",
       "2  demuxlet  non_singlet\n",
       "3  demuxlet  non_singlet\n",
       "4  demuxlet  non_singlet"
      ]
     },
     "execution_count": 93,
     "metadata": {},
     "output_type": "execute_result"
    }
   ],
   "source": [
    "tmp = unique_atac.iloc[:,:-1]\n",
    "to_plot = tmp.melt(value_vars=tmp.columns)\n",
    "to_plot.head()"
   ]
  },
  {
   "cell_type": "code",
   "execution_count": 94,
   "id": "4c00df40",
   "metadata": {},
   "outputs": [
    {
     "data": {
      "text/plain": [
       "<AxesSubplot:xlabel='variable', ylabel='Count'>"
      ]
     },
     "execution_count": 94,
     "metadata": {},
     "output_type": "execute_result"
    },
    {
     "data": {
      "image/png": "[encoded data removed]",
      "text/plain": [
       "<Figure size 432x288 with 1 Axes>"
      ]
     },
     "metadata": {
      "needs_background": "light"
     },
     "output_type": "display_data"
    }
   ],
   "source": [
    "sns.histplot(to_plot, x='variable', hue='value', multiple='stack')"
   ]
  },
  {
   "cell_type": "code",
   "execution_count": 66,
   "id": "6ee78ab0",
   "metadata": {},
   "outputs": [],
   "source": [
    "extra_gex = pd.DataFrame(index=['gex'])\n",
    "for method in gex_methods:\n",
    "    gex_mask = unique_gex[method] != 'non_singlet'\n",
    "    extra_gex[method] = unique_gex[gex_mask].shape[0]\n",
    "# extra_gex = extra_gex.transpose()"
   ]
  },
  {
   "cell_type": "code",
   "execution_count": 67,
   "id": "579abd99",
   "metadata": {},
   "outputs": [],
   "source": [
    "extra_atac = pd.DataFrame(index=['atac'])\n",
    "for method in atac_methods:\n",
    "    atac_mask = unique_atac[method] != 'non_singlet'\n",
    "    extra_atac[method] =  unique_atac[atac_mask].shape[0]"
   ]
  },
  {
   "cell_type": "code",
   "execution_count": 68,
   "id": "8d1be476",
   "metadata": {},
   "outputs": [
    {
     "data": {
      "text/html": [
       "<div>\n",
       "<style scoped>\n",
       "    .dataframe tbody tr th:only-of-type {\n",
       "        vertical-align: middle;\n",
       "    }\n",
       "\n",
       "    .dataframe tbody tr th {\n",
       "        vertical-align: top;\n",
       "    }\n",
       "\n",
       "    .dataframe thead th {\n",
       "        text-align: right;\n",
       "    }\n",
       "</style>\n",
       "<table border=\"1\" class=\"dataframe\">\n",
       "  <thead>\n",
       "    <tr style=\"text-align: right;\">\n",
       "      <th></th>\n",
       "      <th>demuxlet</th>\n",
       "      <th>freemuxlet</th>\n",
       "      <th>vireo</th>\n",
       "      <th>vireo_nogenos</th>\n",
       "      <th>scsplit</th>\n",
       "      <th>scsplit_nogenos</th>\n",
       "      <th>souporcell</th>\n",
       "      <th>souporcell_nogenos</th>\n",
       "      <th>demuxalot</th>\n",
       "    </tr>\n",
       "  </thead>\n",
       "  <tbody>\n",
       "    <tr>\n",
       "      <th>gex</th>\n",
       "      <td>4359</td>\n",
       "      <td>11123</td>\n",
       "      <td>5119</td>\n",
       "      <td>6300</td>\n",
       "      <td>6653</td>\n",
       "      <td>7007</td>\n",
       "      <td>7089</td>\n",
       "      <td>7884</td>\n",
       "      <td>2935</td>\n",
       "    </tr>\n",
       "  </tbody>\n",
       "</table>\n",
       "</div>"
      ],
      "text/plain": [
       "     demuxlet  freemuxlet  vireo  vireo_nogenos  scsplit  scsplit_nogenos  \\\n",
       "gex      4359       11123   5119           6300     6653             7007   \n",
       "\n",
       "     souporcell  souporcell_nogenos  demuxalot  \n",
       "gex        7089                7884       2935  "
      ]
     },
     "execution_count": 68,
     "metadata": {},
     "output_type": "execute_result"
    }
   ],
   "source": [
    "extra_gex"
   ]
  },
  {
   "cell_type": "code",
   "execution_count": 69,
   "id": "a472ba32",
   "metadata": {},
   "outputs": [
    {
     "data": {
      "text/html": [
       "<div>\n",
       "<style scoped>\n",
       "    .dataframe tbody tr th:only-of-type {\n",
       "        vertical-align: middle;\n",
       "    }\n",
       "\n",
       "    .dataframe tbody tr th {\n",
       "        vertical-align: top;\n",
       "    }\n",
       "\n",
       "    .dataframe thead th {\n",
       "        text-align: right;\n",
       "    }\n",
       "</style>\n",
       "<table border=\"1\" class=\"dataframe\">\n",
       "  <thead>\n",
       "    <tr style=\"text-align: right;\">\n",
       "      <th></th>\n",
       "      <th>demuxlet</th>\n",
       "      <th>freemuxlet</th>\n",
       "      <th>vireo</th>\n",
       "      <th>vireo_nogenos</th>\n",
       "      <th>scsplit</th>\n",
       "      <th>scsplit_nogenos</th>\n",
       "      <th>souporcell</th>\n",
       "      <th>souporcell_nogenos</th>\n",
       "      <th>scavengers</th>\n",
       "    </tr>\n",
       "  </thead>\n",
       "  <tbody>\n",
       "    <tr>\n",
       "      <th>atac</th>\n",
       "      <td>2113</td>\n",
       "      <td>8103</td>\n",
       "      <td>3137</td>\n",
       "      <td>3982</td>\n",
       "      <td>5135</td>\n",
       "      <td>3961</td>\n",
       "      <td>4698</td>\n",
       "      <td>4582</td>\n",
       "      <td>4340</td>\n",
       "    </tr>\n",
       "  </tbody>\n",
       "</table>\n",
       "</div>"
      ],
      "text/plain": [
       "      demuxlet  freemuxlet  vireo  vireo_nogenos  scsplit  scsplit_nogenos  \\\n",
       "atac      2113        8103   3137           3982     5135             3961   \n",
       "\n",
       "      souporcell  souporcell_nogenos  scavengers  \n",
       "atac        4698                4582        4340  "
      ]
     },
     "execution_count": 69,
     "metadata": {},
     "output_type": "execute_result"
    }
   ],
   "source": [
    "extra_atac"
   ]
  },
  {
   "cell_type": "code",
   "execution_count": 70,
   "id": "fa213415",
   "metadata": {},
   "outputs": [],
   "source": [
    "extra_sings = pd.concat([extra_gex, extra_atac]).transpose()"
   ]
  },
  {
   "cell_type": "code",
   "execution_count": 71,
   "id": "751dc1cf",
   "metadata": {},
   "outputs": [
    {
     "data": {
      "text/plain": [
       "demuxlet               4359.0\n",
       "freemuxlet            11123.0\n",
       "vireo                  5119.0\n",
       "vireo_nogenos          6300.0\n",
       "scsplit                6653.0\n",
       "scsplit_nogenos        7007.0\n",
       "souporcell             7089.0\n",
       "souporcell_nogenos     7884.0\n",
       "demuxalot              2935.0\n",
       "scavengers                NaN\n",
       "Name: gex, dtype: float64"
      ]
     },
     "execution_count": 71,
     "metadata": {},
     "output_type": "execute_result"
    }
   ],
   "source": [
    "extra_sings['gex']"
   ]
  },
  {
   "cell_type": "code",
   "execution_count": 72,
   "id": "b947d248",
   "metadata": {},
   "outputs": [
    {
     "data": {
      "text/plain": [
       "Text(0.5, 0.98, 'Stem cell dataset')"
      ]
     },
     "execution_count": 72,
     "metadata": {},
     "output_type": "execute_result"
    },
    {
     "data": {
      "image/png": "[encoded data removed]",
      "text/plain": [
       "<Figure size 360x720 with 2 Axes>"
      ]
     },
     "metadata": {
      "needs_background": "light"
     },
     "output_type": "display_data"
    }
   ],
   "source": [
    "sns.set_palette('Dark2')\n",
    "final_cols = ['C2 rate', 'I1 rate']\n",
    "\n",
    "ylims = [1, 0.2]\n",
    "\n",
    "fig, axes = plt.subplots(2, 1, figsize=(5, 10))\n",
    "\n",
    "for i,ax in enumerate(axes.flatten()):\n",
    "    col = final_cols[i]\n",
    "    ylim = ylims[i]\n",
    "    tmp_merged = merged[merged['variable'] == col]\n",
    "    sns.barplot(tmp_merged, x='method', y='value', hue='mod', ax=ax)\n",
    "    ax.set_ylim(0, ylim)\n",
    "    ax.set_xticklabels(ax.get_xticklabels(), rotation=45, fontsize=15,\n",
    "                       horizontalalignment='right')\n",
    "\n",
    "    sns.move_legend(ax, \"upper left\", bbox_to_anchor=(1, 1))\n",
    "    ax.set_xlabel(\"\")\n",
    "    ax.set_ylabel(\"\")\n",
    "    ax.set_title(col, fontsize=20)\n",
    "    ax.tick_params(axis='y', labelsize=15)  # Adjust the labelsize parameter as needed\n",
    "    ax.grid(False)\n",
    "    ax.legend_.set_visible(False)\n",
    "    \n",
    "plt.subplots_adjust(wspace=0.2, hspace=0.8)  # Adjust the value as needed\n",
    "plt.suptitle('Stem cell dataset', size=25)"
   ]
  },
  {
   "cell_type": "code",
   "execution_count": null,
   "id": "6d00b11e",
   "metadata": {},
   "outputs": [],
   "source": []
  },
  {
   "cell_type": "code",
   "execution_count": null,
   "id": "9d78c949",
   "metadata": {},
   "outputs": [],
   "source": []
  }
 ],
 "metadata": {
  "kernelspec": {
   "display_name": "allcools",
   "language": "python",
   "name": "allcools"
  },
  "language_info": {
   "codemirror_mode": {
    "name": "ipython",
    "version": 3
   },
   "file_extension": ".py",
   "mimetype": "text/x-python",
   "name": "python",
   "nbconvert_exporter": "python",
   "pygments_lexer": "ipython3",
   "version": "3.7.13"
  }
 },
 "nbformat": 4,
 "nbformat_minor": 5
}
