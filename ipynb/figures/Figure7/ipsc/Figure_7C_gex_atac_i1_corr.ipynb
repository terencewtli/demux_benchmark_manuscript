{
 "cells": [
  {
   "cell_type": "code",
   "execution_count": 1,
   "id": "68aa8d2e",
   "metadata": {},
   "outputs": [],
   "source": [
    "import numpy as np\n",
    "import pandas as pd\n",
    "import matplotlib.pyplot as plt\n",
    "import seaborn as sns\n",
    "from scipy.io import mmread, mmwrite\n",
    "from scipy.stats import pearsonr, spearmanr"
   ]
  },
  {
   "cell_type": "code",
   "execution_count": 2,
   "id": "990f99b8",
   "metadata": {},
   "outputs": [],
   "source": [
    "projdir = '/u/home/t/terencew/project-cluo/igvf/pilot/multiome/'\n",
    "donors = list(np.loadtxt(f'{projdir}/txt/donors.txt', dtype=str))\n",
    "samples = list(np.loadtxt(f'{projdir}/txt/samples.txt', dtype=str))\n",
    "s = samples[0]\n",
    "\n",
    "gex_methods = ['demuxlet', 'freemuxlet', 'vireo', 'vireo_nogenos',\n",
    "               'scsplit', 'scsplit_nogenos',\n",
    "            'souporcell', 'souporcell_nogenos', 'demuxalot']\n",
    "atac_methods = ['demuxlet', 'freemuxlet', 'vireo', 'vireo_nogenos',\n",
    "               'scsplit', 'scsplit_nogenos',\n",
    "            'souporcell', 'souporcell_nogenos', 'scavengers']\n",
    "\n",
    "overlap_methods = ['demuxlet', 'freemuxlet', 'vireo', 'vireo_nogenos',\n",
    "               'scsplit', 'scsplit_nogenos',\n",
    "            'souporcell', 'souporcell_nogenos']\n",
    "\n",
    "con_cols = ['C1', 'C2', 'I1', 'I2']"
   ]
  },
  {
   "cell_type": "code",
   "execution_count": 5,
   "id": "6eb51780",
   "metadata": {},
   "outputs": [
    {
     "data": {
      "text/plain": [
       "((30497, 9), (30497, 9))"
      ]
     },
     "execution_count": 5,
     "metadata": {},
     "output_type": "execute_result"
    }
   ],
   "source": [
    "gex = pd.read_csv(f'{projdir}/csv/demux/inter_gex.csv', sep='\\t',\n",
    "                  header=0, index_col=0)\n",
    "atac = pd.read_csv(f'{projdir}/csv/demux/inter_atac.csv', sep='\\t',\n",
    "                   header=0, index_col=0)\n",
    "gex.shape, atac.shape\n",
    "\n",
    "gex.replace({'doublet' : 'non_singlet' , 'unassigned' : 'non_singlet'}, inplace=True)\n",
    "atac.replace({'doublet' : 'non_singlet' , 'unassigned' : 'non_singlet'}, inplace=True)\n",
    "gex.shape, atac.shape"
   ]
  },
  {
   "cell_type": "code",
   "execution_count": 6,
   "id": "795dd9cd",
   "metadata": {},
   "outputs": [],
   "source": [
    "# tmp_gex = gex.copy()\n",
    "# tmp_atac = atac.copy()\n",
    "# tmp_gex['inter'] = gex.eq(gex.iloc[:, 0], axis=0).all(1)\n",
    "# tmp_atac['inter'] = atac.eq(atac.iloc[:, 0], axis=0).all(1)\n",
    "# tmp_gex['majority'] = gex.mode(axis=1)[0]\n",
    "# tmp_atac['majority'] = atac.mode(axis=1)[0]\n",
    "\n",
    "# gex['majority'] = tmp_gex['majority']\n",
    "# gex['inter'] = tmp_gex['inter']\n",
    "# atac['majority'] = tmp_atac['majority']\n",
    "# atac['inter'] = tmp_atac['inter']"
   ]
  },
  {
   "cell_type": "code",
   "execution_count": null,
   "id": "ae8e14e1",
   "metadata": {},
   "outputs": [],
   "source": []
  },
  {
   "cell_type": "code",
   "execution_count": 50,
   "id": "972d456b",
   "metadata": {},
   "outputs": [],
   "source": [
    "cov = 20\n",
    "\n",
    "tmp_cols = con_cols\n",
    "condir = f'{projdir}/csv/var_consistency/real/gex/merged/'\n",
    "all_con_gex = pd.DataFrame(index=gex_methods, columns=tmp_cols, data=0)\n",
    "for method in gex_methods:\n",
    "    mask = gex[method] != 'non_singlet'\n",
    "    method_con = pd.read_csv(f'{condir}/{method}_cov{cov}_varcon.csv', sep='\\t', header=0, index_col=0)\n",
    "    method_gex = gex[mask]\n",
    "    mask = method_con.index.isin(method_gex.index)\n",
    "    method_con = method_con[mask]\n",
    "    tmp_method_con = pd.DataFrame(method_con.sum(axis=0)[:4]).transpose()\n",
    "    all_con_gex.loc[method] = list(tmp_method_con.iloc[0])\n",
    "    print(method, method_gex.shape[0])"
   ]
  },
  {
   "cell_type": "code",
   "execution_count": 72,
   "id": "c618ccb4",
   "metadata": {},
   "outputs": [],
   "source": [
    "tmp_cols = con_cols\n",
    "cov = 0\n",
    "# cov = 20\n",
    "\n",
    "# method = 'vireo'\n",
    "method = 'inter'\n",
    "\n",
    "condir = f'{projdir}/csv/var_consistency/real/gex/merged/'\n",
    "mask = gex[method] != 'non_singlet'\n",
    "gex_method_con = pd.read_csv(f'{condir}/{method}_cov{cov}_varcon.csv', sep='\\t', header=0, index_col=0)\n",
    "method_gex = gex[mask]\n",
    "mask = gex_method_con.index.isin(method_gex.index)\n",
    "gex_method_con = gex_method_con[mask]\n",
    "\n",
    "### use gex \n",
    "condir = f'{projdir}/csv/var_consistency/real/atac/merged/'\n",
    "atac_method_con = pd.read_csv(f'{condir}/{method}_cov{cov}_varcon.csv', sep='\\t', header=0, index_col=0)\n",
    "mask = atac_method_con.index.isin(method_gex.index)\n",
    "atac_method_con = atac_method_con[mask]"
   ]
  },
  {
   "cell_type": "code",
   "execution_count": 73,
   "id": "54b40a6c",
   "metadata": {},
   "outputs": [
    {
     "data": {
      "text/html": [
       "<div>\n",
       "<style scoped>\n",
       "    .dataframe tbody tr th:only-of-type {\n",
       "        vertical-align: middle;\n",
       "    }\n",
       "\n",
       "    .dataframe tbody tr th {\n",
       "        vertical-align: top;\n",
       "    }\n",
       "\n",
       "    .dataframe thead th {\n",
       "        text-align: right;\n",
       "    }\n",
       "</style>\n",
       "<table border=\"1\" class=\"dataframe\">\n",
       "  <thead>\n",
       "    <tr style=\"text-align: right;\">\n",
       "      <th></th>\n",
       "      <th>C1</th>\n",
       "      <th>C2</th>\n",
       "      <th>I1</th>\n",
       "      <th>I2</th>\n",
       "      <th>donor</th>\n",
       "    </tr>\n",
       "  </thead>\n",
       "  <tbody>\n",
       "    <tr>\n",
       "      <th>AAACAGCCAATGCGCT-1_20220928-IGVF-D0</th>\n",
       "      <td>82</td>\n",
       "      <td>1118</td>\n",
       "      <td>19</td>\n",
       "      <td>3</td>\n",
       "      <td>25_A4</td>\n",
       "    </tr>\n",
       "    <tr>\n",
       "      <th>AAACAGCCATTGTGAT-1_20220928-IGVF-D0</th>\n",
       "      <td>48</td>\n",
       "      <td>1046</td>\n",
       "      <td>34</td>\n",
       "      <td>2</td>\n",
       "      <td>25_A4</td>\n",
       "    </tr>\n",
       "    <tr>\n",
       "      <th>AAACATGCAAACATAG-1_20220928-IGVF-D0</th>\n",
       "      <td>28</td>\n",
       "      <td>551</td>\n",
       "      <td>22</td>\n",
       "      <td>6</td>\n",
       "      <td>25_A4</td>\n",
       "    </tr>\n",
       "    <tr>\n",
       "      <th>AAACATGCAATCGCAC-1_20220928-IGVF-D0</th>\n",
       "      <td>42</td>\n",
       "      <td>831</td>\n",
       "      <td>22</td>\n",
       "      <td>2</td>\n",
       "      <td>25_A4</td>\n",
       "    </tr>\n",
       "    <tr>\n",
       "      <th>AAACATGCAGGGAGGA-1_20220928-IGVF-D0</th>\n",
       "      <td>38</td>\n",
       "      <td>731</td>\n",
       "      <td>19</td>\n",
       "      <td>5</td>\n",
       "      <td>25_A4</td>\n",
       "    </tr>\n",
       "    <tr>\n",
       "      <th>...</th>\n",
       "      <td>...</td>\n",
       "      <td>...</td>\n",
       "      <td>...</td>\n",
       "      <td>...</td>\n",
       "      <td>...</td>\n",
       "    </tr>\n",
       "    <tr>\n",
       "      <th>TTTGCGGAGGACACTT-1_20220928-IGVF-D3</th>\n",
       "      <td>14</td>\n",
       "      <td>359</td>\n",
       "      <td>8</td>\n",
       "      <td>1</td>\n",
       "      <td>48_V3</td>\n",
       "    </tr>\n",
       "    <tr>\n",
       "      <th>TTTGTCCCATTGCAGC-1_20220928-IGVF-D3</th>\n",
       "      <td>34</td>\n",
       "      <td>814</td>\n",
       "      <td>32</td>\n",
       "      <td>3</td>\n",
       "      <td>48_V3</td>\n",
       "    </tr>\n",
       "    <tr>\n",
       "      <th>TTTGTGAAGGACGTAA-1_20220928-IGVF-D3</th>\n",
       "      <td>7</td>\n",
       "      <td>257</td>\n",
       "      <td>11</td>\n",
       "      <td>3</td>\n",
       "      <td>48_V3</td>\n",
       "    </tr>\n",
       "    <tr>\n",
       "      <th>TTTGTGTTCTTCAATC-1_20220928-IGVF-D3</th>\n",
       "      <td>21</td>\n",
       "      <td>441</td>\n",
       "      <td>9</td>\n",
       "      <td>3</td>\n",
       "      <td>48_V3</td>\n",
       "    </tr>\n",
       "    <tr>\n",
       "      <th>TTTGTGTTCTTTAGGA-1_20220928-IGVF-D3</th>\n",
       "      <td>13</td>\n",
       "      <td>443</td>\n",
       "      <td>9</td>\n",
       "      <td>1</td>\n",
       "      <td>48_V3</td>\n",
       "    </tr>\n",
       "  </tbody>\n",
       "</table>\n",
       "<p>17049 rows × 5 columns</p>\n",
       "</div>"
      ],
      "text/plain": [
       "                                     C1    C2  I1  I2  donor\n",
       "AAACAGCCAATGCGCT-1_20220928-IGVF-D0  82  1118  19   3  25_A4\n",
       "AAACAGCCATTGTGAT-1_20220928-IGVF-D0  48  1046  34   2  25_A4\n",
       "AAACATGCAAACATAG-1_20220928-IGVF-D0  28   551  22   6  25_A4\n",
       "AAACATGCAATCGCAC-1_20220928-IGVF-D0  42   831  22   2  25_A4\n",
       "AAACATGCAGGGAGGA-1_20220928-IGVF-D0  38   731  19   5  25_A4\n",
       "...                                  ..   ...  ..  ..    ...\n",
       "TTTGCGGAGGACACTT-1_20220928-IGVF-D3  14   359   8   1  48_V3\n",
       "TTTGTCCCATTGCAGC-1_20220928-IGVF-D3  34   814  32   3  48_V3\n",
       "TTTGTGAAGGACGTAA-1_20220928-IGVF-D3   7   257  11   3  48_V3\n",
       "TTTGTGTTCTTCAATC-1_20220928-IGVF-D3  21   441   9   3  48_V3\n",
       "TTTGTGTTCTTTAGGA-1_20220928-IGVF-D3  13   443   9   1  48_V3\n",
       "\n",
       "[17049 rows x 5 columns]"
      ]
     },
     "execution_count": 73,
     "metadata": {},
     "output_type": "execute_result"
    }
   ],
   "source": [
    "gex_method_con"
   ]
  },
  {
   "cell_type": "code",
   "execution_count": 74,
   "id": "fd9b567c",
   "metadata": {},
   "outputs": [
    {
     "data": {
      "text/html": [
       "<div>\n",
       "<style scoped>\n",
       "    .dataframe tbody tr th:only-of-type {\n",
       "        vertical-align: middle;\n",
       "    }\n",
       "\n",
       "    .dataframe tbody tr th {\n",
       "        vertical-align: top;\n",
       "    }\n",
       "\n",
       "    .dataframe thead th {\n",
       "        text-align: right;\n",
       "    }\n",
       "</style>\n",
       "<table border=\"1\" class=\"dataframe\">\n",
       "  <thead>\n",
       "    <tr style=\"text-align: right;\">\n",
       "      <th></th>\n",
       "      <th>C1</th>\n",
       "      <th>C2</th>\n",
       "      <th>I1</th>\n",
       "      <th>I2</th>\n",
       "      <th>donor</th>\n",
       "    </tr>\n",
       "  </thead>\n",
       "  <tbody>\n",
       "    <tr>\n",
       "      <th>AAACAGCCAATGCGCT-1_20220928-IGVF-D0</th>\n",
       "      <td>73</td>\n",
       "      <td>941</td>\n",
       "      <td>10</td>\n",
       "      <td>2</td>\n",
       "      <td>25_A4</td>\n",
       "    </tr>\n",
       "    <tr>\n",
       "      <th>AAACAGCCATTGTGAT-1_20220928-IGVF-D0</th>\n",
       "      <td>97</td>\n",
       "      <td>1423</td>\n",
       "      <td>19</td>\n",
       "      <td>3</td>\n",
       "      <td>25_A4</td>\n",
       "    </tr>\n",
       "    <tr>\n",
       "      <th>AAACATGCAAACATAG-1_20220928-IGVF-D0</th>\n",
       "      <td>24</td>\n",
       "      <td>500</td>\n",
       "      <td>2</td>\n",
       "      <td>0</td>\n",
       "      <td>25_A4</td>\n",
       "    </tr>\n",
       "    <tr>\n",
       "      <th>AAACATGCAATCGCAC-1_20220928-IGVF-D0</th>\n",
       "      <td>123</td>\n",
       "      <td>1981</td>\n",
       "      <td>19</td>\n",
       "      <td>9</td>\n",
       "      <td>25_A4</td>\n",
       "    </tr>\n",
       "    <tr>\n",
       "      <th>AAACATGCAGGGAGGA-1_20220928-IGVF-D0</th>\n",
       "      <td>92</td>\n",
       "      <td>1611</td>\n",
       "      <td>22</td>\n",
       "      <td>3</td>\n",
       "      <td>25_A4</td>\n",
       "    </tr>\n",
       "    <tr>\n",
       "      <th>...</th>\n",
       "      <td>...</td>\n",
       "      <td>...</td>\n",
       "      <td>...</td>\n",
       "      <td>...</td>\n",
       "      <td>...</td>\n",
       "    </tr>\n",
       "    <tr>\n",
       "      <th>TTTGTGAAGGACGTAA-1_20220928-IGVF-D3</th>\n",
       "      <td>71</td>\n",
       "      <td>1776</td>\n",
       "      <td>44</td>\n",
       "      <td>0</td>\n",
       "      <td>48_V3</td>\n",
       "    </tr>\n",
       "    <tr>\n",
       "      <th>TTTGTGTTCAGGAAGC-1_20220928-IGVF-D3</th>\n",
       "      <td>30</td>\n",
       "      <td>1288</td>\n",
       "      <td>24</td>\n",
       "      <td>0</td>\n",
       "      <td>48_V3</td>\n",
       "    </tr>\n",
       "    <tr>\n",
       "      <th>TTTGTGTTCATAACGC-1_20220928-IGVF-D3</th>\n",
       "      <td>5</td>\n",
       "      <td>241</td>\n",
       "      <td>20</td>\n",
       "      <td>0</td>\n",
       "      <td>48_V3</td>\n",
       "    </tr>\n",
       "    <tr>\n",
       "      <th>TTTGTGTTCTTTAGGA-1_20220928-IGVF-D3</th>\n",
       "      <td>77</td>\n",
       "      <td>2020</td>\n",
       "      <td>34</td>\n",
       "      <td>1</td>\n",
       "      <td>48_V3</td>\n",
       "    </tr>\n",
       "    <tr>\n",
       "      <th>TTTGTTGGTCAGTAAT-1_20220928-IGVF-D3</th>\n",
       "      <td>48</td>\n",
       "      <td>1839</td>\n",
       "      <td>88</td>\n",
       "      <td>2</td>\n",
       "      <td>48_V3</td>\n",
       "    </tr>\n",
       "  </tbody>\n",
       "</table>\n",
       "<p>20910 rows × 5 columns</p>\n",
       "</div>"
      ],
      "text/plain": [
       "                                      C1    C2  I1  I2  donor\n",
       "AAACAGCCAATGCGCT-1_20220928-IGVF-D0   73   941  10   2  25_A4\n",
       "AAACAGCCATTGTGAT-1_20220928-IGVF-D0   97  1423  19   3  25_A4\n",
       "AAACATGCAAACATAG-1_20220928-IGVF-D0   24   500   2   0  25_A4\n",
       "AAACATGCAATCGCAC-1_20220928-IGVF-D0  123  1981  19   9  25_A4\n",
       "AAACATGCAGGGAGGA-1_20220928-IGVF-D0   92  1611  22   3  25_A4\n",
       "...                                  ...   ...  ..  ..    ...\n",
       "TTTGTGAAGGACGTAA-1_20220928-IGVF-D3   71  1776  44   0  48_V3\n",
       "TTTGTGTTCAGGAAGC-1_20220928-IGVF-D3   30  1288  24   0  48_V3\n",
       "TTTGTGTTCATAACGC-1_20220928-IGVF-D3    5   241  20   0  48_V3\n",
       "TTTGTGTTCTTTAGGA-1_20220928-IGVF-D3   77  2020  34   1  48_V3\n",
       "TTTGTTGGTCAGTAAT-1_20220928-IGVF-D3   48  1839  88   2  48_V3\n",
       "\n",
       "[20910 rows x 5 columns]"
      ]
     },
     "execution_count": 74,
     "metadata": {},
     "output_type": "execute_result"
    }
   ],
   "source": [
    "atac_method_con"
   ]
  },
  {
   "cell_type": "code",
   "execution_count": 75,
   "id": "ce32a1ca",
   "metadata": {},
   "outputs": [
    {
     "name": "stderr",
     "output_type": "stream",
     "text": [
      "/u/home/t/terencew/project-cluo/miniconda3/envs/allcools/lib/python3.7/site-packages/pandas/core/frame.py:6402: SettingWithCopyWarning: \n",
      "A value is trying to be set on a copy of a slice from a DataFrame\n",
      "\n",
      "See the caveats in the documentation: https://pandas.pydata.org/pandas-docs/stable/user_guide/indexing.html#returning-a-view-versus-a-copy\n",
      "  key,\n"
     ]
    },
    {
     "data": {
      "text/plain": [
       "((14658, 5), (14658, 5))"
      ]
     },
     "execution_count": 75,
     "metadata": {},
     "output_type": "execute_result"
    }
   ],
   "source": [
    "tmp_gex_con = gex_method_con[gex_method_con.index.isin(atac_method_con.index)]\n",
    "tmp_atac_con = atac_method_con[atac_method_con.index.isin(gex_method_con.index)]\n",
    "tmp_gex_con.sort_index(inplace=True)\n",
    "tmp_atac_con.sort_index(inplace=True)\n",
    "\n",
    "mask = tmp_gex_con['donor'] == tmp_atac_con['donor']\n",
    "\n",
    "tmp_gex_con = tmp_gex_con[mask]\n",
    "tmp_atac_con = tmp_atac_con[mask]\n",
    "\n",
    "tmp_gex_con.shape, tmp_atac_con.shape"
   ]
  },
  {
   "cell_type": "code",
   "execution_count": 76,
   "id": "4a53fc5b",
   "metadata": {},
   "outputs": [
    {
     "data": {
      "text/html": [
       "<div>\n",
       "<style scoped>\n",
       "    .dataframe tbody tr th:only-of-type {\n",
       "        vertical-align: middle;\n",
       "    }\n",
       "\n",
       "    .dataframe tbody tr th {\n",
       "        vertical-align: top;\n",
       "    }\n",
       "\n",
       "    .dataframe thead th {\n",
       "        text-align: right;\n",
       "    }\n",
       "</style>\n",
       "<table border=\"1\" class=\"dataframe\">\n",
       "  <thead>\n",
       "    <tr style=\"text-align: right;\">\n",
       "      <th></th>\n",
       "      <th>pearsonr</th>\n",
       "    </tr>\n",
       "  </thead>\n",
       "  <tbody>\n",
       "    <tr>\n",
       "      <th>C1</th>\n",
       "      <td>0.557303</td>\n",
       "    </tr>\n",
       "    <tr>\n",
       "      <th>C2</th>\n",
       "      <td>0.531934</td>\n",
       "    </tr>\n",
       "    <tr>\n",
       "      <th>I1</th>\n",
       "      <td>0.587645</td>\n",
       "    </tr>\n",
       "    <tr>\n",
       "      <th>I2</th>\n",
       "      <td>0.373286</td>\n",
       "    </tr>\n",
       "  </tbody>\n",
       "</table>\n",
       "</div>"
      ],
      "text/plain": [
       "    pearsonr\n",
       "C1  0.557303\n",
       "C2  0.531934\n",
       "I1  0.587645\n",
       "I2  0.373286"
      ]
     },
     "execution_count": 76,
     "metadata": {},
     "output_type": "execute_result"
    }
   ],
   "source": [
    "con_corrs = pd.DataFrame(index=con_cols, columns=['pearsonr'])\n",
    "for col in con_cols:    \n",
    "    con_corrs.loc[col] = pearsonr(tmp_gex_con[col], tmp_atac_con[col])[0]\n",
    "con_corrs    "
   ]
  },
  {
   "cell_type": "code",
   "execution_count": 77,
   "id": "fdb6ad4a",
   "metadata": {},
   "outputs": [
    {
     "data": {
      "text/html": [
       "<div>\n",
       "<style scoped>\n",
       "    .dataframe tbody tr th:only-of-type {\n",
       "        vertical-align: middle;\n",
       "    }\n",
       "\n",
       "    .dataframe tbody tr th {\n",
       "        vertical-align: top;\n",
       "    }\n",
       "\n",
       "    .dataframe thead th {\n",
       "        text-align: right;\n",
       "    }\n",
       "</style>\n",
       "<table border=\"1\" class=\"dataframe\">\n",
       "  <thead>\n",
       "    <tr style=\"text-align: right;\">\n",
       "      <th></th>\n",
       "      <th>spearmanr</th>\n",
       "    </tr>\n",
       "  </thead>\n",
       "  <tbody>\n",
       "    <tr>\n",
       "      <th>C1</th>\n",
       "      <td>0.525168</td>\n",
       "    </tr>\n",
       "    <tr>\n",
       "      <th>C2</th>\n",
       "      <td>0.353866</td>\n",
       "    </tr>\n",
       "    <tr>\n",
       "      <th>I1</th>\n",
       "      <td>0.124451</td>\n",
       "    </tr>\n",
       "    <tr>\n",
       "      <th>I2</th>\n",
       "      <td>0.279859</td>\n",
       "    </tr>\n",
       "  </tbody>\n",
       "</table>\n",
       "</div>"
      ],
      "text/plain": [
       "   spearmanr\n",
       "C1  0.525168\n",
       "C2  0.353866\n",
       "I1  0.124451\n",
       "I2  0.279859"
      ]
     },
     "execution_count": 77,
     "metadata": {},
     "output_type": "execute_result"
    }
   ],
   "source": [
    "con_corrs = pd.DataFrame(index=con_cols, columns=['spearmanr'])\n",
    "for col in con_cols:    \n",
    "    con_corrs.loc[col] = spearmanr(tmp_gex_con[col], tmp_atac_con[col])[0]\n",
    "con_corrs"
   ]
  },
  {
   "cell_type": "code",
   "execution_count": 78,
   "id": "e89b4f26",
   "metadata": {},
   "outputs": [
    {
     "data": {
      "text/html": [
       "<div>\n",
       "<style scoped>\n",
       "    .dataframe tbody tr th:only-of-type {\n",
       "        vertical-align: middle;\n",
       "    }\n",
       "\n",
       "    .dataframe tbody tr th {\n",
       "        vertical-align: top;\n",
       "    }\n",
       "\n",
       "    .dataframe thead th {\n",
       "        text-align: right;\n",
       "    }\n",
       "</style>\n",
       "<table border=\"1\" class=\"dataframe\">\n",
       "  <thead>\n",
       "    <tr style=\"text-align: right;\">\n",
       "      <th></th>\n",
       "      <th>C1</th>\n",
       "      <th>C2</th>\n",
       "      <th>I1</th>\n",
       "      <th>I2</th>\n",
       "      <th>donor</th>\n",
       "    </tr>\n",
       "  </thead>\n",
       "  <tbody>\n",
       "    <tr>\n",
       "      <th>AAACAGCCAAAGGCCA-1_20220928-IGVF-D3</th>\n",
       "      <td>115</td>\n",
       "      <td>1055</td>\n",
       "      <td>31</td>\n",
       "      <td>8</td>\n",
       "      <td>27_C4</td>\n",
       "    </tr>\n",
       "    <tr>\n",
       "      <th>AAACAGCCAACATAAG-1_20220928-IGVF-D3</th>\n",
       "      <td>29</td>\n",
       "      <td>568</td>\n",
       "      <td>11</td>\n",
       "      <td>1</td>\n",
       "      <td>25_A4</td>\n",
       "    </tr>\n",
       "    <tr>\n",
       "      <th>AAACAGCCAATGCGCT-1_20220928-IGVF-D0</th>\n",
       "      <td>82</td>\n",
       "      <td>1118</td>\n",
       "      <td>19</td>\n",
       "      <td>3</td>\n",
       "      <td>25_A4</td>\n",
       "    </tr>\n",
       "    <tr>\n",
       "      <th>AAACAGCCAATTAGGA-1_20220928-IGVF-D3</th>\n",
       "      <td>19</td>\n",
       "      <td>492</td>\n",
       "      <td>15</td>\n",
       "      <td>0</td>\n",
       "      <td>48_V3</td>\n",
       "    </tr>\n",
       "    <tr>\n",
       "      <th>AAACAGCCAGCACGAA-1_20220928-IGVF-D3</th>\n",
       "      <td>58</td>\n",
       "      <td>822</td>\n",
       "      <td>12</td>\n",
       "      <td>4</td>\n",
       "      <td>25_A4</td>\n",
       "    </tr>\n",
       "    <tr>\n",
       "      <th>...</th>\n",
       "      <td>...</td>\n",
       "      <td>...</td>\n",
       "      <td>...</td>\n",
       "      <td>...</td>\n",
       "      <td>...</td>\n",
       "    </tr>\n",
       "    <tr>\n",
       "      <th>TTTGTTGGTGTTGTAG-1_20220928-IGVF-D3</th>\n",
       "      <td>25</td>\n",
       "      <td>392</td>\n",
       "      <td>18</td>\n",
       "      <td>2</td>\n",
       "      <td>25_A4</td>\n",
       "    </tr>\n",
       "    <tr>\n",
       "      <th>TTTGTTGGTTAGTACG-1_20220928-IGVF-D0</th>\n",
       "      <td>26</td>\n",
       "      <td>761</td>\n",
       "      <td>26</td>\n",
       "      <td>4</td>\n",
       "      <td>48_V3</td>\n",
       "    </tr>\n",
       "    <tr>\n",
       "      <th>TTTGTTGGTTGCCTCA-1_20220928-IGVF-D3</th>\n",
       "      <td>33</td>\n",
       "      <td>410</td>\n",
       "      <td>10</td>\n",
       "      <td>2</td>\n",
       "      <td>25_A4</td>\n",
       "    </tr>\n",
       "    <tr>\n",
       "      <th>TTTGTTGGTTGGATAT-1_20220928-IGVF-D3</th>\n",
       "      <td>40</td>\n",
       "      <td>557</td>\n",
       "      <td>13</td>\n",
       "      <td>1</td>\n",
       "      <td>25_A4</td>\n",
       "    </tr>\n",
       "    <tr>\n",
       "      <th>TTTGTTGGTTTGACCT-1_20220928-IGVF-D3</th>\n",
       "      <td>42</td>\n",
       "      <td>887</td>\n",
       "      <td>17</td>\n",
       "      <td>5</td>\n",
       "      <td>26_A10</td>\n",
       "    </tr>\n",
       "  </tbody>\n",
       "</table>\n",
       "<p>14658 rows × 5 columns</p>\n",
       "</div>"
      ],
      "text/plain": [
       "                                      C1    C2  I1  I2   donor\n",
       "AAACAGCCAAAGGCCA-1_20220928-IGVF-D3  115  1055  31   8   27_C4\n",
       "AAACAGCCAACATAAG-1_20220928-IGVF-D3   29   568  11   1   25_A4\n",
       "AAACAGCCAATGCGCT-1_20220928-IGVF-D0   82  1118  19   3   25_A4\n",
       "AAACAGCCAATTAGGA-1_20220928-IGVF-D3   19   492  15   0   48_V3\n",
       "AAACAGCCAGCACGAA-1_20220928-IGVF-D3   58   822  12   4   25_A4\n",
       "...                                  ...   ...  ..  ..     ...\n",
       "TTTGTTGGTGTTGTAG-1_20220928-IGVF-D3   25   392  18   2   25_A4\n",
       "TTTGTTGGTTAGTACG-1_20220928-IGVF-D0   26   761  26   4   48_V3\n",
       "TTTGTTGGTTGCCTCA-1_20220928-IGVF-D3   33   410  10   2   25_A4\n",
       "TTTGTTGGTTGGATAT-1_20220928-IGVF-D3   40   557  13   1   25_A4\n",
       "TTTGTTGGTTTGACCT-1_20220928-IGVF-D3   42   887  17   5  26_A10\n",
       "\n",
       "[14658 rows x 5 columns]"
      ]
     },
     "execution_count": 78,
     "metadata": {},
     "output_type": "execute_result"
    }
   ],
   "source": [
    "tmp_gex_con"
   ]
  },
  {
   "cell_type": "code",
   "execution_count": 79,
   "id": "a4fe5196",
   "metadata": {},
   "outputs": [
    {
     "data": {
      "text/html": [
       "<div>\n",
       "<style scoped>\n",
       "    .dataframe tbody tr th:only-of-type {\n",
       "        vertical-align: middle;\n",
       "    }\n",
       "\n",
       "    .dataframe tbody tr th {\n",
       "        vertical-align: top;\n",
       "    }\n",
       "\n",
       "    .dataframe thead th {\n",
       "        text-align: right;\n",
       "    }\n",
       "</style>\n",
       "<table border=\"1\" class=\"dataframe\">\n",
       "  <thead>\n",
       "    <tr style=\"text-align: right;\">\n",
       "      <th></th>\n",
       "      <th>C1</th>\n",
       "      <th>C2</th>\n",
       "      <th>I1</th>\n",
       "      <th>I2</th>\n",
       "      <th>donor</th>\n",
       "    </tr>\n",
       "  </thead>\n",
       "  <tbody>\n",
       "    <tr>\n",
       "      <th>AAACAGCCAAAGGCCA-1_20220928-IGVF-D3</th>\n",
       "      <td>501</td>\n",
       "      <td>4041</td>\n",
       "      <td>51</td>\n",
       "      <td>12</td>\n",
       "      <td>27_C4</td>\n",
       "    </tr>\n",
       "    <tr>\n",
       "      <th>AAACAGCCAACATAAG-1_20220928-IGVF-D3</th>\n",
       "      <td>112</td>\n",
       "      <td>2131</td>\n",
       "      <td>30</td>\n",
       "      <td>4</td>\n",
       "      <td>25_A4</td>\n",
       "    </tr>\n",
       "    <tr>\n",
       "      <th>AAACAGCCAATGCGCT-1_20220928-IGVF-D0</th>\n",
       "      <td>73</td>\n",
       "      <td>941</td>\n",
       "      <td>10</td>\n",
       "      <td>2</td>\n",
       "      <td>25_A4</td>\n",
       "    </tr>\n",
       "    <tr>\n",
       "      <th>AAACAGCCAATTAGGA-1_20220928-IGVF-D3</th>\n",
       "      <td>134</td>\n",
       "      <td>3210</td>\n",
       "      <td>43</td>\n",
       "      <td>3</td>\n",
       "      <td>48_V3</td>\n",
       "    </tr>\n",
       "    <tr>\n",
       "      <th>AAACAGCCAGCACGAA-1_20220928-IGVF-D3</th>\n",
       "      <td>27</td>\n",
       "      <td>473</td>\n",
       "      <td>8</td>\n",
       "      <td>2</td>\n",
       "      <td>25_A4</td>\n",
       "    </tr>\n",
       "    <tr>\n",
       "      <th>...</th>\n",
       "      <td>...</td>\n",
       "      <td>...</td>\n",
       "      <td>...</td>\n",
       "      <td>...</td>\n",
       "      <td>...</td>\n",
       "    </tr>\n",
       "    <tr>\n",
       "      <th>TTTGTTGGTGTTGTAG-1_20220928-IGVF-D3</th>\n",
       "      <td>190</td>\n",
       "      <td>3069</td>\n",
       "      <td>111</td>\n",
       "      <td>2</td>\n",
       "      <td>25_A4</td>\n",
       "    </tr>\n",
       "    <tr>\n",
       "      <th>TTTGTTGGTTAGTACG-1_20220928-IGVF-D0</th>\n",
       "      <td>63</td>\n",
       "      <td>1192</td>\n",
       "      <td>12</td>\n",
       "      <td>2</td>\n",
       "      <td>48_V3</td>\n",
       "    </tr>\n",
       "    <tr>\n",
       "      <th>TTTGTTGGTTGCCTCA-1_20220928-IGVF-D3</th>\n",
       "      <td>35</td>\n",
       "      <td>698</td>\n",
       "      <td>19</td>\n",
       "      <td>2</td>\n",
       "      <td>25_A4</td>\n",
       "    </tr>\n",
       "    <tr>\n",
       "      <th>TTTGTTGGTTGGATAT-1_20220928-IGVF-D3</th>\n",
       "      <td>91</td>\n",
       "      <td>1536</td>\n",
       "      <td>32</td>\n",
       "      <td>3</td>\n",
       "      <td>25_A4</td>\n",
       "    </tr>\n",
       "    <tr>\n",
       "      <th>TTTGTTGGTTTGACCT-1_20220928-IGVF-D3</th>\n",
       "      <td>57</td>\n",
       "      <td>1246</td>\n",
       "      <td>20</td>\n",
       "      <td>3</td>\n",
       "      <td>26_A10</td>\n",
       "    </tr>\n",
       "  </tbody>\n",
       "</table>\n",
       "<p>14658 rows × 5 columns</p>\n",
       "</div>"
      ],
      "text/plain": [
       "                                      C1    C2   I1  I2   donor\n",
       "AAACAGCCAAAGGCCA-1_20220928-IGVF-D3  501  4041   51  12   27_C4\n",
       "AAACAGCCAACATAAG-1_20220928-IGVF-D3  112  2131   30   4   25_A4\n",
       "AAACAGCCAATGCGCT-1_20220928-IGVF-D0   73   941   10   2   25_A4\n",
       "AAACAGCCAATTAGGA-1_20220928-IGVF-D3  134  3210   43   3   48_V3\n",
       "AAACAGCCAGCACGAA-1_20220928-IGVF-D3   27   473    8   2   25_A4\n",
       "...                                  ...   ...  ...  ..     ...\n",
       "TTTGTTGGTGTTGTAG-1_20220928-IGVF-D3  190  3069  111   2   25_A4\n",
       "TTTGTTGGTTAGTACG-1_20220928-IGVF-D0   63  1192   12   2   48_V3\n",
       "TTTGTTGGTTGCCTCA-1_20220928-IGVF-D3   35   698   19   2   25_A4\n",
       "TTTGTTGGTTGGATAT-1_20220928-IGVF-D3   91  1536   32   3   25_A4\n",
       "TTTGTTGGTTTGACCT-1_20220928-IGVF-D3   57  1246   20   3  26_A10\n",
       "\n",
       "[14658 rows x 5 columns]"
      ]
     },
     "execution_count": 79,
     "metadata": {},
     "output_type": "execute_result"
    }
   ],
   "source": [
    "tmp_atac_con"
   ]
  },
  {
   "cell_type": "code",
   "execution_count": 80,
   "id": "73ac26e0",
   "metadata": {},
   "outputs": [
    {
     "data": {
      "image/png": "[encoded data removed]",
      "text/plain": [
       "<Figure size 432x288 with 1 Axes>"
      ]
     },
     "metadata": {
      "needs_background": "light"
     },
     "output_type": "display_data"
    }
   ],
   "source": [
    "ax = sns.scatterplot(x=tmp_gex_con['I1'], y=tmp_atac_con['I1'])\n",
    "# ax.set_xlim((0, 1000))"
   ]
  },
  {
   "cell_type": "code",
   "execution_count": 71,
   "id": "3662541b",
   "metadata": {},
   "outputs": [],
   "source": [
    "merged_con = pd.concat([tmp_gex_con['I1'], tmp_atac_con['I1']], axis=1)\n",
    "merged_con.columns = ['RNA', 'ATAC']\n",
    "merged_con.to_csv(f'{projdir}/csv/final_figures/figure6/figure_6c_rna_atac_i1_corr.csv',\n",
    "                  sep='\\t', header=True, index=True)"
   ]
  },
  {
   "cell_type": "code",
   "execution_count": 81,
   "id": "a9985a14",
   "metadata": {},
   "outputs": [],
   "source": [
    "# merged_con = pd.concat([tmp_gex_con['C1'], tmp_atac_con['C1']], axis=1)"
   ]
  },
  {
   "cell_type": "code",
   "execution_count": 82,
   "id": "57409451",
   "metadata": {},
   "outputs": [
    {
     "data": {
      "text/plain": [
       "(14658, 2)"
      ]
     },
     "execution_count": 82,
     "metadata": {},
     "output_type": "execute_result"
    }
   ],
   "source": [
    "merged_con.shape"
   ]
  },
  {
   "cell_type": "markdown",
   "id": "87c0b2cf",
   "metadata": {},
   "source": [
    "### what about just trying to understand I1 rates between modalities?"
   ]
  },
  {
   "cell_type": "code",
   "execution_count": 7,
   "id": "40c46036",
   "metadata": {},
   "outputs": [
    {
     "name": "stdout",
     "output_type": "stream",
     "text": [
      "demuxlet 21408\n",
      "freemuxlet 28172\n",
      "vireo 22168\n",
      "vireo_nogenos 23349\n",
      "scsplit 23702\n",
      "scsplit_nogenos 24056\n",
      "souporcell 24138\n",
      "souporcell_nogenos 24933\n",
      "demuxalot 19984\n"
     ]
    }
   ],
   "source": [
    "cov = 0\n",
    "\n",
    "tmp_cols = con_cols\n",
    "gex_dir = f'{projdir}/csv/var_consistency/real/gex/merged/'\n",
    "all_con_gex = pd.DataFrame(index=gex_methods, columns=tmp_cols, data=0)\n",
    "for method in gex_methods:\n",
    "    mask = gex[method] != 'non_singlet'\n",
    "    gex_con = pd.read_csv(f'{gex_dir}/{method}_cov{cov}_varcon.csv', sep='\\t', header=0, index_col=0)\n",
    "    \n",
    "    method_gex = gex[mask]\n",
    "    mask = gex_con.index.isin(method_gex.index)\n",
    "    gex_con = gex_con[mask]\n",
    "    tmp_gex_con = pd.DataFrame(gex_con.sum(axis=0)[:4]).transpose()\n",
    "    all_con_gex.loc[method] = list(tmp_gex_con.iloc[0])\n",
    "    print(method, method_gex.shape[0])"
   ]
  },
  {
   "cell_type": "code",
   "execution_count": 12,
   "id": "d1fa7c48",
   "metadata": {},
   "outputs": [],
   "source": [
    "cov = 0\n",
    "method = 'vireo'\n",
    "\n",
    "gex_dir = f'{projdir}/csv/var_consistency/real/gex/merged/'\n",
    "gex_con = pd.read_csv(f'{gex_dir}/{method}_cov{cov}_varcon.csv', sep='\\t', header=0, index_col=0)\n",
    "\n",
    "atac_dir = f'{projdir}/csv/var_consistency/real/atac/merged/'\n",
    "atac_con = pd.read_csv(f'{atac_dir}/{method}_cov{cov}_varcon.csv', sep='\\t', header=0, index_col=0)"
   ]
  },
  {
   "cell_type": "code",
   "execution_count": 16,
   "id": "924f31df",
   "metadata": {},
   "outputs": [],
   "source": [
    "gex_demux = gex[gex[method] != 'non_singlet'][method]\n",
    "mask = atac_con.index.isin(gex_demux.index)\n",
    "gex_demux_atac_con = atac_con[mask]"
   ]
  },
  {
   "cell_type": "code",
   "execution_count": 25,
   "id": "5ed81e5c",
   "metadata": {},
   "outputs": [],
   "source": [
    "atac_demux = atac[atac[method] != 'non_singlet'][method]\n",
    "mask = gex_con.index.isin(atac_demux.index)\n",
    "atac_demux_gex_con = gex_con[mask]\n",
    "gex_demux_atac_con = gex_demux_atac_con[~gex_demux_atac_con.index.duplicated()]\n",
    "atac_demux_gex_con = atac_demux_gex_con[~atac_demux_gex_con.index.duplicated()]"
   ]
  },
  {
   "cell_type": "code",
   "execution_count": 26,
   "id": "0142870e",
   "metadata": {},
   "outputs": [
    {
     "data": {
      "text/plain": [
       "((20748, 5), (20748, 5))"
      ]
     },
     "execution_count": 26,
     "metadata": {},
     "output_type": "execute_result"
    }
   ],
   "source": [
    "gex_demux_atac_con.shape, atac_demux_gex_con.shape"
   ]
  },
  {
   "cell_type": "code",
   "execution_count": 29,
   "id": "3089b0b2",
   "metadata": {},
   "outputs": [],
   "source": [
    "gex_demux_atac_con['mod'] = 'RNA'\n",
    "atac_demux_gex_con['mod'] = 'ATAC'"
   ]
  },
  {
   "cell_type": "code",
   "execution_count": 67,
   "id": "32ef5d9a",
   "metadata": {},
   "outputs": [
    {
     "data": {
      "text/html": [
       "<div>\n",
       "<style scoped>\n",
       "    .dataframe tbody tr th:only-of-type {\n",
       "        vertical-align: middle;\n",
       "    }\n",
       "\n",
       "    .dataframe tbody tr th {\n",
       "        vertical-align: top;\n",
       "    }\n",
       "\n",
       "    .dataframe thead th {\n",
       "        text-align: right;\n",
       "    }\n",
       "</style>\n",
       "<table border=\"1\" class=\"dataframe\">\n",
       "  <thead>\n",
       "    <tr style=\"text-align: right;\">\n",
       "      <th></th>\n",
       "      <th>C1</th>\n",
       "      <th>C2</th>\n",
       "      <th>I1</th>\n",
       "      <th>I2</th>\n",
       "      <th>donor</th>\n",
       "    </tr>\n",
       "  </thead>\n",
       "  <tbody>\n",
       "    <tr>\n",
       "      <th>AAACAGCCAATGCGCT-1_20220928-IGVF-D0</th>\n",
       "      <td>82</td>\n",
       "      <td>1118</td>\n",
       "      <td>19</td>\n",
       "      <td>3</td>\n",
       "      <td>25_A4</td>\n",
       "    </tr>\n",
       "    <tr>\n",
       "      <th>AAACAGCCATTGTGAT-1_20220928-IGVF-D0</th>\n",
       "      <td>48</td>\n",
       "      <td>1046</td>\n",
       "      <td>34</td>\n",
       "      <td>2</td>\n",
       "      <td>25_A4</td>\n",
       "    </tr>\n",
       "    <tr>\n",
       "      <th>AAACATGCAAACATAG-1_20220928-IGVF-D0</th>\n",
       "      <td>28</td>\n",
       "      <td>551</td>\n",
       "      <td>22</td>\n",
       "      <td>6</td>\n",
       "      <td>25_A4</td>\n",
       "    </tr>\n",
       "    <tr>\n",
       "      <th>AAACATGCAATCGCAC-1_20220928-IGVF-D0</th>\n",
       "      <td>42</td>\n",
       "      <td>831</td>\n",
       "      <td>22</td>\n",
       "      <td>2</td>\n",
       "      <td>25_A4</td>\n",
       "    </tr>\n",
       "    <tr>\n",
       "      <th>AAACATGCAGGGAGGA-1_20220928-IGVF-D0</th>\n",
       "      <td>38</td>\n",
       "      <td>731</td>\n",
       "      <td>19</td>\n",
       "      <td>5</td>\n",
       "      <td>25_A4</td>\n",
       "    </tr>\n",
       "  </tbody>\n",
       "</table>\n",
       "</div>"
      ],
      "text/plain": [
       "                                     C1    C2  I1  I2  donor\n",
       "AAACAGCCAATGCGCT-1_20220928-IGVF-D0  82  1118  19   3  25_A4\n",
       "AAACAGCCATTGTGAT-1_20220928-IGVF-D0  48  1046  34   2  25_A4\n",
       "AAACATGCAAACATAG-1_20220928-IGVF-D0  28   551  22   6  25_A4\n",
       "AAACATGCAATCGCAC-1_20220928-IGVF-D0  42   831  22   2  25_A4\n",
       "AAACATGCAGGGAGGA-1_20220928-IGVF-D0  38   731  19   5  25_A4"
      ]
     },
     "execution_count": 67,
     "metadata": {},
     "output_type": "execute_result"
    }
   ],
   "source": [
    "gex_con.head()"
   ]
  },
  {
   "cell_type": "code",
   "execution_count": 68,
   "id": "acf269fa",
   "metadata": {},
   "outputs": [
    {
     "data": {
      "text/html": [
       "<div>\n",
       "<style scoped>\n",
       "    .dataframe tbody tr th:only-of-type {\n",
       "        vertical-align: middle;\n",
       "    }\n",
       "\n",
       "    .dataframe tbody tr th {\n",
       "        vertical-align: top;\n",
       "    }\n",
       "\n",
       "    .dataframe thead th {\n",
       "        text-align: right;\n",
       "    }\n",
       "</style>\n",
       "<table border=\"1\" class=\"dataframe\">\n",
       "  <thead>\n",
       "    <tr style=\"text-align: right;\">\n",
       "      <th></th>\n",
       "      <th>C1</th>\n",
       "      <th>C2</th>\n",
       "      <th>I1</th>\n",
       "      <th>I2</th>\n",
       "      <th>donor</th>\n",
       "    </tr>\n",
       "  </thead>\n",
       "  <tbody>\n",
       "    <tr>\n",
       "      <th>AAACAGCCAATGCGCT-1_20220928-IGVF-D0</th>\n",
       "      <td>73</td>\n",
       "      <td>941</td>\n",
       "      <td>10</td>\n",
       "      <td>2</td>\n",
       "      <td>25_A4</td>\n",
       "    </tr>\n",
       "    <tr>\n",
       "      <th>AAACAGCCATTGTGAT-1_20220928-IGVF-D0</th>\n",
       "      <td>97</td>\n",
       "      <td>1423</td>\n",
       "      <td>19</td>\n",
       "      <td>3</td>\n",
       "      <td>25_A4</td>\n",
       "    </tr>\n",
       "    <tr>\n",
       "      <th>AAACATGCAAACATAG-1_20220928-IGVF-D0</th>\n",
       "      <td>24</td>\n",
       "      <td>500</td>\n",
       "      <td>2</td>\n",
       "      <td>0</td>\n",
       "      <td>25_A4</td>\n",
       "    </tr>\n",
       "    <tr>\n",
       "      <th>AAACATGCAATCGCAC-1_20220928-IGVF-D0</th>\n",
       "      <td>123</td>\n",
       "      <td>1981</td>\n",
       "      <td>19</td>\n",
       "      <td>9</td>\n",
       "      <td>25_A4</td>\n",
       "    </tr>\n",
       "    <tr>\n",
       "      <th>AAACATGCAGGGAGGA-1_20220928-IGVF-D0</th>\n",
       "      <td>92</td>\n",
       "      <td>1611</td>\n",
       "      <td>22</td>\n",
       "      <td>3</td>\n",
       "      <td>25_A4</td>\n",
       "    </tr>\n",
       "  </tbody>\n",
       "</table>\n",
       "</div>"
      ],
      "text/plain": [
       "                                      C1    C2  I1  I2  donor\n",
       "AAACAGCCAATGCGCT-1_20220928-IGVF-D0   73   941  10   2  25_A4\n",
       "AAACAGCCATTGTGAT-1_20220928-IGVF-D0   97  1423  19   3  25_A4\n",
       "AAACATGCAAACATAG-1_20220928-IGVF-D0   24   500   2   0  25_A4\n",
       "AAACATGCAATCGCAC-1_20220928-IGVF-D0  123  1981  19   9  25_A4\n",
       "AAACATGCAGGGAGGA-1_20220928-IGVF-D0   92  1611  22   3  25_A4"
      ]
     },
     "execution_count": 68,
     "metadata": {},
     "output_type": "execute_result"
    }
   ],
   "source": [
    "atac_con.head()"
   ]
  },
  {
   "cell_type": "code",
   "execution_count": 54,
   "id": "cc4ae248",
   "metadata": {},
   "outputs": [
    {
     "data": {
      "text/plain": [
       "((20748, 5), (20748, 5))"
      ]
     },
     "execution_count": 54,
     "metadata": {},
     "output_type": "execute_result"
    }
   ],
   "source": [
    "true_gex_con = gex_con[gex_con.index.isin(gex_demux_atac_con.index)]\n",
    "true_atac_con = atac_con[atac_con.index.isin(atac_demux_gex_con.index)]\n",
    "true_gex_con = true_gex_con[~true_gex_con.index.duplicated()]\n",
    "true_atac_con = true_atac_con[~true_atac_con.index.duplicated()]\n",
    "true_gex_con.shape, true_atac_con.shape"
   ]
  },
  {
   "cell_type": "code",
   "execution_count": 56,
   "id": "8f4bfccf",
   "metadata": {
    "scrolled": true
   },
   "outputs": [
    {
     "data": {
      "text/plain": [
       "<AxesSubplot:xlabel='C2', ylabel='C2'>"
      ]
     },
     "execution_count": 56,
     "metadata": {},
     "output_type": "execute_result"
    },
    {
     "data": {
      "image/png": "[encoded data removed]",
      "text/plain": [
       "<Figure size 432x288 with 1 Axes>"
      ]
     },
     "metadata": {
      "needs_background": "light"
     },
     "output_type": "display_data"
    }
   ],
   "source": [
    "sns.scatterplot(x=true_gex_con['C2'], y=gex_demux_atac_con['C2'])"
   ]
  },
  {
   "cell_type": "code",
   "execution_count": 58,
   "id": "fd78ffe3",
   "metadata": {},
   "outputs": [
    {
     "data": {
      "text/plain": [
       "<AxesSubplot:xlabel='I1', ylabel='I1'>"
      ]
     },
     "execution_count": 58,
     "metadata": {},
     "output_type": "execute_result"
    },
    {
     "data": {
      "image/png": "[encoded data removed]",
      "text/plain": [
       "<Figure size 432x288 with 1 Axes>"
      ]
     },
     "metadata": {
      "needs_background": "light"
     },
     "output_type": "display_data"
    }
   ],
   "source": [
    "sns.scatterplot(x=true_gex_con['I1'], y=gex_demux_atac_con['I1'])"
   ]
  },
  {
   "cell_type": "code",
   "execution_count": 77,
   "id": "d0a0db7e",
   "metadata": {},
   "outputs": [],
   "source": [
    "# sns.scatterplot(x=true_atac_con['C2'], y=atac_demux_gex_con['C2'])"
   ]
  },
  {
   "cell_type": "code",
   "execution_count": 83,
   "id": "ef044f93",
   "metadata": {},
   "outputs": [
    {
     "data": {
      "text/plain": [
       "(AAACAGCCAATGCGCT-1_20220928-IGVF-D0     941\n",
       " AAACAGCCATTGTGAT-1_20220928-IGVF-D0    1423\n",
       " AAACATGCAAACATAG-1_20220928-IGVF-D0     500\n",
       " AAACATGCAATCGCAC-1_20220928-IGVF-D0    1981\n",
       " AAACATGCAGGGAGGA-1_20220928-IGVF-D0    1611\n",
       " Name: C2, dtype: int64,\n",
       " AAACAGCCAATGCGCT-1_20220928-IGVF-D0    1118\n",
       " AAACAGCCATTGTGAT-1_20220928-IGVF-D0    1046\n",
       " AAACATGCAAACATAG-1_20220928-IGVF-D0     551\n",
       " AAACATGCAATCGCAC-1_20220928-IGVF-D0     831\n",
       " AAACATGCAGGGAGGA-1_20220928-IGVF-D0     731\n",
       " Name: C2, dtype: int64)"
      ]
     },
     "execution_count": 83,
     "metadata": {},
     "output_type": "execute_result"
    }
   ],
   "source": [
    "true_atac_con['C2'].head(), atac_demux_gex_con['C2'].head()"
   ]
  },
  {
   "cell_type": "code",
   "execution_count": 84,
   "id": "a03d6ccd",
   "metadata": {},
   "outputs": [
    {
     "data": {
      "text/plain": [
       "(AAACAGCCAATGCGCT-1_20220928-IGVF-D0    1118\n",
       " AAACAGCCATTGTGAT-1_20220928-IGVF-D0    1046\n",
       " AAACATGCAAACATAG-1_20220928-IGVF-D0     551\n",
       " AAACATGCAATCGCAC-1_20220928-IGVF-D0     831\n",
       " AAACATGCAGGGAGGA-1_20220928-IGVF-D0     731\n",
       " Name: C2, dtype: int64,\n",
       " AAACAGCCAATGCGCT-1_20220928-IGVF-D0     941\n",
       " AAACAGCCATTGTGAT-1_20220928-IGVF-D0    1423\n",
       " AAACATGCAAACATAG-1_20220928-IGVF-D0     500\n",
       " AAACATGCAATCGCAC-1_20220928-IGVF-D0    1981\n",
       " AAACATGCAGGGAGGA-1_20220928-IGVF-D0    1611\n",
       " Name: C2, dtype: int64)"
      ]
     },
     "execution_count": 84,
     "metadata": {},
     "output_type": "execute_result"
    }
   ],
   "source": [
    "true_gex_con['C2'].head(), gex_demux_atac_con['C2'].head()"
   ]
  },
  {
   "cell_type": "code",
   "execution_count": 78,
   "id": "64276c59",
   "metadata": {},
   "outputs": [],
   "source": [
    "# sns.scatterplot(x=true_atac_con['I1'], y=atac_demux_gex_con['I1'])"
   ]
  },
  {
   "cell_type": "code",
   "execution_count": 88,
   "id": "164543b7",
   "metadata": {},
   "outputs": [
    {
     "data": {
      "text/plain": [
       "(3.459705851436051e-103,\n",
       " 0.8119791774224151,\n",
       " 0.43628390223028307,\n",
       " 2.5948785955426734e-12)"
      ]
     },
     "execution_count": 88,
     "metadata": {},
     "output_type": "execute_result"
    }
   ],
   "source": [
    "pearsonr(true_gex_con['C1'], gex_demux_atac_con['C1'])[1], \\\n",
    "pearsonr(true_gex_con['C2'], gex_demux_atac_con['C2'])[1], \\\n",
    "pearsonr(true_gex_con['I1'], gex_demux_atac_con['I1'])[1], \\\n",
    "pearsonr(true_gex_con['I2'], gex_demux_atac_con['I2'])[1]"
   ]
  },
  {
   "cell_type": "code",
   "execution_count": 73,
   "id": "50d2bd08",
   "metadata": {},
   "outputs": [
    {
     "data": {
      "text/plain": [
       "(0.876654496635352,\n",
       " 4.5121714119506135e-52,\n",
       " 0.876654496635352,\n",
       " 4.512171411950421e-52)"
      ]
     },
     "execution_count": 73,
     "metadata": {},
     "output_type": "execute_result"
    }
   ],
   "source": [
    "spearmanr(true_gex_con['C2'], gex_demux_atac_con['C2'])[1], \\\n",
    "spearmanr(true_gex_con['I1'], gex_demux_atac_con['I1'])[1]"
   ]
  },
  {
   "cell_type": "code",
   "execution_count": 55,
   "id": "4a770a03",
   "metadata": {},
   "outputs": [
    {
     "data": {
      "text/html": [
       "<div>\n",
       "<style scoped>\n",
       "    .dataframe tbody tr th:only-of-type {\n",
       "        vertical-align: middle;\n",
       "    }\n",
       "\n",
       "    .dataframe tbody tr th {\n",
       "        vertical-align: top;\n",
       "    }\n",
       "\n",
       "    .dataframe thead th {\n",
       "        text-align: right;\n",
       "    }\n",
       "</style>\n",
       "<table border=\"1\" class=\"dataframe\">\n",
       "  <thead>\n",
       "    <tr style=\"text-align: right;\">\n",
       "      <th></th>\n",
       "      <th>C1</th>\n",
       "      <th>C2</th>\n",
       "      <th>I1</th>\n",
       "      <th>I2</th>\n",
       "      <th>mod</th>\n",
       "    </tr>\n",
       "  </thead>\n",
       "  <tbody>\n",
       "    <tr>\n",
       "      <th>AAACAGCCAATGCGCT-1_20220928-IGVF-D0</th>\n",
       "      <td>73</td>\n",
       "      <td>941</td>\n",
       "      <td>10</td>\n",
       "      <td>2</td>\n",
       "      <td>RNA</td>\n",
       "    </tr>\n",
       "    <tr>\n",
       "      <th>AAACAGCCATTGTGAT-1_20220928-IGVF-D0</th>\n",
       "      <td>97</td>\n",
       "      <td>1423</td>\n",
       "      <td>19</td>\n",
       "      <td>3</td>\n",
       "      <td>RNA</td>\n",
       "    </tr>\n",
       "    <tr>\n",
       "      <th>AAACATGCAAACATAG-1_20220928-IGVF-D0</th>\n",
       "      <td>24</td>\n",
       "      <td>500</td>\n",
       "      <td>2</td>\n",
       "      <td>0</td>\n",
       "      <td>RNA</td>\n",
       "    </tr>\n",
       "    <tr>\n",
       "      <th>AAACATGCAATCGCAC-1_20220928-IGVF-D0</th>\n",
       "      <td>123</td>\n",
       "      <td>1981</td>\n",
       "      <td>19</td>\n",
       "      <td>9</td>\n",
       "      <td>RNA</td>\n",
       "    </tr>\n",
       "    <tr>\n",
       "      <th>AAACATGCAGGGAGGA-1_20220928-IGVF-D0</th>\n",
       "      <td>92</td>\n",
       "      <td>1611</td>\n",
       "      <td>22</td>\n",
       "      <td>3</td>\n",
       "      <td>RNA</td>\n",
       "    </tr>\n",
       "  </tbody>\n",
       "</table>\n",
       "</div>"
      ],
      "text/plain": [
       "                                      C1    C2  I1  I2  mod\n",
       "AAACAGCCAATGCGCT-1_20220928-IGVF-D0   73   941  10   2  RNA\n",
       "AAACAGCCATTGTGAT-1_20220928-IGVF-D0   97  1423  19   3  RNA\n",
       "AAACATGCAAACATAG-1_20220928-IGVF-D0   24   500   2   0  RNA\n",
       "AAACATGCAATCGCAC-1_20220928-IGVF-D0  123  1981  19   9  RNA\n",
       "AAACATGCAGGGAGGA-1_20220928-IGVF-D0   92  1611  22   3  RNA"
      ]
     },
     "execution_count": 55,
     "metadata": {},
     "output_type": "execute_result"
    }
   ],
   "source": [
    "multi_con = pd.concat([gex_demux_atac_con, atac_demux_gex_con])\n",
    "multi_con.drop(columns=['donor'], inplace=True)\n",
    "multi_con.head()"
   ]
  },
  {
   "cell_type": "code",
   "execution_count": null,
   "id": "b2a0203f",
   "metadata": {},
   "outputs": [],
   "source": []
  },
  {
   "cell_type": "code",
   "execution_count": 43,
   "id": "f89300fc",
   "metadata": {},
   "outputs": [
    {
     "data": {
      "text/plain": [
       "AAACAGCCAATGCGCT-1_20220928-IGVF-D0     941\n",
       "AAACAGCCATTGTGAT-1_20220928-IGVF-D0    1423\n",
       "AAACATGCAAACATAG-1_20220928-IGVF-D0     500\n",
       "AAACATGCAATCGCAC-1_20220928-IGVF-D0    1981\n",
       "AAACATGCAGGGAGGA-1_20220928-IGVF-D0    1611\n",
       "                                       ... \n",
       "TTTGTCCCATTGCAGC-1_20220928-IGVF-D3    1995\n",
       "TTTGTGAAGACAACGA-1_20220928-IGVF-D3    1866\n",
       "TTTGTGAAGGACGTAA-1_20220928-IGVF-D3    1776\n",
       "TTTGTGTTCAGGAAGC-1_20220928-IGVF-D3    1288\n",
       "TTTGTGTTCTTTAGGA-1_20220928-IGVF-D3    2020\n",
       "Name: C2, Length: 20748, dtype: int64"
      ]
     },
     "execution_count": 43,
     "metadata": {},
     "output_type": "execute_result"
    }
   ],
   "source": [
    "gex_demux_atac_con['C2']"
   ]
  },
  {
   "cell_type": "code",
   "execution_count": 39,
   "id": "e0f96b16",
   "metadata": {},
   "outputs": [],
   "source": [
    "# multi_con.melt(id_vars=['mod'])\n",
    "tmp = multi_con.melt(id_vars=['mod'])"
   ]
  },
  {
   "cell_type": "code",
   "execution_count": 40,
   "id": "f22247eb",
   "metadata": {},
   "outputs": [
    {
     "data": {
      "text/html": [
       "<div>\n",
       "<style scoped>\n",
       "    .dataframe tbody tr th:only-of-type {\n",
       "        vertical-align: middle;\n",
       "    }\n",
       "\n",
       "    .dataframe tbody tr th {\n",
       "        vertical-align: top;\n",
       "    }\n",
       "\n",
       "    .dataframe thead th {\n",
       "        text-align: right;\n",
       "    }\n",
       "</style>\n",
       "<table border=\"1\" class=\"dataframe\">\n",
       "  <thead>\n",
       "    <tr style=\"text-align: right;\">\n",
       "      <th></th>\n",
       "      <th>mod</th>\n",
       "      <th>variable</th>\n",
       "      <th>value</th>\n",
       "    </tr>\n",
       "  </thead>\n",
       "  <tbody>\n",
       "    <tr>\n",
       "      <th>0</th>\n",
       "      <td>RNA</td>\n",
       "      <td>C1</td>\n",
       "      <td>73</td>\n",
       "    </tr>\n",
       "    <tr>\n",
       "      <th>1</th>\n",
       "      <td>RNA</td>\n",
       "      <td>C1</td>\n",
       "      <td>97</td>\n",
       "    </tr>\n",
       "    <tr>\n",
       "      <th>2</th>\n",
       "      <td>RNA</td>\n",
       "      <td>C1</td>\n",
       "      <td>24</td>\n",
       "    </tr>\n",
       "    <tr>\n",
       "      <th>3</th>\n",
       "      <td>RNA</td>\n",
       "      <td>C1</td>\n",
       "      <td>123</td>\n",
       "    </tr>\n",
       "    <tr>\n",
       "      <th>4</th>\n",
       "      <td>RNA</td>\n",
       "      <td>C1</td>\n",
       "      <td>92</td>\n",
       "    </tr>\n",
       "    <tr>\n",
       "      <th>...</th>\n",
       "      <td>...</td>\n",
       "      <td>...</td>\n",
       "      <td>...</td>\n",
       "    </tr>\n",
       "    <tr>\n",
       "      <th>165979</th>\n",
       "      <td>ATAC</td>\n",
       "      <td>I2</td>\n",
       "      <td>3</td>\n",
       "    </tr>\n",
       "    <tr>\n",
       "      <th>165980</th>\n",
       "      <td>ATAC</td>\n",
       "      <td>I2</td>\n",
       "      <td>1</td>\n",
       "    </tr>\n",
       "    <tr>\n",
       "      <th>165981</th>\n",
       "      <td>ATAC</td>\n",
       "      <td>I2</td>\n",
       "      <td>3</td>\n",
       "    </tr>\n",
       "    <tr>\n",
       "      <th>165982</th>\n",
       "      <td>ATAC</td>\n",
       "      <td>I2</td>\n",
       "      <td>0</td>\n",
       "    </tr>\n",
       "    <tr>\n",
       "      <th>165983</th>\n",
       "      <td>ATAC</td>\n",
       "      <td>I2</td>\n",
       "      <td>1</td>\n",
       "    </tr>\n",
       "  </tbody>\n",
       "</table>\n",
       "<p>165984 rows × 3 columns</p>\n",
       "</div>"
      ],
      "text/plain": [
       "         mod variable  value\n",
       "0        RNA       C1     73\n",
       "1        RNA       C1     97\n",
       "2        RNA       C1     24\n",
       "3        RNA       C1    123\n",
       "4        RNA       C1     92\n",
       "...      ...      ...    ...\n",
       "165979  ATAC       I2      3\n",
       "165980  ATAC       I2      1\n",
       "165981  ATAC       I2      3\n",
       "165982  ATAC       I2      0\n",
       "165983  ATAC       I2      1\n",
       "\n",
       "[165984 rows x 3 columns]"
      ]
     },
     "execution_count": 40,
     "metadata": {},
     "output_type": "execute_result"
    }
   ],
   "source": [
    "tmp['variable'] = "
   ]
  },
  {
   "cell_type": "code",
   "execution_count": null,
   "id": "b6ee7e88",
   "metadata": {},
   "outputs": [],
   "source": []
  }
 ],
 "metadata": {
  "kernelspec": {
   "display_name": "allcools",
   "language": "python",
   "name": "allcools"
  },
  "language_info": {
   "codemirror_mode": {
    "name": "ipython",
    "version": 3
   },
   "file_extension": ".py",
   "mimetype": "text/x-python",
   "name": "python",
   "nbconvert_exporter": "python",
   "pygments_lexer": "ipython3",
   "version": "3.7.13"
  }
 },
 "nbformat": 4,
 "nbformat_minor": 5
}
