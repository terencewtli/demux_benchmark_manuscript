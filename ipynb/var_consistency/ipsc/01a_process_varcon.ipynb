{
 "cells": [
  {
   "cell_type": "code",
   "execution_count": 2,
   "id": "44644398",
   "metadata": {},
   "outputs": [],
   "source": [
    "import numpy as np\n",
    "import pandas as pd\n",
    "import matplotlib.pyplot as plt\n",
    "import seaborn as sns\n",
    "from scipy.io import mmread, mmwrite"
   ]
  },
  {
   "cell_type": "code",
   "execution_count": 21,
   "id": "23721c2b",
   "metadata": {},
   "outputs": [],
   "source": [
    "projdir = '/u/home/t/terencew/project-cluo/igvf/pilot/multiome/'\n",
    "donors = list(np.loadtxt(f'{projdir}/txt/donors.txt', dtype=str))\n",
    "samples = list(np.loadtxt(f'{projdir}/txt/samples.txt', dtype=str))[:2]\n",
    "s = samples[0]\n",
    "\n",
    "gex_methods = ['demuxlet', 'freemuxlet', 'vireo', 'vireo_nogenos',\n",
    "               'scsplit', 'scsplit_nogenos', 'souporcell', 'souporcell_nogenos', 'demuxalot']\n",
    "atac_methods = ['demuxlet', 'freemuxlet',  'vireo', 'vireo_nogenos',\n",
    "               'scsplit', 'scsplit_nogenos', 'souporcell', 'souporcell_nogenos', 'scavengers']\n",
    "    \n",
    "merged_methods = ['demuxlet', 'freemuxlet',  'vireo', 'vireo_nogenos',\n",
    "               'souporcell', 'souporcell_nogenos', 'ambimux', 'ambimux_joint']\n",
    "\n",
    "#                'scsplit', 'scsplit_nogenos', 'souporcell', 'souporcell_nogenos', 'scavengers']\n",
    "con_cols = ['C1', 'C2', 'I1', 'I2']"
   ]
  },
  {
   "cell_type": "code",
   "execution_count": 4,
   "id": "123b8698",
   "metadata": {},
   "outputs": [
    {
     "data": {
      "text/plain": [
       "((30497, 9), (30497, 9))"
      ]
     },
     "execution_count": 4,
     "metadata": {},
     "output_type": "execute_result"
    }
   ],
   "source": [
    "gex = pd.read_csv(f'{projdir}/csv/demux/inter_gex.csv', sep='\\t',\n",
    "                  header=0, index_col=0)\n",
    "atac = pd.read_csv(f'{projdir}/csv/demux/inter_atac.csv', sep='\\t',\n",
    "                   header=0, index_col=0)\n",
    "gex.shape, atac.shape"
   ]
  },
  {
   "cell_type": "code",
   "execution_count": 5,
   "id": "ed9ced68",
   "metadata": {},
   "outputs": [
    {
     "data": {
      "text/plain": [
       "((67899, 30), (67899, 30), (67899, 30))"
      ]
     },
     "execution_count": 5,
     "metadata": {},
     "output_type": "execute_result"
    }
   ],
   "source": [
    "ambimux_gex = pd.read_csv(f'{projdir}/csv/demux/gex/ambimux.csv', sep='\\t', header=0, index_col=0)\n",
    "ambimux_atac = pd.read_csv(f'{projdir}/csv/demux/atac/ambimux.csv', sep='\\t', header=0, index_col=0)\n",
    "ambimux_joint = pd.read_csv(f'{projdir}/csv/demux/ambimux.csv', sep='\\t', header=0, index_col=0)\n",
    "ambimux_gex.shape, ambimux_atac.shape, ambimux_joint.shape"
   ]
  },
  {
   "cell_type": "code",
   "execution_count": 6,
   "id": "0bff5f38",
   "metadata": {},
   "outputs": [],
   "source": [
    "ambimux_gex.sort_index(inplace=True)\n",
    "ambimux_atac.sort_index(inplace=True)\n",
    "ambimux_joint.sort_index(inplace=True)"
   ]
  },
  {
   "cell_type": "code",
   "execution_count": 7,
   "id": "e520f68a",
   "metadata": {},
   "outputs": [],
   "source": [
    "gex['ambimux'] = ambimux_gex['assignment']\n",
    "atac['ambimux'] = ambimux_atac['assignment']\n",
    "gex['ambimux_joint'] = ambimux_joint['assignment']\n",
    "atac['ambimux_joint'] = ambimux_joint['assignment']"
   ]
  },
  {
   "cell_type": "code",
   "execution_count": 8,
   "id": "4974af81",
   "metadata": {},
   "outputs": [],
   "source": [
    "tmp_gex = gex.copy()\n",
    "tmp_atac = atac.copy()\n",
    "tmp_gex['inter'] = gex.eq(gex.iloc[:, 0], axis=0).all(1)\n",
    "tmp_atac['inter'] = atac.eq(atac.iloc[:, 0], axis=0).all(1)\n",
    "tmp_gex['majority'] = gex.mode(axis=1)[0]\n",
    "tmp_atac['majority'] = atac.mode(axis=1)[0]\n",
    "\n",
    "gex['majority'] = tmp_gex['majority']\n",
    "gex['inter'] = tmp_gex['inter']\n",
    "atac['majority'] = tmp_atac['majority']\n",
    "atac['inter'] = tmp_atac['inter']"
   ]
  },
  {
   "cell_type": "code",
   "execution_count": 9,
   "id": "4aeba0a6",
   "metadata": {},
   "outputs": [],
   "source": [
    "gex['sample'] = [x.split('_')[1] for x in gex.index]\n",
    "atac['sample'] = [x.split('_')[1] for x in atac.index]"
   ]
  },
  {
   "cell_type": "code",
   "execution_count": 10,
   "id": "7f75db95",
   "metadata": {},
   "outputs": [],
   "source": [
    "def read_varcon_steps(indir, steps, cov_thresh):\n",
    "    step = steps[0]\n",
    "    con_path = f'{indir}/batches/{step}_cov{cov_thresh}_con_counts.csv'\n",
    "    varcon = pd.read_csv(con_path, sep='\\t', header=0, index_col=0)\n",
    "    for step in steps[1:]:\n",
    "        con_path = f'{indir}/batches/{step}_cov{cov_thresh}_con_counts.csv'\n",
    "        tmp_con = pd.read_csv(con_path, sep='\\t', header=0, index_col=0)\n",
    "        varcon = pd.concat([varcon, tmp_con])\n",
    "    return varcon"
   ]
  },
  {
   "cell_type": "code",
   "execution_count": 11,
   "id": "995f6a08",
   "metadata": {},
   "outputs": [
    {
     "data": {
      "text/plain": [
       "[0, 100, 200, 300, 400]"
      ]
     },
     "execution_count": 11,
     "metadata": {},
     "output_type": "execute_result"
    }
   ],
   "source": [
    "interval = 100\n",
    "steps = list(range(0, gex.shape[0], interval))\n",
    "steps[:5]"
   ]
  },
  {
   "cell_type": "code",
   "execution_count": 12,
   "id": "b5be69f2",
   "metadata": {},
   "outputs": [],
   "source": [
    "# !ls {projdir}/demux/regular/var_consistency/gex/{s}/batches"
   ]
  },
  {
   "cell_type": "code",
   "execution_count": 13,
   "id": "39a03beb",
   "metadata": {},
   "outputs": [
    {
     "name": "stdout",
     "output_type": "stream",
     "text": [
      "20220928-IGVF-D3\n"
     ]
    },
    {
     "data": {
      "text/plain": [
       "(30498, 16)"
      ]
     },
     "execution_count": 13,
     "metadata": {},
     "output_type": "execute_result"
    }
   ],
   "source": [
    "interval = 100\n",
    "cov_thresh = 20\n",
    "s = samples[0]\n",
    "\n",
    "indir = f'{projdir}/demux/regular/var_consistency/gex/{s}/'\n",
    "n_drops = sum(gex['sample'] == s)\n",
    "steps = list(range(0, n_drops, interval))\n",
    "\n",
    "gex_con = read_varcon_steps(indir, steps, cov_thresh)\n",
    "gex_con.index = [f'{x}_{s}' for x in gex_con.index]\n",
    "gex_con.shape\n",
    "\n",
    "for s in samples[1:]:\n",
    "    print(s)\n",
    "    indir = f'{projdir}/demux/regular/var_consistency/gex/{s}/'\n",
    "    n_drops = sum(gex['sample'] == s)\n",
    "    steps = list(range(0, n_drops, interval))\n",
    "    tmp_gex_con = read_varcon_steps(indir, steps, cov_thresh)\n",
    "    tmp_gex_con.index = [f'{x}_{s}' for x in tmp_gex_con.index]\n",
    "    gex_con = pd.concat([gex_con, tmp_gex_con])\n",
    "    \n",
    "gex_con.shape"
   ]
  },
  {
   "cell_type": "code",
   "execution_count": 14,
   "id": "987a0693",
   "metadata": {},
   "outputs": [],
   "source": [
    "def process_varcon(demux, varcon, donors, method):\n",
    "    cols = ['C1', 'C2', 'I1', 'I2', 'donor']\n",
    "    counts = pd.DataFrame(columns=cols)\n",
    "    for donor in donors:\n",
    "        bc_mask = demux[method] == donor\n",
    "        tmp_assign = demux[bc_mask]\n",
    "        tmp_con = varcon[bc_mask]\n",
    "        col_mask = [donor in x for x in tmp_con.columns]\n",
    "        select_cols = tmp_con.columns[col_mask]\n",
    "        tmp_con = tmp_con[select_cols]\n",
    "        tmp_con.columns = ['C1', 'C2', 'I1', 'I2']\n",
    "        tmp_con['donor'] = donor\n",
    "        counts = pd.concat([counts, tmp_con])\n",
    "    return counts"
   ]
  },
  {
   "cell_type": "code",
   "execution_count": 15,
   "id": "722d7878",
   "metadata": {},
   "outputs": [],
   "source": [
    "# method = 'vireo'\n",
    "# process_varcon(gex, gex_con, donors, method)"
   ]
  },
  {
   "cell_type": "code",
   "execution_count": 16,
   "id": "549e8c72",
   "metadata": {},
   "outputs": [],
   "source": [
    "# cov_thresh = [0, 10, 20]\n",
    "# outdir = f'{projdir}/csv/var_consistency/real/{s}'\n",
    "# # indir = f'{projdir}/ambient/var_consistency/gex/{s}/'\n",
    "# indir = f'{projdir}/demux/regular/var_consistency/gex/{s}/'\n",
    "\n",
    "# for method in gex_methods:\n",
    "#     print(method)\n",
    "#     for cov in cov_thresh:\n",
    "# #         indir = f'{projdir}/ambient/var_consistency/gex/{s}/'\n",
    "\n",
    "#         indir = f'{projdir}/demux/regular/var_consistency/gex/{s}/'\n",
    "#         n_drops = sum(gex['sample'] == s)\n",
    "#         steps = list(range(0, n_drops, interval))\n",
    "\n",
    "#         gex_con = read_varcon_steps(indir, steps, cov)\n",
    "#         gex_con.index = [f'{x}_{s}' for x in gex_con.index]\n",
    "#         gex_con.shape\n",
    "\n",
    "#         for s in samples[1:]:\n",
    "#             indir = f'{projdir}/demux/regular/var_consistency/gex/{s}/'\n",
    "#             n_drops = sum(gex['sample'] == s)\n",
    "#             steps = list(range(0, n_drops, interval))\n",
    "#             tmp_gex_con = read_varcon_steps(indir, steps, cov)\n",
    "#             tmp_gex_con.index = [f'{x}_{s}' for x in tmp_gex_con.index]\n",
    "#             gex_con = pd.concat([gex_con, tmp_gex_con])\n",
    "\n",
    "# #         gex_con = read_varcon_steps(indir, steps, cov)\n",
    "# #         gex_con.index = [f'{x}_{s}' for x in gex_con.index]\n",
    "        \n",
    "#         outdir = f'{projdir}/csv/var_consistency/real/gex/{s}'\n",
    "#         consistency = process_varcon(gex, gex_con, donors, method)\n",
    "#         consistency.to_csv(f'{outdir}/{method}_cov{cov}_varcon.csv', sep='\\t', header=True, index=True)"
   ]
  },
  {
   "cell_type": "code",
   "execution_count": 18,
   "id": "0c794e48",
   "metadata": {},
   "outputs": [
    {
     "name": "stdout",
     "output_type": "stream",
     "text": [
      "0\n",
      "(30497, 14) (30497, 16)\n",
      "10\n",
      "(30497, 14) (30497, 16)\n",
      "20\n",
      "(30497, 14) (30497, 16)\n"
     ]
    }
   ],
   "source": [
    "cov_thresh = [0, 10, 20]\n",
    "outdir = f'{projdir}/csv/var_consistency/real/gex/merged'\n",
    "\n",
    "# indir = f'{projdir}/ambient/var_consistency/gex/{s}/'\n",
    "indir = f'{projdir}/demux/regular/var_consistency/gex/{s}/'\n",
    "\n",
    "for cov in cov_thresh:\n",
    "    print(cov)\n",
    "#         indir = f'{projdir}/ambient/var_consistency/gex/{s}/'\n",
    "\n",
    "    s = samples[0]\n",
    "    indir = f'{projdir}/demux/regular/var_consistency/gex/{s}/'\n",
    "    n_drops = sum(gex['sample'] == s)\n",
    "    steps = list(range(0, n_drops, interval))\n",
    "\n",
    "    gex_con = read_varcon_steps(indir, steps, cov)\n",
    "    gex_con.index = [f'{x}_{s}' for x in gex_con.index]\n",
    "    gex_con.shape\n",
    "\n",
    "    for s in samples[1:]:\n",
    "        indir = f'{projdir}/demux/regular/var_consistency/gex/{s}/'\n",
    "        n_drops = sum(gex['sample'] == s)\n",
    "        steps = list(range(0, n_drops, interval))\n",
    "        tmp_gex_con = read_varcon_steps(indir, steps, cov)\n",
    "        tmp_gex_con.index = [f'{x}_{s}' for x in tmp_gex_con.index]\n",
    "        gex_con = pd.concat([gex_con, tmp_gex_con])\n",
    "        \n",
    "    mask = gex_con.index.duplicated()\n",
    "    gex_con = gex_con[~mask]\n",
    "    print(gex.shape, gex_con.shape)\n",
    "    \n",
    "    for method in gex_methods:\n",
    "        consistency = process_varcon(gex, gex_con, donors, method)\n",
    "        consistency.to_csv(f'{outdir}/{method}_cov{cov}_varcon.csv', sep='\\t', header=True, index=True)\n",
    "    \n",
    "    method = 'majority'\n",
    "    consistency = process_varcon(gex, gex_con, donors, method)\n",
    "    consistency.to_csv(f'{outdir}/{method}_cov{cov}_varcon.csv', sep='\\t', header=True, index=True)\n",
    "    \n",
    "    method = 'inter'\n",
    "    mask = gex['inter']\n",
    "    tmp_gex = pd.DataFrame(gex[mask].iloc[:,0])\n",
    "    tmp_gex_con = gex_con[mask]\n",
    "    tmp_gex.columns = ['inter']\n",
    "    consistency = process_varcon(tmp_gex, tmp_gex_con, donors, method)\n",
    "    consistency.to_csv(f'{outdir}/{method}_cov{cov}_varcon.csv', sep='\\t', header=True, index=True)\n",
    "    \n",
    "    ### \n",
    "    method = 'ambimux'\n",
    "    consistency = process_varcon(gex, gex_con, donors, method)\n",
    "    consistency.to_csv(f'{outdir}/{method}_cov{cov}_varcon.csv', sep='\\t', header=True, index=True)    \n",
    "    \n",
    "    method = 'ambimux_joint'\n",
    "    consistency = process_varcon(gex, gex_con, donors, method)\n",
    "    consistency.to_csv(f'{outdir}/{method}_cov{cov}_varcon.csv', sep='\\t', header=True, index=True)\n",
    "    "
   ]
  },
  {
   "cell_type": "code",
   "execution_count": 19,
   "id": "37e0253f",
   "metadata": {},
   "outputs": [
    {
     "name": "stdout",
     "output_type": "stream",
     "text": [
      "0\n"
     ]
    },
    {
     "name": "stderr",
     "output_type": "stream",
     "text": [
      "/u/home/t/terencew/project-cluo/miniconda3/envs/allcools/lib/python3.7/site-packages/ipykernel_launcher.py:7: UserWarning: Boolean Series key will be reindexed to match DataFrame index.\n",
      "  import sys\n"
     ]
    },
    {
     "name": "stdout",
     "output_type": "stream",
     "text": [
      "(30497, 14) (30497, 16)\n",
      "10\n",
      "(30497, 14) (30497, 16)\n",
      "20\n",
      "(30497, 14) (30497, 16)\n"
     ]
    }
   ],
   "source": [
    "cov_thresh = [0, 10, 20]\n",
    "outdir = f'{projdir}/csv/var_consistency/real/{s}'\n",
    "# indir = f'{projdir}/ambient/var_consistency/atac/{s}/'\n",
    "indir = f'{projdir}/demux/regular/var_consistency/atac/{s}/'\n",
    "\n",
    "for cov in cov_thresh:\n",
    "    print(cov)\n",
    "#         indir = f'{projdir}/ambient/var_consistency/atac/{s}/'\n",
    "\n",
    "    s = samples[0]\n",
    "    indir = f'{projdir}/demux/regular/var_consistency/atac/{s}/'\n",
    "    n_drops = sum(atac['sample'] == s)\n",
    "    steps = list(range(0, n_drops, interval))\n",
    "\n",
    "    atac_con = read_varcon_steps(indir, steps, cov)\n",
    "    atac_con.index = [f'{x}_{s}' for x in atac_con.index]\n",
    "    atac_con.shape\n",
    "\n",
    "    for s in samples[1:]:\n",
    "        indir = f'{projdir}/demux/regular/var_consistency/atac/{s}/'\n",
    "        n_drops = sum(atac['sample'] == s)\n",
    "        steps = list(range(0, n_drops, interval))\n",
    "        tmp_atac_con = read_varcon_steps(indir, steps, cov)\n",
    "        tmp_atac_con.index = [f'{x}_{s}' for x in tmp_atac_con.index]\n",
    "        atac_con = pd.concat([atac_con, tmp_atac_con])\n",
    "        \n",
    "    for method in atac_methods:\n",
    "        outdir = f'{projdir}/csv/var_consistency/real/atac/merged/'\n",
    "        consistency = process_varcon(atac, atac_con, donors, method)\n",
    "        consistency.to_csv(f'{outdir}/{method}_cov{cov}_varcon.csv', sep='\\t', header=True, index=True)\n",
    "    \n",
    "    mask = atac_con.index.duplicated()\n",
    "    atac_con = atac_con[~mask]\n",
    "    print(atac.shape, atac_con.shape)\n",
    "    \n",
    "    method = 'majority'\n",
    "    consistency = process_varcon(atac, atac_con, donors, method)\n",
    "    consistency.to_csv(f'{outdir}/{method}_cov{cov}_varcon.csv', sep='\\t', header=True, index=True)\n",
    "    \n",
    "    method = 'inter'\n",
    "    mask = atac['inter']\n",
    "    tmp_atac = pd.DataFrame(atac[mask].iloc[:,0])\n",
    "    tmp_atac_con = atac_con[mask]\n",
    "    tmp_atac.columns = ['inter']\n",
    "    consistency = process_varcon(tmp_atac, tmp_atac_con, donors, method)\n",
    "    consistency.to_csv(f'{outdir}/{method}_cov{cov}_varcon.csv', sep='\\t', header=True, index=True)\n",
    "    \n",
    "    ### \n",
    "    method = 'ambimux'\n",
    "    consistency = process_varcon(atac, atac_con, donors, method)\n",
    "    consistency.to_csv(f'{outdir}/{method}_cov{cov}_varcon.csv', sep='\\t', header=True, index=True)    \n",
    "    \n",
    "    method = 'ambimux_joint'\n",
    "    consistency = process_varcon(atac, atac_con, donors, method)\n",
    "    consistency.to_csv(f'{outdir}/{method}_cov{cov}_varcon.csv', sep='\\t', header=True, index=True)"
   ]
  },
  {
   "cell_type": "code",
   "execution_count": 33,
   "id": "fd4f8e81",
   "metadata": {},
   "outputs": [
    {
     "name": "stdout",
     "output_type": "stream",
     "text": [
      "demuxlet\n",
      "freemuxlet\n",
      "vireo\n",
      "vireo_nogenos\n",
      "souporcell\n",
      "souporcell_nogenos\n",
      "ambimux\n",
      "ambimux_joint\n"
     ]
    }
   ],
   "source": [
    " for method in merged_methods:\n",
    "    print(method)\n",
    "    consistency = process_varcon(gex, gex_con, donors, method)\n",
    "    consistency['sample'] = [x.split('_')[1] for x in consistency.index]\n",
    "    for s in samples:\n",
    "        outdir = f'{projdir}/csv/var_consistency/real/gex/{s}/'\n",
    "        tmp_con = consistency[consistency['sample'] == s]\n",
    "        tmp_con.to_csv(f'{outdir}/{method}_cov{cov}_varcon.csv',sep='\\t', header=True, index=True)"
   ]
  },
  {
   "cell_type": "code",
   "execution_count": 34,
   "id": "1f17b1fd",
   "metadata": {},
   "outputs": [
    {
     "name": "stdout",
     "output_type": "stream",
     "text": [
      "demuxlet\n",
      "freemuxlet\n",
      "vireo\n",
      "vireo_nogenos\n",
      "souporcell\n",
      "souporcell_nogenos\n",
      "ambimux\n",
      "ambimux_joint\n"
     ]
    }
   ],
   "source": [
    " for method in merged_methods:\n",
    "    print(method)\n",
    "    consistency = process_varcon(atac, atac_con, donors, method)\n",
    "    consistency['sample'] = [x.split('_')[1] for x in consistency.index]\n",
    "    for s in samples:\n",
    "        outdir = f'{projdir}/csv/var_consistency/real/atac/{s}/'\n",
    "        tmp_con = consistency[consistency['sample'] == s]\n",
    "        tmp_con.to_csv(f'{outdir}/{method}_cov{cov}_varcon.csv',sep='\\t', header=True, index=True)"
   ]
  },
  {
   "cell_type": "code",
   "execution_count": null,
   "id": "846df0d4",
   "metadata": {},
   "outputs": [],
   "source": []
  }
 ],
 "metadata": {
  "kernelspec": {
   "display_name": "allcools",
   "language": "python",
   "name": "allcools"
  },
  "language_info": {
   "codemirror_mode": {
    "name": "ipython",
    "version": 3
   },
   "file_extension": ".py",
   "mimetype": "text/x-python",
   "name": "python",
   "nbconvert_exporter": "python",
   "pygments_lexer": "ipython3",
   "version": "3.7.13"
  }
 },
 "nbformat": 4,
 "nbformat_minor": 5
}
