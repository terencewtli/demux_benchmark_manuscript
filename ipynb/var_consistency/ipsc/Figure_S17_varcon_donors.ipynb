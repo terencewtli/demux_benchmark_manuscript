{
 "cells": [
  {
   "cell_type": "code",
   "execution_count": 1,
   "id": "21f8282b",
   "metadata": {},
   "outputs": [],
   "source": [
    "import numpy as np\n",
    "import pandas as pd\n",
    "import matplotlib.pyplot as plt\n",
    "import seaborn as sns\n",
    "from scipy.io import mmread, mmwrite"
   ]
  },
  {
   "cell_type": "code",
   "execution_count": 2,
   "id": "0f650124",
   "metadata": {},
   "outputs": [],
   "source": [
    "projdir = '/u/home/t/terencew/project-cluo/igvf/pilot/multiome/'\n",
    "donors = list(np.loadtxt(f'{projdir}/txt/donors.txt', dtype=str))\n",
    "samples = list(np.loadtxt(f'{projdir}/txt/samples.txt', dtype=str))\n",
    "s = samples[0]\n",
    "\n",
    "gex_methods = ['demuxlet', 'freemuxlet', 'vireo', 'vireo_nogenos',\n",
    "               'scsplit', 'scsplit_nogenos', 'souporcell', 'souporcell_nogenos', 'demuxalot']\n",
    "atac_methods = ['demuxlet', 'freemuxlet',  'vireo', 'vireo_nogenos',\n",
    "               'scsplit', 'scsplit_nogenos', 'souporcell', 'souporcell_nogenos', 'scavengers']\n",
    "\n",
    "con_cols = ['C1', 'C2', 'I1', 'I2']"
   ]
  },
  {
   "cell_type": "code",
   "execution_count": 3,
   "id": "b3a46835",
   "metadata": {},
   "outputs": [
    {
     "data": {
      "text/plain": [
       "((30497, 9), (30497, 9))"
      ]
     },
     "execution_count": 3,
     "metadata": {},
     "output_type": "execute_result"
    }
   ],
   "source": [
    "gex = pd.read_csv(f'{projdir}/csv/demux/inter_gex.csv', sep='\\t',\n",
    "                  header=0, index_col=0)\n",
    "atac = pd.read_csv(f'{projdir}/csv/demux/inter_atac.csv', sep='\\t',\n",
    "                   header=0, index_col=0)\n",
    "gex.shape, atac.shape"
   ]
  },
  {
   "cell_type": "code",
   "execution_count": 4,
   "id": "c99053f9",
   "metadata": {
    "scrolled": true
   },
   "outputs": [
    {
     "data": {
      "text/html": [
       "<div>\n",
       "<style scoped>\n",
       "    .dataframe tbody tr th:only-of-type {\n",
       "        vertical-align: middle;\n",
       "    }\n",
       "\n",
       "    .dataframe tbody tr th {\n",
       "        vertical-align: top;\n",
       "    }\n",
       "\n",
       "    .dataframe thead th {\n",
       "        text-align: right;\n",
       "    }\n",
       "</style>\n",
       "<table border=\"1\" class=\"dataframe\">\n",
       "  <thead>\n",
       "    <tr style=\"text-align: right;\">\n",
       "      <th></th>\n",
       "      <th>demuxlet</th>\n",
       "      <th>freemuxlet</th>\n",
       "      <th>vireo</th>\n",
       "      <th>vireo_nogenos</th>\n",
       "      <th>souporcell</th>\n",
       "      <th>souporcell_nogenos</th>\n",
       "      <th>demuxalot</th>\n",
       "      <th>scsplit</th>\n",
       "      <th>scsplit_nogenos</th>\n",
       "    </tr>\n",
       "  </thead>\n",
       "  <tbody>\n",
       "    <tr>\n",
       "      <th>AAACAGCCAAGGTATA-1_20220928-IGVF-D0</th>\n",
       "      <td>27_C4</td>\n",
       "      <td>27_C4</td>\n",
       "      <td>27_C4</td>\n",
       "      <td>27_C4</td>\n",
       "      <td>27_C4</td>\n",
       "      <td>27_C4</td>\n",
       "      <td>27_C4</td>\n",
       "      <td>48_V3</td>\n",
       "      <td>27_C4</td>\n",
       "    </tr>\n",
       "    <tr>\n",
       "      <th>AAACAGCCAATGCGCT-1_20220928-IGVF-D0</th>\n",
       "      <td>25_A4</td>\n",
       "      <td>25_A4</td>\n",
       "      <td>25_A4</td>\n",
       "      <td>25_A4</td>\n",
       "      <td>25_A4</td>\n",
       "      <td>25_A4</td>\n",
       "      <td>25_A4</td>\n",
       "      <td>25_A4</td>\n",
       "      <td>25_A4</td>\n",
       "    </tr>\n",
       "    <tr>\n",
       "      <th>AAACAGCCAGCAAATA-1_20220928-IGVF-D0</th>\n",
       "      <td>27_C4</td>\n",
       "      <td>27_C4</td>\n",
       "      <td>27_C4</td>\n",
       "      <td>27_C4</td>\n",
       "      <td>27_C4</td>\n",
       "      <td>27_C4</td>\n",
       "      <td>27_C4</td>\n",
       "      <td>48_V3</td>\n",
       "      <td>27_C4</td>\n",
       "    </tr>\n",
       "    <tr>\n",
       "      <th>AAACAGCCATTGTGAT-1_20220928-IGVF-D0</th>\n",
       "      <td>25_A4</td>\n",
       "      <td>25_A4</td>\n",
       "      <td>25_A4</td>\n",
       "      <td>25_A4</td>\n",
       "      <td>25_A4</td>\n",
       "      <td>25_A4</td>\n",
       "      <td>25_A4</td>\n",
       "      <td>25_A4</td>\n",
       "      <td>25_A4</td>\n",
       "    </tr>\n",
       "    <tr>\n",
       "      <th>AAACATGCAAACATAG-1_20220928-IGVF-D0</th>\n",
       "      <td>25_A4</td>\n",
       "      <td>25_A4</td>\n",
       "      <td>25_A4</td>\n",
       "      <td>25_A4</td>\n",
       "      <td>25_A4</td>\n",
       "      <td>25_A4</td>\n",
       "      <td>25_A4</td>\n",
       "      <td>25_A4</td>\n",
       "      <td>25_A4</td>\n",
       "    </tr>\n",
       "  </tbody>\n",
       "</table>\n",
       "</div>"
      ],
      "text/plain": [
       "                                    demuxlet freemuxlet  vireo vireo_nogenos  \\\n",
       "AAACAGCCAAGGTATA-1_20220928-IGVF-D0    27_C4      27_C4  27_C4         27_C4   \n",
       "AAACAGCCAATGCGCT-1_20220928-IGVF-D0    25_A4      25_A4  25_A4         25_A4   \n",
       "AAACAGCCAGCAAATA-1_20220928-IGVF-D0    27_C4      27_C4  27_C4         27_C4   \n",
       "AAACAGCCATTGTGAT-1_20220928-IGVF-D0    25_A4      25_A4  25_A4         25_A4   \n",
       "AAACATGCAAACATAG-1_20220928-IGVF-D0    25_A4      25_A4  25_A4         25_A4   \n",
       "\n",
       "                                    souporcell souporcell_nogenos demuxalot  \\\n",
       "AAACAGCCAAGGTATA-1_20220928-IGVF-D0      27_C4              27_C4     27_C4   \n",
       "AAACAGCCAATGCGCT-1_20220928-IGVF-D0      25_A4              25_A4     25_A4   \n",
       "AAACAGCCAGCAAATA-1_20220928-IGVF-D0      27_C4              27_C4     27_C4   \n",
       "AAACAGCCATTGTGAT-1_20220928-IGVF-D0      25_A4              25_A4     25_A4   \n",
       "AAACATGCAAACATAG-1_20220928-IGVF-D0      25_A4              25_A4     25_A4   \n",
       "\n",
       "                                    scsplit scsplit_nogenos  \n",
       "AAACAGCCAAGGTATA-1_20220928-IGVF-D0   48_V3           27_C4  \n",
       "AAACAGCCAATGCGCT-1_20220928-IGVF-D0   25_A4           25_A4  \n",
       "AAACAGCCAGCAAATA-1_20220928-IGVF-D0   48_V3           27_C4  \n",
       "AAACAGCCATTGTGAT-1_20220928-IGVF-D0   25_A4           25_A4  \n",
       "AAACATGCAAACATAG-1_20220928-IGVF-D0   25_A4           25_A4  "
      ]
     },
     "execution_count": 4,
     "metadata": {},
     "output_type": "execute_result"
    }
   ],
   "source": [
    "gex.head()"
   ]
  },
  {
   "cell_type": "code",
   "execution_count": 5,
   "id": "28cff46e",
   "metadata": {
    "scrolled": true
   },
   "outputs": [
    {
     "data": {
      "text/html": [
       "<div>\n",
       "<style scoped>\n",
       "    .dataframe tbody tr th:only-of-type {\n",
       "        vertical-align: middle;\n",
       "    }\n",
       "\n",
       "    .dataframe tbody tr th {\n",
       "        vertical-align: top;\n",
       "    }\n",
       "\n",
       "    .dataframe thead th {\n",
       "        text-align: right;\n",
       "    }\n",
       "</style>\n",
       "<table border=\"1\" class=\"dataframe\">\n",
       "  <thead>\n",
       "    <tr style=\"text-align: right;\">\n",
       "      <th></th>\n",
       "      <th>C1</th>\n",
       "      <th>C2</th>\n",
       "      <th>I1</th>\n",
       "      <th>I2</th>\n",
       "      <th>donor</th>\n",
       "    </tr>\n",
       "  </thead>\n",
       "  <tbody>\n",
       "    <tr>\n",
       "      <th>AAACAGCCAATGCGCT-1_20220928-IGVF-D0</th>\n",
       "      <td>69</td>\n",
       "      <td>876</td>\n",
       "      <td>17</td>\n",
       "      <td>1</td>\n",
       "      <td>25_A4</td>\n",
       "    </tr>\n",
       "    <tr>\n",
       "      <th>AAACAGCCATTGTGAT-1_20220928-IGVF-D0</th>\n",
       "      <td>30</td>\n",
       "      <td>814</td>\n",
       "      <td>32</td>\n",
       "      <td>1</td>\n",
       "      <td>25_A4</td>\n",
       "    </tr>\n",
       "    <tr>\n",
       "      <th>AAACATGCAAACATAG-1_20220928-IGVF-D0</th>\n",
       "      <td>21</td>\n",
       "      <td>411</td>\n",
       "      <td>17</td>\n",
       "      <td>3</td>\n",
       "      <td>25_A4</td>\n",
       "    </tr>\n",
       "    <tr>\n",
       "      <th>AAACATGCAATCGCAC-1_20220928-IGVF-D0</th>\n",
       "      <td>31</td>\n",
       "      <td>656</td>\n",
       "      <td>17</td>\n",
       "      <td>1</td>\n",
       "      <td>25_A4</td>\n",
       "    </tr>\n",
       "    <tr>\n",
       "      <th>AAACATGCAGGGAGGA-1_20220928-IGVF-D0</th>\n",
       "      <td>25</td>\n",
       "      <td>553</td>\n",
       "      <td>17</td>\n",
       "      <td>4</td>\n",
       "      <td>25_A4</td>\n",
       "    </tr>\n",
       "    <tr>\n",
       "      <th>...</th>\n",
       "      <td>...</td>\n",
       "      <td>...</td>\n",
       "      <td>...</td>\n",
       "      <td>...</td>\n",
       "      <td>...</td>\n",
       "    </tr>\n",
       "    <tr>\n",
       "      <th>TTTGTGAAGACAACGA-1_20220928-IGVF-D3</th>\n",
       "      <td>3</td>\n",
       "      <td>193</td>\n",
       "      <td>8</td>\n",
       "      <td>0</td>\n",
       "      <td>48_V3</td>\n",
       "    </tr>\n",
       "    <tr>\n",
       "      <th>TTTGTGAAGGACGTAA-1_20220928-IGVF-D3</th>\n",
       "      <td>3</td>\n",
       "      <td>189</td>\n",
       "      <td>9</td>\n",
       "      <td>2</td>\n",
       "      <td>48_V3</td>\n",
       "    </tr>\n",
       "    <tr>\n",
       "      <th>TTTGTGTTCAGGAAGC-1_20220928-IGVF-D3</th>\n",
       "      <td>5</td>\n",
       "      <td>189</td>\n",
       "      <td>11</td>\n",
       "      <td>0</td>\n",
       "      <td>48_V3</td>\n",
       "    </tr>\n",
       "    <tr>\n",
       "      <th>TTTGTGTTCTTCAATC-1_20220928-IGVF-D3</th>\n",
       "      <td>11</td>\n",
       "      <td>345</td>\n",
       "      <td>8</td>\n",
       "      <td>2</td>\n",
       "      <td>48_V3</td>\n",
       "    </tr>\n",
       "    <tr>\n",
       "      <th>TTTGTGTTCTTTAGGA-1_20220928-IGVF-D3</th>\n",
       "      <td>6</td>\n",
       "      <td>317</td>\n",
       "      <td>7</td>\n",
       "      <td>0</td>\n",
       "      <td>48_V3</td>\n",
       "    </tr>\n",
       "  </tbody>\n",
       "</table>\n",
       "<p>22168 rows × 5 columns</p>\n",
       "</div>"
      ],
      "text/plain": [
       "                                     C1   C2  I1  I2  donor\n",
       "AAACAGCCAATGCGCT-1_20220928-IGVF-D0  69  876  17   1  25_A4\n",
       "AAACAGCCATTGTGAT-1_20220928-IGVF-D0  30  814  32   1  25_A4\n",
       "AAACATGCAAACATAG-1_20220928-IGVF-D0  21  411  17   3  25_A4\n",
       "AAACATGCAATCGCAC-1_20220928-IGVF-D0  31  656  17   1  25_A4\n",
       "AAACATGCAGGGAGGA-1_20220928-IGVF-D0  25  553  17   4  25_A4\n",
       "...                                  ..  ...  ..  ..    ...\n",
       "TTTGTGAAGACAACGA-1_20220928-IGVF-D3   3  193   8   0  48_V3\n",
       "TTTGTGAAGGACGTAA-1_20220928-IGVF-D3   3  189   9   2  48_V3\n",
       "TTTGTGTTCAGGAAGC-1_20220928-IGVF-D3   5  189  11   0  48_V3\n",
       "TTTGTGTTCTTCAATC-1_20220928-IGVF-D3  11  345   8   2  48_V3\n",
       "TTTGTGTTCTTTAGGA-1_20220928-IGVF-D3   6  317   7   0  48_V3\n",
       "\n",
       "[22168 rows x 5 columns]"
      ]
     },
     "execution_count": 5,
     "metadata": {},
     "output_type": "execute_result"
    }
   ],
   "source": [
    "cov = 20\n",
    "indir = f'{projdir}/csv/var_consistency/real/gex/merged/'\n",
    "\n",
    "gex_con = pd.DataFrame(index=gex_methods, columns=con_cols)\n",
    "method = 'vireo'\n",
    "tmp_con = pd.read_csv(f'{indir}/{method}_cov{cov}_varcon.csv', sep='\\t',\n",
    "                      header=0, index_col=0)\n",
    "tmp_con"
   ]
  },
  {
   "cell_type": "code",
   "execution_count": 6,
   "id": "2add172a",
   "metadata": {},
   "outputs": [],
   "source": [
    "def process_con(con):\n",
    "    con['DP'] = np.sum(con.iloc[:,:4], axis=1)\n",
    "    con['Consistent rate'] = (con['C1'] + con['C2']) / con['DP']\n",
    "    con['Inconsistent rate'] = 1 - con['Consistent rate']\n",
    "    con['C1 rate'] = con['C1'] / con['DP']\n",
    "    con['C2 rate'] = con['C2'] / con['DP']\n",
    "    con['I1 rate'] = con['I1'] / con['DP']\n",
    "    con['I2 rate'] = con['I2'] / con['DP']\n",
    "    return con"
   ]
  },
  {
   "cell_type": "code",
   "execution_count": 7,
   "id": "5b926049",
   "metadata": {},
   "outputs": [],
   "source": [
    "tmp_con = process_con(tmp_con)"
   ]
  },
  {
   "cell_type": "code",
   "execution_count": 8,
   "id": "4006cbe7",
   "metadata": {},
   "outputs": [
    {
     "data": {
      "text/html": [
       "<div>\n",
       "<style scoped>\n",
       "    .dataframe tbody tr th:only-of-type {\n",
       "        vertical-align: middle;\n",
       "    }\n",
       "\n",
       "    .dataframe tbody tr th {\n",
       "        vertical-align: top;\n",
       "    }\n",
       "\n",
       "    .dataframe thead th {\n",
       "        text-align: right;\n",
       "    }\n",
       "</style>\n",
       "<table border=\"1\" class=\"dataframe\">\n",
       "  <thead>\n",
       "    <tr style=\"text-align: right;\">\n",
       "      <th></th>\n",
       "      <th>donor</th>\n",
       "      <th>variable</th>\n",
       "      <th>value</th>\n",
       "    </tr>\n",
       "  </thead>\n",
       "  <tbody>\n",
       "    <tr>\n",
       "      <th>0</th>\n",
       "      <td>25_A4</td>\n",
       "      <td>C1 rate</td>\n",
       "      <td>0.071651</td>\n",
       "    </tr>\n",
       "    <tr>\n",
       "      <th>1</th>\n",
       "      <td>25_A4</td>\n",
       "      <td>C1 rate</td>\n",
       "      <td>0.034208</td>\n",
       "    </tr>\n",
       "    <tr>\n",
       "      <th>2</th>\n",
       "      <td>25_A4</td>\n",
       "      <td>C1 rate</td>\n",
       "      <td>0.046460</td>\n",
       "    </tr>\n",
       "    <tr>\n",
       "      <th>3</th>\n",
       "      <td>25_A4</td>\n",
       "      <td>C1 rate</td>\n",
       "      <td>0.043972</td>\n",
       "    </tr>\n",
       "    <tr>\n",
       "      <th>4</th>\n",
       "      <td>25_A4</td>\n",
       "      <td>C1 rate</td>\n",
       "      <td>0.041736</td>\n",
       "    </tr>\n",
       "    <tr>\n",
       "      <th>...</th>\n",
       "      <td>...</td>\n",
       "      <td>...</td>\n",
       "      <td>...</td>\n",
       "    </tr>\n",
       "    <tr>\n",
       "      <th>88667</th>\n",
       "      <td>48_V3</td>\n",
       "      <td>I2 rate</td>\n",
       "      <td>0.000000</td>\n",
       "    </tr>\n",
       "    <tr>\n",
       "      <th>88668</th>\n",
       "      <td>48_V3</td>\n",
       "      <td>I2 rate</td>\n",
       "      <td>0.009852</td>\n",
       "    </tr>\n",
       "    <tr>\n",
       "      <th>88669</th>\n",
       "      <td>48_V3</td>\n",
       "      <td>I2 rate</td>\n",
       "      <td>0.000000</td>\n",
       "    </tr>\n",
       "    <tr>\n",
       "      <th>88670</th>\n",
       "      <td>48_V3</td>\n",
       "      <td>I2 rate</td>\n",
       "      <td>0.005464</td>\n",
       "    </tr>\n",
       "    <tr>\n",
       "      <th>88671</th>\n",
       "      <td>48_V3</td>\n",
       "      <td>I2 rate</td>\n",
       "      <td>0.000000</td>\n",
       "    </tr>\n",
       "  </tbody>\n",
       "</table>\n",
       "<p>88672 rows × 3 columns</p>\n",
       "</div>"
      ],
      "text/plain": [
       "       donor variable     value\n",
       "0      25_A4  C1 rate  0.071651\n",
       "1      25_A4  C1 rate  0.034208\n",
       "2      25_A4  C1 rate  0.046460\n",
       "3      25_A4  C1 rate  0.043972\n",
       "4      25_A4  C1 rate  0.041736\n",
       "...      ...      ...       ...\n",
       "88667  48_V3  I2 rate  0.000000\n",
       "88668  48_V3  I2 rate  0.009852\n",
       "88669  48_V3  I2 rate  0.000000\n",
       "88670  48_V3  I2 rate  0.005464\n",
       "88671  48_V3  I2 rate  0.000000\n",
       "\n",
       "[88672 rows x 3 columns]"
      ]
     },
     "execution_count": 8,
     "metadata": {},
     "output_type": "execute_result"
    }
   ],
   "source": [
    "melt_cols = ['C1 rate', 'C2 rate', 'I1 rate', 'I2 rate']\n",
    "melt_con = tmp_con.melt(id_vars='donor', value_vars=melt_cols)\n",
    "melt_con"
   ]
  },
  {
   "cell_type": "code",
   "execution_count": 9,
   "id": "2a7bcedc",
   "metadata": {},
   "outputs": [
    {
     "data": {
      "image/png": "[encoded data removed]",
      "text/plain": [
       "<Figure size 720x432 with 1 Axes>"
      ]
     },
     "metadata": {
      "needs_background": "light"
     },
     "output_type": "display_data"
    }
   ],
   "source": [
    "plt.figure(figsize=(10, 6))\n",
    "sns.set_palette('Set2')\n",
    "\n",
    "ax = sns.violinplot(melt_con, x='variable', y='value', hue='donor')\n",
    "ax.grid(False)"
   ]
  },
  {
   "cell_type": "code",
   "execution_count": 10,
   "id": "efcb056c",
   "metadata": {},
   "outputs": [
    {
     "data": {
      "text/plain": [
       "9"
      ]
     },
     "execution_count": 10,
     "metadata": {},
     "output_type": "execute_result"
    }
   ],
   "source": [
    "len(gex_methods)"
   ]
  },
  {
   "cell_type": "code",
   "execution_count": 26,
   "id": "3d1dde6d",
   "metadata": {
    "scrolled": true
   },
   "outputs": [
    {
     "name": "stdout",
     "output_type": "stream",
     "text": [
      "demuxlet\n",
      "freemuxlet\n",
      "vireo\n",
      "vireo_nogenos\n",
      "scsplit\n",
      "scsplit_nogenos\n",
      "souporcell\n",
      "souporcell_nogenos\n",
      "demuxalot\n"
     ]
    },
    {
     "data": {
      "image/png": "[encoded data removed]",
      "text/plain": [
       "<Figure size 864x432 with 9 Axes>"
      ]
     },
     "metadata": {
      "needs_background": "light"
     },
     "output_type": "display_data"
    }
   ],
   "source": [
    "### plot for all figures\n",
    "\n",
    "fig, axes = plt.subplots(3, 3, figsize=(12, 6))\n",
    "cov = 20\n",
    "indir = f'{projdir}/csv/var_consistency/real/gex/merged'\n",
    "melt_cols = ['C1 rate', 'C2 rate', 'I1 rate', 'I2 rate']\n",
    "\n",
    "merged_gex_con = pd.DataFrame()\n",
    "\n",
    "gex_con = pd.DataFrame(index=gex_methods, columns=con_cols)\n",
    "for i, ax in enumerate(axes.flatten()):\n",
    "    if i < 10:\n",
    "        method = gex_methods[i]\n",
    "        print(method)\n",
    "        tmp_con = pd.read_csv(f'{indir}/{method}_cov{cov}_varcon.csv', sep='\\t',\n",
    "                              header=0, index_col=0)\n",
    "        tmp_con = process_con(tmp_con)\n",
    "        melt_con = tmp_con.melt(id_vars='donor', value_vars=melt_cols)\n",
    "        sns.boxplot(melt_con, x='variable', y='value', hue='donor', ax=ax)\n",
    "        \n",
    "        melt_con['method'] = method\n",
    "        merged_gex_con = pd.concat([merged_gex_con, melt_con])\n",
    "\n",
    "        ax.set_xlabel(\"\")\n",
    "        ax.set_ylabel(\"\")\n",
    "        ax.legend_.remove()\n",
    "        ax.set_ylim(0, 1)\n",
    "        ax.set_title(f'{method}', fontsize=12)\n",
    "        ax.grid(False)\n",
    "        ax.set_xticklabels(ax.get_xticklabels(), rotation=45)\n",
    "    else:\n",
    "        ax.remove()\n",
    "        \n",
    "plt.suptitle('Variant consistency by donor, GEX', fontsize=20)\n",
    "plt.subplots_adjust(wspace=0.4, hspace=0.5)  # Adjust the value as needed\n",
    "    "
   ]
  },
  {
   "cell_type": "code",
   "execution_count": 27,
   "id": "14c30b30",
   "metadata": {},
   "outputs": [
    {
     "name": "stdout",
     "output_type": "stream",
     "text": [
      "demuxlet\n",
      "freemuxlet\n",
      "vireo\n",
      "vireo_nogenos\n",
      "scsplit\n",
      "scsplit_nogenos\n",
      "souporcell\n",
      "souporcell_nogenos\n",
      "scavengers\n"
     ]
    },
    {
     "data": {
      "image/png": "[encoded data removed]",
      "text/plain": [
       "<Figure size 864x432 with 9 Axes>"
      ]
     },
     "metadata": {
      "needs_background": "light"
     },
     "output_type": "display_data"
    }
   ],
   "source": [
    "### plot for all figures\n",
    "\n",
    "fig, axes = plt.subplots(3, 3, figsize=(12, 6))\n",
    "cov = 20\n",
    "indir = f'{projdir}/csv/var_consistency/real/atac/merged'\n",
    "melt_cols = ['C1 rate', 'C2 rate', 'I1 rate', 'I2 rate']\n",
    "sns.set_palette('Set1')\n",
    "\n",
    "merged_atac_con = pd.DataFrame()\n",
    "\n",
    "atac_con = pd.DataFrame(index=atac_methods, columns=con_cols)\n",
    "for i, ax in enumerate(axes.flatten()):\n",
    "    if i < 10:\n",
    "        method = atac_methods[i]\n",
    "        print(method)\n",
    "        tmp_con = pd.read_csv(f'{indir}/{method}_cov{cov}_varcon.csv', sep='\\t',\n",
    "                              header=0, index_col=0)\n",
    "        tmp_con = process_con(tmp_con)\n",
    "        melt_con = tmp_con.melt(id_vars='donor', value_vars=melt_cols)\n",
    "        sns.boxplot(melt_con, x='variable', y='value', hue='donor', ax=ax)\n",
    "        melt_con['method'] = method\n",
    "        merged_atac_con = pd.concat([merged_atac_con, melt_con])\n",
    "        ax.set_xlabel(\"\")\n",
    "        ax.set_ylabel(\"\")\n",
    "        ax.legend_.remove()\n",
    "        ax.set_ylim(0, 1)\n",
    "        ax.set_title(f'{method}', fontsize=12)\n",
    "        ax.grid(False)\n",
    "        ax.set_xticklabels(ax.get_xticklabels(), rotation=45)\n",
    "    else:\n",
    "        ax.remove()\n",
    "\n",
    "plt.suptitle('Variant consistency by donor, ATAC', fontsize=20)\n",
    "plt.subplots_adjust(wspace=0.4, hspace=0.5)  # Adjust the value as needed"
   ]
  },
  {
   "cell_type": "code",
   "execution_count": 30,
   "id": "9448d80c",
   "metadata": {
    "scrolled": true
   },
   "outputs": [],
   "source": [
    "merged_gex_con.to_csv(f'{projdir}/csv/final_figures/figure6/figure_s12_varcon_donors_gex.csv',\n",
    "                       sep='\\t', header=True, index=True)\n",
    "merged_atac_con.to_csv(f'{projdir}/csv/final_figures/figure6/figure_s12_varcon_donors_atac.csv',\n",
    "                       sep='\\t', header=True, index=True)"
   ]
  },
  {
   "cell_type": "code",
   "execution_count": 31,
   "id": "f073be85",
   "metadata": {},
   "outputs": [
    {
     "name": "stdout",
     "output_type": "stream",
     "text": [
      "demuxlet\n",
      "freemuxlet\n",
      "vireo\n",
      "vireo_nogenos\n",
      "scsplit\n",
      "scsplit_nogenos\n",
      "souporcell\n",
      "souporcell_nogenos\n",
      "demuxalot\n"
     ]
    }
   ],
   "source": [
    "# cov = 20\n",
    "# indir = f'{projdir}/csv/var_consistency/real/gex/merged/'\n",
    "\n",
    "# gex_con = pd.DataFrame(index=gex_methods, columns=con_cols)\n",
    "# for method in gex_methods:\n",
    "#     print(method)\n",
    "#     tmp_con = pd.read_csv(f'{indir}/{method}_cov{cov}_varcon.csv', sep='\\t',\n",
    "#                           header=0, index_col=0).drop(columns=['donor'])\n",
    "#     gex_con.loc[method] = np.sum(tmp_con, axis=0)\n",
    "    \n",
    "# gex_con['DP'] = np.sum(gex_con, axis=1)\n",
    "# gex_con['CON_RATE'] = (gex_con['C1'] + gex_con['C2']) / gex_con['DP']\n",
    "# gex_con['INCON_RATE'] = 1 - gex_con['CON_RATE']\n",
    "# gex_con['C1_RATE'] = gex_con['C1'] / gex_con['DP']\n",
    "# gex_con['C2_RATE'] = gex_con['C2'] / gex_con['DP']\n",
    "# gex_con['I1_RATE'] = gex_con['I1'] / gex_con['DP']\n",
    "# gex_con['I2_RATE'] = gex_con['I2'] / gex_con['DP']"
   ]
  },
  {
   "cell_type": "code",
   "execution_count": 33,
   "id": "df4799a7",
   "metadata": {},
   "outputs": [],
   "source": [
    "# cov = 20\n",
    "# indir = f'{projdir}/csv/var_consistency/real/atac/merged/'\n",
    "\n",
    "# atac_con = pd.DataFrame(index=atac_methods, columns=con_cols)\n",
    "# for method in atac_methods:\n",
    "#     print(method)\n",
    "#     tmp_con = pd.read_csv(f'{indir}/{method}_cov{cov}_varcon.csv', sep='\\t',\n",
    "#                           header=0, index_col=0).drop(columns=['donor'])\n",
    "#     atac_con.loc[method] = np.sum(tmp_con, axis=0)\n",
    "    \n",
    "# atac_con['DP'] = np.sum(atac_con, axis=1)\n",
    "# atac_con['CON_RATE'] = (atac_con['C1'] + atac_con['C2']) / atac_con['DP']\n",
    "# atac_con['INCON_RATE'] = 1 - atac_con['CON_RATE']\n",
    "# atac_con['C1_RATE'] = atac_con['C1'] / atac_con['DP']\n",
    "# atac_con['C2_RATE'] = atac_con['C2'] / atac_con['DP']\n",
    "# atac_con['I1_RATE'] = atac_con['I1'] / atac_con['DP']\n",
    "# atac_con['I2_RATE'] = atac_con['I2'] / atac_con['DP']"
   ]
  },
  {
   "cell_type": "code",
   "execution_count": 36,
   "id": "f9647e83",
   "metadata": {
    "scrolled": true
   },
   "outputs": [],
   "source": [
    "# gex_con"
   ]
  },
  {
   "cell_type": "code",
   "execution_count": 37,
   "id": "ed214763",
   "metadata": {},
   "outputs": [],
   "source": [
    "# atac_con"
   ]
  },
  {
   "cell_type": "code",
   "execution_count": 38,
   "id": "af5ced15",
   "metadata": {},
   "outputs": [],
   "source": [
    "# gex_con.to_csv(f'{projdir}/)"
   ]
  },
  {
   "cell_type": "code",
   "execution_count": null,
   "id": "1a540b27",
   "metadata": {},
   "outputs": [],
   "source": []
  }
 ],
 "metadata": {
  "kernelspec": {
   "display_name": "allcools",
   "language": "python",
   "name": "allcools"
  },
  "language_info": {
   "codemirror_mode": {
    "name": "ipython",
    "version": 3
   },
   "file_extension": ".py",
   "mimetype": "text/x-python",
   "name": "python",
   "nbconvert_exporter": "python",
   "pygments_lexer": "ipython3",
   "version": "3.7.13"
  }
 },
 "nbformat": 4,
 "nbformat_minor": 5
}
