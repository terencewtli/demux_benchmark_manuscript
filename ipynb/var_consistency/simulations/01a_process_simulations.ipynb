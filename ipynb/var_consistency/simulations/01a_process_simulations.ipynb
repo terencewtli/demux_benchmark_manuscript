{
 "cells": [
  {
   "cell_type": "code",
   "execution_count": 2,
   "id": "ff2db294",
   "metadata": {},
   "outputs": [],
   "source": [
    "import numpy as np\n",
    "import pandas as pd\n",
    "import matplotlib.pyplot as plt\n",
    "import seaborn as sns\n",
    "from scipy.io import mmread, mmwrite"
   ]
  },
  {
   "cell_type": "code",
   "execution_count": 3,
   "id": "3c90307c",
   "metadata": {},
   "outputs": [],
   "source": [
    "projdir = '/u/home/t/terencew/project-cluo/igvf/pilot/multiome/'\n",
    "donors = list(np.loadtxt(f'{projdir}/txt/donors.txt', dtype=str))\n",
    "samples = list(np.loadtxt(f'{projdir}/txt/samples.txt', dtype=str))\n",
    "s = samples[0]\n",
    "\n",
    "gex_methods = ['demuxlet', 'freemuxlet', 'vireo', 'vireo_nogenos',\n",
    "     'scsplit', 'scsplit_nogenos', 'souporcell', 'souporcell_nogenos', 'demuxalot']\n",
    "atac_methods = ['demuxlet', 'freemuxlet',  'vireo', 'vireo_nogenos',\n",
    "    'scsplit', 'scsplit_nogenos', 'souporcell', 'souporcell_nogenos', 'scavengers']\n",
    "\n",
    "con_cols = ['C1', 'C2', 'I1', 'I2']\n",
    "final_con_cols = ['C1', 'C2', 'I1', 'I2', 'donor']\n",
    "\n",
    "pd_experiments = np.loadtxt(f'{projdir}/ambient/ambisim/prop_doub/txt/experiments.txt', dtype=str)\n",
    "mux_experiments = np.loadtxt(f'{projdir}/ambient/ambisim/mux_test/txt/experiments.txt', dtype=str)"
   ]
  },
  {
   "cell_type": "code",
   "execution_count": 4,
   "id": "0d45500f",
   "metadata": {},
   "outputs": [
    {
     "data": {
      "text/plain": [
       "array(['0_20', '10_20', '20_20', '30_20', '40_20', '50_20'], dtype='<U5')"
      ]
     },
     "execution_count": 4,
     "metadata": {},
     "output_type": "execute_result"
    }
   ],
   "source": [
    "pd_exps = pd_experiments[['_20' in x for x in pd_experiments]]\n",
    "pd_exps"
   ]
  },
  {
   "cell_type": "code",
   "execution_count": 5,
   "id": "fbb81fb3",
   "metadata": {},
   "outputs": [
    {
     "data": {
      "text/plain": [
       "array(['2_20', '6_20', '8_20', '10_20', '12_20', '14_20', '16_20'],\n",
       "      dtype='<U5')"
      ]
     },
     "execution_count": 5,
     "metadata": {},
     "output_type": "execute_result"
    }
   ],
   "source": [
    "mux_exps = mux_experiments[['_20' in x for x in mux_experiments]]\n",
    "mux_exps"
   ]
  },
  {
   "cell_type": "code",
   "execution_count": 6,
   "id": "f7c99a34",
   "metadata": {},
   "outputs": [],
   "source": [
    "# indir = f'{projdir}/ambient/ambisim/prop_doub/'\n",
    "# exp = '0_20'\n",
    "# gex_indiv = pd.read_csv(f'{indir}/{exp}/demux/merged/gex/r2_test/{s}/individual_gex.csv', sep='\\t',\n",
    "#                   header=0, index_col=0)\n",
    "# atac_indiv = pd.read_csv(f'{indir}/{exp}/demux/merged/atac/r2_test/{s}/individual_atac.csv', sep='\\t',\n",
    "#                    header=0, index_col=0)\n",
    "# gex_indiv.shape"
   ]
  },
  {
   "cell_type": "code",
   "execution_count": 7,
   "id": "f1a496b3",
   "metadata": {},
   "outputs": [],
   "source": [
    "def read_varcon_steps(indir, steps, cov_thresh):\n",
    "    step = steps[0]\n",
    "    con_path = f'{indir}/batches/{step}_cov{cov_thresh}_con_counts.csv'\n",
    "    varcon = pd.read_csv(con_path, sep='\\t', header=0, index_col=0)\n",
    "    for step in steps[1:]:\n",
    "        con_path = f'{indir}/batches/{step}_cov{cov_thresh}_con_counts.csv'\n",
    "        tmp_con = pd.read_csv(con_path, sep='\\t', header=0, index_col=0)\n",
    "        varcon = pd.concat([varcon, tmp_con])\n",
    "    return varcon"
   ]
  },
  {
   "cell_type": "code",
   "execution_count": 8,
   "id": "43f673d9",
   "metadata": {},
   "outputs": [],
   "source": [
    "def process_varcon(demux, varcon, donors, method):\n",
    "    cols = ['C1', 'C2', 'I1', 'I2', 'donor']\n",
    "    counts = pd.DataFrame(columns=cols)\n",
    "    for donor in donors:\n",
    "        bc_mask = demux[method] == donor\n",
    "        tmp_assign = demux[bc_mask]\n",
    "        tmp_con = varcon[bc_mask]\n",
    "        col_mask = [donor in x for x in tmp_con.columns]\n",
    "        select_cols = tmp_con.columns[col_mask]\n",
    "        tmp_con = tmp_con[select_cols]\n",
    "        tmp_con.columns = ['C1', 'C2', 'I1', 'I2']\n",
    "        tmp_con['donor'] = donor\n",
    "        counts = pd.concat([counts, tmp_con])\n",
    "    return counts"
   ]
  },
  {
   "cell_type": "code",
   "execution_count": 9,
   "id": "1526c261",
   "metadata": {},
   "outputs": [],
   "source": [
    "def process_con(con):\n",
    "    con['DP'] = np.sum(con.iloc[:,:4], axis=1)\n",
    "    con['Consistent rate'] = (con['C1'] + con['C2']) / con['DP']\n",
    "    con['Inconsistent rate'] = 1 - con['Consistent rate']\n",
    "    con['C1 rate'] = con['C1'] / con['DP']\n",
    "    con['C2 rate'] = con['C2'] / con['DP']\n",
    "    con['I1 rate'] = con['I1'] / con['DP']\n",
    "    con['I2 rate'] = con['I2'] / con['DP']\n",
    "    return con"
   ]
  },
  {
   "cell_type": "code",
   "execution_count": 10,
   "id": "0e0984e0",
   "metadata": {},
   "outputs": [
    {
     "name": "stdout",
     "output_type": "stream",
     "text": [
      "ls: cannot access {indir}/{exp}/csv/demux/: No such file or directory\r\n"
     ]
    }
   ],
   "source": [
    "!ls {indir}/{exp}/csv/demux/"
   ]
  },
  {
   "cell_type": "code",
   "execution_count": 11,
   "id": "a7e7c25b",
   "metadata": {},
   "outputs": [],
   "source": [
    "indir = f'{projdir}/ambient/ambisim/prop_doub/'\n",
    "exp = pd_exps[0]"
   ]
  },
  {
   "cell_type": "code",
   "execution_count": 12,
   "id": "6b994de2",
   "metadata": {},
   "outputs": [],
   "source": [
    "gex = pd.read_csv(f'{indir}/{exp}/csv/demux/individual_gex.csv', sep='\\t',\n",
    "              header=0, index_col=0)\n",
    "atac = pd.read_csv(f'{indir}/{exp}/csv/demux/individual_atac.csv', sep='\\t',\n",
    "              header=0, index_col=0)"
   ]
  },
  {
   "cell_type": "code",
   "execution_count": 13,
   "id": "203a4c0c",
   "metadata": {},
   "outputs": [],
   "source": [
    "# n_drops = sum(gex['method'] == 'demuxlet')\n",
    "n_drops = gex.shape[0]\n",
    "interval = 200\n",
    "steps = list(range(0, n_drops, interval))\n",
    "cov_thresh = 20"
   ]
  },
  {
   "cell_type": "code",
   "execution_count": 14,
   "id": "69edc9e0",
   "metadata": {},
   "outputs": [
    {
     "data": {
      "text/plain": [
       "(8571, 16)"
      ]
     },
     "execution_count": 14,
     "metadata": {},
     "output_type": "execute_result"
    }
   ],
   "source": [
    "pd_exps = ['0_20', '10_20', '20_20', '30_20']\n",
    "exp = pd_exps[0]\n",
    "\n",
    "vardir = f'{projdir}/ambient/ambisim/prop_doub/{exp}/demux/var_consistency/gex/{s}/'\n",
    "gex_con = read_varcon_steps(vardir, steps, cov_thresh)\n",
    "gex_con.index = [f'{x}_D0' for x in gex_con.index]\n",
    "gex_con.shape"
   ]
  },
  {
   "cell_type": "code",
   "execution_count": 15,
   "id": "6bdea068",
   "metadata": {},
   "outputs": [
    {
     "data": {
      "text/plain": [
       "(8571, 16)"
      ]
     },
     "execution_count": 15,
     "metadata": {},
     "output_type": "execute_result"
    }
   ],
   "source": [
    "vardir = f'{projdir}/ambient/ambisim/prop_doub/{exp}/demux/var_consistency/atac/{s}/'\n",
    "\n",
    "atac_con = read_varcon_steps(vardir, steps, cov_thresh)\n",
    "atac_con.index = [f'{x}_D0' for x in atac_con.index]\n",
    "atac_con.shape"
   ]
  },
  {
   "cell_type": "code",
   "execution_count": 16,
   "id": "6f5b96e2",
   "metadata": {},
   "outputs": [
    {
     "data": {
      "text/html": [
       "<div>\n",
       "<style scoped>\n",
       "    .dataframe tbody tr th:only-of-type {\n",
       "        vertical-align: middle;\n",
       "    }\n",
       "\n",
       "    .dataframe tbody tr th {\n",
       "        vertical-align: top;\n",
       "    }\n",
       "\n",
       "    .dataframe thead th {\n",
       "        text-align: right;\n",
       "    }\n",
       "</style>\n",
       "<table border=\"1\" class=\"dataframe\">\n",
       "  <thead>\n",
       "    <tr style=\"text-align: right;\">\n",
       "      <th></th>\n",
       "      <th>demuxlet</th>\n",
       "      <th>freemuxlet</th>\n",
       "      <th>vireo</th>\n",
       "      <th>vireo_nogenos</th>\n",
       "      <th>souporcell</th>\n",
       "      <th>souporcell_nogenos</th>\n",
       "      <th>scsplit</th>\n",
       "      <th>scsplit_nogenos</th>\n",
       "      <th>demuxalot</th>\n",
       "      <th>truth</th>\n",
       "    </tr>\n",
       "  </thead>\n",
       "  <tbody>\n",
       "    <tr>\n",
       "      <th>AAACAGCCAAACAACA-1_D0</th>\n",
       "      <td>27_C4</td>\n",
       "      <td>27_C4</td>\n",
       "      <td>27_C4</td>\n",
       "      <td>27_C4</td>\n",
       "      <td>27_C4</td>\n",
       "      <td>27_C4</td>\n",
       "      <td>27_C4</td>\n",
       "      <td>27_C4</td>\n",
       "      <td>27_C4</td>\n",
       "      <td>27_C4</td>\n",
       "    </tr>\n",
       "    <tr>\n",
       "      <th>AAACAGCCAAACATAG-1_D0</th>\n",
       "      <td>26_A10</td>\n",
       "      <td>26_A10</td>\n",
       "      <td>26_A10</td>\n",
       "      <td>26_A10</td>\n",
       "      <td>26_A10</td>\n",
       "      <td>26_A10</td>\n",
       "      <td>26_A10</td>\n",
       "      <td>26_A10</td>\n",
       "      <td>26_A10</td>\n",
       "      <td>26_A10</td>\n",
       "    </tr>\n",
       "    <tr>\n",
       "      <th>AAACAGCCAAACCCTA-1_D0</th>\n",
       "      <td>27_C4</td>\n",
       "      <td>27_C4</td>\n",
       "      <td>27_C4</td>\n",
       "      <td>27_C4</td>\n",
       "      <td>27_C4</td>\n",
       "      <td>27_C4</td>\n",
       "      <td>27_C4</td>\n",
       "      <td>27_C4</td>\n",
       "      <td>27_C4</td>\n",
       "      <td>27_C4</td>\n",
       "    </tr>\n",
       "    <tr>\n",
       "      <th>AAACAGCCAAACCTAT-1_D0</th>\n",
       "      <td>26_A10</td>\n",
       "      <td>26_A10</td>\n",
       "      <td>26_A10</td>\n",
       "      <td>26_A10</td>\n",
       "      <td>26_A10</td>\n",
       "      <td>26_A10</td>\n",
       "      <td>26_A10</td>\n",
       "      <td>26_A10</td>\n",
       "      <td>26_A10</td>\n",
       "      <td>26_A10</td>\n",
       "    </tr>\n",
       "    <tr>\n",
       "      <th>AAACAGCCAAACCTTG-1_D0</th>\n",
       "      <td>48_V3</td>\n",
       "      <td>48_V3</td>\n",
       "      <td>48_V3</td>\n",
       "      <td>48_V3</td>\n",
       "      <td>48_V3</td>\n",
       "      <td>48_V3</td>\n",
       "      <td>48_V3</td>\n",
       "      <td>48_V3</td>\n",
       "      <td>48_V3</td>\n",
       "      <td>48_V3</td>\n",
       "    </tr>\n",
       "    <tr>\n",
       "      <th>...</th>\n",
       "      <td>...</td>\n",
       "      <td>...</td>\n",
       "      <td>...</td>\n",
       "      <td>...</td>\n",
       "      <td>...</td>\n",
       "      <td>...</td>\n",
       "      <td>...</td>\n",
       "      <td>...</td>\n",
       "      <td>...</td>\n",
       "      <td>...</td>\n",
       "    </tr>\n",
       "    <tr>\n",
       "      <th>AACAAGCCACTGACTA-1_D0</th>\n",
       "      <td>48_V3</td>\n",
       "      <td>doublet</td>\n",
       "      <td>doublet</td>\n",
       "      <td>doublet</td>\n",
       "      <td>doublet</td>\n",
       "      <td>doublet</td>\n",
       "      <td>26_A10</td>\n",
       "      <td>26_A10</td>\n",
       "      <td>doublet</td>\n",
       "      <td>doublet</td>\n",
       "    </tr>\n",
       "    <tr>\n",
       "      <th>AACAAGCCACTGGCCA-1_D0</th>\n",
       "      <td>27_C4</td>\n",
       "      <td>doublet</td>\n",
       "      <td>doublet</td>\n",
       "      <td>doublet</td>\n",
       "      <td>27_C4</td>\n",
       "      <td>doublet</td>\n",
       "      <td>doublet</td>\n",
       "      <td>doublet</td>\n",
       "      <td>doublet</td>\n",
       "      <td>doublet</td>\n",
       "    </tr>\n",
       "    <tr>\n",
       "      <th>AACAAGCCACTGGCTG-1_D0</th>\n",
       "      <td>doublet</td>\n",
       "      <td>25_A4</td>\n",
       "      <td>doublet</td>\n",
       "      <td>doublet</td>\n",
       "      <td>doublet</td>\n",
       "      <td>doublet</td>\n",
       "      <td>doublet</td>\n",
       "      <td>doublet</td>\n",
       "      <td>doublet</td>\n",
       "      <td>doublet</td>\n",
       "    </tr>\n",
       "    <tr>\n",
       "      <th>AACAAGCCACTTAACG-1_D0</th>\n",
       "      <td>48_V3</td>\n",
       "      <td>48_V3</td>\n",
       "      <td>doublet</td>\n",
       "      <td>doublet</td>\n",
       "      <td>unassigned</td>\n",
       "      <td>doublet</td>\n",
       "      <td>doublet</td>\n",
       "      <td>unassigned</td>\n",
       "      <td>doublet</td>\n",
       "      <td>doublet</td>\n",
       "    </tr>\n",
       "    <tr>\n",
       "      <th>AACAAGCCACTTACAG-1_D0</th>\n",
       "      <td>doublet</td>\n",
       "      <td>doublet</td>\n",
       "      <td>doublet</td>\n",
       "      <td>doublet</td>\n",
       "      <td>doublet</td>\n",
       "      <td>doublet</td>\n",
       "      <td>doublet</td>\n",
       "      <td>doublet</td>\n",
       "      <td>doublet</td>\n",
       "      <td>doublet</td>\n",
       "    </tr>\n",
       "  </tbody>\n",
       "</table>\n",
       "<p>8571 rows × 10 columns</p>\n",
       "</div>"
      ],
      "text/plain": [
       "                      demuxlet freemuxlet    vireo vireo_nogenos  souporcell  \\\n",
       "AAACAGCCAAACAACA-1_D0    27_C4      27_C4    27_C4         27_C4       27_C4   \n",
       "AAACAGCCAAACATAG-1_D0   26_A10     26_A10   26_A10        26_A10      26_A10   \n",
       "AAACAGCCAAACCCTA-1_D0    27_C4      27_C4    27_C4         27_C4       27_C4   \n",
       "AAACAGCCAAACCTAT-1_D0   26_A10     26_A10   26_A10        26_A10      26_A10   \n",
       "AAACAGCCAAACCTTG-1_D0    48_V3      48_V3    48_V3         48_V3       48_V3   \n",
       "...                        ...        ...      ...           ...         ...   \n",
       "AACAAGCCACTGACTA-1_D0    48_V3    doublet  doublet       doublet     doublet   \n",
       "AACAAGCCACTGGCCA-1_D0    27_C4    doublet  doublet       doublet       27_C4   \n",
       "AACAAGCCACTGGCTG-1_D0  doublet      25_A4  doublet       doublet     doublet   \n",
       "AACAAGCCACTTAACG-1_D0    48_V3      48_V3  doublet       doublet  unassigned   \n",
       "AACAAGCCACTTACAG-1_D0  doublet    doublet  doublet       doublet     doublet   \n",
       "\n",
       "                      souporcell_nogenos  scsplit scsplit_nogenos demuxalot  \\\n",
       "AAACAGCCAAACAACA-1_D0              27_C4    27_C4           27_C4     27_C4   \n",
       "AAACAGCCAAACATAG-1_D0             26_A10   26_A10          26_A10    26_A10   \n",
       "AAACAGCCAAACCCTA-1_D0              27_C4    27_C4           27_C4     27_C4   \n",
       "AAACAGCCAAACCTAT-1_D0             26_A10   26_A10          26_A10    26_A10   \n",
       "AAACAGCCAAACCTTG-1_D0              48_V3    48_V3           48_V3     48_V3   \n",
       "...                                  ...      ...             ...       ...   \n",
       "AACAAGCCACTGACTA-1_D0            doublet   26_A10          26_A10   doublet   \n",
       "AACAAGCCACTGGCCA-1_D0            doublet  doublet         doublet   doublet   \n",
       "AACAAGCCACTGGCTG-1_D0            doublet  doublet         doublet   doublet   \n",
       "AACAAGCCACTTAACG-1_D0            doublet  doublet      unassigned   doublet   \n",
       "AACAAGCCACTTACAG-1_D0            doublet  doublet         doublet   doublet   \n",
       "\n",
       "                         truth  \n",
       "AAACAGCCAAACAACA-1_D0    27_C4  \n",
       "AAACAGCCAAACATAG-1_D0   26_A10  \n",
       "AAACAGCCAAACCCTA-1_D0    27_C4  \n",
       "AAACAGCCAAACCTAT-1_D0   26_A10  \n",
       "AAACAGCCAAACCTTG-1_D0    48_V3  \n",
       "...                        ...  \n",
       "AACAAGCCACTGACTA-1_D0  doublet  \n",
       "AACAAGCCACTGGCCA-1_D0  doublet  \n",
       "AACAAGCCACTGGCTG-1_D0  doublet  \n",
       "AACAAGCCACTTAACG-1_D0  doublet  \n",
       "AACAAGCCACTTACAG-1_D0  doublet  \n",
       "\n",
       "[8571 rows x 10 columns]"
      ]
     },
     "execution_count": 16,
     "metadata": {},
     "output_type": "execute_result"
    }
   ],
   "source": [
    "gex"
   ]
  },
  {
   "cell_type": "code",
   "execution_count": 17,
   "id": "a507915e",
   "metadata": {},
   "outputs": [],
   "source": [
    "gex_truth_con = process_varcon(gex, gex_con, donors, 'truth')\n",
    "atac_truth_con = process_varcon(atac, atac_con, donors, 'truth')"
   ]
  },
  {
   "cell_type": "code",
   "execution_count": 18,
   "id": "afbfef21",
   "metadata": {},
   "outputs": [],
   "source": [
    "tmp_gex = pd.DataFrame(np.sum(gex_truth_con.drop(columns=['donor']), axis=0)).transpose()\n",
    "tmp_atac = pd.DataFrame(np.sum(atac_truth_con.drop(columns=['donor']), axis=0)).transpose()"
   ]
  },
  {
   "cell_type": "code",
   "execution_count": 19,
   "id": "73faf91a",
   "metadata": {},
   "outputs": [
    {
     "data": {
      "text/plain": [
       "Index(['C1', 'C2', 'I1', 'I2', 'DP', 'Consistent rate', 'Inconsistent rate',\n",
       "       'C1 rate', 'C2 rate', 'I1 rate', 'I2 rate'],\n",
       "      dtype='object')"
      ]
     },
     "execution_count": 19,
     "metadata": {},
     "output_type": "execute_result"
    }
   ],
   "source": [
    "process_con(tmp_gex)\n",
    "process_con(tmp_atac).columns"
   ]
  },
  {
   "cell_type": "code",
   "execution_count": 20,
   "id": "60370505",
   "metadata": {},
   "outputs": [
    {
     "data": {
      "text/html": [
       "<div>\n",
       "<style scoped>\n",
       "    .dataframe tbody tr th:only-of-type {\n",
       "        vertical-align: middle;\n",
       "    }\n",
       "\n",
       "    .dataframe tbody tr th {\n",
       "        vertical-align: top;\n",
       "    }\n",
       "\n",
       "    .dataframe thead th {\n",
       "        text-align: right;\n",
       "    }\n",
       "</style>\n",
       "<table border=\"1\" class=\"dataframe\">\n",
       "  <thead>\n",
       "    <tr style=\"text-align: right;\">\n",
       "      <th></th>\n",
       "      <th>C1</th>\n",
       "      <th>C2</th>\n",
       "      <th>I1</th>\n",
       "      <th>I2</th>\n",
       "      <th>donor</th>\n",
       "    </tr>\n",
       "  </thead>\n",
       "  <tbody>\n",
       "    <tr>\n",
       "      <th>AAACAGCCAAACGCGA-1_D0</th>\n",
       "      <td>8</td>\n",
       "      <td>90</td>\n",
       "      <td>2</td>\n",
       "      <td>0</td>\n",
       "      <td>25_A4</td>\n",
       "    </tr>\n",
       "    <tr>\n",
       "      <th>AAACAGCCAAACTAAG-1_D0</th>\n",
       "      <td>2</td>\n",
       "      <td>29</td>\n",
       "      <td>0</td>\n",
       "      <td>0</td>\n",
       "      <td>25_A4</td>\n",
       "    </tr>\n",
       "    <tr>\n",
       "      <th>AAACAGCCAAAGCTCC-1_D0</th>\n",
       "      <td>16</td>\n",
       "      <td>198</td>\n",
       "      <td>2</td>\n",
       "      <td>0</td>\n",
       "      <td>25_A4</td>\n",
       "    </tr>\n",
       "    <tr>\n",
       "      <th>AAACAGCCAAATACCT-1_D0</th>\n",
       "      <td>1</td>\n",
       "      <td>21</td>\n",
       "      <td>0</td>\n",
       "      <td>0</td>\n",
       "      <td>25_A4</td>\n",
       "    </tr>\n",
       "    <tr>\n",
       "      <th>AAACAGCCAAATATCC-1_D0</th>\n",
       "      <td>2</td>\n",
       "      <td>48</td>\n",
       "      <td>0</td>\n",
       "      <td>0</td>\n",
       "      <td>25_A4</td>\n",
       "    </tr>\n",
       "    <tr>\n",
       "      <th>...</th>\n",
       "      <td>...</td>\n",
       "      <td>...</td>\n",
       "      <td>...</td>\n",
       "      <td>...</td>\n",
       "      <td>...</td>\n",
       "    </tr>\n",
       "    <tr>\n",
       "      <th>AAAGGTTAGTAACCAC-1_D0</th>\n",
       "      <td>8</td>\n",
       "      <td>102</td>\n",
       "      <td>0</td>\n",
       "      <td>0</td>\n",
       "      <td>48_V3</td>\n",
       "    </tr>\n",
       "    <tr>\n",
       "      <th>AAAGGTTAGTAACTCA-1_D0</th>\n",
       "      <td>8</td>\n",
       "      <td>110</td>\n",
       "      <td>0</td>\n",
       "      <td>0</td>\n",
       "      <td>48_V3</td>\n",
       "    </tr>\n",
       "    <tr>\n",
       "      <th>AAAGGTTAGTAAGAAC-1_D0</th>\n",
       "      <td>1</td>\n",
       "      <td>100</td>\n",
       "      <td>0</td>\n",
       "      <td>0</td>\n",
       "      <td>48_V3</td>\n",
       "    </tr>\n",
       "    <tr>\n",
       "      <th>AAAGGTTAGTAGCCAT-1_D0</th>\n",
       "      <td>11</td>\n",
       "      <td>220</td>\n",
       "      <td>1</td>\n",
       "      <td>0</td>\n",
       "      <td>48_V3</td>\n",
       "    </tr>\n",
       "    <tr>\n",
       "      <th>AAAGGTTAGTAGCGGG-1_D0</th>\n",
       "      <td>3</td>\n",
       "      <td>61</td>\n",
       "      <td>0</td>\n",
       "      <td>0</td>\n",
       "      <td>48_V3</td>\n",
       "    </tr>\n",
       "  </tbody>\n",
       "</table>\n",
       "<p>6837 rows × 5 columns</p>\n",
       "</div>"
      ],
      "text/plain": [
       "                       C1   C2 I1 I2  donor\n",
       "AAACAGCCAAACGCGA-1_D0   8   90  2  0  25_A4\n",
       "AAACAGCCAAACTAAG-1_D0   2   29  0  0  25_A4\n",
       "AAACAGCCAAAGCTCC-1_D0  16  198  2  0  25_A4\n",
       "AAACAGCCAAATACCT-1_D0   1   21  0  0  25_A4\n",
       "AAACAGCCAAATATCC-1_D0   2   48  0  0  25_A4\n",
       "...                    ..  ... .. ..    ...\n",
       "AAAGGTTAGTAACCAC-1_D0   8  102  0  0  48_V3\n",
       "AAAGGTTAGTAACTCA-1_D0   8  110  0  0  48_V3\n",
       "AAAGGTTAGTAAGAAC-1_D0   1  100  0  0  48_V3\n",
       "AAAGGTTAGTAGCCAT-1_D0  11  220  1  0  48_V3\n",
       "AAAGGTTAGTAGCGGG-1_D0   3   61  0  0  48_V3\n",
       "\n",
       "[6837 rows x 5 columns]"
      ]
     },
     "execution_count": 20,
     "metadata": {},
     "output_type": "execute_result"
    }
   ],
   "source": [
    "atac_truth_con"
   ]
  },
  {
   "cell_type": "code",
   "execution_count": 21,
   "id": "cbccd31d",
   "metadata": {},
   "outputs": [
    {
     "data": {
      "text/plain": [
       "array([[189857, 2842008, 9586, 230, 3041681.0, 0.9967728371252607,\n",
       "        0.003227162874739342, 0.06241844558979064, 0.9343543915354701,\n",
       "        0.0031515467927110043, 7.561608202832578e-05]], dtype=object)"
      ]
     },
     "execution_count": 21,
     "metadata": {},
     "output_type": "execute_result"
    }
   ],
   "source": [
    "process_con(tmp_gex).values"
   ]
  },
  {
   "cell_type": "code",
   "execution_count": 22,
   "id": "9393347e",
   "metadata": {},
   "outputs": [
    {
     "name": "stdout",
     "output_type": "stream",
     "text": [
      "0_0\n",
      "0_10\n",
      "0_20\n",
      "0_30\n",
      "0_40\n",
      "0_50\n",
      "10_0\n",
      "10_10\n",
      "10_20\n",
      "10_30\n",
      "10_40\n",
      "10_50\n",
      "20_0\n",
      "20_10\n",
      "20_20\n",
      "20_30\n",
      "20_40\n",
      "20_50\n",
      "30_0\n",
      "30_10\n",
      "30_20\n",
      "30_30\n"
     ]
    },
    {
     "ename": "FileNotFoundError",
     "evalue": "[Errno 2] No such file or directory: '/u/home/t/terencew/project-cluo/igvf/pilot/multiome//ambient/ambisim/prop_doub/30_30/demux/var_consistency/gex/20220928-IGVF-D0//batches/2600_cov0_con_counts.csv'",
     "output_type": "error",
     "traceback": [
      "\u001b[0;31m---------------------------------------------------------------------------\u001b[0m",
      "\u001b[0;31mFileNotFoundError\u001b[0m                         Traceback (most recent call last)",
      "\u001b[0;32m/tmp/ipykernel_44165/1966524352.py\u001b[0m in \u001b[0;36m<module>\u001b[0;34m\u001b[0m\n\u001b[1;32m     22\u001b[0m     \u001b[0;32mfor\u001b[0m \u001b[0mcov\u001b[0m \u001b[0;32min\u001b[0m \u001b[0mcov_thresh\u001b[0m\u001b[0;34m:\u001b[0m\u001b[0;34m\u001b[0m\u001b[0;34m\u001b[0m\u001b[0m\n\u001b[1;32m     23\u001b[0m         \u001b[0mvardir\u001b[0m \u001b[0;34m=\u001b[0m \u001b[0;34mf'{projdir}/ambient/ambisim/prop_doub/{exp}/demux/var_consistency/gex/{s}/'\u001b[0m\u001b[0;34m\u001b[0m\u001b[0;34m\u001b[0m\u001b[0m\n\u001b[0;32m---> 24\u001b[0;31m         \u001b[0mgex_con\u001b[0m \u001b[0;34m=\u001b[0m \u001b[0mread_varcon_steps\u001b[0m\u001b[0;34m(\u001b[0m\u001b[0mvardir\u001b[0m\u001b[0;34m,\u001b[0m \u001b[0msteps\u001b[0m\u001b[0;34m,\u001b[0m \u001b[0mcov\u001b[0m\u001b[0;34m)\u001b[0m\u001b[0;34m\u001b[0m\u001b[0;34m\u001b[0m\u001b[0m\n\u001b[0m\u001b[1;32m     25\u001b[0m         \u001b[0mgex_con\u001b[0m\u001b[0;34m.\u001b[0m\u001b[0mindex\u001b[0m \u001b[0;34m=\u001b[0m \u001b[0;34m[\u001b[0m\u001b[0;34mf'{x}_D0'\u001b[0m \u001b[0;32mfor\u001b[0m \u001b[0mx\u001b[0m \u001b[0;32min\u001b[0m \u001b[0mgex_con\u001b[0m\u001b[0;34m.\u001b[0m\u001b[0mindex\u001b[0m\u001b[0;34m]\u001b[0m\u001b[0;34m\u001b[0m\u001b[0;34m\u001b[0m\u001b[0m\n\u001b[1;32m     26\u001b[0m \u001b[0;34m\u001b[0m\u001b[0m\n",
      "\u001b[0;32m/tmp/ipykernel_44165/4106369730.py\u001b[0m in \u001b[0;36mread_varcon_steps\u001b[0;34m(indir, steps, cov_thresh)\u001b[0m\n\u001b[1;32m      5\u001b[0m     \u001b[0;32mfor\u001b[0m \u001b[0mstep\u001b[0m \u001b[0;32min\u001b[0m \u001b[0msteps\u001b[0m\u001b[0;34m[\u001b[0m\u001b[0;36m1\u001b[0m\u001b[0;34m:\u001b[0m\u001b[0;34m]\u001b[0m\u001b[0;34m:\u001b[0m\u001b[0;34m\u001b[0m\u001b[0;34m\u001b[0m\u001b[0m\n\u001b[1;32m      6\u001b[0m         \u001b[0mcon_path\u001b[0m \u001b[0;34m=\u001b[0m \u001b[0;34mf'{indir}/batches/{step}_cov{cov_thresh}_con_counts.csv'\u001b[0m\u001b[0;34m\u001b[0m\u001b[0;34m\u001b[0m\u001b[0m\n\u001b[0;32m----> 7\u001b[0;31m         \u001b[0mtmp_con\u001b[0m \u001b[0;34m=\u001b[0m \u001b[0mpd\u001b[0m\u001b[0;34m.\u001b[0m\u001b[0mread_csv\u001b[0m\u001b[0;34m(\u001b[0m\u001b[0mcon_path\u001b[0m\u001b[0;34m,\u001b[0m \u001b[0msep\u001b[0m\u001b[0;34m=\u001b[0m\u001b[0;34m'\\t'\u001b[0m\u001b[0;34m,\u001b[0m \u001b[0mheader\u001b[0m\u001b[0;34m=\u001b[0m\u001b[0;36m0\u001b[0m\u001b[0;34m,\u001b[0m \u001b[0mindex_col\u001b[0m\u001b[0;34m=\u001b[0m\u001b[0;36m0\u001b[0m\u001b[0;34m)\u001b[0m\u001b[0;34m\u001b[0m\u001b[0;34m\u001b[0m\u001b[0m\n\u001b[0m\u001b[1;32m      8\u001b[0m         \u001b[0mvarcon\u001b[0m \u001b[0;34m=\u001b[0m \u001b[0mpd\u001b[0m\u001b[0;34m.\u001b[0m\u001b[0mconcat\u001b[0m\u001b[0;34m(\u001b[0m\u001b[0;34m[\u001b[0m\u001b[0mvarcon\u001b[0m\u001b[0;34m,\u001b[0m \u001b[0mtmp_con\u001b[0m\u001b[0;34m]\u001b[0m\u001b[0;34m)\u001b[0m\u001b[0;34m\u001b[0m\u001b[0;34m\u001b[0m\u001b[0m\n\u001b[1;32m      9\u001b[0m     \u001b[0;32mreturn\u001b[0m \u001b[0mvarcon\u001b[0m\u001b[0;34m\u001b[0m\u001b[0;34m\u001b[0m\u001b[0m\n",
      "\u001b[0;32m~/project-cluo/miniconda3/envs/allcools/lib/python3.7/site-packages/pandas/util/_decorators.py\u001b[0m in \u001b[0;36mwrapper\u001b[0;34m(*args, **kwargs)\u001b[0m\n\u001b[1;32m    309\u001b[0m                     \u001b[0mstacklevel\u001b[0m\u001b[0;34m=\u001b[0m\u001b[0mstacklevel\u001b[0m\u001b[0;34m,\u001b[0m\u001b[0;34m\u001b[0m\u001b[0;34m\u001b[0m\u001b[0m\n\u001b[1;32m    310\u001b[0m                 )\n\u001b[0;32m--> 311\u001b[0;31m             \u001b[0;32mreturn\u001b[0m \u001b[0mfunc\u001b[0m\u001b[0;34m(\u001b[0m\u001b[0;34m*\u001b[0m\u001b[0margs\u001b[0m\u001b[0;34m,\u001b[0m \u001b[0;34m**\u001b[0m\u001b[0mkwargs\u001b[0m\u001b[0;34m)\u001b[0m\u001b[0;34m\u001b[0m\u001b[0;34m\u001b[0m\u001b[0m\n\u001b[0m\u001b[1;32m    312\u001b[0m \u001b[0;34m\u001b[0m\u001b[0m\n\u001b[1;32m    313\u001b[0m         \u001b[0;32mreturn\u001b[0m \u001b[0mwrapper\u001b[0m\u001b[0;34m\u001b[0m\u001b[0;34m\u001b[0m\u001b[0m\n",
      "\u001b[0;32m~/project-cluo/miniconda3/envs/allcools/lib/python3.7/site-packages/pandas/io/parsers/readers.py\u001b[0m in \u001b[0;36mread_csv\u001b[0;34m(filepath_or_buffer, sep, delimiter, header, names, index_col, usecols, squeeze, prefix, mangle_dupe_cols, dtype, engine, converters, true_values, false_values, skipinitialspace, skiprows, skipfooter, nrows, na_values, keep_default_na, na_filter, verbose, skip_blank_lines, parse_dates, infer_datetime_format, keep_date_col, date_parser, dayfirst, cache_dates, iterator, chunksize, compression, thousands, decimal, lineterminator, quotechar, quoting, doublequote, escapechar, comment, encoding, encoding_errors, dialect, error_bad_lines, warn_bad_lines, on_bad_lines, delim_whitespace, low_memory, memory_map, float_precision, storage_options)\u001b[0m\n\u001b[1;32m    584\u001b[0m     \u001b[0mkwds\u001b[0m\u001b[0;34m.\u001b[0m\u001b[0mupdate\u001b[0m\u001b[0;34m(\u001b[0m\u001b[0mkwds_defaults\u001b[0m\u001b[0;34m)\u001b[0m\u001b[0;34m\u001b[0m\u001b[0;34m\u001b[0m\u001b[0m\n\u001b[1;32m    585\u001b[0m \u001b[0;34m\u001b[0m\u001b[0m\n\u001b[0;32m--> 586\u001b[0;31m     \u001b[0;32mreturn\u001b[0m \u001b[0m_read\u001b[0m\u001b[0;34m(\u001b[0m\u001b[0mfilepath_or_buffer\u001b[0m\u001b[0;34m,\u001b[0m \u001b[0mkwds\u001b[0m\u001b[0;34m)\u001b[0m\u001b[0;34m\u001b[0m\u001b[0;34m\u001b[0m\u001b[0m\n\u001b[0m\u001b[1;32m    587\u001b[0m \u001b[0;34m\u001b[0m\u001b[0m\n\u001b[1;32m    588\u001b[0m \u001b[0;34m\u001b[0m\u001b[0m\n",
      "\u001b[0;32m~/project-cluo/miniconda3/envs/allcools/lib/python3.7/site-packages/pandas/io/parsers/readers.py\u001b[0m in \u001b[0;36m_read\u001b[0;34m(filepath_or_buffer, kwds)\u001b[0m\n\u001b[1;32m    480\u001b[0m \u001b[0;34m\u001b[0m\u001b[0m\n\u001b[1;32m    481\u001b[0m     \u001b[0;31m# Create the parser.\u001b[0m\u001b[0;34m\u001b[0m\u001b[0;34m\u001b[0m\u001b[0;34m\u001b[0m\u001b[0m\n\u001b[0;32m--> 482\u001b[0;31m     \u001b[0mparser\u001b[0m \u001b[0;34m=\u001b[0m \u001b[0mTextFileReader\u001b[0m\u001b[0;34m(\u001b[0m\u001b[0mfilepath_or_buffer\u001b[0m\u001b[0;34m,\u001b[0m \u001b[0;34m**\u001b[0m\u001b[0mkwds\u001b[0m\u001b[0;34m)\u001b[0m\u001b[0;34m\u001b[0m\u001b[0;34m\u001b[0m\u001b[0m\n\u001b[0m\u001b[1;32m    483\u001b[0m \u001b[0;34m\u001b[0m\u001b[0m\n\u001b[1;32m    484\u001b[0m     \u001b[0;32mif\u001b[0m \u001b[0mchunksize\u001b[0m \u001b[0;32mor\u001b[0m \u001b[0miterator\u001b[0m\u001b[0;34m:\u001b[0m\u001b[0;34m\u001b[0m\u001b[0;34m\u001b[0m\u001b[0m\n",
      "\u001b[0;32m~/project-cluo/miniconda3/envs/allcools/lib/python3.7/site-packages/pandas/io/parsers/readers.py\u001b[0m in \u001b[0;36m__init__\u001b[0;34m(self, f, engine, **kwds)\u001b[0m\n\u001b[1;32m    809\u001b[0m             \u001b[0mself\u001b[0m\u001b[0;34m.\u001b[0m\u001b[0moptions\u001b[0m\u001b[0;34m[\u001b[0m\u001b[0;34m\"has_index_names\"\u001b[0m\u001b[0;34m]\u001b[0m \u001b[0;34m=\u001b[0m \u001b[0mkwds\u001b[0m\u001b[0;34m[\u001b[0m\u001b[0;34m\"has_index_names\"\u001b[0m\u001b[0;34m]\u001b[0m\u001b[0;34m\u001b[0m\u001b[0;34m\u001b[0m\u001b[0m\n\u001b[1;32m    810\u001b[0m \u001b[0;34m\u001b[0m\u001b[0m\n\u001b[0;32m--> 811\u001b[0;31m         \u001b[0mself\u001b[0m\u001b[0;34m.\u001b[0m\u001b[0m_engine\u001b[0m \u001b[0;34m=\u001b[0m \u001b[0mself\u001b[0m\u001b[0;34m.\u001b[0m\u001b[0m_make_engine\u001b[0m\u001b[0;34m(\u001b[0m\u001b[0mself\u001b[0m\u001b[0;34m.\u001b[0m\u001b[0mengine\u001b[0m\u001b[0;34m)\u001b[0m\u001b[0;34m\u001b[0m\u001b[0;34m\u001b[0m\u001b[0m\n\u001b[0m\u001b[1;32m    812\u001b[0m \u001b[0;34m\u001b[0m\u001b[0m\n\u001b[1;32m    813\u001b[0m     \u001b[0;32mdef\u001b[0m \u001b[0mclose\u001b[0m\u001b[0;34m(\u001b[0m\u001b[0mself\u001b[0m\u001b[0;34m)\u001b[0m\u001b[0;34m:\u001b[0m\u001b[0;34m\u001b[0m\u001b[0;34m\u001b[0m\u001b[0m\n",
      "\u001b[0;32m~/project-cluo/miniconda3/envs/allcools/lib/python3.7/site-packages/pandas/io/parsers/readers.py\u001b[0m in \u001b[0;36m_make_engine\u001b[0;34m(self, engine)\u001b[0m\n\u001b[1;32m   1038\u001b[0m             )\n\u001b[1;32m   1039\u001b[0m         \u001b[0;31m# error: Too many arguments for \"ParserBase\"\u001b[0m\u001b[0;34m\u001b[0m\u001b[0;34m\u001b[0m\u001b[0;34m\u001b[0m\u001b[0m\n\u001b[0;32m-> 1040\u001b[0;31m         \u001b[0;32mreturn\u001b[0m \u001b[0mmapping\u001b[0m\u001b[0;34m[\u001b[0m\u001b[0mengine\u001b[0m\u001b[0;34m]\u001b[0m\u001b[0;34m(\u001b[0m\u001b[0mself\u001b[0m\u001b[0;34m.\u001b[0m\u001b[0mf\u001b[0m\u001b[0;34m,\u001b[0m \u001b[0;34m**\u001b[0m\u001b[0mself\u001b[0m\u001b[0;34m.\u001b[0m\u001b[0moptions\u001b[0m\u001b[0;34m)\u001b[0m  \u001b[0;31m# type: ignore[call-arg]\u001b[0m\u001b[0;34m\u001b[0m\u001b[0;34m\u001b[0m\u001b[0m\n\u001b[0m\u001b[1;32m   1041\u001b[0m \u001b[0;34m\u001b[0m\u001b[0m\n\u001b[1;32m   1042\u001b[0m     \u001b[0;32mdef\u001b[0m \u001b[0m_failover_to_python\u001b[0m\u001b[0;34m(\u001b[0m\u001b[0mself\u001b[0m\u001b[0;34m)\u001b[0m\u001b[0;34m:\u001b[0m\u001b[0;34m\u001b[0m\u001b[0;34m\u001b[0m\u001b[0m\n",
      "\u001b[0;32m~/project-cluo/miniconda3/envs/allcools/lib/python3.7/site-packages/pandas/io/parsers/c_parser_wrapper.py\u001b[0m in \u001b[0;36m__init__\u001b[0;34m(self, src, **kwds)\u001b[0m\n\u001b[1;32m     49\u001b[0m \u001b[0;34m\u001b[0m\u001b[0m\n\u001b[1;32m     50\u001b[0m         \u001b[0;31m# open handles\u001b[0m\u001b[0;34m\u001b[0m\u001b[0;34m\u001b[0m\u001b[0;34m\u001b[0m\u001b[0m\n\u001b[0;32m---> 51\u001b[0;31m         \u001b[0mself\u001b[0m\u001b[0;34m.\u001b[0m\u001b[0m_open_handles\u001b[0m\u001b[0;34m(\u001b[0m\u001b[0msrc\u001b[0m\u001b[0;34m,\u001b[0m \u001b[0mkwds\u001b[0m\u001b[0;34m)\u001b[0m\u001b[0;34m\u001b[0m\u001b[0;34m\u001b[0m\u001b[0m\n\u001b[0m\u001b[1;32m     52\u001b[0m         \u001b[0;32massert\u001b[0m \u001b[0mself\u001b[0m\u001b[0;34m.\u001b[0m\u001b[0mhandles\u001b[0m \u001b[0;32mis\u001b[0m \u001b[0;32mnot\u001b[0m \u001b[0;32mNone\u001b[0m\u001b[0;34m\u001b[0m\u001b[0;34m\u001b[0m\u001b[0m\n\u001b[1;32m     53\u001b[0m \u001b[0;34m\u001b[0m\u001b[0m\n",
      "\u001b[0;32m~/project-cluo/miniconda3/envs/allcools/lib/python3.7/site-packages/pandas/io/parsers/base_parser.py\u001b[0m in \u001b[0;36m_open_handles\u001b[0;34m(self, src, kwds)\u001b[0m\n\u001b[1;32m    227\u001b[0m             \u001b[0mmemory_map\u001b[0m\u001b[0;34m=\u001b[0m\u001b[0mkwds\u001b[0m\u001b[0;34m.\u001b[0m\u001b[0mget\u001b[0m\u001b[0;34m(\u001b[0m\u001b[0;34m\"memory_map\"\u001b[0m\u001b[0;34m,\u001b[0m \u001b[0;32mFalse\u001b[0m\u001b[0;34m)\u001b[0m\u001b[0;34m,\u001b[0m\u001b[0;34m\u001b[0m\u001b[0;34m\u001b[0m\u001b[0m\n\u001b[1;32m    228\u001b[0m             \u001b[0mstorage_options\u001b[0m\u001b[0;34m=\u001b[0m\u001b[0mkwds\u001b[0m\u001b[0;34m.\u001b[0m\u001b[0mget\u001b[0m\u001b[0;34m(\u001b[0m\u001b[0;34m\"storage_options\"\u001b[0m\u001b[0;34m,\u001b[0m \u001b[0;32mNone\u001b[0m\u001b[0;34m)\u001b[0m\u001b[0;34m,\u001b[0m\u001b[0;34m\u001b[0m\u001b[0;34m\u001b[0m\u001b[0m\n\u001b[0;32m--> 229\u001b[0;31m             \u001b[0merrors\u001b[0m\u001b[0;34m=\u001b[0m\u001b[0mkwds\u001b[0m\u001b[0;34m.\u001b[0m\u001b[0mget\u001b[0m\u001b[0;34m(\u001b[0m\u001b[0;34m\"encoding_errors\"\u001b[0m\u001b[0;34m,\u001b[0m \u001b[0;34m\"strict\"\u001b[0m\u001b[0;34m)\u001b[0m\u001b[0;34m,\u001b[0m\u001b[0;34m\u001b[0m\u001b[0;34m\u001b[0m\u001b[0m\n\u001b[0m\u001b[1;32m    230\u001b[0m         )\n\u001b[1;32m    231\u001b[0m \u001b[0;34m\u001b[0m\u001b[0m\n",
      "\u001b[0;32m~/project-cluo/miniconda3/envs/allcools/lib/python3.7/site-packages/pandas/io/common.py\u001b[0m in \u001b[0;36mget_handle\u001b[0;34m(path_or_buf, mode, encoding, compression, memory_map, is_text, errors, storage_options)\u001b[0m\n\u001b[1;32m    705\u001b[0m                 \u001b[0mencoding\u001b[0m\u001b[0;34m=\u001b[0m\u001b[0mioargs\u001b[0m\u001b[0;34m.\u001b[0m\u001b[0mencoding\u001b[0m\u001b[0;34m,\u001b[0m\u001b[0;34m\u001b[0m\u001b[0;34m\u001b[0m\u001b[0m\n\u001b[1;32m    706\u001b[0m                 \u001b[0merrors\u001b[0m\u001b[0;34m=\u001b[0m\u001b[0merrors\u001b[0m\u001b[0;34m,\u001b[0m\u001b[0;34m\u001b[0m\u001b[0;34m\u001b[0m\u001b[0m\n\u001b[0;32m--> 707\u001b[0;31m                 \u001b[0mnewline\u001b[0m\u001b[0;34m=\u001b[0m\u001b[0;34m\"\"\u001b[0m\u001b[0;34m,\u001b[0m\u001b[0;34m\u001b[0m\u001b[0;34m\u001b[0m\u001b[0m\n\u001b[0m\u001b[1;32m    708\u001b[0m             )\n\u001b[1;32m    709\u001b[0m         \u001b[0;32melse\u001b[0m\u001b[0;34m:\u001b[0m\u001b[0;34m\u001b[0m\u001b[0;34m\u001b[0m\u001b[0m\n",
      "\u001b[0;31mFileNotFoundError\u001b[0m: [Errno 2] No such file or directory: '/u/home/t/terencew/project-cluo/igvf/pilot/multiome//ambient/ambisim/prop_doub/30_30/demux/var_consistency/gex/20220928-IGVF-D0//batches/2600_cov0_con_counts.csv'"
     ]
    }
   ],
   "source": [
    "final_con_cols = ['C1', 'C2', 'I1', 'I2', 'DP', 'Consistent rate', 'Inconsistent rate',\n",
    "       'C1 rate', 'C2 rate', 'I1 rate', 'I2 rate']\n",
    "cov_thresh = [0, 10, 20]\n",
    "interval = 200\n",
    "s = samples[0]\n",
    "\n",
    "indir = f'{projdir}/ambient/ambisim/prop_doub/'\n",
    "donors = list(np.loadtxt(f'{projdir}/txt/donors.txt', dtype=str))\n",
    "\n",
    "pd_gex = pd.DataFrame(index=pd_exps, columns=final_con_cols, data=0)\n",
    "pd_atac = pd.DataFrame(index=pd_exps, columns=final_con_cols, data=0)\n",
    "\n",
    "# for exp in pd_exps:\n",
    "for exp in pd_experiments:\n",
    "    print(exp)\n",
    "    gex_indiv = pd.read_csv(f'{indir}/{exp}/csv/demux/individual_gex.csv', sep='\\t',\n",
    "                  header=0, index_col=0)\n",
    "    atac_indiv = pd.read_csv(f'{indir}/{exp}/csv/demux/individual_atac.csv', sep='\\t',\n",
    "                  header=0, index_col=0)\n",
    "    n_drops = gex_indiv.shape[0]\n",
    "    steps = list(range(0, n_drops, interval))\n",
    "    for cov in cov_thresh:\n",
    "        vardir = f'{projdir}/ambient/ambisim/prop_doub/{exp}/demux/var_consistency/gex/{s}/'\n",
    "        gex_con = read_varcon_steps(vardir, steps, cov)\n",
    "        gex_con.index = [f'{x}_D0' for x in gex_con.index]\n",
    "\n",
    "        gex_truth_con = process_varcon(gex_indiv, gex_con, donors, 'truth')\n",
    "        \n",
    "        outdir = f'{projdir}/ambient/ambisim/prop_doub/{exp}/csv/var_consistency/gex/{s}/'\n",
    "        gex_con.to_csv(f'{outdir}/{exp}_cov{cov}_all.csv', sep='\\t', header=True, index=True)\n",
    "        gex_truth_con.to_csv(f'{outdir}/{exp}_cov{cov}_truth.csv', sep='\\t', header=True, index=True)\n",
    "        \n",
    "        for method in gex_methods:\n",
    "            tmp_gex_con = process_varcon(gex_indiv, gex_con, donors, method)\n",
    "            tmp_gex_con.to_csv(f'{outdir}/{exp}_cov{cov}_{method}.csv', sep='\\t', header=True, index=True)\n",
    "        \n",
    "        vardir = f'{projdir}/ambient/ambisim/prop_doub/{exp}/demux/var_consistency/atac/{s}/'\n",
    "        atac_con = read_varcon_steps(vardir, steps, cov)\n",
    "        atac_con.index = [f'{x}_D0' for x in atac_con.index]\n",
    "        atac_truth_con = process_varcon(atac_indiv, atac_con, donors, 'truth')\n",
    "        \n",
    "        outdir = f'{projdir}/ambient/ambisim/prop_doub/{exp}/csv/var_consistency/atac/{s}/'\n",
    "        atac_con.to_csv(f'{outdir}/{exp}_cov{cov}_all.csv', sep='\\t', header=True, index=True)\n",
    "        atac_truth_con.to_csv(f'{outdir}/{exp}_cov{cov}_truth.csv', sep='\\t', header=True, index=True)\n",
    "        \n",
    "        for method in atac_methods:\n",
    "            tmp_atac_con = process_varcon(atac_indiv, atac_con, donors, method)\n",
    "            tmp_atac_con.to_csv(f'{outdir}/{exp}_cov{cov}_{method}.csv', sep='\\t', header=True, index=True)\n",
    "        \n",
    "        tmp_gex = pd.DataFrame(np.sum(gex_truth_con.drop(columns=['donor']), axis=0)).transpose()\n",
    "        tmp_atac = pd.DataFrame(np.sum(atac_truth_con.drop(columns=['donor']), axis=0)).transpose()\n",
    "\n",
    "        pd_gex.loc[exp] = process_con(tmp_gex).values[0]\n",
    "        pd_atac.loc[exp] = process_con(tmp_atac).values[0]"
   ]
  },
  {
   "cell_type": "code",
   "execution_count": null,
   "id": "0e1831fc",
   "metadata": {},
   "outputs": [],
   "source": [
    "pd_gex"
   ]
  },
  {
   "cell_type": "code",
   "execution_count": null,
   "id": "e3c9deba",
   "metadata": {},
   "outputs": [],
   "source": [
    "gex_indiv"
   ]
  },
  {
   "cell_type": "code",
   "execution_count": null,
   "id": "38cf0219",
   "metadata": {},
   "outputs": [],
   "source": [
    "!ls {indir}/ambient/ambisim/mux_test/txt/"
   ]
  },
  {
   "cell_type": "code",
   "execution_count": null,
   "id": "c6a883f7",
   "metadata": {},
   "outputs": [],
   "source": [
    "final_con_cols = ['C1', 'C2', 'I1', 'I2', 'DP', 'Consistent rate', 'Inconsistent rate',\n",
    "       'C1 rate', 'C2 rate', 'I1 rate', 'I2 rate']\n",
    "cov_thresh = [0, 10, 20]\n",
    "interval = 200\n",
    "s = samples[0]\n",
    "\n",
    "indir = f'{projdir}/ambient/ambisim/mux_test/'\n",
    "donors = list(np.loadtxt(f'{projdir}/txt/donors.txt', dtype=str))\n",
    "\n",
    "mux_gex = pd.DataFrame(index=mux_exps, columns=final_con_cols, data=0)\n",
    "mux_atac = pd.DataFrame(index=mux_exps, columns=final_con_cols, data=0)\n",
    "\n",
    "for exp in mux_exps:\n",
    "# for exp in mux_experiments:\n",
    "    print(exp)\n",
    "    n = exp.split('_')[0]\n",
    "    donors = list(np.loadtxt(f'{indir}/txt/{n}_donors.txt', dtype=str))\n",
    "    gex_indiv = pd.read_csv(f'{indir}/{exp}/csv/demux/individual_gex.csv', sep='\\t',\n",
    "                  header=0, index_col=0)\n",
    "    atac_indiv = pd.read_csv(f'{indir}/{exp}/csv/demux/individual_atac.csv', sep='\\t',\n",
    "                  header=0, index_col=0)\n",
    "    n_drops = gex_indiv.shape[0]\n",
    "    steps = list(range(0, n_drops, interval))\n",
    "    for cov in cov_thresh:\n",
    "        vardir = f'{projdir}/ambient/ambisim/mux_test/{exp}/demux/var_consistency/gex/{s}/'\n",
    "        gex_con = read_varcon_steps(vardir, steps, cov)\n",
    "        gex_con.index = [f'{x}_D0' for x in gex_con.index]\n",
    "\n",
    "        gex_truth_con = process_varcon(gex_indiv, gex_con, donors, 'truth')\n",
    "        \n",
    "        outdir = f'{projdir}/ambient/ambisim/mux_test/{exp}/csv/var_consistency/gex/{s}/'\n",
    "        gex_con.to_csv(f'{outdir}/{exp}_cov{cov}_all.csv', sep='\\t', header=True, index=True)\n",
    "        gex_truth_con.to_csv(f'{outdir}/{exp}_cov{cov}_truth.csv', sep='\\t', header=True, index=True)\n",
    "        \n",
    "        for method in gex_methods:\n",
    "            tmp_gex_con = process_varcon(gex_indiv, gex_con, donors, method)\n",
    "            tmp_gex_con.to_csv(f'{outdir}/{exp}_cov{cov}_{method}.csv', sep='\\t', header=True, index=True)\n",
    "        \n",
    "        vardir = f'{projdir}/ambient/ambisim/mux_test/{exp}/demux/var_consistency/atac/{s}/'\n",
    "        atac_con = read_varcon_steps(vardir, steps, cov)\n",
    "        atac_con.index = [f'{x}_D0' for x in atac_con.index]\n",
    "        atac_truth_con = process_varcon(atac_indiv, atac_con, donors, 'truth')\n",
    "        \n",
    "        outdir = f'{projdir}/ambient/ambisim/mux_test/{exp}/csv/var_consistency/atac/{s}/'\n",
    "        atac_con.to_csv(f'{outdir}/{exp}_cov{cov}_all.csv', sep='\\t', header=True, index=True)\n",
    "        atac_truth_con.to_csv(f'{outdir}/{exp}_cov{cov}_truth.csv', sep='\\t', header=True, index=True)\n",
    "        \n",
    "        for method in atac_methods:\n",
    "            tmp_atac_con = process_varcon(atac_indiv, atac_con, donors, method)\n",
    "            tmp_atac_con.to_csv(f'{outdir}/{exp}_cov{cov}_{method}.csv', sep='\\t', header=True, index=True)\n",
    "        \n",
    "        tmp_gex = pd.DataFrame(np.sum(gex_truth_con.drop(columns=['donor']), axis=0)).transpose()\n",
    "        tmp_atac = pd.DataFrame(np.sum(atac_truth_con.drop(columns=['donor']), axis=0)).transpose()\n",
    "\n",
    "        mux_gex.loc[exp] = process_con(tmp_gex).values[0]\n",
    "        mux_atac.loc[exp] = process_con(tmp_atac).values[0]"
   ]
  },
  {
   "cell_type": "code",
   "execution_count": null,
   "id": "66e5cf58",
   "metadata": {},
   "outputs": [],
   "source": []
  }
 ],
 "metadata": {
  "kernelspec": {
   "display_name": "allcools",
   "language": "python",
   "name": "allcools"
  },
  "language_info": {
   "codemirror_mode": {
    "name": "ipython",
    "version": 3
   },
   "file_extension": ".py",
   "mimetype": "text/x-python",
   "name": "python",
   "nbconvert_exporter": "python",
   "pygments_lexer": "ipython3",
   "version": "3.7.13"
  }
 },
 "nbformat": 4,
 "nbformat_minor": 5
}
